{
 "cells": [
  {
   "cell_type": "markdown",
   "metadata": {},
   "source": [
    "### Preamble"
   ]
  },
  {
   "cell_type": "code",
   "execution_count": 1,
   "metadata": {},
   "outputs": [],
   "source": [
    "\n",
    "import pandas as pd\n",
    "import numpy as np\n",
    "import scipy, sklearn, os, sys, string, fileinput, glob, re, math, itertools, functools, copy\n",
    "import scipy.stats, sklearn.decomposition, sklearn.preprocessing, sklearn.covariance\n",
    "from scipy.stats import describe\n",
    "import scipy.sparse\n",
    "import matplotlib.pyplot as plt\n",
    "\n",
    "import warnings\n",
    "with warnings.catch_warnings():\n",
    "    warnings.simplefilter(\"ignore\")\n",
    "    import scanpy as sc\n",
    "    \n",
    "from collections import defaultdict"
   ]
  },
  {
   "cell_type": "code",
   "execution_count": 2,
   "metadata": {},
   "outputs": [],
   "source": [
    "sys.path.insert(0,'/afs/csail.mit.edu/u/r/rsingh/work/schema/schema')"
   ]
  },
  {
   "cell_type": "code",
   "execution_count": 3,
   "metadata": {},
   "outputs": [],
   "source": [
    "%load_ext autoreload\n",
    "%autoreload 1\n",
    "%aimport utils\n",
    "%aimport schema_qp\n",
    "%aimport -anndata"
   ]
  },
  {
   "cell_type": "code",
   "execution_count": 4,
   "metadata": {},
   "outputs": [],
   "source": [
    "import utils"
   ]
  },
  {
   "cell_type": "markdown",
   "metadata": {},
   "source": [
    "### Data Preparation\n",
    " - Read raw files. \n",
    " - Filter for protein_coding genes. \n",
    " - Keep only human \"A549\" genes in GSM*104[01] and only Mouse genes in GSM*10[45]. \n",
    " - Match against TSS and Ensemble IDs, keeping only matches and throw away duplicated IDs\n",
    " - remove peaks that are not in chromosomes 1-22 and X+Y\n",
    " - convert data to log2(cpm(...))\n",
    " - save to files"
   ]
  },
  {
   "cell_type": "code",
   "execution_count": 5,
   "metadata": {
    "collapsed": true
   },
   "outputs": [
    {
     "name": "stdout",
     "output_type": "stream",
     "text": [
      "Flag 324.112 filtered 113153:44678:(113153,) mdlty\n",
      "Flag 324.113 filtered 113153:15175:(113153,) mdlty\n",
      "Flag 324.114 filtered 113153:15175:(113153,) mdlty\n",
      "Flag 324.115 filtered 113153:15011:(113153,) mdlty\n",
      "Flag 324.12 read (6093, 4) cells, (113153, 11) mdlty, (6093, 113153) data\n",
      "Flag 324.13 filtered  6093:4277:(6093,) cells, 113153:15011:(113153,) mdlty\n",
      "Flag 324.14 filtered down to (4277, 4) cells, (15011, 11) mdlty, (4277, 15011) data\n",
      "Flag 324.15 filtered down to (4277, 4) cells, (15011, 11) mdlty, (4277, 15011) data\n",
      "Flag 324.17 \n",
      "                      sample cell_name experiment  treatment_time\n",
      "0  sci-RNA-A-001.AAGTACGTTA      A549    coassay             3.0\n",
      "1  sci-RNA-A-001.AGGTAGAGCT      A549    coassay             1.0 \n",
      " \n",
      "Flag 324.12 read (6085, 4) cells, (189603, 5) mdlty, (6085, 189603) data\n",
      "Flag 324.13 filtered  6085:4258:(6085,) cells, 189603:179288:(189603,) mdlty\n",
      "Flag 324.14 filtered down to (4258, 4) cells, (179288, 5) mdlty, (4258, 179288) data\n",
      "Flag 324.15 filtered down to (4258, 4) cells, (179288, 5) mdlty, (4258, 179288) data\n",
      "Flag 324.17 \n",
      "                      sample source    group experiment\n",
      "0  sci-RNA-A-001.AAGTACGTTA  Human  A549_3h   co_assay\n",
      "1  sci-RNA-A-001.CGTATTGAGA  Human  A549_3h   co_assay \n",
      " \n",
      "Flag 324.20 got 3260 common cells ['sci-RNA-D-049.ATATGCCATC', 'sci-RNA-D-033.ATTAACTTAA', 'sci-RNA-C-071.CTTCATTAGA', 'sci-RNA-C-017.ACGCGCTCCT', 'sci-RNA-D-073.ACGGAGAATA', 'sci-RNA-C-017.AATCGAACTC', 'sci-RNA-E-036.TTGCAGCATT', 'sci-RNA-C-001.ACTCTACTGG', 'sci-RNA-C-085.GGCGGTTGAC', 'sci-RNA-A-067.CCTGAGAGCA']\n",
      "Flag 324.205 got rna (4277, 4) 4277 3260\n"
     ]
    },
    {
     "name": "stderr",
     "output_type": "stream",
     "text": [
      "Variable names are not unique. To make them unique, call `.var_names_make_unique`.\n"
     ]
    },
    {
     "name": "stdout",
     "output_type": "stream",
     "text": [
      "Flag 324.22 got X (3260, 15011) obs (3260, 3) var (15011, 10) uns ['names']\n",
      "Flag 324.25 got X (3260, 15011) obs (3260, 4) var (15011, 10) uns ['names', 'rna.type']\n",
      "Flag 324.205 got atac (4258, 4) 4258 3260\n",
      "Flag 324.25 got X (3260, 15011) obs (3260, 8) var (15011, 10) uns ['names', 'rna.type', 'atac.X', 'atac.var', 'atac.var.index', 'atac.var.columns', 'atac.type']\n",
      "Flag 324.112 filtered 49584:21973:(49584,) mdlty\n",
      "Flag 324.113 filtered 49584:16975:(49584,) mdlty\n",
      "Flag 324.114 filtered 49584:16975:(49584,) mdlty\n",
      "Flag 324.115 filtered 49584:16975:(49584,) mdlty\n",
      "Flag 324.12 read (13893, 7) cells, (49584, 11) mdlty, (13893, 49584) data\n",
      "Flag 324.13 filtered  13893:13893:(13893,) cells, 49584:16975:(49584,) mdlty\n",
      "Flag 324.14 filtered down to (13893, 7) cells, (16975, 11) mdlty, (13893, 16975) data\n",
      "Flag 324.15 filtered down to (13893, 7) cells, (16975, 11) mdlty, (13893, 16975) data\n",
      "Flag 324.17 \n",
      "                             sample source    replicate experiment    tsne_1  \\\n",
      "0  coRNA-RNA-plate1-001.ACGCTTCTCT  Mouse  Replicate 2    coassay -3.513582   \n",
      "1  coRNA-RNA-plate1-001.ACGTTGAATG  Mouse  Replicate 1    coassay -3.651114   \n",
      "\n",
      "      tsne_2                    cell_name  \n",
      "0 -34.385932         Loop of Henle cells   \n",
      "1  26.483438  Proximal tubule S1/S2 cells   \n",
      " \n",
      "Flag 324.12 read (13395, 2) cells, (252741, 5) mdlty, (13395, 252741) data\n",
      "Flag 324.13 filtered  13395:13395:(13395,) cells, 252741:251727:(252741,) mdlty\n",
      "Flag 324.14 filtered down to (13395, 2) cells, (251727, 5) mdlty, (13395, 251727) data\n",
      "Flag 324.15 filtered down to (13395, 2) cells, (251727, 5) mdlty, (13395, 251727) data\n",
      "Flag 324.17 \n",
      "                             sample    replicate\n",
      "0  coRNA-RNA-plate1-001.ACGCTTCTCT  Replicate 2\n",
      "1  coRNA-RNA-plate1-001.ACGTTGAATG  Replicate 1 \n",
      " \n",
      "Flag 324.20 got 11296 common cells ['coRNA-RNA-plate4-030.AGCGATCCGC', 'coRNA-RNA-plate7-089.ATAACCGTTC', 'coRNA-RNA-plate5-003.GCGGAGTCGA', 'coRNA-RNA-plate1-045.CGAAGGCATG', 'coRNA-RNA-plate4-069.CGCCAGGCAT', 'coRNA-RNA-plate2-015.ACGCTTCTCT', 'coRNA-RNA-plate1-088.GATTCCGGAA', 'coRNA-RNA-plate7-026.AATTGAGAGA', 'coRNA-RNA-plate8-061.ACTCCGCCAA', 'coRNA-RNA-plate6-060.ACGCGTATCG']\n",
      "Flag 324.205 got rna (13893, 7) 13893 11296\n"
     ]
    },
    {
     "name": "stderr",
     "output_type": "stream",
     "text": [
      "Variable names are not unique. To make them unique, call `.var_names_make_unique`.\n"
     ]
    },
    {
     "name": "stdout",
     "output_type": "stream",
     "text": [
      "Flag 324.22 got X (11296, 16975) obs (11296, 6) var (16975, 10) uns ['names']\n",
      "Flag 324.25 got X (11296, 16975) obs (11296, 7) var (16975, 10) uns ['names', 'rna.type']\n",
      "Flag 324.205 got atac (13395, 2) 13395 11296\n",
      "Flag 324.25 got X (11296, 16975) obs (11296, 9) var (16975, 10) uns ['names', 'rna.type', 'atac.X', 'atac.var', 'atac.var.index', 'atac.var.columns', 'atac.type']\n"
     ]
    }
   ],
   "source": [
    "def f_atac1(w):\n",
    "    try:\n",
    "        v = w[\"chr\"]\n",
    "        assert (\"_\" not in v) and (v in ['X','Y'] or int(v)<=22) \n",
    "        return True\n",
    "    except:\n",
    "        return False\n",
    "    \n",
    "def f_atac2(w):\n",
    "    try:\n",
    "        v = w[\"chr\"]\n",
    "        assert v[:3]==\"chr\" and (\"_\" not in v) and (v[3] in ['X','Y'] or int(v[3:])<=22) \n",
    "        return True\n",
    "    except:\n",
    "        return False\n",
    "\n",
    "adata1 = utils.SciCar.loadData('/afs/csail.mit.edu/u/r/rsingh/work/schema/data/sci-car',\n",
    "                            [('rna' ,'gene','GSM3271040', lambda v: v[\"cell_name\"]==\"A549\", lambda v: v[\"gene_type\"]==\"protein_coding\"),\n",
    "                             ('atac','peak','GSM3271041', lambda v: v[\"group\"][:4]==\"A549\", f_atac1),\n",
    "                            ],\n",
    "                               \"/afs/csail.mit.edu/u/r/rsingh/work/refdata/hg19_mapped.tsv\")\n",
    "adata2 = utils.SciCar.loadData('/afs/csail.mit.edu/u/r/rsingh/work/schema/data/sci-car',\n",
    "                            [('rna' ,'gene','GSM3271044', None, lambda v: v[\"gene_type\"]==\"protein_coding\"),\n",
    "                             ('atac','peak','GSM3271045', None, f_atac2),\n",
    "                            ],\n",
    "                            \"/afs/csail.mit.edu/u/r/rsingh/work/refdata/mm10_mapped.tsv\")"
   ]
  },
  {
   "cell_type": "code",
   "execution_count": 13,
   "metadata": {
    "collapsed": true
   },
   "outputs": [
    {
     "name": "stderr",
     "output_type": "stream",
     "text": [
      "... storing 'cell_name' as categorical\n",
      "... storing 'experiment' as categorical\n",
      "... storing 'sample' as categorical\n",
      "... storing 'source' as categorical\n",
      "... storing 'group' as categorical\n",
      "... storing 'gene_type' as categorical\n",
      "... storing 'chr' as categorical\n",
      "... storing 'strand' as categorical\n",
      "... storing 'map_location' as categorical\n",
      "... storing 'source' as categorical\n",
      "... storing 'replicate' as categorical\n",
      "... storing 'experiment' as categorical\n",
      "... storing 'cell_name' as categorical\n",
      "... storing 'sample' as categorical\n",
      "... storing 'gene_type' as categorical\n",
      "... storing 'chr' as categorical\n",
      "... storing 'strand' as categorical\n",
      "... storing 'map_location' as categorical\n"
     ]
    }
   ],
   "source": [
    "adata1.write(\"/afs/csail.mit.edu/u/r/rsingh/work/schema/data/sci-car/adata1.h5ad\")\n",
    "adata2.write(\"/afs/csail.mit.edu/u/r/rsingh/work/schema/data/sci-car/adata2.h5ad\")"
   ]
  },
  {
   "cell_type": "markdown",
   "metadata": {
    "heading_collapsed": true
   },
   "source": [
    "#### testing"
   ]
  },
  {
   "cell_type": "code",
   "execution_count": 6,
   "metadata": {
    "hidden": true
   },
   "outputs": [
    {
     "data": {
      "text/plain": [
       "(DescribeResult(nobs=3260, minmax=(array([10.90856494]), array([19.33861545])), mean=array([14.83473107]), variance=array([1.05122507]), skewness=array([0.29725361]), kurtosis=array([0.61277117])),\n",
       " DescribeResult(nobs=11296, minmax=(array([13.96715733]), array([18.81465394])), mean=array([17.50611254]), variance=array([0.32151578]), skewness=array([-1.08283001]), kurtosis=array([1.88830047])),\n",
       " DescribeResult(nobs=3260, minmax=(array([12.28665], dtype=float32), array([15.966695], dtype=float32)), mean=array([13.787038], dtype=float32), variance=array([0.27736855], dtype=float32), skewness=array([0.19146572], dtype=float32), kurtosis=array([-0.12089729], dtype=float32)),\n",
       " DescribeResult(nobs=11296, minmax=(array([12.922126], dtype=float32), array([19.194605], dtype=float32)), mean=array([15.149159], dtype=float32), variance=array([0.9894993], dtype=float32), skewness=array([0.9016888], dtype=float32), kurtosis=array([0.74990726], dtype=float32)))"
      ]
     },
     "execution_count": 6,
     "metadata": {},
     "output_type": "execute_result"
    }
   ],
   "source": [
    "(describe(np.max(adata1.uns[\"atac.X\"], axis=1).todense()),\n",
    " describe(np.max(adata2.uns[\"atac.X\"], axis=1).todense()),\n",
    " describe(np.max(adata1.X, axis=1).todense()),\n",
    " describe(np.max(adata2.X, axis=1).todense()),\n",
    ")"
   ]
  },
  {
   "cell_type": "code",
   "execution_count": 7,
   "metadata": {
    "hidden": true
   },
   "outputs": [
    {
     "data": {
      "image/png": "[encoded data removed]",
      "text/plain": [
       "<Figure size 648x432 with 4 Axes>"
      ]
     },
     "metadata": {
      "needs_background": "light"
     },
     "output_type": "display_data"
    }
   ],
   "source": [
    "fg,axl = plt.subplots(2,2,figsize=(9,6))\n",
    "for i,x in enumerate([adata1.X, adata1.uns[\"atac.X\"], adata2.X, adata2.uns[\"atac.X\"]]):\n",
    "    axl[i//2,i%2].hist(np.sum(x,axis=1),bins=50)\n",
    "    axl[i//2,i%2].set_title(str(i))\n",
    "fg.tight_layout()"
   ]
  },
  {
   "cell_type": "code",
   "execution_count": null,
   "metadata": {
    "hidden": true
   },
   "outputs": [],
   "source": [
    "fg,axl = plt.subplots(2,2,figsize=(9,6))\n",
    "for i,x in enumerate([adata1.X, adata1.uns[\"atac.X\"], adata2.X, adata2.uns[\"atac.X\"]]):\n",
    "    axl[i//2,i%2].hist(x.data,bins=50)\n",
    "    axl[i//2,i%2].set_title(str(i))\n",
    "fg.tight_layout()"
   ]
  },
  {
   "cell_type": "code",
   "execution_count": null,
   "metadata": {
    "hidden": true
   },
   "outputs": [],
   "source": [
    "(adata1.uns[\"atac.var\"][\"chr\"].value_counts(),\n",
    "adata1.var[\"chr\"].value_counts(),\n",
    " adata2.uns[\"atac.var\"][\"chr\"].value_counts(),\n",
    "adata2.var[\"chr\"].value_counts())\n"
   ]
  },
  {
   "cell_type": "code",
   "execution_count": 9,
   "metadata": {
    "hidden": true
   },
   "outputs": [
    {
     "data": {
      "text/plain": [
       "((3260, 15011),\n",
       " (3260, 8),\n",
       " (15011, 10),\n",
       " odict_keys(['names', 'rna.type', 'atac.X', 'atac.var', 'atac.var.index', 'atac.var.columns', 'atac.type']),\n",
       " (3260, 179288),\n",
       " (11296, 16975),\n",
       " (11296, 9),\n",
       " (16975, 10),\n",
       " odict_keys(['names', 'rna.type', 'atac.X', 'atac.var', 'atac.var.index', 'atac.var.columns', 'atac.type']),\n",
       " (11296, 251727))"
      ]
     },
     "execution_count": 9,
     "metadata": {},
     "output_type": "execute_result"
    }
   ],
   "source": [
    "(adata1.X.shape, adata1.obs.shape, adata1.var.shape, adata1.uns.keys(), adata1.uns[\"atac.X\"].shape,\n",
    " adata2.X.shape, adata2.obs.shape, adata2.var.shape, adata2.uns.keys(), adata2.uns[\"atac.X\"].shape,)"
   ]
  },
  {
   "cell_type": "markdown",
   "metadata": {},
   "source": [
    "### Run on adata1 (human A549) to find peak distances that matter most"
   ]
  },
  {
   "cell_type": "markdown",
   "metadata": {},
   "source": [
    "**Run a mapping to compute gene-to-peak matrix**. This is going to compute, for each gene, a score  $s(g) = \\sum_{p}( w[g,p] * peak[p] *  gexp[g])$ with $w$ being of different types. See code. $gexp$ can be normalized or not. \n",
    "\n",
    "1. without normalization of gexp:\n",
    "  1. `/afs/csail.mit.edu/u/r/rsingh/work/schema/schema/utils.py 22 20191202-1400`\n",
    "  2. produces wt file /afs/csail.mit.edu/u/r/rsingh/work/schema/data/sci-car//adata1_gene2fpeak_mtx_20191202-1400.csv\n",
    "\n",
    "2. with normalization of gexp:\n",
    "  1. `/afs/csail.mit.edu/u/r/rsingh/work/schema/schema/utils.py 21 20191202-1245`\n",
    "  2. should produce wt file /afs/csail.mit.edu/u/r/rsingh/work/schema/data/sci-car/adata1_gene2fpeak_mtx_gexp-standardized_20191202-1245.csv\n",
    "  \n",
    "3. without normalization of gexp but with weight adjustment of peak contributions:\n",
    "  1. `/afs/csail.mit.edu/u/r/rsingh/work/schema/schema/utils.py 221 20191202-1245`\n",
    "  2. should produce wt file /afs/csail.mit.edu/u/r/rsingh/work/schema/data/sci-car/adata1_gene2fpeak_mtx_style2_20191204-1945\n"
   ]
  },
  {
   "cell_type": "markdown",
   "metadata": {},
   "source": []
  },
  {
   "cell_type": "markdown",
   "metadata": {},
   "source": [
    "**Run schema to identify which distance schemes get higher wt** Tried a few different combos (plus vs minus vs both strands), divide chromosomes into three sets etc. Normalize the wts computed above per gene or not. Normalized the gene expression or not.\n",
    "1. IGNORE without normalization of gexp and use wts from 1.B above\n",
    "  1. `/afs/csail.mit.edu/u/r/rsingh/work/schema/schema/utils.py 23 20191202-1400`\n",
    "  \n",
    "1. with normalization of gexp to L2-norm==1, normalization of wts to L2-norm==1 and use wts from 1.B above\n",
    "  1. `/afs/csail.mit.edu/u/r/rsingh/work/schema/schema/utils.py 231 20191202-1400`\n",
    "\n",
    "1. like mode=231 above, but limit to 5000 most variably expressed genes\n",
    "  1. `/afs/csail.mit.edu/u/r/rsingh/work/schema/schema/utils.py 232 20191202-1400`\n",
    "\n",
    "1. like mode=231 above and use wts from 2.B above\n",
    "  1. `/afs/csail.mit.edu/u/r/rsingh/work/schema/schema/utils.py 2311 20191202-1400`\n",
    "\n",
    "1. like mode=232 above (i.e. mode=231 + 5000 most variably expressed genes) and use wts from 2.B above\n",
    "  1. `/afs/csail.mit.edu/u/r/rsingh/work/schema/schema/utils.py 2321 20191202-1400`\n"
   ]
  },
  {
   "cell_type": "markdown",
   "metadata": {},
   "source": [
    "**Analyze schema produced wts to see what matters** For modes 231 vs 232, different things matter. Mode 231 (all genes) seems to prefer the promoter-region + extra. Mode 232 (5000 genes) prefers regions inside and behind, which is interesting.\n",
    "\n",
    "1. mode 231: `for fpk in  1 2 [12]; do echo $fpk; (for f in *fpeak${fpk}_mode231*.csv; do a=$(awk -F, 'NR==2 {print int($2*100)}' $f); test $a -gt 80 && continue; cat $f; done) | awk -F, '0+$2 > 0 { x[$1] += log($2); n[$1]++} END { for (a in x) {print a, exp(x[a]/n[a]), n[a]}}' | sort -k2g | tail -n10; done`\n",
    "\n",
    "        1\n",
    "        fpeak_1e6_10e6 0.000146212 11\n",
    "        fpeak_0_500 0.000284545 6\n",
    "        fpeak_rbf_1e3 0.173971 11\n",
    "        fpeak_rbf_500 0.1975 11\n",
    "        fpeak_500_2e3 0.216569 11\n",
    "        2\n",
    "        fpeak_0_500 0.000754711 5\n",
    "        fpeak_rbf_10e6 0.00115252 10\n",
    "        fpeak_rbf_1e3 0.509192 10\n",
    "        fpeak_rbf_500 0.55251 10\n",
    "        fpeak_500_2e3 0.61433 10\n",
    "        [12]\n",
    "        fpeak_rbf_10e6 0.000370282 21\n",
    "        fpeak_0_500 0.000443312 11\n",
    "        fpeak_rbf_1e3 0.290117 21\n",
    "        fpeak_rbf_500 0.322342 21\n",
    "        fpeak_500_2e3 0.35581 21\n",
    "\n",
    "2. mode 232: `for fpk in  1 2 [12]; do echo $fpk; (for f in *fpeak${fpk}_mode232*.csv; do a=$(awk -F, 'NR==2 {print int($2*100)}' $f); test $a -gt 80 && continue; cat $f; done) | awk -F, '0+$2 > 0 { x[$1] += log($2); n[$1]++} END { for (a in x) {print a, exp(x[a]/n[a]), n[a]}}' | sort -k2g | tail -n5; done`\n",
    "\n",
    "        1\n",
    "        fpeak_behind_1e3 0.00730955 18\n",
    "        fpeak_rbf_1e3 0.00761514 12\n",
    "        fpeak_behind_rbf_20e3 0.117385 11\n",
    "        fpeak_crossing_out 0.598205 18\n",
    "        fpeak_inside 0.635372 18\n",
    "        2\n",
    "        fpeak_behind_rbf_100e3 0.00648716 18\n",
    "        fpeak_behind_rbf_20e3 0.0068085 16\n",
    "        fpeak_behind_1e3 0.00768706 18\n",
    "        fpeak_crossing_out 0.599148 18\n",
    "        fpeak_inside 0.662703 18\n",
    "        [12]\n",
    "        fpeak_behind_rbf_100e3 0.00657985 36\n",
    "        fpeak_behind_1e3 0.00749593 36\n",
    "        fpeak_behind_rbf_20e3 0.0217188 27\n",
    "        fpeak_crossing_out 0.598676 36\n",
    "        fpeak_inside 0.648894 36\n",
    "\n",
    "3. `for fpk in 0  1 2 3 [123]; do echo $fpk; (for f in *_usefirstcol1_strandboth_chrall_norm-gene2fpeak${fpk}_mode23_*.csv; do a=$(awk -F, 'NR==2 {print int($2*100)}' $f); test $a -gt 80 && continue; cat $f; done) | awk -F, '0+$2 > 0 { x[$1] += log($2); n[$1]++} END { for (a in x) {print a, exp(x[a]/n[a]), n[a]}}' | sort -k2g | tail -n10; done`\n",
    "\n",
    "4. `for mode in 231 232 2311 2321; do for fpk in 3; do echo \"$mode $fpk\" ; (for f in adata1_sqp_wts_mincorr*_maxw*_usefirstcol1_strand*_chr*_norm-gene2fpeak${fpk}_mode${mode}_*.csv; do a=$(awk -F, 'NR==2 {print int($2*100)}' $f); test $a -gt 90 && continue; cat $f; done) | awk -F, '0+$2 > 0 { x[$1] += $2; xx[$1] += $2*$2; n[$1]++} END { for (a in x) {mu = x[a]/n[a]; sd = sqrt(xx[a]/n[a] - mu*mu); tstat  = mu/(1e-12 + sd*sqrt(n[a])); print a, mu, tstat, n[a]}}' | sort -k2gr | head -n10 ; done; echo; done`\n",
    "\n",
    "        231 3 # all genes, gene2peak file is adata1_gene2fpeak_mtx_20191202-1400.csv\n",
    "        fpeak_crossing_in 0.296735 1.81734 35\n",
    "        fpeak_crossing_out 0.268974 1.96452 35\n",
    "        fpeak_2e3_20e3 0.264863 2.38863 35\n",
    "        fpeak_behind_1e3 0.25923 2.44156 35\n",
    "        fpeak_500_2e3 0.251099 1.20908 35\n",
    "        fpeak_0_500 0.247187 0.782864 35\n",
    "        fpeak_20e3_100e3 0.246023 3.12045 35\n",
    "        fpeak_rbf_1e3 0.241235 2.52318 35\n",
    "        fpeak_inside 0.2342 3.54417 35\n",
    "        fpeak_behind_1e3_20e3 0.212679 9.78687 35\n",
    "\n",
    "        232 3 # 5000 variable genes, gene2peak file is adata1_gene2fpeak_mtx_20191202-1400.csv\n",
    "        fpeak_behind_rbf_1e6 0.378394 3.05504 35\n",
    "        fpeak_behind_rbf_10e6 0.327875 6.63084 35\n",
    "        fpeak_1e6_10e6 0.270646 11.7665 35\n",
    "        fpeak_500_2e3 0.240994 0.785286 35\n",
    "        fpeak_20e3_100e3 0.230747 8.35674 35\n",
    "        fpeak_behind_1e6_10e6 0.227774 6.93813 35\n",
    "        fpeak_2e3_20e3 0.224189 3.28297 35\n",
    "        fpeak_100e3_1e6 0.224041 7.22248 35\n",
    "        fpeak_rbf_100e3 0.221413 1.88436 35\n",
    "        fpeak_behind_100e3_1e6 0.22032 9.80238 35\n",
    "\n",
    "        2311 3 # all genes, gene2peak file is adata1_gene2fpeak_mtx_gexp-standardized_20191202-1245.csv\n",
    "        fpeak_0_500 0.263706 4.6204 35\n",
    "        fpeak_1e6_10e6 0.260336 11.846 35\n",
    "        fpeak_500_2e3 0.242794 5.61474 35\n",
    "        fpeak_rbf_1e3 0.227628 15.2963 35\n",
    "        fpeak_2e3_20e3 0.216335 21.2636 35\n",
    "        fpeak_behind_1e6_10e6 0.215051 18.4478 35\n",
    "        fpeak_behind_1e3 0.214723 8.0805 35\n",
    "        fpeak_10e6_20e6 0.21065 37.0331 35\n",
    "        fpeak_crossing_out 0.206537 14.4416 35\n",
    "        fpeak_behind_10e6_20e6 0.204828 32.1187 35\n",
    "\n",
    "        2321 3  # 5000 variable genes, gene2peak file is adata1_gene2fpeak_mtx_gexp-standardized_20191202-1245.csv\n",
    "        fpeak_behind_rbf_10e6 0.339588 2.73527 35\n",
    "        fpeak_behind_1e6_10e6 0.310615 1.38938 35\n",
    "        fpeak_1e6_10e6 0.272424 1.47192 35\n",
    "        fpeak_rbf_500 0.262364 0.931464 35\n",
    "        fpeak_10e6_20e6 0.25838 1.91732 35\n",
    "        fpeak_behind_100e3_1e6 0.253371 2.37329 35\n",
    "        fpeak_behind_10e6_20e6 0.253237 2.11064 35\n",
    "        fpeak_behind_rbf_1e6 0.244208 1.06371 35\n",
    "        fpeak_100e3_1e6 0.223341 1.29334 35\n",
    "        fpeak_2e3_20e3 0.200837 0.898675 35\n",
    "\n",
    "\n",
    "5. `for mode in 23 231 232 2311 2321; do for fpk in  2 3; do echo \"$mode $fpk\" ; (for f in adata1_sqp_wts_mincorr*_maxw*_usefirstcol1_strand*_chr*_norm-gene2fpeak${fpk}_mode${mode}_*.csv; do a=$(awk -F, 'NR==2 {print int($2*100)}' $f); test $a -gt 90 && continue; cat $f; done) | awk -F, '0+$2 > 0 { x[$1] += $2; xx[$1] += $2*$2; n[$1]++} END { for (a in x) {mu = x[a]/n[a]; sd = sqrt(xx[a]/n[a] - mu*mu); tstat  = mu/(1e-12 + sd*sqrt(n[a])); print a, mu, tstat, n[a]}}' | sort -k2gr | head -n10 | awk '{print $3}' | meansd.sh ; done; echo; done`\n",
    "\n",
    "        23 2\n",
    "        Mean: 1.24768 SD: 1.15639 N: 10 \n",
    "        23 3\n",
    "        Mean: 0.623452 SD: 0.410575 N: 10 \n",
    "\n",
    "        231 2\n",
    "        Mean: 3.97706 SD: 2.01888 N: 10 \n",
    "        231 3\n",
    "        Mean: 2.95787 SD: 2.40544 N: 10 \n",
    "\n",
    "        232 2\n",
    "        Mean: 2.70623 SD: 0.610663 N: 10 \n",
    "        232 3\n",
    "        Mean: 5.97247 SD: 3.40905 N: 10 \n",
    "\n",
    "        2311 2\n",
    "        Mean: 39.5564 SD: 16.7557 N: 10 \n",
    "        2311 3\n",
    "        Mean: 16.8763 SD: 10.2395 N: 10 \n",
    "\n",
    "        2321 2\n",
    "        Mean: 1.81229 SD: 0.925131 N: 10 \n",
    "        2321 3\n",
    "        Mean: 1.6185 SD: 0.602167 N: 10 \n"
   ]
  },
  {
   "cell_type": "code",
   "execution_count": 43,
   "metadata": {},
   "outputs": [],
   "source": [
    "x = sc.pp.highly_variable_genes(adata1, n_top_genes=5000)"
   ]
  },
  {
   "cell_type": "markdown",
   "metadata": {
    "heading_collapsed": true
   },
   "source": [
    "#### DEPRECATED. look at 3.2 . Get upstream and downstream accessibility by gene expression levels"
   ]
  },
  {
   "cell_type": "code",
   "execution_count": null,
   "metadata": {
    "hidden": true
   },
   "outputs": [],
   "source": [
    "adata1 = SciCar.loadAnnData(\"/afs/csail.mit.edu/u/r/rsingh/work/schema/data/sci-car/adata1.h5ad\")"
   ]
  },
  {
   "cell_type": "code",
   "execution_count": 204,
   "metadata": {
    "hidden": true
   },
   "outputs": [],
   "source": [
    "nGenes = adata1.shape[1]\n",
    "v = np.full(nGenes, nGenes)\n",
    "for i in range(500,nGenes-3000,500):\n",
    "    sc.pp.highly_variable_genes(adata1, n_top_genes=i,inplace=True)\n",
    "    v = np.where((v==nGenes) & adata1.var[\"highly_variable\"], i, v).copy()\n",
    "adata1.var[\"gene_variability_ranking\"] = v"
   ]
  },
  {
   "cell_type": "code",
   "execution_count": 64,
   "metadata": {
    "collapsed": true,
    "hidden": true
   },
   "outputs": [
    {
     "name": "stdout",
     "output_type": "stream",
     "text": [
      "0\n",
      "100\n",
      "200\n",
      "300\n",
      "400\n",
      "500\n",
      "600\n",
      "700\n",
      "800\n",
      "900\n",
      "1000\n",
      "1100\n",
      "1200\n",
      "1300\n",
      "1400\n",
      "1500\n",
      "1600\n",
      "1700\n",
      "1800\n",
      "1900\n",
      "2000\n",
      "2100\n",
      "2200\n",
      "2300\n",
      "2400\n",
      "2500\n",
      "2600\n",
      "2700\n",
      "2800\n",
      "2900\n",
      "3000\n",
      "3100\n",
      "3200\n",
      "3300\n",
      "3400\n",
      "3500\n",
      "3600\n",
      "3700\n",
      "3800\n",
      "3900\n",
      "4000\n",
      "4100\n",
      "4200\n",
      "4300\n",
      "4400\n",
      "4500\n",
      "4600\n",
      "4700\n",
      "4800\n",
      "4900\n",
      "5000\n",
      "5100\n",
      "5200\n",
      "5300\n",
      "5400\n",
      "5500\n",
      "5600\n",
      "5700\n",
      "5800\n",
      "5900\n",
      "6000\n",
      "6100\n",
      "6200\n",
      "6300\n",
      "6400\n",
      "6500\n",
      "6600\n",
      "6700\n",
      "6800\n",
      "6900\n",
      "7000\n",
      "7100\n",
      "7200\n",
      "7300\n",
      "7400\n",
      "7500\n",
      "7600\n",
      "7700\n",
      "7800\n",
      "7900\n",
      "8000\n",
      "8100\n",
      "8200\n",
      "8300\n",
      "8400\n",
      "8500\n",
      "8600\n",
      "8700\n",
      "8800\n",
      "8900\n",
      "9000\n",
      "9100\n",
      "9200\n",
      "9300\n",
      "9400\n",
      "9500\n",
      "9600\n",
      "9700\n",
      "9800\n",
      "9900\n",
      "10000\n",
      "10100\n",
      "10200\n",
      "10300\n",
      "10400\n",
      "10500\n",
      "10600\n",
      "10700\n",
      "10800\n",
      "10900\n",
      "11000\n",
      "11100\n",
      "11200\n",
      "11300\n",
      "11400\n",
      "11500\n",
      "11600\n",
      "11700\n",
      "11800\n",
      "11900\n",
      "12000\n",
      "12100\n",
      "12200\n",
      "12300\n",
      "12400\n",
      "12500\n",
      "12600\n",
      "12700\n",
      "12800\n",
      "12900\n",
      "13000\n",
      "13100\n",
      "13200\n",
      "13300\n",
      "13400\n",
      "13500\n",
      "13600\n",
      "13700\n",
      "13800\n",
      "13900\n",
      "14000\n",
      "14100\n",
      "14200\n",
      "14300\n",
      "14400\n",
      "14500\n",
      "14600\n",
      "14700\n",
      "14800\n",
      "14900\n",
      "15000\n"
     ]
    }
   ],
   "source": [
    "pkchr = adata1.uns[\"atac.var\"][\"chr\"].apply(lambda s: \"chr\" + str(s))\n",
    "L = []\n",
    "pkstart = adata1.uns[\"atac.var\"][\"start\"]\n",
    "pkend = adata1.uns[\"atac.var\"][\"end\"]\n",
    "for i in range(nGenes):\n",
    "    pkdist = np.where(adata1.var[\"chr\"][i] != pkchr, 1e12, \n",
    "                      np.where(adata1.var[\"strand\"][i]==\"+\", \n",
    "                               pkstart-adata1.var[\"txstart\"][i],\n",
    "                               adata1.var[\"txend\"][i]-pkend))\n",
    "    if i%100==0: print(i)\n",
    "    L.append(pkdist)\n"
   ]
  },
  {
   "cell_type": "code",
   "execution_count": 65,
   "metadata": {
    "hidden": true
   },
   "outputs": [],
   "source": [
    "gene2pkdist = np.vstack(L)"
   ]
  },
  {
   "cell_type": "code",
   "execution_count": 91,
   "metadata": {
    "hidden": true
   },
   "outputs": [],
   "source": [
    "xmu = np.ravel(np.mean(adata1.X.todense(), axis=0))\n",
    "xsd = np.ravel(np.std(adata1.X.todense(), axis=0))\n",
    "gene2hiexpcells = adata1.X > (xmu + 1.0*xsd)"
   ]
  },
  {
   "cell_type": "code",
   "execution_count": 124,
   "metadata": {
    "collapsed": true,
    "hidden": true
   },
   "outputs": [
    {
     "name": "stdout",
     "output_type": "stream",
     "text": [
      "200 (179288,) (3260,) (179288,) (3260, 179288)\n",
      "300 (179288,) (3260,) (179288,) (3260, 179288)\n",
      "400 (179288,) (3260,) (179288,) (3260, 179288)\n",
      "600 (179288,) (3260,) (179288,) (3260, 179288)\n",
      "700 (179288,) (3260,) (179288,) (3260, 179288)\n",
      "800 (179288,) (3260,) (179288,) (3260, 179288)\n",
      "1100 (179288,) (3260,) (179288,) (3260, 179288)\n",
      "1200 (179288,) (3260,) (179288,) (3260, 179288)\n",
      "1300 (179288,) (3260,) (179288,) (3260, 179288)\n",
      "1400 (179288,) (3260,) (179288,) (3260, 179288)\n",
      "1500 (179288,) (3260,) (179288,) (3260, 179288)\n",
      "1600 (179288,) (3260,) (179288,) (3260, 179288)\n",
      "1700 (179288,) (3260,) (179288,) (3260, 179288)\n",
      "1800 (179288,) (3260,) (179288,) (3260, 179288)\n",
      "1900 (179288,) (3260,) (179288,) (3260, 179288)\n",
      "2000 (179288,) (3260,) (179288,) (3260, 179288)\n",
      "2200 (179288,) (3260,) (179288,) (3260, 179288)\n",
      "2300 (179288,) (3260,) (179288,) (3260, 179288)\n",
      "2400 (179288,) (3260,) (179288,) (3260, 179288)\n",
      "2500 (179288,) (3260,) (179288,) (3260, 179288)\n",
      "2700 (179288,) (3260,) (179288,) (3260, 179288)\n",
      "3000 (179288,) (3260,) (179288,) (3260, 179288)\n",
      "3100 (179288,) (3260,) (179288,) (3260, 179288)\n",
      "3200 (179288,) (3260,) (179288,) (3260, 179288)\n",
      "3300 (179288,) (3260,) (179288,) (3260, 179288)\n",
      "3400 (179288,) (3260,) (179288,) (3260, 179288)\n",
      "3500 (179288,) (3260,) (179288,) (3260, 179288)\n",
      "3600 (179288,) (3260,) (179288,) (3260, 179288)\n",
      "3700 (179288,) (3260,) (179288,) (3260, 179288)\n",
      "3800 (179288,) (3260,) (179288,) (3260, 179288)\n",
      "4000 (179288,) (3260,) (179288,) (3260, 179288)\n",
      "4100 (179288,) (3260,) (179288,) (3260, 179288)\n",
      "4300 (179288,) (3260,) (179288,) (3260, 179288)\n",
      "4400 (179288,) (3260,) (179288,) (3260, 179288)\n",
      "4500 (179288,) (3260,) (179288,) (3260, 179288)\n",
      "4600 (179288,) (3260,) (179288,) (3260, 179288)\n",
      "4700 (179288,) (3260,) (179288,) (3260, 179288)\n",
      "4800 (179288,) (3260,) (179288,) (3260, 179288)\n",
      "4900 (179288,) (3260,) (179288,) (3260, 179288)\n",
      "5200 (179288,) (3260,) (179288,) (3260, 179288)\n",
      "5300 (179288,) (3260,) (179288,) (3260, 179288)\n",
      "5400 (179288,) (3260,) (179288,) (3260, 179288)\n",
      "5500 (179288,) (3260,) (179288,) (3260, 179288)\n",
      "5600 (179288,) (3260,) (179288,) (3260, 179288)\n",
      "5700 (179288,) (3260,) (179288,) (3260, 179288)\n",
      "5800 (179288,) (3260,) (179288,) (3260, 179288)\n",
      "5900 (179288,) (3260,) (179288,) (3260, 179288)\n",
      "6000 (179288,) (3260,) (179288,) (3260, 179288)\n",
      "6100 (179288,) (3260,) (179288,) (3260, 179288)\n",
      "6200 (179288,) (3260,) (179288,) (3260, 179288)\n",
      "6300 (179288,) (3260,) (179288,) (3260, 179288)\n",
      "6400 (179288,) (3260,) (179288,) (3260, 179288)\n",
      "6500 (179288,) (3260,) (179288,) (3260, 179288)\n",
      "6600 (179288,) (3260,) (179288,) (3260, 179288)\n",
      "6800 (179288,) (3260,) (179288,) (3260, 179288)\n",
      "6900 (179288,) (3260,) (179288,) (3260, 179288)\n",
      "7000 (179288,) (3260,) (179288,) (3260, 179288)\n",
      "7100 (179288,) (3260,) (179288,) (3260, 179288)\n",
      "7300 (179288,) (3260,) (179288,) (3260, 179288)\n",
      "7500 (179288,) (3260,) (179288,) (3260, 179288)\n",
      "7800 (179288,) (3260,) (179288,) (3260, 179288)\n",
      "7900 (179288,) (3260,) (179288,) (3260, 179288)\n",
      "8000 (179288,) (3260,) (179288,) (3260, 179288)\n",
      "8200 (179288,) (3260,) (179288,) (3260, 179288)\n",
      "8300 (179288,) (3260,) (179288,) (3260, 179288)\n",
      "8500 (179288,) (3260,) (179288,) (3260, 179288)\n",
      "8700 (179288,) (3260,) (179288,) (3260, 179288)\n",
      "8800 (179288,) (3260,) (179288,) (3260, 179288)\n",
      "8900 (179288,) (3260,) (179288,) (3260, 179288)\n",
      "9200 (179288,) (3260,) (179288,) (3260, 179288)\n",
      "9300 (179288,) (3260,) (179288,) (3260, 179288)\n",
      "9400 (179288,) (3260,) (179288,) (3260, 179288)\n",
      "9500 (179288,) (3260,) (179288,) (3260, 179288)\n",
      "9600 (179288,) (3260,) (179288,) (3260, 179288)\n",
      "9700 (179288,) (3260,) (179288,) (3260, 179288)\n",
      "9800 (179288,) (3260,) (179288,) (3260, 179288)\n",
      "9900 (179288,) (3260,) (179288,) (3260, 179288)\n",
      "10000 (179288,) (3260,) (179288,) (3260, 179288)\n",
      "10100 (179288,) (3260,) (179288,) (3260, 179288)\n",
      "10300 (179288,) (3260,) (179288,) (3260, 179288)\n",
      "10400 (179288,) (3260,) (179288,) (3260, 179288)\n",
      "10500 (179288,) (3260,) (179288,) (3260, 179288)\n",
      "10700 (179288,) (3260,) (179288,) (3260, 179288)\n",
      "10800 (179288,) (3260,) (179288,) (3260, 179288)\n",
      "11100 (179288,) (3260,) (179288,) (3260, 179288)\n",
      "11200 (179288,) (3260,) (179288,) (3260, 179288)\n",
      "11300 (179288,) (3260,) (179288,) (3260, 179288)\n",
      "11500 (179288,) (3260,) (179288,) (3260, 179288)\n",
      "11700 (179288,) (3260,) (179288,) (3260, 179288)\n",
      "11800 (179288,) (3260,) (179288,) (3260, 179288)\n",
      "11900 (179288,) (3260,) (179288,) (3260, 179288)\n",
      "12000 (179288,) (3260,) (179288,) (3260, 179288)\n",
      "12100 (179288,) (3260,) (179288,) (3260, 179288)\n",
      "12200 (179288,) (3260,) (179288,) (3260, 179288)\n",
      "12300 (179288,) (3260,) (179288,) (3260, 179288)\n",
      "12400 (179288,) (3260,) (179288,) (3260, 179288)\n",
      "12600 (179288,) (3260,) (179288,) (3260, 179288)\n",
      "12700 (179288,) (3260,) (179288,) (3260, 179288)\n",
      "12800 (179288,) (3260,) (179288,) (3260, 179288)\n",
      "12900 (179288,) (3260,) (179288,) (3260, 179288)\n",
      "13000 (179288,) (3260,) (179288,) (3260, 179288)\n",
      "13100 (179288,) (3260,) (179288,) (3260, 179288)\n",
      "13300 (179288,) (3260,) (179288,) (3260, 179288)\n",
      "13400 (179288,) (3260,) (179288,) (3260, 179288)\n",
      "13500 (179288,) (3260,) (179288,) (3260, 179288)\n",
      "13700 (179288,) (3260,) (179288,) (3260, 179288)\n",
      "13800 (179288,) (3260,) (179288,) (3260, 179288)\n",
      "14000 (179288,) (3260,) (179288,) (3260, 179288)\n",
      "14100 (179288,) (3260,) (179288,) (3260, 179288)\n",
      "14200 (179288,) (3260,) (179288,) (3260, 179288)\n",
      "14400 (179288,) (3260,) (179288,) (3260, 179288)\n",
      "14500 (179288,) (3260,) (179288,) (3260, 179288)\n",
      "14600 (179288,) (3260,) (179288,) (3260, 179288)\n",
      "14800 (179288,) (3260,) (179288,) (3260, 179288)\n",
      "14900 (179288,) (3260,) (179288,) (3260, 179288)\n"
     ]
    }
   ],
   "source": [
    "L = []\n",
    "pkX = adata1.uns[\"atac.X\"].todense()\n",
    "nPeaks = pkX.shape[1]\n",
    "pkX_mu = 1e-9 + np.ravel(np.mean(pkX, axis=0))\n",
    "\n",
    "for i in range(nGenes):\n",
    "    goodcells = np.ravel(gene2hiexpcells[:,i])\n",
    "    if np.sum(goodcells) < 10:\n",
    "        L.append(np.zeros(nPeaks))\n",
    "        continue\n",
    "    foldchange = np.ravel(np.mean(pkX[goodcells, :], axis=0)) / pkX_mu\n",
    "    if i%100==0: print (i, foldchange.shape, goodcells.shape, pkX_mu.shape, pkX.shape)\n",
    "    L.append(foldchange)\n"
   ]
  },
  {
   "cell_type": "code",
   "execution_count": 125,
   "metadata": {
    "hidden": true
   },
   "outputs": [],
   "source": [
    "gene2pkfoldchange = np.vstack(L)"
   ]
  },
  {
   "cell_type": "code",
   "execution_count": 242,
   "metadata": {
    "hidden": true
   },
   "outputs": [],
   "source": [
    "nonzeroPkCnts = np.ravel(np.sum(pkX>0.00001,axis=0))"
   ]
  },
  {
   "cell_type": "code",
   "execution_count": 243,
   "metadata": {
    "hidden": true
   },
   "outputs": [
    {
     "data": {
      "text/plain": [
       "array([0.0e+00, 0.0e+00, 0.0e+00, 0.0e+00, 1.0e+00, 1.0e+00, 2.0e+00,\n",
       "       2.0e+00, 3.0e+00, 3.0e+00, 5.0e+00, 7.0e+00, 1.1e+01, 2.5e+01,\n",
       "       3.1e+03])"
      ]
     },
     "execution_count": 243,
     "metadata": {},
     "output_type": "execute_result"
    }
   ],
   "source": [
    "np.quantile(nonzeroPkCnts, np.linspace(0,1,15))"
   ]
  },
  {
   "cell_type": "code",
   "execution_count": 299,
   "metadata": {
    "hidden": true
   },
   "outputs": [
    {
     "name": "stdout",
     "output_type": "stream",
     "text": [
      "Flag 565.10  0 1667 (1500, 5470) (1500, 5470)\n",
      "Flag 565.40  0 -20000000.000000004 -10358949.358462406 (24572,) 0.5873016673219107 1.1760281915346051 1.7351381243495594 0.7293673999613812 0.905594658555474 14.740251949610078\n",
      "Flag 565.40  0 -10358949.358462406 -5365391.590559456 (16509,) 0.5270549956920548 1.1626596205197786 1.7379598705845984 0.717543688090405 0.9413326579323738 9.903419316136773\n",
      "Flag 565.40  0 -5365391.590559456 -2778990.9887462724 (9638,) 0.599960458572398 1.1714279898364233 1.7315492069340446 0.7343328237125184 0.9309311024836882 5.781643671265747\n",
      "Flag 565.40  0 -2778990.9887462724 -1439371.346002303 (5557,) 0.5827371506892579 1.151316136821235 1.7337932107437324 0.7330974466652997 0.9446172289322263 3.3335332933413317\n",
      "Flag 565.40  0 -1439371.346002303 -745518.7440629877 (3447,) 0.6091752641499071 1.2058508364688927 1.8033375777890281 0.7485215513576657 0.9003905886035695 2.0677864427114576\n",
      "Flag 565.40  0 -745518.7440629877 -386139.54577664996 (2207,) 0.6998638778046262 1.2041034068685739 1.7553934844950416 0.7614205364005213 0.8878938514644498 1.3239352129574085\n",
      "Flag 565.40  0 -386139.54577664996 -200000.00000000003 (1261,) 0.5750791415657375 1.189959784221641 1.8608736699266302 0.7186516997809801 0.8499082163375723 0.7564487102579485\n",
      "Flag 565.40  0 -200000.00000000003 -103589.49358462427 (692,) 0.7597173657682104 1.2554000128545533 1.7019482320487809 0.7877247020644051 0.8979661349831122 0.41511697660467906\n",
      "Flag 565.40  0 -103589.49358462427 -53653.91590559456 (418,) 0.6852602618935715 1.2148802970485475 1.9729915467713195 0.8035822141372777 0.9181586565148522 0.250749850029994\n",
      "Flag 565.40  0 -53653.91590559456 -27789.909887462723 (264,) 0.6419764162944352 1.206313818979303 1.861495634406745 0.8328180513605085 1.240657946393143 0.15836832633473305\n",
      "Flag 565.40  0 -27789.909887462723 -14393.71346002303 (136,) 0.7922696441266479 1.225878066022271 1.7870917355245837 0.865959144210735 0.9323104400848123 0.08158368326334733\n",
      "Flag 565.40  0 -14393.71346002303 -7455.187440629877 (47,) 0.7521839903944127 1.0532323160824206 1.7531932971038933 0.7779444560182466 0.7497140825732057 0.028194361127774445\n",
      "Flag 565.40  0 -7455.187440629877 -3861.3954577665 (21,) 0.35478858883115033 0.9839496930870522 1.3665405886068218 0.6905325438293259 1.0643059719869186 0.01259748050389922\n",
      "Flag 565.40  0 -3861.3954577665 -2000.0000000000002 (21,) 0.971094363272827 1.2769307668897523 1.7998654575903883 1.1989126108716464 1.7693991445245927 0.01259748050389922\n",
      "Flag 565.40  0 -2000.0000000000002 -500.0 (201,) 1.0283101499478058 1.4427548170918443 1.7948087316017851 1.1086416567368296 0.8079165240397627 0.1205758848230354\n",
      "Flag 565.40  0 -500.0 0.0 (63,) 0.9666315158404508 1.1702818823473113 1.5791991356095387 0.9314979669764304 0.6638420602252691 0.03779244151169766\n",
      "Flag 565.40  0 0.0 500.0 (8,) 0.7515550916507348 1.022254519800005 1.3722692266334784 0.7153790568404172 0.6984462037406919 0.004799040191961607\n",
      "Flag 565.40  0 500.0 2000.0000000000002 (10,) 0.860282683635569 1.2491678464065739 1.3777989541948625 0.8655424749350186 0.513179768615521 0.00599880023995201\n",
      "Flag 565.40  0 2000.0000000000002 3861.3954577665 (22,) 0.7322532286179114 1.2060558726830504 1.5841568680198659 0.7092133620405177 0.7074793822132635 0.013197360527894421\n",
      "Flag 565.40  0 3861.3954577665 7455.187440629877 (29,) 1.114008407670361 1.2818538487628706 1.6291759583498577 0.9177629948381162 0.6125802299325794 0.01739652069586083\n",
      "Flag 565.40  0 7455.187440629877 14393.71346002303 (72,) 0.9851333296216358 1.2526218844984485 2.181437673722572 0.9193143695917717 0.8968379311193405 0.04319136172765447\n",
      "Flag 565.40  0 14393.71346002303 27789.909887462723 (112,) 0.8559361467405509 1.4594084552693025 2.1118020369760653 0.9223516281988599 1.0002062647782435 0.06718656268746251\n",
      "Flag 565.40  0 27789.909887462723 53653.91590559456 (232,) 0.8366655134753973 1.2506466220178756 1.7364435989661513 0.8343010897224362 0.9679403879296045 0.13917216556688664\n",
      "Flag 565.40  0 53653.91590559456 103589.49358462427 (389,) 0.6102909011502821 1.1124101822614234 1.604727209262928 0.7340887931244985 1.021290113210493 0.23335332933413316\n",
      "Flag 565.40  0 103589.49358462427 200000.00000000003 (765,) 0.6411262008116951 1.2219547397655752 1.7459547766224661 0.7686401893023463 0.9706913717825226 0.4589082183563287\n",
      "Flag 565.40  0 200000.00000000003 386139.54577664996 (1351,) 0.5910841823559121 1.211609372405358 1.7887581891313826 0.768820676774302 0.9918430338857047 0.8104379124175165\n",
      "Flag 565.40  0 386139.54577664996 745518.7440629877 (2268,) 0.6298126441758509 1.2179565722987626 1.7763688925384602 0.7603470823254637 0.9118121368124613 1.3605278944211159\n",
      "Flag 565.40  0 745518.7440629877 1439371.346002303 (3737,) 0.6565830007318596 1.2229917796240175 1.8327445988236892 0.7772241014192474 0.9528601646396121 2.241751649670066\n",
      "Flag 565.40  0 1439371.346002303 2778990.9887462724 (5779,) 0.5339088388606983 1.1494770408459916 1.6921872387537213 0.7202634660155 0.9449181385038107 3.4667066586682664\n",
      "Flag 565.40  0 2778990.9887462724 5365391.590559456 (10178,) 0.6093144810271793 1.166350793842867 1.7196468650527015 0.7382480929325276 0.925877413686216 6.1055788842231555\n",
      "Flag 565.40  0 5365391.590559456 10358949.358462406 (17573,) 0.5704384957938912 1.178583326318849 1.7934613426191293 0.7426868306874265 0.9662230669768609 10.541691661667667\n",
      "Flag 565.40  0 10358949.358462406 20000000.000000004 (25694,) 0.540269305623344 1.16147381952229 1.7089435929853887 0.7105852908059331 0.8962035451585709 15.413317336532694\n",
      "Flag 565.10  1667 3335 (1500, 5470) (1500, 5470)\n",
      "Flag 565.40  1 -20000000.000000004 -10358949.358462406 (26464,) 0.8058293520978919 1.2081251459224063 1.6780791938961532 0.8014821396504984 0.8519793434482476 15.865707434052759\n",
      "Flag 565.40  1 -10358949.358462406 -5365391.590559456 (16192,) 0.7979378877919688 1.2043191138956497 1.6543784118485636 0.785695963648065 0.8460507727637059 9.707434052757794\n",
      "Flag 565.40  1 -5365391.590559456 -2778990.9887462724 (10046,) 0.8021722439374468 1.2178763007686042 1.6950871135441605 0.7974117238485593 0.8395083583182902 6.022781774580336\n",
      "Flag 565.40  1 -2778990.9887462724 -1439371.346002303 (5963,) 0.8240586374505552 1.2296474565693933 1.7178485469468614 0.8295318211206452 0.8678502773771118 3.574940047961631\n",
      "Flag 565.40  1 -1439371.346002303 -745518.7440629877 (3423,) 0.8489420326365039 1.2223955556238604 1.703557963070911 0.8356162066483346 0.8296975009458316 2.052158273381295\n",
      "Flag 565.40  1 -745518.7440629877 -386139.54577664996 (1969,) 0.8410660671461896 1.2256370499236335 1.7755103169211632 0.8456592356136241 0.880772064399325 1.1804556354916067\n",
      "Flag 565.40  1 -386139.54577664996 -200000.00000000003 (1219,) 0.8213492446372481 1.2273066581167276 1.6933398552056074 0.8388051803003881 0.8889175192358069 0.7308153477218226\n",
      "Flag 565.40  1 -200000.00000000003 -103589.49358462427 (705,) 0.8600215901848877 1.2090773443687957 1.618077852172549 0.8115638646919241 0.7943947509088044 0.4226618705035971\n",
      "Flag 565.40  1 -103589.49358462427 -53653.91590559456 (420,) 0.9010594145969857 1.2446434450109518 1.5812763877860976 0.8682475893391942 0.6773954770326259 0.2517985611510791\n",
      "Flag 565.40  1 -53653.91590559456 -27789.909887462723 (232,) 0.8376233567162759 1.167096728950746 1.4572557508405604 0.7813708831182782 0.6655369616810163 0.13908872901678657\n",
      "Flag 565.40  1 -27789.909887462723 -14393.71346002303 (130,) 0.8096792963256333 1.0997361590009387 1.8475126899389414 0.9015273797686189 1.0719068061173207 0.07793764988009592\n",
      "Flag 565.40  1 -14393.71346002303 -7455.187440629877 (69,) 0.9524430882461576 1.1319143508212344 1.474982061707634 0.833548974097012 0.5504089766320501 0.04136690647482014\n",
      "Flag 565.40  1 -7455.187440629877 -3861.3954577665 (23,) 0.8324609443394313 1.0717668289589846 1.3029347212263473 0.783451238575203 0.6800306267943499 0.013788968824940047\n",
      "Flag 565.40  1 -3861.3954577665 -2000.0000000000002 (18,) 0.7441117765110712 1.0997716875921664 1.2875586819788984 0.6863190866928233 0.49714319937229434 0.01079136690647482\n",
      "Flag 565.40  1 -2000.0000000000002 -500.0 (253,) 1.0503732351272228 1.346456697530317 1.7573141612261385 1.1043325327795235 0.7812988586232452 0.15167865707434053\n",
      "Flag 565.40  1 -500.0 0.0 (98,) 1.0526732558008134 1.3981121008958777 1.7659033350159496 1.0826917204363378 0.56314165750648 0.05875299760191847\n",
      "Flag 565.40  1 0.0 500.0 (6,) 0.9546050858149167 1.024615139918016 1.1127367828210275 0.8278705590065796 0.3850275955678415 0.0035971223021582736\n"
     ]
    },
    {
     "name": "stdout",
     "output_type": "stream",
     "text": [
      "Flag 565.40  1 500.0 2000.0000000000002 (8,) 0.4364130774311776 1.388623889482843 1.5457606057608655 0.6730746517169216 0.7045573728358883 0.004796163069544364\n",
      "Flag 565.40  1 2000.0000000000002 3861.3954577665 (15,) 0.9411787098609021 1.1128100256722708 1.2714030071080193 0.674327384586886 0.5884112012992845 0.008992805755395683\n",
      "Flag 565.40  1 3861.3954577665 7455.187440629877 (26,) 1.0170341832210301 1.435648206149167 1.5992982392559147 1.0068138934986413 0.6211452257732057 0.015587529976019185\n",
      "Flag 565.40  1 7455.187440629877 14393.71346002303 (56,) 0.8951630632115295 1.3837357932017744 1.826916978250116 0.9149983290597987 0.7072181591025941 0.03357314148681055\n",
      "Flag 565.40  1 14393.71346002303 27789.909887462723 (90,) 0.8559858883770872 1.2822917184228015 1.6458374710779062 0.8385742994583028 0.9184559193337889 0.0539568345323741\n",
      "Flag 565.40  1 27789.909887462723 53653.91590559456 (233,) 0.9141013945645127 1.3195339305293419 1.7415378659916096 0.9027961907302554 0.7484865735970958 0.1396882494004796\n",
      "Flag 565.40  1 53653.91590559456 103589.49358462427 (460,) 0.8657125322230896 1.2398198118331378 1.752384054414266 0.8489636191741012 0.8116770362102689 0.27577937649880097\n",
      "Flag 565.40  1 103589.49358462427 200000.00000000003 (760,) 0.8910953291310981 1.2567351929799484 1.7606745125034275 0.8885277387751269 0.8586569040075286 0.4556354916067146\n",
      "Flag 565.40  1 200000.00000000003 386139.54577664996 (1326,) 0.7579792165583277 1.2078158049678107 1.7365221839993885 0.8131845817962393 0.9181004044831261 0.7949640287769785\n",
      "Flag 565.40  1 386139.54577664996 745518.7440629877 (2073,) 0.8054074810048767 1.208577722101527 1.6811325274591806 0.8030227796144812 0.8231437527333493 1.2428057553956835\n",
      "Flag 565.40  1 745518.7440629877 1439371.346002303 (3536,) 0.7810683325380479 1.1900918871305615 1.6932253621978344 0.8026682628040914 0.8859347078697002 2.1199040767386093\n",
      "Flag 565.40  1 1439371.346002303 2778990.9887462724 (5661,) 0.738413096030552 1.1919399651333875 1.6808096143785156 0.7735237678748532 0.8775109301658318 3.393884892086331\n",
      "Flag 565.40  1 2778990.9887462724 5365391.590559456 (10356,) 0.7847432890510133 1.2134076349890763 1.7042128423515657 0.7981415028848743 0.8566469692522777 6.2086330935251794\n",
      "Flag 565.40  1 5365391.590559456 10358949.358462406 (16993,) 0.790849332378021 1.2021928174375476 1.7199041370769321 0.8067811711599653 0.8895698905393388 10.187649880095924\n",
      "Flag 565.40  1 10358949.358462406 20000000.000000004 (25958,) 0.8052995016761927 1.2079370495886206 1.6819501959333565 0.7997936985854845 0.8654505154634812 15.562350119904076\n",
      "Flag 565.10  3335 5003 (2001, 5470) (2001, 5470)\n",
      "Flag 565.40  2 -20000000.000000004 -10358949.358462406 (34237,) 0.8900373472548472 1.2436356673054596 1.7007822950615568 0.8621955376758229 0.8315601234459478 20.5257793764988\n",
      "Flag 565.40  2 -10358949.358462406 -5365391.590559456 (21090,) 0.8700480448025073 1.2451649116085197 1.725611337525865 0.8512343316571188 0.8327419862248133 12.643884892086332\n",
      "Flag 565.40  2 -5365391.590559456 -2778990.9887462724 (12709,) 0.8686131151312528 1.236881392884264 1.6852564031359554 0.8447482845140788 0.831240732009394 7.619304556354916\n",
      "Flag 565.40  2 -2778990.9887462724 -1439371.346002303 (7052,) 0.872244391949287 1.238030861887608 1.7233920332055859 0.8486497904379694 0.8390807656159545 4.227817745803358\n",
      "Flag 565.40  2 -1439371.346002303 -745518.7440629877 (4295,) 0.8659751074904666 1.252815887736086 1.6648075606490216 0.8480209843663655 0.8251258713447881 2.574940047961631\n",
      "Flag 565.40  2 -745518.7440629877 -386139.54577664996 (2391,) 0.8318462019786235 1.2362808741989584 1.746473784391564 0.8400830764540586 0.8684184968995632 1.433453237410072\n",
      "Flag 565.40  2 -386139.54577664996 -200000.00000000003 (1407,) 0.8677750287139835 1.2487102247991895 1.6919449141628506 0.8519475091109565 0.8062002868708186 0.8435251798561151\n",
      "Flag 565.40  2 -200000.00000000003 -103589.49358462427 (803,) 0.8221521452254 1.2478787488561345 1.7715938641563573 0.8451366291163512 0.8889390939972797 0.4814148681055156\n",
      "Flag 565.40  2 -103589.49358462427 -53653.91590559456 (435,) 0.9162051700773044 1.232076243014238 1.688511917844545 0.9027314265402089 0.8056201285995661 0.2607913669064748\n",
      "Flag 565.40  2 -53653.91590559456 -27789.909887462723 (267,) 0.9546870472013356 1.314976897732309 1.7775231605692319 0.9656634441625331 0.9287458172222356 0.16007194244604317\n",
      "Flag 565.40  2 -27789.909887462723 -14393.71346002303 (161,) 0.9814642071236772 1.3912109665239814 2.0701713351133515 1.0273596517564856 0.8076756435576014 0.09652278177458033\n",
      "Flag 565.40  2 -14393.71346002303 -7455.187440629877 (62,) 1.0838476994330724 1.439286316123878 1.778311496248905 1.075439884981093 0.8716186440695007 0.03717026378896882\n",
      "Flag 565.40  2 -7455.187440629877 -3861.3954577665 (35,) 0.9334404134348236 1.184841309964534 2.0837660014499315 1.0761597640876346 1.1210284818500298 0.020983213429256596\n",
      "Flag 565.40  2 -3861.3954577665 -2000.0000000000002 (22,) 1.0260665265284303 1.0832226130243012 1.2731274193654265 0.8872956886312106 0.9260018642333617 0.013189448441247002\n",
      "Flag 565.40  2 -2000.0000000000002 -500.0 (341,) 1.060987265881065 1.3636962452027792 1.6512270720850826 1.0811955400768456 0.5847510993247502 0.20443645083932854\n",
      "Flag 565.40  2 -500.0 0.0 (116,) 1.018002454438558 1.3057824779314613 1.5832260201697097 1.081163914687796 0.5060450750946494 0.06954436450839328\n",
      "Flag 565.40  2 0.0 500.0 (4,) 1.070682954974849 1.1595311633642373 1.1897958090953065 0.9982418474660912 0.21958806986545887 0.002398081534772182\n",
      "Flag 565.40  2 500.0 2000.0000000000002 (13,) 0.8570930205735285 1.3576256186290692 1.4226258975701023 0.9183158209494565 0.6672140751277827 0.0077937649880095924\n",
      "Flag 565.40  2 2000.0000000000002 3861.3954577665 (12,) 1.120478244310076 1.2760564016673794 1.3622606205798413 0.872637653331938 0.5718898649414386 0.007194244604316547\n",
      "Flag 565.40  2 3861.3954577665 7455.187440629877 (30,) 0.6687223681823827 1.1831924301199765 1.508152855414145 0.6505667445758065 0.6308050677623979 0.017985611510791366\n",
      "Flag 565.40  2 7455.187440629877 14393.71346002303 (63,) 1.1146995454416897 1.4824975362215245 2.360321466829905 1.227149892351896 1.0166181312537448 0.03776978417266187\n",
      "Flag 565.40  2 14393.71346002303 27789.909887462723 (110,) 0.9424223737462383 1.3321346216439802 1.9466576071078008 0.9327643199177649 0.9146069686052799 0.06594724220623502\n",
      "Flag 565.40  2 27789.909887462723 53653.91590559456 (254,) 0.936175901464471 1.3701073047825338 1.8524065861655519 0.9742090825302812 0.9503901154363843 0.15227817745803357\n",
      "Flag 565.40  2 53653.91590559456 103589.49358462427 (455,) 0.9192083195992313 1.393626745020937 1.9021369006937674 0.9965595473356492 1.0827942307702763 0.27278177458033576\n",
      "Flag 565.40  2 103589.49358462427 200000.00000000003 (835,) 0.8314103667749403 1.2258748769135273 1.7023093718935733 0.8275276854867702 0.8086961672465526 0.500599520383693\n",
      "Flag 565.40  2 200000.00000000003 386139.54577664996 (1550,) 0.8641908678232857 1.2283402755760988 1.7010508665346789 0.8554072037894299 0.8802492915443066 0.9292565947242206\n",
      "Flag 565.40  2 386139.54577664996 745518.7440629877 (2606,) 0.8863155569796961 1.2715005357954183 1.802507674807849 0.8900683163078696 0.943378826930892 1.5623501199040768\n",
      "Flag 565.40  2 745518.7440629877 1439371.346002303 (4502,) 0.8602261192599138 1.2394329692405686 1.7177675751091075 0.8455496622950066 0.8484708378237332 2.699040767386091\n",
      "Flag 565.40  2 1439371.346002303 2778990.9887462724 (7014,) 0.8449054792694581 1.2183353219318631 1.6836428658285225 0.8246786285173441 0.8409742089651328 4.205035971223022\n",
      "Flag 565.40  2 2778990.9887462724 5365391.590559456 (12535,) 0.8722725073300835 1.23509779003209 1.6784111229604144 0.8479713004438955 0.845264102516791 7.514988009592326\n",
      "Flag 565.40  2 5365391.590559456 10358949.358462406 (20834,) 0.8613188367149209 1.2308255329308864 1.6842019780431676 0.8434047282408854 0.8629683966244892 12.490407673860911\n",
      "Flag 565.40  2 10358949.358462406 20000000.000000004 (32460,) 0.8764614588019526 1.2408720026601259 1.7075130588138945 0.8579859351827714 0.8612827035092403 19.46043165467626\n",
      "Flag 565.10  5003 6671 (1499, 5470) (1499, 5470)\n",
      "Flag 565.40  3 -20000000.000000004 -10358949.358462406 (25059,) 0.8879376250895975 1.2457739174134175 1.7402312184250572 0.8766214349373593 0.8991801036193103 15.023381294964029\n"
     ]
    },
    {
     "name": "stdout",
     "output_type": "stream",
     "text": [
      "Flag 565.40  3 -10358949.358462406 -5365391.590559456 (15504,) 0.8917326441925255 1.2453039081751656 1.7628035511871945 0.8727263198307935 0.8944947693818887 9.29496402877698\n",
      "Flag 565.40  3 -5365391.590559456 -2778990.9887462724 (9109,) 0.8545335982254365 1.2350972254030863 1.7743104209351457 0.8561676141681638 0.9097010157160819 5.461031175059952\n",
      "Flag 565.40  3 -2778990.9887462724 -1439371.346002303 (5204,) 0.8572584695459884 1.237577456980945 1.813041018604748 0.867568205956952 0.9636235082626727 3.1199040767386093\n",
      "Flag 565.40  3 -1439371.346002303 -745518.7440629877 (3135,) 0.8088726727827458 1.2074180666929963 1.7583377535457823 0.8392454527791331 0.968720058378438 1.879496402877698\n",
      "Flag 565.40  3 -745518.7440629877 -386139.54577664996 (1839,) 0.8128063841152962 1.1804408350604174 1.6603883653934384 0.7837883859126256 0.8234420801050306 1.1025179856115108\n",
      "Flag 565.40  3 -386139.54577664996 -200000.00000000003 (1024,) 0.8947318860250077 1.2780048469279615 1.8078184703448346 0.9097453059094507 0.9756292072503703 0.6139088729016786\n",
      "Flag 565.40  3 -200000.00000000003 -103589.49358462427 (581,) 0.8486927531097311 1.2680321579194092 1.7637700171125075 0.8923254724210903 0.9919684438855975 0.34832134292565947\n",
      "Flag 565.40  3 -103589.49358462427 -53653.91590559456 (319,) 0.9637158632432652 1.3103498279722987 1.8766284166622036 0.9560546679171085 0.9194545156045348 0.19124700239808154\n",
      "Flag 565.40  3 -53653.91590559456 -27789.909887462723 (174,) 0.8189759458412058 1.1557482458492965 1.4833708784092097 0.738907939439679 0.6414958697474197 0.10431654676258993\n",
      "Flag 565.40  3 -27789.909887462723 -14393.71346002303 (87,) 0.8270528853612947 1.3660953016051693 1.8744966455555478 0.8564318627667196 0.8227930601899855 0.052158273381294966\n",
      "Flag 565.40  3 -14393.71346002303 -7455.187440629877 (44,) 0.983141851236554 1.2686596796533154 1.5313721095665571 0.8155859824856987 0.7304985088177375 0.026378896882494004\n",
      "Flag 565.40  3 -7455.187440629877 -3861.3954577665 (25,) 1.1844696654041036 1.424761815244051 1.6754485250975582 1.0270965950550957 0.7483069492280128 0.01498800959232614\n",
      "Flag 565.40  3 -3861.3954577665 -2000.0000000000002 (7,) 0.7291091020995621 0.9527740280565684 1.4881895955752704 0.6571931772231913 0.6847356161221456 0.004196642685851319\n",
      "Flag 565.40  3 -2000.0000000000002 -500.0 (237,) 1.077042428796964 1.3124639181037814 1.6231658054747675 1.1130162925480256 0.580248694611594 0.1420863309352518\n",
      "Flag 565.40  3 -500.0 0.0 (72,) 1.075446026923094 1.3550788723016176 1.6586429233267415 1.1481955294896664 0.8356214151612955 0.04316546762589928\n",
      "Flag 565.40  3 0.0 500.0 (5,) 0.9733897674481389 1.1801191895090886 1.2809695873674245 1.0365470366997402 0.19945093158882046 0.002997601918465228\n",
      "Flag 565.40  3 500.0 2000.0000000000002 (14,) 0.4169046162999835 1.0940433567270709 1.263107783797706 0.6516614503826352 0.7820551971719351 0.008393285371702638\n",
      "Flag 565.40  3 2000.0000000000002 3861.3954577665 (3,) 1.1366970279753523 1.2010337171635865 1.239635730676527 1.0845929819891333 0.17284780202942487 0.0017985611510791368\n",
      "Flag 565.40  3 3861.3954577665 7455.187440629877 (19,) 0.5828534311315259 1.0901864734815003 1.2838515273118385 0.6350731610704671 0.6336205023046573 0.011390887290167866\n",
      "Flag 565.40  3 7455.187440629877 14393.71346002303 (39,) 0.7878082629612468 1.2751963399517963 1.5708474990030596 0.8371065812335697 1.1606774255145937 0.023381294964028777\n",
      "Flag 565.40  3 14393.71346002303 27789.909887462723 (87,) 0.9197967517078972 1.459425205335546 1.8610366954494337 0.9878735377565167 1.3256083255513254 0.052158273381294966\n",
      "Flag 565.40  3 27789.909887462723 53653.91590559456 (155,) 0.9715714914773749 1.294370411085041 1.9599825481929762 0.9893278910784936 0.9886420697620101 0.09292565947242207\n",
      "Flag 565.40  3 53653.91590559456 103589.49358462427 (283,) 0.9419457558322988 1.2720013065110969 1.7153109511074711 0.9002668672989668 0.8363264649641844 0.1696642685851319\n",
      "Flag 565.40  3 103589.49358462427 200000.00000000003 (623,) 0.9368267815873015 1.2847275380834264 1.8900392690766041 0.9208855885700753 0.886941290335515 0.3735011990407674\n",
      "Flag 565.40  3 200000.00000000003 386139.54577664996 (1083,) 0.827332913940326 1.2061217132111777 1.6805018344923917 0.8226205928157261 0.868805103123956 0.6492805755395683\n",
      "Flag 565.40  3 386139.54577664996 745518.7440629877 (1870,) 0.8645257485466535 1.2429497142857873 1.7441574877111654 0.8476342704770846 0.8563229724699798 1.1211031175059951\n",
      "Flag 565.40  3 745518.7440629877 1439371.346002303 (3017,) 0.8196209889845179 1.2318357304533818 1.7656277750673564 0.8453781658596837 0.9744946156268083 1.8087529976019185\n",
      "Flag 565.40  3 1439371.346002303 2778990.9887462724 (5157,) 0.8196123354421153 1.242951347001882 1.7437240014277404 0.8152922245522245 0.8819712824940581 3.091726618705036\n",
      "Flag 565.40  3 2778990.9887462724 5365391.590559456 (8866,) 0.839623342038958 1.2260727540723464 1.7173729907438018 0.8317338243226982 0.9147772724829304 5.315347721822542\n",
      "Flag 565.40  3 5365391.590559456 10358949.358462406 (14787,) 0.8640939570701207 1.2334981328070476 1.7362871967790177 0.847315382995992 0.8989306436410736 8.865107913669064\n",
      "Flag 565.40  3 10358949.358462406 20000000.000000004 (24918,) 0.8756931317226337 1.2407418917280835 1.7375639757175083 0.8629047054165612 0.8876440111186737 14.93884892086331\n",
      "Flag 565.10  6671 8339 (1500, 5470) (1500, 5470)\n",
      "Flag 565.40  4 -20000000.000000004 -10358949.358462406 (24269,) 0.8756118336929772 1.272325053526456 1.80868150628958 0.874574377835527 0.8926728124990121 14.549760191846524\n",
      "Flag 565.40  4 -10358949.358462406 -5365391.590559456 (15549,) 0.8369299843978395 1.2651435563818916 1.8461349200951562 0.8674914259307005 0.9432499547265571 9.321942446043165\n",
      "Flag 565.40  4 -5365391.590559456 -2778990.9887462724 (8908,) 0.8381450987715107 1.2674535062325152 1.8388804555348979 0.8577423299511198 0.9173369050916955 5.3405275779376495\n",
      "Flag 565.40  4 -2778990.9887462724 -1439371.346002303 (5254,) 0.7820199653366646 1.2706204326748263 1.913254380720228 0.8554561648636655 0.9759634665567483 3.1498800959232613\n",
      "Flag 565.40  4 -1439371.346002303 -745518.7440629877 (2956,) 0.8336469674108061 1.2699079165288776 1.7976815102395136 0.8474863835683264 0.9031375515936121 1.7721822541966428\n",
      "Flag 565.40  4 -745518.7440629877 -386139.54577664996 (1746,) 0.8573706010025837 1.2652262145522721 1.801445850382108 0.8613357074365429 0.9166018236398273 1.0467625899280575\n",
      "Flag 565.40  4 -386139.54577664996 -200000.00000000003 (1094,) 0.8371090201358371 1.2740545695039787 1.8090753721732369 0.8729757575779488 0.9043741749806962 0.6558752997601919\n",
      "Flag 565.40  4 -200000.00000000003 -103589.49358462427 (605,) 0.8752617731675706 1.2772166905973314 1.8665330581921327 0.9076214116302078 0.9031616409685292 0.3627098321342926\n",
      "Flag 565.40  4 -103589.49358462427 -53653.91590559456 (347,) 0.9106040340034764 1.2549314323799239 1.8769708529944706 0.9001819999461829 0.8874577384783862 0.20803357314148682\n",
      "Flag 565.40  4 -53653.91590559456 -27789.909887462723 (166,) 0.9409712976631056 1.3316925473287675 1.919295267600012 0.9689396429338488 0.8531468093382533 0.09952038369304557\n",
      "Flag 565.40  4 -27789.909887462723 -14393.71346002303 (99,) 0.9380724667312238 1.2802143937179222 2.5030150776379347 1.0905607718562336 0.9885203597679701 0.05935251798561151\n",
      "Flag 565.40  4 -14393.71346002303 -7455.187440629877 (36,) 0.7340261384852973 1.5753658735750757 2.1986796155271504 0.9207907375131472 0.8735751537989689 0.02158273381294964\n",
      "Flag 565.40  4 -7455.187440629877 -3861.3954577665 (32,) 0.9569511270230227 1.322450523710848 1.5391601780162067 0.8609435201531331 0.61330275942071 0.019184652278177457\n",
      "Flag 565.40  4 -3861.3954577665 -2000.0000000000002 (15,) 1.0117656528689765 1.6448969758774874 1.961165577904981 1.1155281784859434 0.8535730903389449 0.008992805755395683\n",
      "Flag 565.40  4 -2000.0000000000002 -500.0 (188,) 1.0559875785413926 1.311113572058013 1.7258680010782927 1.0564213962896882 0.5953749238789213 0.11270983213429256\n",
      "Flag 565.40  4 -500.0 0.0 (69,) 1.1130652433462846 1.354576124981381 1.6471647146441715 1.0804048890983073 0.5489605067192016 0.04136690647482014\n",
      "Flag 565.40  4 0.0 500.0 (1,) 0.9810686607509406 0.9810686607509406 0.9810686607509406 0.9810686607509406 0.0 0.0005995203836930455\n"
     ]
    },
    {
     "name": "stdout",
     "output_type": "stream",
     "text": [
      "Flag 565.40  4 500.0 2000.0000000000002 (7,) 0.9030433761258468 1.4014391360299663 2.1280983977622157 1.2218384710575638 0.7242291755727864 0.004196642685851319\n",
      "Flag 565.40  4 2000.0000000000002 3861.3954577665 (4,) 1.155338827330353 1.1626923523074586 1.172456962507741 0.8724110893254922 0.5037809798876871 0.002398081534772182\n",
      "Flag 565.40  4 3861.3954577665 7455.187440629877 (17,) 1.0867702943810846 1.7381989580691628 2.1209095138100347 0.9649627689086566 0.8407690593830872 0.010191846522781775\n",
      "Flag 565.40  4 7455.187440629877 14393.71346002303 (36,) 0.9548909955055667 1.3704716825275116 1.8688057644282012 0.9341636147938672 0.9061406553392951 0.02158273381294964\n",
      "Flag 565.40  4 14393.71346002303 27789.909887462723 (68,) 1.076494606509812 1.487512964114735 2.0931656032414483 1.071985594565327 0.9676543297252229 0.0407673860911271\n",
      "Flag 565.40  4 27789.909887462723 53653.91590559456 (132,) 0.8386929207201279 1.2738385325475612 1.9112717347945247 0.8738105422849308 0.9066285060412231 0.07913669064748201\n",
      "Flag 565.40  4 53653.91590559456 103589.49358462427 (320,) 0.8637011538076447 1.2830342586144547 1.7915483392470426 0.8911663485018447 0.8932836068318548 0.19184652278177458\n",
      "Flag 565.40  4 103589.49358462427 200000.00000000003 (573,) 0.849817689111147 1.263437227981833 1.8169834258002844 0.8766927100900842 0.9185462151382959 0.3435251798561151\n",
      "Flag 565.40  4 200000.00000000003 386139.54577664996 (1031,) 0.78126401208464 1.2409011184413912 1.749351167684246 0.8222635977182433 0.8584129887442612 0.61810551558753\n",
      "Flag 565.40  4 386139.54577664996 745518.7440629877 (1738,) 0.865747206190785 1.3072728275604721 1.9043495961284456 0.8992904394222588 0.9480371378351565 1.0419664268585132\n",
      "Flag 565.40  4 745518.7440629877 1439371.346002303 (3269,) 0.8190141690529396 1.2683918116012174 1.8133995096035431 0.8527708909284086 0.9063793743716425 1.959832134292566\n",
      "Flag 565.40  4 1439371.346002303 2778990.9887462724 (5089,) 0.7962067206186378 1.2917351146425418 1.8955374634518845 0.8512917712109077 0.9617766947225529 3.050959232613909\n",
      "Flag 565.40  4 2778990.9887462724 5365391.590559456 (8997,) 0.8340550017472557 1.2771828348839407 1.8490243873450392 0.8534668246308271 0.9276469142901924 5.393884892086331\n",
      "Flag 565.40  4 5365391.590559456 10358949.358462406 (15246,) 0.8217446855438502 1.2606424349143341 1.8221360898924188 0.8504576036738839 0.9165758403008963 9.140287769784173\n",
      "Flag 565.40  4 10358949.358462406 20000000.000000004 (23585,) 0.8597255266952706 1.2670765325567634 1.8015478147205042 0.8669923930860667 0.9049079908751648 14.13968824940048\n",
      "Flag 565.10  8339 10007 (2000, 5470) (2000, 5470)\n",
      "Flag 565.40  5 -20000000.000000004 -10358949.358462406 (32911,) 0.9315231775202716 1.300159439347952 1.8384824216974733 0.943802598507946 0.9034766605661374 19.730815347721823\n",
      "Flag 565.40  5 -10358949.358462406 -5365391.590559456 (20603,) 0.9285440380817377 1.2975007223694355 1.8243020557775715 0.9337849829910272 0.8813450785768934 12.351918465227818\n",
      "Flag 565.40  5 -5365391.590559456 -2778990.9887462724 (11738,) 0.9186153538067883 1.300619694349381 1.8188001799922806 0.9351432904088904 0.9095774539643646 7.037170263788969\n",
      "Flag 565.40  5 -2778990.9887462724 -1439371.346002303 (6900,) 0.894629960143206 1.290383859986379 1.8030056305100803 0.9014706236127541 0.8619431481495299 4.136690647482014\n",
      "Flag 565.40  5 -1439371.346002303 -745518.7440629877 (4267,) 0.8723837092057397 1.2949628708466545 1.820219559798339 0.8922467594080487 0.8774069760630627 2.5581534772182253\n",
      "Flag 565.40  5 -745518.7440629877 -386139.54577664996 (2393,) 0.9095051846059858 1.297427383350894 1.8130925329272503 0.9255750361331172 0.9154827882407996 1.434652278177458\n",
      "Flag 565.40  5 -386139.54577664996 -200000.00000000003 (1409,) 0.9102488013838739 1.2946213569754204 1.8943781092438359 0.9693008425642282 0.9927739803435086 0.8447242206235012\n",
      "Flag 565.40  5 -200000.00000000003 -103589.49358462427 (811,) 0.8816841539138258 1.2500482938315267 1.7129900682870138 0.8895294960995734 0.8031129252347982 0.4862110311750599\n",
      "Flag 565.40  5 -103589.49358462427 -53653.91590559456 (455,) 0.9821051858107152 1.3780158889542284 1.9326692253739766 1.0217343281164244 1.003935501351537 0.27278177458033576\n",
      "Flag 565.40  5 -53653.91590559456 -27789.909887462723 (259,) 1.0047774861823104 1.4098702550612672 1.9067410241947216 1.0269745242707808 0.8766826857597471 0.1552757793764988\n",
      "Flag 565.40  5 -27789.909887462723 -14393.71346002303 (122,) 0.9441081617593677 1.1408265325088112 1.5652028356226808 0.8473929694496364 0.6589055304559093 0.07314148681055156\n",
      "Flag 565.40  5 -14393.71346002303 -7455.187440629877 (55,) 0.9814989910525922 1.1845256262951633 1.447574621346997 0.933091313535814 0.6685050492616676 0.03297362110311751\n",
      "Flag 565.40  5 -7455.187440629877 -3861.3954577665 (25,) 0.8887875079955231 1.2311287671449558 2.1455205717086643 0.9470910333801175 0.7446167268502054 0.01498800959232614\n",
      "Flag 565.40  5 -3861.3954577665 -2000.0000000000002 (15,) 1.3217547547292932 1.5015432372853912 1.5817499010546023 1.3601985858725945 1.4365042783707427 0.008992805755395683\n",
      "Flag 565.40  5 -2000.0000000000002 -500.0 (335,) 1.0165315748660377 1.3080436569304408 1.6765946186896625 1.0612927581921268 0.5879734113936544 0.20083932853717026\n",
      "Flag 565.40  5 -500.0 0.0 (124,) 1.0605250483936546 1.2706854357969515 1.7016436398956527 1.1013570093554452 0.6933063448148254 0.07434052757793765\n",
      "Flag 565.40  5 0.0 500.0 (9,) 0.9768505661746837 1.0736302839576228 1.4213178487527591 0.875068505338596 0.47719118598384275 0.00539568345323741\n",
      "Flag 565.40  5 500.0 2000.0000000000002 (9,) 1.0725084671564389 2.2332111693055814 2.3526388349203806 1.4133055817517173 0.8140781552686349 0.00539568345323741\n",
      "Flag 565.40  5 2000.0000000000002 3861.3954577665 (17,) 1.0441799861559844 1.3279627162272176 1.846367667468745 0.9201449391560955 0.7764184325964059 0.010191846522781775\n",
      "Flag 565.40  5 3861.3954577665 7455.187440629877 (18,) 1.2305594155869803 1.4483739748407234 1.685129880871989 1.2194775563855265 0.44338897112640013 0.01079136690647482\n",
      "Flag 565.40  5 7455.187440629877 14393.71346002303 (57,) 1.06730280956306 1.602252012075815 2.270227534490107 1.1306842938324904 0.9182303418384072 0.0341726618705036\n",
      "Flag 565.40  5 14393.71346002303 27789.909887462723 (106,) 0.9463072148613096 1.2736518089262576 1.6111417020940026 0.9309292822547771 0.681731754126112 0.06354916067146282\n",
      "Flag 565.40  5 27789.909887462723 53653.91590559456 (208,) 0.8657991218617302 1.278594504990731 1.9585636276877842 0.8911030533992135 0.8488754404794643 0.12470023980815348\n",
      "Flag 565.40  5 53653.91590559456 103589.49358462427 (441,) 0.9825794196972326 1.3434915144995074 1.906967794932504 0.9828330408943916 0.9096309654111425 0.2643884892086331\n",
      "Flag 565.40  5 103589.49358462427 200000.00000000003 (763,) 0.935334489859689 1.3111297588714628 1.8238922226244563 0.9187415257885272 0.8432932806653126 0.45743405275779375\n",
      "Flag 565.40  5 200000.00000000003 386139.54577664996 (1417,) 0.92666603572171 1.3187961117071316 1.924792730612979 0.9418415201757359 0.9356345036352481 0.8495203836930456\n",
      "Flag 565.40  5 386139.54577664996 745518.7440629877 (2460,) 0.9334682763059784 1.318961310348985 1.8591384674274496 0.9357467138238192 0.8607867027022076 1.474820143884892\n",
      "Flag 565.40  5 745518.7440629877 1439371.346002303 (4220,) 0.8769002051337291 1.2765273300286006 1.7698157945578277 0.884850810045142 0.9199885659097545 2.529976019184652\n",
      "Flag 565.40  5 1439371.346002303 2778990.9887462724 (7165,) 0.9128532117325453 1.2876896299337801 1.7751030747013918 0.908516275437623 0.8546247284859686 4.295563549160671\n",
      "Flag 565.40  5 2778990.9887462724 5365391.590559456 (11930,) 0.8877951996970574 1.266421573784976 1.7896170439640025 0.8943183979308753 0.886896332204111 7.152278177458034\n",
      "Flag 565.40  5 5365391.590559456 10358949.358462406 (20341,) 0.8942846409624822 1.2848391310978893 1.814666475602617 0.9086737243546662 0.8917015495869947 12.19484412470024\n",
      "Flag 565.40  5 10358949.358462406 20000000.000000004 (33148,) 0.9127647002625043 1.2885686651684587 1.8020471109224427 0.9176143163075391 0.8684929635138694 19.872901678657076\n",
      "Flag 565.10  10007 11675 (1500, 5470) (1500, 5470)\n",
      "Flag 565.40  6 -20000000.000000004 -10358949.358462406 (24230,) 0.9757028379151231 1.2800249755935482 1.7163560537014022 0.9763697173883058 0.7926672867529759 14.526378896882495\n"
     ]
    },
    {
     "name": "stdout",
     "output_type": "stream",
     "text": [
      "Flag 565.40  6 -10358949.358462406 -5365391.590559456 (15920,) 0.9777397786674682 1.2772753913257984 1.7178965931214316 0.9764422206642526 0.8053362258143444 9.544364508393285\n",
      "Flag 565.40  6 -5365391.590559456 -2778990.9887462724 (9369,) 0.9677934066070127 1.2646555721001473 1.6917654941389482 0.9643268946880723 0.7890863765738605 5.616906474820144\n",
      "Flag 565.40  6 -2778990.9887462724 -1439371.346002303 (5410,) 0.9578215647288493 1.2774128834331966 1.7010695244821261 0.9536490179276743 0.7653254654030403 3.2434052757793763\n",
      "Flag 565.40  6 -1439371.346002303 -745518.7440629877 (3175,) 0.9669311575542934 1.2811166016927227 1.69534308521978 0.9603494527643116 0.7787521258608036 1.9034772182254196\n",
      "Flag 565.40  6 -745518.7440629877 -386139.54577664996 (1806,) 0.9663881321576033 1.3073537848892998 1.7651927046391926 0.9673235366826941 0.8138851861594012 1.0827338129496402\n",
      "Flag 565.40  6 -386139.54577664996 -200000.00000000003 (1078,) 0.9883015393184847 1.288252455412089 1.7703390901585505 1.0093581965966079 0.8350725182258131 0.6462829736211031\n",
      "Flag 565.40  6 -200000.00000000003 -103589.49358462427 (616,) 1.0013000587070773 1.3003677018159805 1.7177600843335412 0.983948997917454 0.711257620877307 0.36930455635491605\n",
      "Flag 565.40  6 -103589.49358462427 -53653.91590559456 (402,) 1.038111687600629 1.3202060567604326 1.6694059732887732 1.0499125883928164 0.8164834354695583 0.24100719424460432\n",
      "Flag 565.40  6 -53653.91590559456 -27789.909887462723 (248,) 0.9805831081701305 1.293102014627966 1.7110018349956486 1.0513387598468014 1.0018460683002073 0.1486810551558753\n",
      "Flag 565.40  6 -27789.909887462723 -14393.71346002303 (121,) 1.0402002144827232 1.3472825067686596 1.6458080717490458 1.049128860329578 0.6069997974295764 0.0725419664268585\n",
      "Flag 565.40  6 -14393.71346002303 -7455.187440629877 (56,) 1.154582529897948 1.446310820715837 1.7014554900981897 1.1266367497355823 0.6878424162500981 0.03357314148681055\n",
      "Flag 565.40  6 -7455.187440629877 -3861.3954577665 (27,) 0.9692920468121319 1.6472470633552942 2.0595330199343542 1.0885641063894533 0.7035163771418418 0.01618705035971223\n",
      "Flag 565.40  6 -3861.3954577665 -2000.0000000000002 (12,) 0.9844397792799252 1.3407580486347548 1.517621128978513 0.9482432352736319 0.4989439666254092 0.007194244604316547\n",
      "Flag 565.40  6 -2000.0000000000002 -500.0 (271,) 1.0607761776927795 1.2621927083515325 1.4878726564738636 1.0559590277092166 0.4513890807680212 0.16247002398081534\n",
      "Flag 565.40  6 -500.0 0.0 (94,) 1.0927873237630001 1.3308801719904397 1.6737491851909774 1.166231702138215 0.5094792380002112 0.05635491606714628\n",
      "Flag 565.40  6 0.0 500.0 (6,) 1.0231717819087036 1.165921280142842 1.3974928855025657 1.0111289400850128 0.34963379797278604 0.0035971223021582736\n",
      "Flag 565.40  6 500.0 2000.0000000000002 (15,) 1.0159062136779908 1.2431189970581014 1.4038893428876433 1.1219376745011929 0.4679149712320069 0.008992805755395683\n",
      "Flag 565.40  6 2000.0000000000002 3861.3954577665 (12,) 1.5567179091641823 1.7190599631201495 1.80420287747522 1.450765051616327 0.3393973994163756 0.007194244604316547\n",
      "Flag 565.40  6 3861.3954577665 7455.187440629877 (24,) 1.2556370250956408 1.5677530213163906 2.1131135329397113 1.2504318074535303 0.6710750534256287 0.014388489208633094\n",
      "Flag 565.40  6 7455.187440629877 14393.71346002303 (47,) 1.0929058663246556 1.481339769148678 1.825754574265416 1.1266870766203514 0.5764472325209017 0.02817745803357314\n",
      "Flag 565.40  6 14393.71346002303 27789.909887462723 (80,) 1.1327356157119008 1.3465659274774762 1.7631296549076698 1.0817016095031406 0.621898514851478 0.047961630695443645\n",
      "Flag 565.40  6 27789.909887462723 53653.91590559456 (178,) 0.9753008487593045 1.2790072754970425 1.629800773169988 0.9840144544022149 0.8478411654221998 0.10671462829736211\n",
      "Flag 565.40  6 53653.91590559456 103589.49358462427 (350,) 0.9999355820621276 1.3195998273821257 1.7329120228388477 1.0144185763976907 0.6474691294871606 0.20983213429256595\n",
      "Flag 565.40  6 103589.49358462427 200000.00000000003 (682,) 0.9846097963190337 1.2590534097333816 1.6572997007885353 0.9764098381786681 0.6718099615069021 0.4088729016786571\n",
      "Flag 565.40  6 200000.00000000003 386139.54577664996 (1067,) 0.9577046361362589 1.3066578810739273 1.7200750290400917 0.9904197331230281 0.8452131878044011 0.6396882494004796\n",
      "Flag 565.40  6 386139.54577664996 745518.7440629877 (2000,) 0.9728060618935067 1.2856868085008022 1.6608088218615877 0.9739681814808069 0.8099599701945832 1.1990407673860912\n",
      "Flag 565.40  6 745518.7440629877 1439371.346002303 (3207,) 0.9670654706449765 1.3032002261961417 1.7295460170046442 0.9759560784420861 0.8406689314508492 1.9226618705035972\n",
      "Flag 565.40  6 1439371.346002303 2778990.9887462724 (5508,) 0.9694295590495305 1.2724984579769338 1.7283554321703423 0.9750223768317842 0.7974847418480647 3.302158273381295\n",
      "Flag 565.40  6 2778990.9887462724 5365391.590559456 (9407,) 0.9662226847632311 1.2716679752320648 1.7260000222499075 0.9677339693996201 0.8027110712175158 5.639688249400479\n",
      "Flag 565.40  6 5365391.590559456 10358949.358462406 (15998,) 0.9702864893153247 1.275100938044682 1.7014837011516295 0.9732154541387024 0.8060748862826653 9.591127098321342\n",
      "Flag 565.40  6 10358949.358462406 20000000.000000004 (25470,) 0.9732088663930177 1.2879482597230358 1.7280548214664682 0.971775313179446 0.7967655649375647 15.26978417266187\n",
      "Flag 565.10  11675 13343 (500, 5470) (500, 5470)\n",
      "Flag 565.40  7 -20000000.000000004 -10358949.358462406 (8060,) 0.9941351175627596 1.2625046595810634 1.6491327781714789 0.9736703971092064 0.7329051126208344 4.832134292565947\n",
      "Flag 565.40  7 -10358949.358462406 -5365391.590559456 (5139,) 0.9823091906717424 1.2827218109745668 1.7060378020879192 0.9620739214735784 0.8137691637442205 3.0809352517985613\n",
      "Flag 565.40  7 -5365391.590559456 -2778990.9887462724 (2841,) 0.9454425250071914 1.270018052179715 1.69192953356182 0.9399075921338478 0.8578891747645594 1.7032374100719425\n",
      "Flag 565.40  7 -2778990.9887462724 -1439371.346002303 (1707,) 0.9750212037602519 1.3001813145953687 1.7631501222728472 0.9801804260110704 0.8522611267342823 1.0233812949640289\n",
      "Flag 565.40  7 -1439371.346002303 -745518.7440629877 (1014,) 0.9485021858896616 1.2953993921959037 1.7253380351700578 0.9320930482275576 0.7842936745236858 0.6079136690647482\n",
      "Flag 565.40  7 -745518.7440629877 -386139.54577664996 (678,) 1.0257278590385794 1.2891800835073486 1.738808015868691 1.0202706402640802 0.7630489964267008 0.4064748201438849\n",
      "Flag 565.40  7 -386139.54577664996 -200000.00000000003 (371,) 0.9706858715614713 1.2947430834465181 1.6193706645421353 0.9133383901321686 0.6781403000587014 0.2224220623501199\n",
      "Flag 565.40  7 -200000.00000000003 -103589.49358462427 (200,) 1.0288310562629233 1.3231653534041696 1.5973202791001295 0.9879588437068378 0.782547418944983 0.11990407673860912\n",
      "Flag 565.40  7 -103589.49358462427 -53653.91590559456 (111,) 1.1369534962546592 1.388558217263038 2.138346239227145 1.182340021856822 0.9204818549570167 0.06654676258992806\n",
      "Flag 565.40  7 -53653.91590559456 -27789.909887462723 (55,) 1.0781857263145884 1.2651042660832716 1.7533498303898465 1.1268213831130642 0.670103361813127 0.03297362110311751\n",
      "Flag 565.40  7 -27789.909887462723 -14393.71346002303 (34,) 1.0300083098341382 1.3118330943027336 1.8717307854315917 0.9459869359190307 0.680521010187298 0.02038369304556355\n",
      "Flag 565.40  7 -14393.71346002303 -7455.187440629877 (11,) 1.1106475611553692 1.889474230345014 2.2770085409571474 1.212040088871387 0.7623846539693042 0.006594724220623501\n",
      "Flag 565.40  7 -7455.187440629877 -3861.3954577665 (6,) 1.3042962155390767 2.2915967437510387 2.697211324616614 1.504131104650563 0.9523759097982037 0.0035971223021582736\n",
      "Flag 565.40  7 -3861.3954577665 -2000.0000000000002 (8,) 1.0565852981470798 1.195715976557684 1.4183574660833833 1.0004861610645879 0.45006380947101027 0.004796163069544364\n",
      "Flag 565.40  7 -2000.0000000000002 -500.0 (104,) 1.0724810481741514 1.3361710210227802 1.5921947850413452 1.0857671759070127 0.4208628632328546 0.06235011990407674\n",
      "Flag 565.40  7 -500.0 0.0 (24,) 0.9890308108773325 1.234776946419617 1.493544334517576 1.0016608382564351 0.37028379632002817 0.014388489208633094\n",
      "Flag 565.40  7 500.0 2000.0000000000002 (6,) 1.0098731437280062 1.1923636300537461 1.5058278709048527 1.1139237844677117 0.3313385762654461 0.0035971223021582736\n",
      "Flag 565.40  7 2000.0000000000002 3861.3954577665 (5,) 1.242153016531324 1.8974975638962357 2.0291224066051035 1.4745223970690584 0.44601090237213376 0.002997601918465228\n"
     ]
    },
    {
     "name": "stderr",
     "output_type": "stream",
     "text": [
      "/scratch1/rsingh/python/venv/base36/lib/python3.6/site-packages/numpy/core/fromnumeric.py:3257: RuntimeWarning: Mean of empty slice.\n",
      "  out=out, **kwargs)\n",
      "/scratch1/rsingh/python/venv/base36/lib/python3.6/site-packages/numpy/core/_methods.py:161: RuntimeWarning: invalid value encountered in double_scalars\n",
      "  ret = ret.dtype.type(ret / rcount)\n"
     ]
    },
    {
     "name": "stdout",
     "output_type": "stream",
     "text": [
      "Flag 565.40  7 3861.3954577665 7455.187440629877 (8,) 1.2444498939759776 1.532257334389069 2.6677489401674417 1.5642105314791999 1.3680485762998438 0.004796163069544364\n",
      "Flag 565.40  7 7455.187440629877 14393.71346002303 (17,) 1.1195333721744634 1.8695183935451989 2.3167244731912433 1.354937374392699 0.761549861575109 0.010191846522781775\n",
      "Flag 565.40  7 14393.71346002303 27789.909887462723 (36,) 0.9555216909522564 1.2565507381822771 1.3486667235115852 0.9228587890530177 0.45365951791372877 0.02158273381294964\n",
      "Flag 565.40  7 27789.909887462723 53653.91590559456 (54,) 1.0801439537452535 1.2952979474997584 1.780075960121486 0.9922832618900332 0.586104749878397 0.03237410071942446\n",
      "Flag 565.40  7 53653.91590559456 103589.49358462427 (154,) 0.9976988278880543 1.2910600274112762 1.6465409178148014 0.9929022147215281 0.8046415893962889 0.09232613908872901\n",
      "Flag 565.40  7 103589.49358462427 200000.00000000003 (194,) 0.8983559604318043 1.177211623070127 1.6923738986044952 0.8847588142079563 0.7508805911910358 0.11630695443645084\n",
      "Flag 565.40  7 200000.00000000003 386139.54577664996 (388,) 0.937876996061022 1.2531670375005448 1.6308626941887074 0.8952588280461421 0.7268646485439996 0.23261390887290168\n",
      "Flag 565.40  7 386139.54577664996 745518.7440629877 (636,) 0.907666280586668 1.2138077377827292 1.604165585508433 0.8772302902252883 0.7006153153162514 0.381294964028777\n",
      "Flag 565.40  7 745518.7440629877 1439371.346002303 (1034,) 0.9454532173591643 1.2205538675812913 1.6149567563333962 0.898201735014815 0.7521692101661233 0.6199040767386091\n",
      "Flag 565.40  7 1439371.346002303 2778990.9887462724 (1604,) 0.9468337801427291 1.2164493912784946 1.6159437884032148 0.9131419156369796 0.7439266360358916 0.9616306954436451\n",
      "Flag 565.40  7 2778990.9887462724 5365391.590559456 (2821,) 0.9677180307565602 1.2629787372716041 1.6705631074382297 0.9526864183997004 0.7944419899083347 1.6912470023980815\n",
      "Flag 565.40  7 5365391.590559456 10358949.358462406 (4914,) 0.9555821931524149 1.253189083676748 1.650262463819206 0.9388018293507061 0.7969928479069427 2.946043165467626\n",
      "Flag 565.40  7 10358949.358462406 20000000.000000004 (8224,) 0.9706777809706679 1.2578645015689385 1.683297927804532 0.9550857353656884 0.8076484940578926 4.930455635491607\n",
      "Flag 565.10  13343 15011 (0, 5470) (0, 5470)\n"
     ]
    }
   ],
   "source": [
    "import numpy.ma as ma\n",
    "validPks = nonzeroPkCnts > 50.1  #or 10.1\n",
    "v1= np.array([500] + list(np.geomspace(2e3,20e6,15)))\n",
    "pkbreaks = np.hstack([list(reversed(-v1)),[0],v1])\n",
    "genebreaks = np.linspace(0,nGenes,10)\n",
    "gvar_ranking = adata1.var[\"gene_variability_ranking\"]\n",
    "gexp_mu = np.ravel(np.mean(adata1.X, axis=0))\n",
    "L_median, L_q75, L_q90, L_mean, L_sd, L_n= [],[],[],[],[],[]\n",
    "\n",
    "for i in range(len(genebreaks)-1):\n",
    "    g0, g1 = int(genebreaks[i]), int(genebreaks[i+1])\n",
    "    gidx = (gvar_ranking >= g0) & (gvar_ranking < g1) & (gexp_mu > 1e-5)\n",
    "    #gidx = (gvar_ranking < g1)\n",
    "\n",
    "    g2p_dist = gene2pkdist[gidx,:][:,validPks]\n",
    "    g2p_fc = gene2pkfoldchange[gidx,:][:, validPks]\n",
    "    print (\"Flag 565.10 \", g0, g1, g2p_dist.shape, g2p_fc.shape)\n",
    "    lx = []\n",
    "    for j in range(len(pkbreaks)-1):\n",
    "        pkdist0, pkdist1 = pkbreaks[j], pkbreaks[j+1]\n",
    "        w = (ma.masked_where((g2p_dist < pkdist0) | (g2p_dist >= pkdist1), g2p_fc)).compressed()\n",
    "        try:\n",
    "            med, q75, q90, mu, sd = np.median(w), np.quantile(w,0.75), np.quantile(w,0.90), np.mean(w), np.std(w)\n",
    "            n = len(w)/(g1-g0)\n",
    "        except:\n",
    "            continue\n",
    "        print (\"Flag 565.40 \", i, pkdist0, pkdist1, w.shape, med, q75, q90, mu, sd, n)\n",
    "        lx.append((med,q75,q90,mu,sd,n))\n",
    "        \n",
    "#         M = ma.masked_where((g2p_dist < pkdist0) | (g2p_dist >= pkdist1), g2p_fc)\n",
    "#         M_cnt = ma.masked_where((g2p_dist < pkdist0) | (g2p_dist >= pkdist1), g2p_fc>0)\n",
    "#         med = np.apply_along_axis(lambda v: np.quantile(v.compressed(), 0.5), 1, M)\n",
    "#         q75 = np.apply_along_axis(lambda v: np.quantile(v.compressed(),0.75), 1, M)\n",
    "#         q90 = np.apply_along_axis(lambda v: np.quantile(v.compressed(),0.90), 1, M)\n",
    "#         mu  = np.apply_along_axis(lambda v: np.mean(v.compressed()), 1, M)\n",
    "#         sd  = np.apply_along_axis(lambda v: np.std(v.compressed()), 1, M)\n",
    "#         n   = np.apply_along_axis(lambda v: len(v.compressed()), 1, M)\n",
    "#         print (\"Flag 565.40 \", pkdist0, pkdist1, w.shape, q75, q90, mu, sd, n)\n",
    "#         lx.append((med,q75,q90,mu,sd,n))\n",
    "\n",
    "    if len(lx)>0:\n",
    "        L_median.append([a[0] for a in lx])\n",
    "        L_q75.append([a[1] for a in lx])\n",
    "        L_q90.append([a[2] for a in lx])\n",
    "        L_mean.append([a[3] for a in lx])\n",
    "        L_sd.append([a[4] for a in lx])\n",
    "        L_n.append([a[5] for a in lx])"
   ]
  },
  {
   "cell_type": "code",
   "execution_count": 303,
   "metadata": {
    "hidden": true
   },
   "outputs": [],
   "source": [
    "# d_median_t50_gexpPos = np.vstack(L_median)\n",
    "# d_mu_t50_gexpPos     = np.vstack(L_mean)\n",
    "# d_q75_t50_gexpPos    = np.vstack(L_q75)\n",
    "# d_q90_t50_gexpPos    = np.vstack(L_q90)\n",
    "\n",
    "fv = lambda v: np.vstack([a[:31] for a in v])\n",
    "d_median_t50_gexpPos = fv(L_median)\n",
    "d_mu_t50_gexpPos     = fv(L_mean)\n",
    "d_q75_t50_gexpPos    = fv(L_q75)\n",
    "d_q90_t50_gexpPos    = fv(L_q90)"
   ]
  },
  {
   "cell_type": "code",
   "execution_count": 306,
   "metadata": {
    "hidden": true
   },
   "outputs": [
    {
     "data": {
      "image/png": "[encoded data removed]",
      "text/plain": [
       "<Figure size 1080x360 with 6 Axes>"
      ]
     },
     "metadata": {
      "needs_background": "light"
     },
     "output_type": "display_data"
    }
   ],
   "source": [
    "import seaborn as sns\n",
    "plt.rcParams[\"figure.figsize\"]= (15,5)\n",
    "for i, dx in enumerate([d_median_t50_gexpPos, d_mu_t50_gexpPos, d_q75_t50_gexpPos]):\n",
    "    plt.subplot(1,3,i+1)\n",
    "    sns.heatmap(np.insert(dx, 16, 0.99*np.min(dx), axis=1), cmap=\"afmhot_r\")\n"
   ]
  },
  {
   "cell_type": "code",
   "execution_count": 308,
   "metadata": {
    "hidden": true
   },
   "outputs": [
    {
     "data": {
      "image/png": "[encoded data removed]",
      "text/plain": [
       "<Figure size 1080x360 with 6 Axes>"
      ]
     },
     "metadata": {
      "needs_background": "light"
     },
     "output_type": "display_data"
    }
   ],
   "source": [
    "import seaborn as sns\n",
    "plt.rcParams[\"figure.figsize\"]= (15,5)\n",
    "for i, dx in enumerate([d_median_t10_gexpPos, d_mu_t10_gexpPos, d_q75_t10_gexpPos]):\n",
    "    plt.subplot(1,3,i+1)\n",
    "    sns.heatmap(np.insert(dx, 16, 0.99*np.min(dx), axis=1), cmap=\"hot_r\")\n"
   ]
  },
  {
   "cell_type": "markdown",
   "metadata": {
    "heading_collapsed": true,
    "hidden": true
   },
   "source": [
    "##### DEPRECATED. Compute peak enrichment by computing stats per row (i.e. gene) and then aggregating. "
   ]
  },
  {
   "cell_type": "code",
   "execution_count": 291,
   "metadata": {
    "hidden": true
   },
   "outputs": [
    {
     "name": "stdout",
     "output_type": "stream",
     "text": [
      "Flag 565.10  0 1667 (1500, 26665) (1500, 26665)\n"
     ]
    },
    {
     "name": "stderr",
     "output_type": "stream",
     "text": [
      "/scratch1/rsingh/python/venv/base36/lib/python3.6/site-packages/numpy/lib/nanfunctions.py:994: RuntimeWarning: All-NaN slice encountered\n",
      "  result = np.apply_along_axis(_nanmedian1d, axis, a, overwrite_input)\n"
     ]
    },
    {
     "name": "stdout",
     "output_type": "stream",
     "text": [
      "Flag 565.40  -20000000.000000004 -10358949.358462406 (1500, 26665) (1500,) 0.893112610618437 1.8222781235675014 0.7312481567070205 0.9925015426553286 77.626\n",
      "Flag 565.40  -10358949.358462406 -5365391.590559456 (1500, 26665) (1500,) 0.8920716296946438 1.7674282437586235 0.7378496264343166 0.9726819682024997 52.79666666666667\n",
      "Flag 565.40  -5365391.590559456 -2778990.9887462724 (1500, 26665) (1500,) 0.898972201910406 1.6926166957911823 0.7473449727576751 0.9507549986270218 30.661333333333335\n",
      "Flag 565.40  -2778990.9887462724 -1439371.346002303 (1500, 26665) (1500,) 0.903289253183033 1.6258671213036098 0.7391181177531975 0.9268265126676448 17.973333333333333\n",
      "Flag 565.40  -1439371.346002303 -745518.7440629877 (1500, 26665) (1500,) 0.8894121131263356 1.5433606808803475 0.7259171080985148 0.8769754827366614 11.328\n",
      "Flag 565.40  -745518.7440629877 -386139.54577664996 (1500, 26665) (1500,) 0.9868461481296088 1.5342177236628287 0.7786308364848399 0.8790393389379991 6.768\n",
      "Flag 565.40  -386139.54577664996 -200000.00000000003 (1500, 26665) (1500,) 0.9290558292503929 1.2832177688281718 0.7558186929985384 0.740446899246732 3.832\n",
      "Flag 565.40  -200000.00000000003 -103589.49358462427 (1500, 26665) (1500,) 0.8991560471645014 1.1134355143774421 0.7300172938593279 0.6625641216904609 2.183333333333333\n",
      "Flag 565.40  -103589.49358462427 -53653.91590559456 (1500, 26665) (1500,) 0.8998893544298221 1.0682461936478476 0.7728933433663786 0.709700682359655 1.2253333333333334\n",
      "Flag 565.40  -53653.91590559456 -27789.909887462723 (1500, 26665) (1500,) 0.9807062565510032 1.1013667127885096 0.8788075024862397 0.783356316226642 0.73\n",
      "Flag 565.40  -27789.909887462723 -14393.71346002303 (1500, 26665) (1500,) 0.8490495365921656 0.9171838410392604 0.7837721830599033 0.6230956019109 0.3973333333333333\n",
      "Flag 565.40  -14393.71346002303 -7455.187440629877 (1500, 26665) (1500,) 0.950720457412755 0.972816172917583 0.9127856469088363 0.5709171822749411 0.188\n",
      "Flag 565.40  -7455.187440629877 -3861.3954577665 (1500, 26665) (1500,) 0.8289189150329344 0.8939880923935378 0.7747684501338321 2.0450234713726294 0.088\n",
      "Flag 565.40  -3861.3954577665 -2000.0000000000002 (1500, 26665) (1500,) 1.0820696751282677 1.0908865676088721 1.0673748543272605 0.5195403718356715 0.054\n",
      "Flag 565.40  -2000.0000000000002 -500.0 (1500, 26665) (1500,) 1.1278014666492198 1.1328781543444775 1.119340320490457 0.6258148781443322 0.362\n",
      "Flag 565.40  -500.0 0.0 (1500, 26665) (1500,) 0.9303381373638753 0.9303381373638753 0.9303381373638753 nan 0.19466666666666665\n",
      "Flag 565.40  0.0 500.0 (1500, 26665) (1500,) 1.5030697037595042 1.5030697037595042 1.5030697037595042 nan 0.028666666666666667\n",
      "Flag 565.40  500.0 2000.0000000000002 (1500, 26665) (1500,) 0.8947030627380308 0.8976329382863845 0.8898199368241079 0.2946467368211313 0.04466666666666667\n",
      "Flag 565.40  2000.0000000000002 3861.3954577665 (1500, 26665) (1500,) 0.7134893957261539 0.7363819449354626 0.6753351470439722 0.7357943992976832 0.058\n",
      "Flag 565.40  3861.3954577665 7455.187440629877 (1500, 26665) (1500,) 0.8361105867255422 0.8646493351670752 0.7893213564049338 0.6320196975800617 0.10066666666666667\n",
      "Flag 565.40  7455.187440629877 14393.71346002303 (1500, 26665) (1500,) 1.0631899120108432 1.0973231575958777 1.0178815610849912 0.8006074470662232 0.226\n",
      "Flag 565.40  14393.71346002303 27789.909887462723 (1500, 26665) (1500,) 0.9256609359060738 0.9795037731547801 0.8590043163693813 0.508464522313321 0.39266666666666666\n",
      "Flag 565.40  27789.909887462723 53653.91590559456 (1500, 26665) (1500,) 0.9880790880513199 1.0961494676631134 0.8826084885153954 0.7736826109894535 0.6853333333333333\n",
      "Flag 565.40  53653.91590559456 103589.49358462427 (1500, 26665) (1500,) 0.8722509205632878 1.0293700195686069 0.7537227408705937 0.6830908110469829 1.246\n",
      "Flag 565.40  103589.49358462427 200000.00000000003 (1500, 26665) (1500,) 0.9460538297885804 1.2493915287133506 0.791367320040151 0.7935612876582191 2.272666666666667\n",
      "Flag 565.40  200000.00000000003 386139.54577664996 (1500, 26665) (1500,) 0.9831074671793802 1.4016140127003958 0.8085157382807306 0.8283252083451992 4.164666666666666\n",
      "Flag 565.40  386139.54577664996 745518.7440629877 (1500, 26665) (1500,) 0.9234022990135364 1.4530347673976158 0.7457293779148921 0.8532207311200255 7.021333333333334\n",
      "Flag 565.40  745518.7440629877 1439371.346002303 (1500, 26665) (1500,) 0.9580908964829964 1.6411331983378312 0.774855948767735 0.8974076953345264 11.664\n",
      "Flag 565.40  1439371.346002303 2778990.9887462724 (1500, 26665) (1500,) 0.9361381342837446 1.6789477980493088 0.7529708944871155 0.9173188097073139 18.493333333333332\n",
      "Flag 565.40  2778990.9887462724 5365391.590559456 (1500, 26665) (1500,) 0.9132769864651228 1.7123476776745694 0.7433166951252176 0.9357806300083736 31.949333333333332\n",
      "Flag 565.40  5365391.590559456 10358949.358462406 (1500, 26665) (1500,) 0.9112014743929782 1.7512856618536323 0.7314216082761187 0.9467500621722565 55.63\n",
      "Flag 565.40  10358949.358462406 20000000.000000004 (1500, 26665) (1500,) 0.8748604226909539 1.7589237311263974 0.7224067090288582 0.9716940179120029 82.264\n",
      "Flag 565.10  1667 3335 (1500, 26665) (1500, 26665)\n",
      "Flag 565.40  -20000000.000000004 -10358949.358462406 (1500, 26665) (1500,) 1.047427821849513 1.9081782791201656 0.8252396008410336 0.9561218806308748 83.31666666666666\n",
      "Flag 565.40  -10358949.358462406 -5365391.590559456 (1500, 26665) (1500,) 1.0514195334612941 1.8287279391834523 0.8210373274365814 0.925440329028118 51.861333333333334\n",
      "Flag 565.40  -5365391.590559456 -2778990.9887462724 (1500, 26665) (1500,) 1.0555864479552366 1.8132185577730289 0.8410619503529383 0.9276525182425089 31.244666666666667\n",
      "Flag 565.40  -2778990.9887462724 -1439371.346002303 (1500, 26665) (1500,) 1.0850312647974132 1.7137201492006544 0.8448468118177267 0.8953056545127144 18.803333333333335\n",
      "Flag 565.40  -1439371.346002303 -745518.7440629877 (1500, 26665) (1500,) 1.057141632573478 1.6015960458531173 0.8207976467711775 0.8465141736420325 11.268666666666666\n",
      "Flag 565.40  -745518.7440629877 -386139.54577664996 (1500, 26665) (1500,) 1.0366113384428077 1.504053167547471 0.8278366444231218 0.8091598343217393 6.495333333333333\n",
      "Flag 565.40  -386139.54577664996 -200000.00000000003 (1500, 26665) (1500,) 1.0268038549296181 1.3949884316009957 0.8351788068295312 0.7850142400310393 3.788666666666667\n",
      "Flag 565.40  -200000.00000000003 -103589.49358462427 (1500, 26665) (1500,) 1.0305502096443042 1.27695591525945 0.8855648817776247 0.7215016332298919 2.0953333333333335\n",
      "Flag 565.40  -103589.49358462427 -53653.91590559456 (1500, 26665) (1500,) 0.9856389209828642 1.1330175360022874 0.8682400106788535 0.6458973063692235 1.2353333333333334\n",
      "Flag 565.40  -53653.91590559456 -27789.909887462723 (1500, 26665) (1500,) 0.9754878534080168 1.0663614884577792 0.8763665718503506 0.6485124540993287 0.6813333333333333\n",
      "Flag 565.40  -27789.909887462723 -14393.71346002303 (1500, 26665) (1500,) 1.1117167607219625 1.1881014586232923 1.0445410925464764 0.6941700062146884 0.3626666666666667\n",
      "Flag 565.40  -14393.71346002303 -7455.187440629877 (1500, 26665) (1500,) 1.021287926706008 1.053603619967989 0.9723004051862794 0.8037350416387142 0.19866666666666666\n",
      "Flag 565.40  -7455.187440629877 -3861.3954577665 (1500, 26665) (1500,) 1.1180151456372989 1.135031046903769 1.088422752910697 0.7140756681023283 0.098\n",
      "Flag 565.40  -3861.3954577665 -2000.0000000000002 (1500, 26665) (1500,) 0.797090140622186 0.8277409731493157 0.7460054197436363 1.7820360590467275 0.05333333333333334\n",
      "Flag 565.40  -2000.0000000000002 -500.0 (1500, 26665) (1500,) 1.055443744382675 1.0611782133075438 1.0458862961745605 0.749187696643793 0.402\n",
      "Flag 565.40  -500.0 0.0 (1500, 26665) (1500,) 1.05475870862235 1.05475870862235 1.05475870862235 nan 0.22933333333333333\n",
      "Flag 565.40  0.0 500.0 (1500, 26665) (1500,) 1.1348904169805836 1.1348904169805836 1.1348904169805836 nan 0.030666666666666665\n",
      "Flag 565.40  500.0 2000.0000000000002 (1500, 26665) (1500,) 1.0526076204773995 1.0719614613378536 1.020351219043309 0.9905501339970139 0.05533333333333333\n",
      "Flag 565.40  2000.0000000000002 3861.3954577665 (1500, 26665) (1500,) 0.9464705762145481 0.9538433314799347 0.9341826507722372 0.695110032557825 0.042\n",
      "Flag 565.40  3861.3954577665 7455.187440629877 (1500, 26665) (1500,) 1.0473580754416698 1.0569674008629617 1.0294901093792095 0.373129282790888 0.10333333333333333\n"
     ]
    },
    {
     "name": "stdout",
     "output_type": "stream",
     "text": [
      "Flag 565.40  7455.187440629877 14393.71346002303 (1500, 26665) (1500,) 1.0193522085226727 1.0642004014123616 0.9482348767334221 0.8182088325462448 0.19866666666666666\n",
      "Flag 565.40  14393.71346002303 27789.909887462723 (1500, 26665) (1500,) 1.0613212069716509 1.1146229022097458 1.0169122917341715 0.5354871903055514 0.38266666666666665\n",
      "Flag 565.40  27789.909887462723 53653.91590559456 (1500, 26665) (1500,) 1.0237544049559997 1.1381939139156465 0.9085747214739699 0.7452712840549535 0.7393333333333333\n",
      "Flag 565.40  53653.91590559456 103589.49358462427 (1500, 26665) (1500,) 1.02876924265383 1.1871879250473596 0.8963848150675423 0.6876164049331493 1.3306666666666667\n",
      "Flag 565.40  103589.49358462427 200000.00000000003 (1500, 26665) (1500,) 0.9879051089670967 1.2165056713682274 0.8211648758536776 0.7023447414861502 2.251333333333333\n",
      "Flag 565.40  200000.00000000003 386139.54577664996 (1500, 26665) (1500,) 1.087670694199775 1.4757401383649098 0.8663320219009801 0.8151901497130272 4.014666666666667\n",
      "Flag 565.40  386139.54577664996 745518.7440629877 (1500, 26665) (1500,) 1.0655729480749567 1.5417559849489888 0.8534202322348764 0.83697723744277 6.5633333333333335\n",
      "Flag 565.40  745518.7440629877 1439371.346002303 (1500, 26665) (1500,) 1.0142503693537102 1.597853404641319 0.805927225312558 0.8247011769635085 11.422666666666666\n",
      "Flag 565.40  1439371.346002303 2778990.9887462724 (1500, 26665) (1500,) 1.0697861957170176 1.7608364716133897 0.8452287960604354 0.9132994402117944 18.562666666666665\n",
      "Flag 565.40  2778990.9887462724 5365391.590559456 (1500, 26665) (1500,) 1.0538582466267727 1.8149852008727065 0.8288203451921767 0.9302650128838308 32.638\n",
      "Flag 565.40  5365391.590559456 10358949.358462406 (1500, 26665) (1500,) 1.0649775203225162 1.8995196994427863 0.840021868329198 0.9521953655826677 54.18333333333333\n",
      "Flag 565.40  10358949.358462406 20000000.000000004 (1500, 26665) (1500,) 1.043856506300658 1.9311233780905273 0.8307499277694016 0.9851553519850239 83.296\n",
      "Flag 565.10  3335 5003 (2001, 26665) (2001, 26665)\n",
      "Flag 565.40  -20000000.000000004 -10358949.358462406 (2001, 26665) (2001,) 1.090623383468787 1.9331971479912646 0.8719909837610372 0.9665804593842264 81.44627686156922\n",
      "Flag 565.40  -10358949.358462406 -5365391.590559456 (2001, 26665) (2001,) 1.1014715181181105 1.9200901778123174 0.886238974864448 0.9689643735009634 51.16591704147926\n",
      "Flag 565.40  -5365391.590559456 -2778990.9887462724 (2001, 26665) (2001,) 1.095355017863997 1.8033674116727525 0.8735294758111309 0.9040995709907241 30.16391804097951\n",
      "Flag 565.40  -2778990.9887462724 -1439371.346002303 (2001, 26665) (2001,) 1.0646644463507744 1.6945935461055566 0.8553017939877192 0.8901387666980226 16.770114942528735\n",
      "Flag 565.40  -1439371.346002303 -745518.7440629877 (2001, 26665) (2001,) 1.0972544429352165 1.6958044676165507 0.8817098880980514 0.8808725575306814 10.368815592203898\n",
      "Flag 565.40  -745518.7440629877 -386139.54577664996 (2001, 26665) (2001,) 1.0839948158631862 1.5775079937622716 0.8776001359911911 0.8458688945010377 5.887556221889056\n",
      "Flag 565.40  -386139.54577664996 -200000.00000000003 (2001, 26665) (2001,) 1.04292353928633 1.35257623894396 0.8562343502849238 0.725183364141947 3.4302848575712144\n",
      "Flag 565.40  -200000.00000000003 -103589.49358462427 (2001, 26665) (2001,) 1.0103752961800807 1.2621232951587886 0.8552161117512801 0.778383815384314 1.817591204397801\n",
      "Flag 565.40  -103589.49358462427 -53653.91590559456 (2001, 26665) (2001,) 1.017337256239688 1.1753412478258483 0.8975576409826295 0.762023784533707 1.0529735132433784\n",
      "Flag 565.40  -53653.91590559456 -27789.909887462723 (2001, 26665) (2001,) 1.0800003399660014 1.1682583877600983 0.9657753066497365 0.7869490131350664 0.6051974012993503\n",
      "Flag 565.40  -27789.909887462723 -14393.71346002303 (2001, 26665) (2001,) 1.0397281102530496 1.1233633066659596 0.9627904126637058 0.8762321890377205 0.3313343328335832\n",
      "Flag 565.40  -14393.71346002303 -7455.187440629877 (2001, 26665) (2001,) 1.1494515323105414 1.1889957986009003 1.1061561844946672 0.7804956369110722 0.15592203898050974\n",
      "Flag 565.40  -7455.187440629877 -3861.3954577665 (2001, 26665) (2001,) 1.1274065133096776 1.1404938520106138 1.0997937483491795 0.7974259074609084 0.07796101949025487\n",
      "Flag 565.40  -3861.3954577665 -2000.0000000000002 (2001, 26665) (2001,) 1.028151980844471 1.0370696337120464 1.0132892260651787 1.040445914463488 0.05147426286856572\n",
      "Flag 565.40  -2000.0000000000002 -500.0 (2001, 26665) (2001,) 1.1069369720562414 1.1113495710685848 1.0993896425824596 0.6294337746370386 0.41879060469765117\n",
      "Flag 565.40  -500.0 0.0 (2001, 26665) (2001,) 1.1166077972960582 1.1166077972960582 1.1166077972960582 nan 0.23138430784607697\n",
      "Flag 565.40  0.0 500.0 (2001, 26665) (2001,) 0.9141208180760868 0.9141208180760868 0.9141208180760868 nan 0.022488755622188907\n",
      "Flag 565.40  500.0 2000.0000000000002 (2001, 26665) (2001,) 1.149667929644525 1.1617799480193165 1.1310767724596262 0.6163038142338995 0.05147426286856572\n",
      "Flag 565.40  2000.0000000000002 3861.3954577665 (2001, 26665) (2001,) 0.8985802917562918 0.9150958630335969 0.8710543396274502 0.5839136222676077 0.03398300849575212\n",
      "Flag 565.40  3861.3954577665 7455.187440629877 (2001, 26665) (2001,) 0.9589211936132915 0.9643220148349188 0.9488932210946033 0.2599044747026439 0.07396301849075462\n",
      "Flag 565.40  7455.187440629877 14393.71346002303 (2001, 26665) (2001,) 1.1460868693051272 1.2274084798590577 1.0298007412339603 1.3520965964527678 0.14992503748125938\n",
      "Flag 565.40  14393.71346002303 27789.909887462723 (2001, 26665) (2001,) 0.9161192391203244 0.9678752976504567 0.8572189413571185 0.5817628468399861 0.28585707146426786\n",
      "Flag 565.40  27789.909887462723 53653.91590559456 (2001, 26665) (2001,) 1.0318217407438948 1.1354220507026027 0.9255221642355924 0.7094859513007153 0.607696151924038\n",
      "Flag 565.40  53653.91590559456 103589.49358462427 (2001, 26665) (2001,) 1.044744906618777 1.2237553524987634 0.8958016385944827 0.7975404319717325 1.1209395302348826\n",
      "Flag 565.40  103589.49358462427 200000.00000000003 (2001, 26665) (2001,) 1.025945977238009 1.256349031397761 0.8627121584954441 0.7448928069439759 1.944527736131934\n",
      "Flag 565.40  200000.00000000003 386139.54577664996 (2001, 26665) (2001,) 1.0101124527688332 1.38251028357594 0.8310855818575748 0.7742950401420284 3.626686656671664\n",
      "Flag 565.40  386139.54577664996 745518.7440629877 (2001, 26665) (2001,) 1.1031516647419206 1.571829363218277 0.8903767567585038 0.8172571203297048 6.2298850574712645\n",
      "Flag 565.40  745518.7440629877 1439371.346002303 (2001, 26665) (2001,) 1.0732290741630515 1.6572061978422472 0.8631205663515863 0.8585497917003139 10.731134432783609\n",
      "Flag 565.40  1439371.346002303 2778990.9887462724 (2001, 26665) (2001,) 1.075349732868743 1.7492241271745923 0.8598001218602076 0.9000552902970546 17.060469765117443\n",
      "Flag 565.40  2778990.9887462724 5365391.590559456 (2001, 26665) (2001,) 1.1062079141332701 1.8325122011572956 0.8758968649225578 0.9213910272397791 29.475262368815592\n",
      "Flag 565.40  5365391.590559456 10358949.358462406 (2001, 26665) (2001,) 1.1079282394786876 1.9499459076442032 0.8829752509074199 0.9713395116761206 50.14492753623188\n",
      "Flag 565.40  10358949.358462406 20000000.000000004 (2001, 26665) (2001,) 1.0949773882875895 1.9708437935290493 0.8785316534407426 0.985796673658038 78.47876061969015\n",
      "Flag 565.10  5003 6671 (1499, 26665) (1499, 26665)\n",
      "Flag 565.40  -20000000.000000004 -10358949.358462406 (1499, 26665) (1499,) 1.0693441488628919 2.044229927876901 0.8951114599958435 1.0362801789502685 80.41694462975317\n",
      "Flag 565.40  -10358949.358462406 -5365391.590559456 (1499, 26665) (1499,) 1.0621831923111862 1.9519995116867446 0.8935461075272743 1.0066976994436547 49.501667778519014\n",
      "Flag 565.40  -5365391.590559456 -2778990.9887462724 (1499, 26665) (1499,) 1.0478818512889703 1.8082989813654886 0.8746598382923033 0.9575801832514415 28.344229486324217\n",
      "Flag 565.40  -2778990.9887462724 -1439371.346002303 (1499, 26665) (1499,) 1.065592167303779 1.78396823324306 0.8719294355856109 0.9440193899635251 16.521681120747164\n",
      "Flag 565.40  -1439371.346002303 -745518.7440629877 (1499, 26665) (1499,) 1.0802318637126738 1.6978006330247617 0.8982777888320549 0.899319951057457 9.819879919946631\n",
      "Flag 565.40  -745518.7440629877 -386139.54577664996 (1499, 26665) (1499,) 1.1082391009353378 1.5772311115330617 0.9244797185834169 0.8361626625513444 5.876584389593062\n"
     ]
    },
    {
     "name": "stdout",
     "output_type": "stream",
     "text": [
      "Flag 565.40  -386139.54577664996 -200000.00000000003 (1499, 26665) (1499,) 1.1118204734862365 1.4700158034074235 0.9213959093649435 0.8312841753395265 3.201467645096731\n",
      "Flag 565.40  -200000.00000000003 -103589.49358462427 (1499, 26665) (1499,) 1.029591985737846 1.2557771169532297 0.8776091770544138 0.7598277984861294 1.8072048032021348\n",
      "Flag 565.40  -103589.49358462427 -53653.91590559456 (1499, 26665) (1499,) 1.0620031727940753 1.1929071206872142 0.9465016878356554 0.7122054830337291 1.0020013342228151\n",
      "Flag 565.40  -53653.91590559456 -27789.909887462723 (1499, 26665) (1499,) 1.034162345457688 1.1215930236331084 0.9560021029705895 0.7141025046820823 0.5056704469646431\n",
      "Flag 565.40  -27789.909887462723 -14393.71346002303 (1499, 26665) (1499,) 1.0033448292618068 1.0804036880980459 0.9008407220051873 0.9200653749773039 0.2715143428952635\n",
      "Flag 565.40  -14393.71346002303 -7455.187440629877 (1499, 26665) (1499,) 0.8232077702646153 0.835653765503022 0.7973870142340735 0.3940761377659655 0.15276851234156105\n",
      "Flag 565.40  -7455.187440629877 -3861.3954577665 (1499, 26665) (1499,) 0.8162113034309475 0.8237638780173816 0.809477530997752 0.28223851621215473 0.07938625750500333\n",
      "Flag 565.40  -3861.3954577665 -2000.0000000000002 (1499, 26665) (1499,) 0.6682797755773675 0.6682797755773675 0.6682797755773675 0.0 0.037358238825883926\n",
      "Flag 565.40  -2000.0000000000002 -500.0 (1499, 26665) (1499,) 1.0714275842705854 1.0749411784304592 1.0655715940041293 0.4329029083790583 0.39826551034022684\n",
      "Flag 565.40  -500.0 0.0 (1499, 26665) (1499,) 1.1843791415006775 1.1843791415006775 1.1843791415006775 nan 0.21747831887925284\n",
      "Flag 565.40  0.0 500.0 (1499, 26665) (1499,) 1.3551884093405873 1.3551884093405873 1.3551884093405873 nan 0.024683122081387593\n",
      "Flag 565.40  500.0 2000.0000000000002 (1499, 26665) (1499,) 1.2126327173012381 1.2297004007260008 1.1839122265640232 0.5562005834490398 0.05670446964643095\n",
      "Flag 565.40  2000.0000000000002 3861.3954577665 (1499, 26665) (1499,) 1.1819487037382856 1.2030949230646606 1.1445346268642251 1.1208259421269575 0.030687124749833223\n",
      "Flag 565.40  3861.3954577665 7455.187440629877 (1499, 26665) (1499,) 1.1603062051322408 1.1767061007751611 1.1329730457273741 0.49954056577860645 0.06470980653769179\n",
      "Flag 565.40  7455.187440629877 14393.71346002303 (1499, 26665) (1499,) 0.9147773727601654 0.933293642015494 0.8950109958391825 0.3034922223702403 0.12541694462975317\n",
      "Flag 565.40  14393.71346002303 27789.909887462723 (1499, 26665) (1499,) 0.8355535660807518 0.9188904553373051 0.7847587969814147 0.6547586351084015 0.2628418945963976\n",
      "Flag 565.40  27789.909887462723 53653.91590559456 (1499, 26665) (1499,) 1.0636118392778902 1.1890876897353375 0.9601287320906531 0.7839541610417197 0.5323549032688459\n",
      "Flag 565.40  53653.91590559456 103589.49358462427 (1499, 26665) (1499,) 1.0225931397220207 1.1939024884015719 0.9165373447515213 0.7090971768927968 1.0146764509673116\n",
      "Flag 565.40  103589.49358462427 200000.00000000003 (1499, 26665) (1499,) 1.025976918952742 1.2614852498760896 0.872651694329077 0.7246134858405766 1.9019346230820546\n",
      "Flag 565.40  200000.00000000003 386139.54577664996 (1499, 26665) (1499,) 1.1275447464611719 1.478919202582681 0.9293046253465733 0.83123938737303 3.367578385590394\n",
      "Flag 565.40  386139.54577664996 745518.7440629877 (1499, 26665) (1499,) 1.0701973706783288 1.5468340369284261 0.8680186364137507 0.8144964516779623 5.725817211474316\n",
      "Flag 565.40  745518.7440629877 1439371.346002303 (1499, 26665) (1499,) 1.0780591028877833 1.7421024857159393 0.9004834533878222 0.938419839638587 9.698465643762509\n",
      "Flag 565.40  1439371.346002303 2778990.9887462724 (1499, 26665) (1499,) 1.0864449057969532 1.7756809986303892 0.8838015049186314 0.9327278676524589 16.869246164109406\n",
      "Flag 565.40  2778990.9887462724 5365391.590559456 (1499, 26665) (1499,) 1.0961232518769402 1.9324900158392357 0.9136992921058792 0.9910513760254348 28.024016010673783\n",
      "Flag 565.40  5365391.590559456 10358949.358462406 (1499, 26665) (1499,) 1.0779116387265386 1.9673981824658093 0.8914168746074724 0.9934844929416287 47.569046030687126\n",
      "Flag 565.40  10358949.358462406 20000000.000000004 (1499, 26665) (1499,) 1.08916294823314 2.051018985485122 0.9056677789007898 1.0527488796320874 79.14209472981987\n",
      "Flag 565.10  6671 8339 (1500, 26665) (1500, 26665)\n",
      "Flag 565.40  -20000000.000000004 -10358949.358462406 (1500, 26665) (1500,) 1.0847688822533714 2.1377706316916143 0.899772204318728 1.150455413201167 78.27733333333333\n",
      "Flag 565.40  -10358949.358462406 -5365391.590559456 (1500, 26665) (1500,) 1.080856749881114 2.0808644534828904 0.9001664356193375 1.102651345366747 50.06666666666667\n",
      "Flag 565.40  -5365391.590559456 -2778990.9887462724 (1500, 26665) (1500,) 1.0780093196023999 1.9557001518781771 0.8826644119732009 1.0770513039610217 28.094666666666665\n",
      "Flag 565.40  -2778990.9887462724 -1439371.346002303 (1500, 26665) (1500,) 1.111397422420678 1.9300012094389145 0.9019717950567955 1.0546341761889637 16.814\n",
      "Flag 565.40  -1439371.346002303 -745518.7440629877 (1500, 26665) (1500,) 1.093111060379534 1.718600741970273 0.8761753860560355 0.9475867283146758 9.838\n",
      "Flag 565.40  -745518.7440629877 -386139.54577664996 (1500, 26665) (1500,) 1.100135374744274 1.6220357674301649 0.8967085733906355 0.9018392773338929 5.696666666666666\n",
      "Flag 565.40  -386139.54577664996 -200000.00000000003 (1500, 26665) (1500,) 1.1204294435383892 1.5717009474844066 0.9251613133573015 0.8955536530544455 3.316\n",
      "Flag 565.40  -200000.00000000003 -103589.49358462427 (1500, 26665) (1500,) 1.090348335559464 1.3886065693009793 0.9240266959775763 0.9345346184157018 1.854\n",
      "Flag 565.40  -103589.49358462427 -53653.91590559456 (1500, 26665) (1500,) 1.0282039143852852 1.2356330963463114 0.8876672955767889 0.9049730005402666 1.0366666666666666\n",
      "Flag 565.40  -53653.91590559456 -27789.909887462723 (1500, 26665) (1500,) 1.0216325911799344 1.109474295479399 0.9159127537482049 0.7255356219763319 0.5433333333333333\n",
      "Flag 565.40  -27789.909887462723 -14393.71346002303 (1500, 26665) (1500,) 1.0511244490801954 1.1323203302577154 0.9568153709295284 0.798967186194529 0.30733333333333335\n",
      "Flag 565.40  -14393.71346002303 -7455.187440629877 (1500, 26665) (1500,) 0.9988623670241766 1.027290025853493 0.9492941691350721 0.8469589860817913 0.15066666666666667\n",
      "Flag 565.40  -7455.187440629877 -3861.3954577665 (1500, 26665) (1500,) 1.1006719548127752 1.123050702549922 1.0617282967670945 0.9910580416742325 0.08933333333333333\n",
      "Flag 565.40  -3861.3954577665 -2000.0000000000002 (1500, 26665) (1500,) 1.2325644340140258 1.2339143856327117 1.2303145146495489 0.19409385524882872 0.042\n",
      "Flag 565.40  -2000.0000000000002 -500.0 (1500, 26665) (1500,) 1.1449915731721412 1.1486594509342605 1.1388784435686088 0.5196768332753515 0.37266666666666665\n",
      "Flag 565.40  -500.0 0.0 (1500, 26665) (1500,) 1.062142096458815 1.062142096458815 1.062142096458815 nan 0.21866666666666668\n",
      "Flag 565.40  0.0 500.0 (1500, 26665) (1500,) 1.1644378154951467 1.1644378154951467 1.1644378154951467 nan 0.018\n",
      "Flag 565.40  500.0 2000.0000000000002 (1500, 26665) (1500,) 1.2685601220491844 1.3007484285589885 1.2149129445328437 1.2138970564263363 0.042\n",
      "Flag 565.40  2000.0000000000002 3861.3954577665 (1500, 26665) (1500,) 1.0303363759315918 1.0304459042894922 1.0301538286684246 0.009035628537082124 0.024666666666666667\n",
      "Flag 565.40  3861.3954577665 7455.187440629877 (1500, 26665) (1500,) 1.5313607294283285 1.550973986057464 1.5146752694665846 0.5328336219660534 0.056666666666666664\n",
      "Flag 565.40  7455.187440629877 14393.71346002303 (1500, 26665) (1500,) 1.0559484069461587 1.0847224271650437 1.0130558355770949 0.7504705789539954 0.11466666666666667\n",
      "Flag 565.40  14393.71346002303 27789.909887462723 (1500, 26665) (1500,) 1.009231633130896 1.0720968706754204 0.9389608416658972 0.6987308736449293 0.25733333333333336\n",
      "Flag 565.40  27789.909887462723 53653.91590559456 (1500, 26665) (1500,) 0.8776465632339271 0.955360778577286 0.7917661141971838 0.6273415311902357 0.4706666666666667\n",
      "Flag 565.40  53653.91590559456 103589.49358462427 (1500, 26665) (1500,) 0.9453473865276556 1.1138163503000098 0.8215554485422233 0.7456854036158974 0.9813333333333333\n",
      "Flag 565.40  103589.49358462427 200000.00000000003 (1500, 26665) (1500,) 1.0880357960619913 1.3746156108797196 0.9200962902338679 0.9167816699368523 1.798\n"
     ]
    },
    {
     "name": "stdout",
     "output_type": "stream",
     "text": [
      "Flag 565.40  200000.00000000003 386139.54577664996 (1500, 26665) (1500,) 1.0480913633542706 1.430491894815036 0.8777523419261494 0.8105531673281059 3.2373333333333334\n",
      "Flag 565.40  386139.54577664996 745518.7440629877 (1500, 26665) (1500,) 1.1114756098986571 1.6695859401736985 0.9071490757083384 0.9511219773220436 5.648666666666666\n",
      "Flag 565.40  745518.7440629877 1439371.346002303 (1500, 26665) (1500,) 1.1162528028837033 1.817128962059849 0.9173030648176417 1.0229254752933155 10.364\n",
      "Flag 565.40  1439371.346002303 2778990.9887462724 (1500, 26665) (1500,) 1.0998359890833918 1.910799799702447 0.8853127337458321 1.0541940822168951 16.672\n",
      "Flag 565.40  2778990.9887462724 5365391.590559456 (1500, 26665) (1500,) 1.0599531521881398 1.907121724482199 0.8741904721429152 1.0438370653156523 28.859333333333332\n",
      "Flag 565.40  5365391.590559456 10358949.358462406 (1500, 26665) (1500,) 1.0916222472688444 2.0962171587292833 0.8951604519127218 1.1244355263796695 50.34466666666667\n",
      "Flag 565.40  10358949.358462406 20000000.000000004 (1500, 26665) (1500,) 1.0715964146748895 2.135009587334721 0.8953394694314979 1.1644166778510776 76.83266666666667\n",
      "Flag 565.10  8339 10007 (2000, 26665) (2000, 26665)\n",
      "Flag 565.40  -20000000.000000004 -10358949.358462406 (2000, 26665) (2000,) 1.152214428250077 2.2233639026898984 0.9447150109092182 1.140894886394528 78.758\n",
      "Flag 565.40  -10358949.358462406 -5365391.590559456 (2000, 26665) (2000,) 1.1655366663883029 2.1368998496120333 0.9376388794947689 1.1047386371154015 49.1105\n",
      "Flag 565.40  -5365391.590559456 -2778990.9887462724 (2000, 26665) (2000,) 1.1937150530978344 2.059354216456265 0.9485800363781602 1.0806920854224678 27.8165\n",
      "Flag 565.40  -2778990.9887462724 -1439371.346002303 (2000, 26665) (2000,) 1.1856634233262784 1.9717509176236239 0.9559469283214951 1.033096470249204 16.714\n",
      "Flag 565.40  -1439371.346002303 -745518.7440629877 (2000, 26665) (2000,) 1.1573009489788626 1.804214340376194 0.9390837138108113 0.96808818128221 10.031\n",
      "Flag 565.40  -745518.7440629877 -386139.54577664996 (2000, 26665) (2000,) 1.109733066504043 1.6708970101331118 0.9080623146515123 0.9276297525547067 5.802\n",
      "Flag 565.40  -386139.54577664996 -200000.00000000003 (2000, 26665) (2000,) 1.177124469904034 1.5858621774869162 0.9676816343879713 0.9184826098132842 3.3695\n",
      "Flag 565.40  -200000.00000000003 -103589.49358462427 (2000, 26665) (2000,) 1.105186343594407 1.353806328491001 0.9288436261196914 0.7921044894268573 1.9485\n",
      "Flag 565.40  -103589.49358462427 -53653.91590559456 (2000, 26665) (2000,) 1.168567790333468 1.354887798649349 1.0162902661823938 0.9080660746282432 1.047\n",
      "Flag 565.40  -53653.91590559456 -27789.909887462723 (2000, 26665) (2000,) 1.09431313973251 1.194914699541173 1.000222320464974 0.7831091692595616 0.5675\n",
      "Flag 565.40  -27789.909887462723 -14393.71346002303 (2000, 26665) (2000,) 0.9824681653208637 1.0262080889266418 0.9494092553592666 0.4464033235251036 0.3005\n",
      "Flag 565.40  -14393.71346002303 -7455.187440629877 (2000, 26665) (2000,) 0.9734884248072659 0.9966922191068784 0.935348358312072 0.6790158610989602 0.1465\n",
      "Flag 565.40  -7455.187440629877 -3861.3954577665 (2000, 26665) (2000,) 1.217753858677189 1.2334789374157313 1.1924228057120405 0.7334923916413079 0.083\n",
      "Flag 565.40  -3861.3954577665 -2000.0000000000002 (2000, 26665) (2000,) 1.3652763850950858 1.371551555995955 1.3573417974220765 0.7365214948654323 0.041\n",
      "Flag 565.40  -2000.0000000000002 -500.0 (2000, 26665) (2000,) 1.1126278084152963 1.1158019126044334 1.1073376347667343 0.5000092606271876 0.413\n",
      "Flag 565.40  -500.0 0.0 (2000, 26665) (2000,) 1.0437024740423606 1.0437024740423606 1.0437024740423606 nan 0.226\n",
      "Flag 565.40  0.0 500.0 (2000, 26665) (2000,) 0.9335149887262493 0.9335149887262493 0.9335149887262493 nan 0.023\n",
      "Flag 565.40  500.0 2000.0000000000002 (2000, 26665) (2000,) 1.5105192658883981 1.5676134857799184 1.4153622327358648 2.9605920704689836 0.048\n",
      "Flag 565.40  2000.0000000000002 3861.3954577665 (2000, 26665) (2000,) 1.1130883799900766 1.1239416259744421 1.0965966183342142 0.5030631863902031 0.043\n",
      "Flag 565.40  3861.3954577665 7455.187440629877 (2000, 26665) (2000,) 1.1887093501244026 1.1925232549197162 1.182352842132213 0.23822068501501703 0.0575\n",
      "Flag 565.40  7455.187440629877 14393.71346002303 (2000, 26665) (2000,) 1.136245239113863 1.1664633024615432 1.0945824161163036 0.6103772624184535 0.138\n",
      "Flag 565.40  14393.71346002303 27789.909887462723 (2000, 26665) (2000,) 1.1301273237078142 1.2090010506847488 1.0258523040226435 0.9570400868470005 0.269\n",
      "Flag 565.40  27789.909887462723 53653.91590559456 (2000, 26665) (2000,) 0.9540664192629839 1.0509437042116305 0.8646764222809245 0.6235997700114363 0.5285\n",
      "Flag 565.40  53653.91590559456 103589.49358462427 (2000, 26665) (2000,) 1.1387122805472991 1.3249855853808186 0.994528366954528 0.8389714167231895 1.0255\n",
      "Flag 565.40  103589.49358462427 200000.00000000003 (2000, 26665) (2000,) 1.1662267413605367 1.447568899411418 0.984608723227229 0.8970798564252743 1.881\n",
      "Flag 565.40  200000.00000000003 386139.54577664996 (2000, 26665) (2000,) 1.176721988690463 1.5636958550297577 0.9679617119021604 0.9151791797866228 3.282\n",
      "Flag 565.40  386139.54577664996 745518.7440629877 (2000, 26665) (2000,) 1.179757197575325 1.7236551947182899 0.9488180751603172 0.9817401292318048 5.841\n",
      "Flag 565.40  745518.7440629877 1439371.346002303 (2000, 26665) (2000,) 1.167289293179116 1.8063261208657695 0.9424347141258307 0.9428949925650638 10.085\n",
      "Flag 565.40  1439371.346002303 2778990.9887462724 (2000, 26665) (2000,) 1.143455921086463 1.936130287155511 0.9393681194630998 1.0067616975567248 16.847\n",
      "Flag 565.40  2778990.9887462724 5365391.590559456 (2000, 26665) (2000,) 1.1941795900331034 2.045945126324531 0.9623011023386105 1.0734373368343317 28.478\n",
      "Flag 565.40  5365391.590559456 10358949.358462406 (2000, 26665) (2000,) 1.1671047553545706 2.077437837253224 0.9283461441930805 1.0752301514636404 49.336\n",
      "Flag 565.40  10358949.358462406 20000000.000000004 (2000, 26665) (2000,) 1.1509301995955157 2.171180351617986 0.9334485614751705 1.1072227981855387 78.862\n",
      "Flag 565.10  10007 11675 (1500, 26665) (1500, 26665)\n",
      "Flag 565.40  -20000000.000000004 -10358949.358462406 (1500, 26665) (1500,) 1.238541024994856 2.1098507003095945 0.9690924299842582 1.002385960298087 78.67\n",
      "Flag 565.40  -10358949.358462406 -5365391.590559456 (1500, 26665) (1500,) 1.2059257841640287 2.0283491343885856 0.9543786779241249 0.9842797453375717 50.732\n",
      "Flag 565.40  -5365391.590559456 -2778990.9887462724 (1500, 26665) (1500,) 1.2349103719071586 1.992585756243253 0.9707292235106099 0.9541746592188755 29.698666666666668\n",
      "Flag 565.40  -2778990.9887462724 -1439371.346002303 (1500, 26665) (1500,) 1.2211763829254974 1.8832844977621104 0.9633262961401071 0.9395632675934806 17.454\n",
      "Flag 565.40  -1439371.346002303 -745518.7440629877 (1500, 26665) (1500,) 1.2031749573788892 1.7724073394975535 0.9597198558459871 0.8629363197985686 10.314\n",
      "Flag 565.40  -745518.7440629877 -386139.54577664996 (1500, 26665) (1500,) 1.2605802660766479 1.7692276657497175 1.0017799988702116 0.9043138044919076 5.929333333333333\n",
      "Flag 565.40  -386139.54577664996 -200000.00000000003 (1500, 26665) (1500,) 1.1729848740037137 1.573234693607521 0.9717233733238095 0.8484944867744164 3.592\n",
      "Flag 565.40  -200000.00000000003 -103589.49358462427 (1500, 26665) (1500,) 1.1616210986354272 1.4318117819773908 0.9740093507164641 0.8502848572513593 1.994\n",
      "Flag 565.40  -103589.49358462427 -53653.91590559456 (1500, 26665) (1500,) 1.0640930464297194 1.2074157400940384 0.9409603668135734 0.6597174815489729 1.126\n",
      "Flag 565.40  -53653.91590559456 -27789.909887462723 (1500, 26665) (1500,) 1.1713103135197613 1.2750082341788684 1.066746966657723 0.7287365705125951 0.63\n",
      "Flag 565.40  -27789.909887462723 -14393.71346002303 (1500, 26665) (1500,) 1.0257357248366514 1.0841932136352121 0.959988968018983 0.6671686132769945 0.332\n",
      "Flag 565.40  -14393.71346002303 -7455.187440629877 (1500, 26665) (1500,) 1.182520465107776 1.2026068472954186 1.149628668045021 0.5038386402644146 0.168\n",
      "Flag 565.40  -7455.187440629877 -3861.3954577665 (1500, 26665) (1500,) 1.2878464323527123 1.3151805693217382 1.2500554383550602 0.6506776961190092 0.08133333333333333\n",
      "Flag 565.40  -3861.3954577665 -2000.0000000000002 (1500, 26665) (1500,) 0.9111213731927603 0.9138994905016744 0.9071053943428999 0.32319287164182986 0.042\n"
     ]
    },
    {
     "name": "stdout",
     "output_type": "stream",
     "text": [
      "Flag 565.40  -2000.0000000000002 -500.0 (1500, 26665) (1500,) 1.1861663796503183 1.1885382303373624 1.180843597458156 0.4665214184018571 0.44733333333333336\n",
      "Flag 565.40  -500.0 0.0 (1500, 26665) (1500,) 1.139109677330449 1.139109677330449 1.139109677330449 nan 0.24133333333333334\n",
      "Flag 565.40  0.0 500.0 (1500, 26665) (1500,) 0.887061692703801 0.887061692703801 0.887061692703801 nan 0.029333333333333333\n",
      "Flag 565.40  500.0 2000.0000000000002 (1500, 26665) (1500,) 1.2556798075867557 1.2612217923450924 1.2464299624012312 0.5468340810146031 0.059333333333333335\n",
      "Flag 565.40  2000.0000000000002 3861.3954577665 (1500, 26665) (1500,) 1.1536738917629608 1.1783424722594125 1.1125597929428663 0.544565069270146 0.042666666666666665\n",
      "Flag 565.40  3861.3954577665 7455.187440629877 (1500, 26665) (1500,) 1.0345581695662196 1.045370894738356 1.0175996884869158 0.38182954230118393 0.07666666666666666\n",
      "Flag 565.40  7455.187440629877 14393.71346002303 (1500, 26665) (1500,) 1.107317029833539 1.1477791136197464 1.0427585060078306 0.6924819688063973 0.174\n",
      "Flag 565.40  14393.71346002303 27789.909887462723 (1500, 26665) (1500,) 1.083077604211914 1.1617523457031371 1.0334839324190936 0.6756023959480393 0.30266666666666664\n",
      "Flag 565.40  27789.909887462723 53653.91590559456 (1500, 26665) (1500,) 1.046356170014648 1.13546666735289 0.9318201523414771 0.7197529717511957 0.5633333333333334\n",
      "Flag 565.40  53653.91590559456 103589.49358462427 (1500, 26665) (1500,) 1.2161664394066776 1.378859048874235 1.0660490662527613 0.7985262206393855 1.0586666666666666\n",
      "Flag 565.40  103589.49358462427 200000.00000000003 (1500, 26665) (1500,) 1.1439270926226783 1.378120880606957 0.9631286978959394 0.7500847275271834 2.0073333333333334\n",
      "Flag 565.40  200000.00000000003 386139.54577664996 (1500, 26665) (1500,) 1.2392115797553251 1.6005553214884252 1.0319290697468482 0.8319712109278464 3.4753333333333334\n",
      "Flag 565.40  386139.54577664996 745518.7440629877 (1500, 26665) (1500,) 1.2300481569890755 1.7058360472561638 0.9918927786815399 0.8621831727435915 6.236\n",
      "Flag 565.40  745518.7440629877 1439371.346002303 (1500, 26665) (1500,) 1.219131079399923 1.795026793696719 0.9666209955721343 0.89579522394802 10.656666666666666\n",
      "Flag 565.40  1439371.346002303 2778990.9887462724 (1500, 26665) (1500,) 1.209460288648625 1.8848523664388264 0.9706005790253732 0.9193471048421503 17.344666666666665\n",
      "Flag 565.40  2778990.9887462724 5365391.590559456 (1500, 26665) (1500,) 1.2012981447161366 1.9896918457220478 0.9680568611574938 0.9926023864551836 29.691333333333333\n",
      "Flag 565.40  5365391.590559456 10358949.358462406 (1500, 26665) (1500,) 1.2429877442428203 2.09866300493419 0.9841387531368925 1.012156382118164 51.50933333333333\n",
      "Flag 565.40  10358949.358462406 20000000.000000004 (1500, 26665) (1500,) 1.2294042148407656 2.116626719887238 0.9758352655818764 1.0338206709300737 79.996\n",
      "Flag 565.10  11675 13343 (500, 26665) (500, 26665)\n",
      "Flag 565.40  -20000000.000000004 -10358949.358462406 (500, 26665) (500,) 1.2320560569539003 2.1029130951294834 0.9919975962575657 0.9965524028736169 79.918\n",
      "Flag 565.40  -10358949.358462406 -5365391.590559456 (500, 26665) (500,) 1.2231929888011517 1.9997635422666216 0.9757692643285145 0.897730142840995 49.33\n",
      "Flag 565.40  -5365391.590559456 -2778990.9887462724 (500, 26665) (500,) 1.2258665085521416 1.8970285132904934 0.9951667760901696 0.8855639815589733 27.492\n",
      "Flag 565.40  -2778990.9887462724 -1439371.346002303 (500, 26665) (500,) 1.184349268011498 1.9804319324116078 0.9842694262327687 0.956075599460915 17.322\n",
      "Flag 565.40  -1439371.346002303 -745518.7440629877 (500, 26665) (500,) 1.2445669012949576 1.7882635014657198 1.0193243622441304 0.8748811097487117 10.136\n",
      "Flag 565.40  -745518.7440629877 -386139.54577664996 (500, 26665) (500,) 1.153044357121773 1.5614792946149438 0.9212825041875375 0.7667130324228796 6.184\n",
      "Flag 565.40  -386139.54577664996 -200000.00000000003 (500, 26665) (500,) 1.1710287877485854 1.5372275525065073 0.9798164270638935 0.8024992998821554 3.562\n",
      "Flag 565.40  -200000.00000000003 -103589.49358462427 (500, 26665) (500,) 1.1638088596072953 1.3633578365747598 0.9783790723683294 0.7474619731544198 1.864\n",
      "Flag 565.40  -103589.49358462427 -53653.91590559456 (500, 26665) (500,) 1.121301174636381 1.2759052525812984 0.9752493652268236 0.7791388307255405 1.034\n",
      "Flag 565.40  -53653.91590559456 -27789.909887462723 (500, 26665) (500,) 1.2008614336111156 1.3058449022628709 1.0800191662671124 0.8175216249869884 0.58\n",
      "Flag 565.40  -27789.909887462723 -14393.71346002303 (500, 26665) (500,) 1.2497771668449962 1.2870046842320269 1.1761766679181676 0.7921191463132558 0.31\n",
      "Flag 565.40  -14393.71346002303 -7455.187440629877 (500, 26665) (500,) 1.1847597621467187 1.2057531813367541 1.1490237289172562 0.646507544233991 0.148\n",
      "Flag 565.40  -7455.187440629877 -3861.3954577665 (500, 26665) (500,) 1.0359950657364083 1.0544277847158123 0.9815054383761743 0.8514023519157998 0.08\n",
      "Flag 565.40  -3861.3954577665 -2000.0000000000002 (500, 26665) (500,) 1.086810343395015 1.086810343395015 1.086810343395015 nan 0.042\n",
      "Flag 565.40  -2000.0000000000002 -500.0 (500, 26665) (500,) 1.1269198109274268 1.1288867891504182 1.1236415138891072 0.6645237390746016 0.436\n",
      "Flag 565.40  -500.0 0.0 (500, 26665) (500,) 1.1269791005589052 1.1269791005589052 1.1269791005589052 nan 0.258\n",
      "Flag 565.40  0.0 500.0 (500, 26665) (500,) 1.3081847502787438 1.3081847502787438 1.3081847502787438 nan 0.032\n",
      "Flag 565.40  500.0 2000.0000000000002 (500, 26665) (500,) 1.4605372227688482 1.4681768833013755 1.4478044552146359 0.30611649354908876 0.076\n",
      "Flag 565.40  2000.0000000000002 3861.3954577665 (500, 26665) (500,) 1.7586060421051901 1.7629192087275676 1.7514174310678938 0.20332462447138422 0.044\n",
      "Flag 565.40  3861.3954577665 7455.187440629877 (500, 26665) (500,) 1.4013554071319871 1.431383915840441 1.3513078926178979 0.8021492362740825 0.08\n",
      "Flag 565.40  7455.187440629877 14393.71346002303 (500, 26665) (500,) 1.3006294958425282 1.4008726936857447 1.1501356146290573 1.0986078264535457 0.166\n",
      "Flag 565.40  14393.71346002303 27789.909887462723 (500, 26665) (500,) 1.1034911461690868 1.1387757800306606 1.0460200084114242 0.4642061121250518 0.288\n",
      "Flag 565.40  27789.909887462723 53653.91590559456 (500, 26665) (500,) 0.940335843813244 1.0044299622257928 0.8745023882812869 0.4683795829499464 0.578\n",
      "Flag 565.40  53653.91590559456 103589.49358462427 (500, 26665) (500,) 1.0069999641767227 1.1324231166240148 0.8945666023152329 0.543538837160111 1.134\n",
      "Flag 565.40  103589.49358462427 200000.00000000003 (500, 26665) (500,) 1.0800841498170308 1.2939969302149927 0.9271608010559927 0.7037776561326776 2.034\n",
      "Flag 565.40  200000.00000000003 386139.54577664996 (500, 26665) (500,) 1.1552138561708347 1.484879464048022 0.9951984185225723 0.7507861635949179 3.36\n",
      "Flag 565.40  386139.54577664996 745518.7440629877 (500, 26665) (500,) 1.148978974471768 1.5830810033807994 0.9426540010179066 0.7989385084391676 6.13\n",
      "Flag 565.40  745518.7440629877 1439371.346002303 (500, 26665) (500,) 1.1654562418119059 1.6496115146913453 0.9596196159430153 0.8497652433240477 10.106\n",
      "Flag 565.40  1439371.346002303 2778990.9887462724 (500, 26665) (500,) 1.1659024899527088 1.7978022284256083 0.9624029680872349 0.8294117423489371 15.32\n",
      "Flag 565.40  2778990.9887462724 5365391.590559456 (500, 26665) (500,) 1.2282110329741829 1.995527538315818 0.9951577825568407 0.9164957127830041 28.43\n",
      "Flag 565.40  5365391.590559456 10358949.358462406 (500, 26665) (500,) 1.2350129268276415 2.0158023367420097 0.9728879077506376 0.9291180043143785 46.336\n",
      "Flag 565.40  10358949.358462406 20000000.000000004 (500, 26665) (500,) 1.2045063492048045 2.0313865588441233 0.9691274109588278 0.964867180464479 78.858\n",
      "Flag 565.10  13343 15011 (0, 26665) (0, 26665)\n"
     ]
    },
    {
     "ename": "ValueError",
     "evalue": "need at least one array to concatenate",
     "output_type": "error",
     "traceback": [
      "\u001b[0;31m---------------------------------------------------------------------------\u001b[0m",
      "\u001b[0;31mValueError\u001b[0m                                Traceback (most recent call last)",
      "\u001b[0;32m<ipython-input-291-d36146a56f4e>\u001b[0m in \u001b[0;36m<module>\u001b[0;34m\u001b[0m\n\u001b[1;32m     21\u001b[0m         \u001b[0mM\u001b[0m \u001b[0;34m=\u001b[0m \u001b[0mpd\u001b[0m\u001b[0;34m.\u001b[0m\u001b[0mDataFrame\u001b[0m\u001b[0;34m(\u001b[0m\u001b[0mma\u001b[0m\u001b[0;34m.\u001b[0m\u001b[0mfilled\u001b[0m\u001b[0;34m(\u001b[0m\u001b[0mma\u001b[0m\u001b[0;34m.\u001b[0m\u001b[0mmasked_where\u001b[0m\u001b[0;34m(\u001b[0m\u001b[0;34m(\u001b[0m\u001b[0mg2p_dist\u001b[0m \u001b[0;34m<\u001b[0m \u001b[0mpkdist0\u001b[0m\u001b[0;34m)\u001b[0m \u001b[0;34m|\u001b[0m \u001b[0;34m(\u001b[0m\u001b[0mg2p_dist\u001b[0m \u001b[0;34m>=\u001b[0m \u001b[0mpkdist1\u001b[0m\u001b[0;34m)\u001b[0m\u001b[0;34m,\u001b[0m \u001b[0mg2p_fc\u001b[0m\u001b[0;34m)\u001b[0m\u001b[0;34m,\u001b[0m \u001b[0mnp\u001b[0m\u001b[0;34m.\u001b[0m\u001b[0mNaN\u001b[0m\u001b[0;34m)\u001b[0m\u001b[0;34m)\u001b[0m\u001b[0;34m\u001b[0m\u001b[0m\n\u001b[1;32m     22\u001b[0m         \u001b[0mmed\u001b[0m \u001b[0;34m=\u001b[0m \u001b[0mM\u001b[0m\u001b[0;34m.\u001b[0m\u001b[0mmedian\u001b[0m\u001b[0;34m(\u001b[0m\u001b[0maxis\u001b[0m\u001b[0;34m=\u001b[0m\u001b[0;36m1\u001b[0m\u001b[0;34m)\u001b[0m\u001b[0;34m.\u001b[0m\u001b[0mmean\u001b[0m\u001b[0;34m(\u001b[0m\u001b[0;34m)\u001b[0m\u001b[0;34m\u001b[0m\u001b[0m\n\u001b[0;32m---> 23\u001b[0;31m         \u001b[0mq75\u001b[0m \u001b[0;34m=\u001b[0m \u001b[0mM\u001b[0m\u001b[0;34m.\u001b[0m\u001b[0mquantile\u001b[0m\u001b[0;34m(\u001b[0m\u001b[0;36m0.75\u001b[0m\u001b[0;34m,\u001b[0m \u001b[0maxis\u001b[0m\u001b[0;34m=\u001b[0m\u001b[0;36m1\u001b[0m\u001b[0;34m)\u001b[0m\u001b[0;34m.\u001b[0m\u001b[0mmean\u001b[0m\u001b[0;34m(\u001b[0m\u001b[0;34m)\u001b[0m\u001b[0;34m\u001b[0m\u001b[0m\n\u001b[0m\u001b[1;32m     24\u001b[0m         \u001b[0mq90\u001b[0m \u001b[0;34m=\u001b[0m \u001b[0mM\u001b[0m\u001b[0;34m.\u001b[0m\u001b[0mquantile\u001b[0m\u001b[0;34m(\u001b[0m\u001b[0;36m0.90\u001b[0m\u001b[0;34m,\u001b[0m \u001b[0maxis\u001b[0m\u001b[0;34m=\u001b[0m\u001b[0;36m1\u001b[0m\u001b[0;34m)\u001b[0m\u001b[0;34m.\u001b[0m\u001b[0mmean\u001b[0m\u001b[0;34m(\u001b[0m\u001b[0;34m)\u001b[0m\u001b[0;34m\u001b[0m\u001b[0m\n\u001b[1;32m     25\u001b[0m         \u001b[0mmu\u001b[0m  \u001b[0;34m=\u001b[0m \u001b[0mM\u001b[0m\u001b[0;34m.\u001b[0m\u001b[0mmean\u001b[0m\u001b[0;34m(\u001b[0m\u001b[0maxis\u001b[0m\u001b[0;34m=\u001b[0m\u001b[0;36m1\u001b[0m\u001b[0;34m)\u001b[0m\u001b[0;34m.\u001b[0m\u001b[0mmean\u001b[0m\u001b[0;34m(\u001b[0m\u001b[0;34m)\u001b[0m\u001b[0;34m\u001b[0m\u001b[0m\n",
      "\u001b[0;32m/scratch1/rsingh/python/venv/base36/lib/python3.6/site-packages/pandas/core/frame.py\u001b[0m in \u001b[0;36mquantile\u001b[0;34m(self, q, axis, numeric_only, interpolation)\u001b[0m\n\u001b[1;32m   8279\u001b[0m \u001b[0;34m\u001b[0m\u001b[0m\n\u001b[1;32m   8280\u001b[0m         result = data._data.quantile(\n\u001b[0;32m-> 8281\u001b[0;31m             \u001b[0mqs\u001b[0m\u001b[0;34m=\u001b[0m\u001b[0mq\u001b[0m\u001b[0;34m,\u001b[0m \u001b[0maxis\u001b[0m\u001b[0;34m=\u001b[0m\u001b[0;36m1\u001b[0m\u001b[0;34m,\u001b[0m \u001b[0minterpolation\u001b[0m\u001b[0;34m=\u001b[0m\u001b[0minterpolation\u001b[0m\u001b[0;34m,\u001b[0m \u001b[0mtransposed\u001b[0m\u001b[0;34m=\u001b[0m\u001b[0mis_transposed\u001b[0m\u001b[0;34m\u001b[0m\u001b[0m\n\u001b[0m\u001b[1;32m   8282\u001b[0m         )\n\u001b[1;32m   8283\u001b[0m \u001b[0;34m\u001b[0m\u001b[0m\n",
      "\u001b[0;32m/scratch1/rsingh/python/venv/base36/lib/python3.6/site-packages/pandas/core/internals/managers.py\u001b[0m in \u001b[0;36mquantile\u001b[0;34m(self, axis, consolidate, transposed, interpolation, qs, numeric_only)\u001b[0m\n\u001b[1;32m    533\u001b[0m \u001b[0;34m\u001b[0m\u001b[0m\n\u001b[1;32m    534\u001b[0m         \u001b[0;31m# single block, i.e. ndim == {1}\u001b[0m\u001b[0;34m\u001b[0m\u001b[0;34m\u001b[0m\u001b[0m\n\u001b[0;32m--> 535\u001b[0;31m         \u001b[0mvalues\u001b[0m \u001b[0;34m=\u001b[0m \u001b[0m_concat\u001b[0m\u001b[0;34m.\u001b[0m\u001b[0m_concat_compat\u001b[0m\u001b[0;34m(\u001b[0m\u001b[0;34m[\u001b[0m\u001b[0mb\u001b[0m\u001b[0;34m.\u001b[0m\u001b[0mvalues\u001b[0m \u001b[0;32mfor\u001b[0m \u001b[0mb\u001b[0m \u001b[0;32min\u001b[0m \u001b[0mblocks\u001b[0m\u001b[0;34m]\u001b[0m\u001b[0;34m)\u001b[0m\u001b[0;34m\u001b[0m\u001b[0m\n\u001b[0m\u001b[1;32m    536\u001b[0m \u001b[0;34m\u001b[0m\u001b[0m\n\u001b[1;32m    537\u001b[0m         \u001b[0;31m# compute the orderings of our original data\u001b[0m\u001b[0;34m\u001b[0m\u001b[0;34m\u001b[0m\u001b[0m\n",
      "\u001b[0;32m/scratch1/rsingh/python/venv/base36/lib/python3.6/site-packages/pandas/core/dtypes/concat.py\u001b[0m in \u001b[0;36m_concat_compat\u001b[0;34m(to_concat, axis)\u001b[0m\n\u001b[1;32m    172\u001b[0m                 \u001b[0mto_concat\u001b[0m \u001b[0;34m=\u001b[0m \u001b[0;34m[\u001b[0m\u001b[0mx\u001b[0m\u001b[0;34m.\u001b[0m\u001b[0mastype\u001b[0m\u001b[0;34m(\u001b[0m\u001b[0;34m\"object\"\u001b[0m\u001b[0;34m)\u001b[0m \u001b[0;32mfor\u001b[0m \u001b[0mx\u001b[0m \u001b[0;32min\u001b[0m \u001b[0mto_concat\u001b[0m\u001b[0;34m]\u001b[0m\u001b[0;34m\u001b[0m\u001b[0m\n\u001b[1;32m    173\u001b[0m \u001b[0;34m\u001b[0m\u001b[0m\n\u001b[0;32m--> 174\u001b[0;31m     \u001b[0;32mreturn\u001b[0m \u001b[0mnp\u001b[0m\u001b[0;34m.\u001b[0m\u001b[0mconcatenate\u001b[0m\u001b[0;34m(\u001b[0m\u001b[0mto_concat\u001b[0m\u001b[0;34m,\u001b[0m \u001b[0maxis\u001b[0m\u001b[0;34m=\u001b[0m\u001b[0maxis\u001b[0m\u001b[0;34m)\u001b[0m\u001b[0;34m\u001b[0m\u001b[0m\n\u001b[0m\u001b[1;32m    175\u001b[0m \u001b[0;34m\u001b[0m\u001b[0m\n\u001b[1;32m    176\u001b[0m \u001b[0;34m\u001b[0m\u001b[0m\n",
      "\u001b[0;32m<__array_function__ internals>\u001b[0m in \u001b[0;36mconcatenate\u001b[0;34m(*args, **kwargs)\u001b[0m\n",
      "\u001b[0;31mValueError\u001b[0m: need at least one array to concatenate"
     ]
    }
   ],
   "source": [
    "import numpy.ma as ma\n",
    "validPks = nonzeroPkCnts > 10.1\n",
    "v1= np.array([500] + list(np.geomspace(2e3,20e6,15)))\n",
    "pkbreaks = np.hstack([list(reversed(-v1)),[0],v1])\n",
    "genebreaks = np.linspace(0,nGenes,10)\n",
    "gvar_ranking = adata1.var[\"gene_variability_ranking\"]\n",
    "gexp_mu = np.ravel(np.mean(adata1.X, axis=0))\n",
    "L_median, L_q75, L_q90, L_mean, L_sd, L_n= [],[],[],[],[],[]\n",
    "\n",
    "for i in range(len(genebreaks)-1):\n",
    "    g0, g1 = int(genebreaks[i]), int(genebreaks[i+1])\n",
    "    gidx = (gvar_ranking >= g0) & (gvar_ranking < g1) & (gexp_mu > 1e-5)\n",
    "    #gidx = (gvar_ranking < g1)\n",
    "\n",
    "    g2p_dist = gene2pkdist[gidx,:][:,validPks]\n",
    "    g2p_fc = gene2pkfoldchange[gidx,:][:, validPks]\n",
    "    print (\"Flag 565.10 \", g0, g1, g2p_dist.shape, g2p_fc.shape)\n",
    "    lx = []\n",
    "    for j in range(len(pkbreaks)-1):\n",
    "        pkdist0, pkdist1 = pkbreaks[j], pkbreaks[j+1]       \n",
    "        M = pd.DataFrame(ma.filled(ma.masked_where((g2p_dist < pkdist0) | (g2p_dist >= pkdist1), g2p_fc), np.NaN))\n",
    "        med = M.median(axis=1).mean()\n",
    "        q75 = M.quantile(0.75, axis=1).mean()\n",
    "        q90 = M.quantile(0.90, axis=1).mean()\n",
    "        mu  = M.mean(axis=1).mean()\n",
    "        sd  = M.std(axis=1).mean()\n",
    "        n   = M.count(axis=1).mean()\n",
    "        print (\"Flag 565.40 \", pkdist0, pkdist1, M.shape, M.median(axis=1).shape, q75, q90, mu, sd, n)\n",
    "        lx.append((med,q75,q90,mu,sd,n))\n",
    "\n",
    "    if len(lx)>0:\n",
    "        L_median.append([a[0] for a in lx])\n",
    "        L_q75.append([a[1] for a in lx])\n",
    "        L_q90.append([a[2] for a in lx])\n",
    "        L_mean.append([a[3] for a in lx])\n",
    "        L_sd.append([a[4] for a in lx])\n",
    "        L_n.append([a[5] for a in lx])"
   ]
  },
  {
   "cell_type": "code",
   "execution_count": 292,
   "metadata": {
    "hidden": true
   },
   "outputs": [],
   "source": [
    "d_median_t10_rowwise = np.vstack(L_median)\n",
    "d_mu_t10_rowwise     = np.vstack(L_mean)\n",
    "d_q75_t10_rowwise    = np.vstack(L_q75)\n",
    "d_q90_t10_rowwise    = np.vstack(L_q90)"
   ]
  },
  {
   "cell_type": "code",
   "execution_count": 295,
   "metadata": {
    "hidden": true
   },
   "outputs": [
    {
     "data": {
      "image/png": "[encoded data removed]",
      "text/plain": [
       "<Figure size 1152x288 with 8 Axes>"
      ]
     },
     "metadata": {
      "needs_background": "light"
     },
     "output_type": "display_data"
    }
   ],
   "source": [
    "import seaborn as sns\n",
    "plt.rcParams[\"figure.figsize\"]= (16,4)\n",
    "for i, dx in enumerate([d_median_t10_rowwise, d_mu_t10_rowwise, d_q75_t10_rowwise, d_q90_t10_rowwise]):\n",
    "    plt.subplot(1,4,i+1)\n",
    "    sns.heatmap(np.insert(dx, 16, 0.99*np.min(dx), axis=1), cmap=\"seismic\")\n"
   ]
  },
  {
   "cell_type": "code",
   "execution_count": null,
   "metadata": {
    "hidden": true
   },
   "outputs": [],
   "source": [
    "gmu = np.ravel(np.mean(adata1.X.todense(), axis=0))\n",
    "gvar = np.ravel(np.var(adata1.X.todense(), axis=0))\n",
    "gdisp = gvar/gmu\n",
    "print(gmu.shape, gsd.shape, gdisp.shape)\n",
    "x = adata1.var[\"gene_variability_ranking\"]\n",
    "y = gdisp\n",
    "ix = (gmu > np.quantile(gmu,0.75)) & (gmu < np.quantile(gmu, 1))\n",
    "plt.scatter(x[ix], y[ix])"
   ]
  },
  {
   "cell_type": "code",
   "execution_count": null,
   "metadata": {
    "hidden": true
   },
   "outputs": [],
   "source": [
    "xd = pd.DataFrame.from_dict({\"gmu\": np.ravel(np.mean(adata1.X, axis=0)), \n",
    "                  \"gv\": adata1.var[\"gene_variability_ranking\"].values})\n",
    "xd.head()\n",
    "xd.groupby(\"gv\")[\"gmu\"].median()\n",
    "#plt.scatter(xd.gv, xd.gmu)"
   ]
  },
  {
   "cell_type": "markdown",
   "metadata": {},
   "source": [
    "#### Redo upstream/downstream accessibilty\n",
    " - remove non-expressed genes\n",
    " - rank genes by avg expression level as well as dispersion\n",
    "   - h_median_t10_gexpPos is based on genes ranked by mean expression level\n",
    "   - hvar_median_t10_gexpPos is based on \n",
    " - compute peak variability"
   ]
  },
  {
   "cell_type": "code",
   "execution_count": 470,
   "metadata": {},
   "outputs": [
    {
     "name": "stderr",
     "output_type": "stream",
     "text": [
      "Variable names are not unique. To make them unique, call `.var_names_make_unique`.\n"
     ]
    },
    {
     "name": "stdout",
     "output_type": "stream",
     "text": [
      "Flag 343.100  atac.var odict_keys(['atac.X', 'atac.type', 'atac.var', 'atac.var.columns', 'atac.var.index', 'names', 'rna.type']) <class 'numpy.ndarray'>\n",
      "Flag 343.102  atac.var odict_keys(['atac.X', 'atac.type', 'atac.var', 'atac.var.columns', 'atac.var.index', 'names', 'rna.type']) <class 'pandas.core.frame.DataFrame'>\n"
     ]
    }
   ],
   "source": [
    "adata1 = utils.SciCar.loadAnnData(\"/afs/csail.mit.edu/u/r/rsingh/work/schema/data/sci-car/adata1.h5ad\")\n",
    "adata1.X = adata1.X.todense()\n",
    "gexp_cnt = np.ravel(np.sum(adata1.X > 0.1, axis=0))\n",
    "#mu_gexp = np.ravel(np.mean(adata1.X, axis=0))\n",
    "#valid_genes = mu_gexp > 1e-5\n",
    "valid_genes = gexp_cnt > 5\n",
    "adata1 = adata1[:, valid_genes]"
   ]
  },
  {
   "cell_type": "code",
   "execution_count": 471,
   "metadata": {},
   "outputs": [
    {
     "name": "stderr",
     "output_type": "stream",
     "text": [
      "Trying to set attribute `.var` of view, making a copy.\n",
      "Variable names are not unique. To make them unique, call `.var_names_make_unique`.\n",
      "Variable names are not unique. To make them unique, call `.var_names_make_unique`.\n"
     ]
    }
   ],
   "source": [
    "nGenes = adata1.shape[1]\n",
    "mu_gexp = np.ravel(np.mean(adata1.X, axis=0))\n",
    "adata1.var[\"gene_expression_ranking\"] = scipy.stats.rankdata(-mu_gexp) #highest=1"
   ]
  },
  {
   "cell_type": "code",
   "execution_count": 472,
   "metadata": {},
   "outputs": [],
   "source": [
    "nGenes = adata1.shape[1]\n",
    "v = np.full(nGenes, nGenes)\n",
    "for i in range(500,nGenes-500,500):\n",
    "    v0 = sc.pp.highly_variable_genes(adata1, n_top_genes=i,inplace=False).highly_variable\n",
    "    v = np.where((v==nGenes) & v0, i, v).copy()\n",
    "adata1.var[\"gene_variability_ranking\"] = v"
   ]
  },
  {
   "cell_type": "code",
   "execution_count": 338,
   "metadata": {
    "collapsed": true
   },
   "outputs": [
    {
     "name": "stdout",
     "output_type": "stream",
     "text": [
      "0\n",
      "100\n",
      "200\n",
      "300\n",
      "400\n",
      "500\n",
      "600\n",
      "700\n",
      "800\n",
      "900\n",
      "1000\n",
      "1100\n",
      "1200\n",
      "1300\n",
      "1400\n",
      "1500\n",
      "1600\n",
      "1700\n",
      "1800\n",
      "1900\n",
      "2000\n",
      "2100\n",
      "2200\n",
      "2300\n",
      "2400\n",
      "2500\n",
      "2600\n",
      "2700\n",
      "2800\n",
      "2900\n",
      "3000\n",
      "3100\n",
      "3200\n",
      "3300\n",
      "3400\n",
      "3500\n",
      "3600\n",
      "3700\n",
      "3800\n",
      "3900\n",
      "4000\n",
      "4100\n",
      "4200\n",
      "4300\n",
      "4400\n",
      "4500\n",
      "4600\n",
      "4700\n",
      "4800\n",
      "4900\n",
      "5000\n",
      "5100\n",
      "5200\n",
      "5300\n",
      "5400\n",
      "5500\n",
      "5600\n",
      "5700\n",
      "5800\n",
      "5900\n",
      "6000\n",
      "6100\n",
      "6200\n",
      "6300\n",
      "6400\n",
      "6500\n",
      "6600\n",
      "6700\n",
      "6800\n",
      "6900\n",
      "7000\n",
      "7100\n",
      "7200\n",
      "7300\n",
      "7400\n",
      "7500\n",
      "7600\n",
      "7700\n",
      "7800\n",
      "7900\n",
      "8000\n",
      "8100\n",
      "8200\n",
      "8300\n",
      "8400\n",
      "8500\n",
      "8600\n",
      "8700\n",
      "8800\n",
      "8900\n",
      "9000\n",
      "9100\n",
      "9200\n",
      "9300\n",
      "9400\n",
      "9500\n",
      "9600\n",
      "9700\n",
      "9800\n",
      "9900\n",
      "10000\n",
      "10100\n",
      "10200\n",
      "10300\n",
      "10400\n",
      "10500\n",
      "10600\n",
      "10700\n",
      "10800\n",
      "10900\n",
      "11000\n",
      "11100\n",
      "11200\n",
      "11300\n",
      "11400\n",
      "11500\n"
     ]
    }
   ],
   "source": [
    "pkchr = adata1.uns[\"atac.var\"][\"chr\"].apply(lambda s: \"chr\" + str(s))\n",
    "L = []\n",
    "pkstart = adata1.uns[\"atac.var\"][\"start\"]\n",
    "pkend = adata1.uns[\"atac.var\"][\"end\"]\n",
    "for i in range(nGenes):\n",
    "    pkdist = np.where(adata1.var[\"chr\"][i] != pkchr, 1e12, \n",
    "                      np.where(adata1.var[\"strand\"][i]==\"+\", \n",
    "                               pkstart-adata1.var[\"txstart\"][i],\n",
    "                               adata1.var[\"txend\"][i]-pkend))\n",
    "    if i%100==0: print(i)\n",
    "    L.append(pkdist)\n"
   ]
  },
  {
   "cell_type": "code",
   "execution_count": 339,
   "metadata": {},
   "outputs": [],
   "source": [
    "gene2pkdist0 = np.vstack(L)"
   ]
  },
  {
   "cell_type": "code",
   "execution_count": 341,
   "metadata": {},
   "outputs": [],
   "source": [
    "xmu = np.ravel(np.mean(adata1.X, axis=0))\n",
    "xsd = np.ravel(np.std(adata1.X, axis=0))\n",
    "gene2hiexpcells = adata1.X > (xmu + 1.0*xsd)"
   ]
  },
  {
   "cell_type": "code",
   "execution_count": 342,
   "metadata": {
    "collapsed": true
   },
   "outputs": [
    {
     "name": "stdout",
     "output_type": "stream",
     "text": [
      "0 (79435,) (3260,) (79435,) (3260, 79435)\n",
      "100 (79435,) (3260,) (79435,) (3260, 79435)\n",
      "300 (79435,) (3260,) (79435,) (3260, 79435)\n",
      "400 (79435,) (3260,) (79435,) (3260, 79435)\n",
      "500 (79435,) (3260,) (79435,) (3260, 79435)\n",
      "700 (79435,) (3260,) (79435,) (3260, 79435)\n",
      "800 (79435,) (3260,) (79435,) (3260, 79435)\n",
      "900 (79435,) (3260,) (79435,) (3260, 79435)\n",
      "1000 (79435,) (3260,) (79435,) (3260, 79435)\n",
      "1100 (79435,) (3260,) (79435,) (3260, 79435)\n",
      "1200 (79435,) (3260,) (79435,) (3260, 79435)\n",
      "1300 (79435,) (3260,) (79435,) (3260, 79435)\n",
      "1400 (79435,) (3260,) (79435,) (3260, 79435)\n",
      "1500 (79435,) (3260,) (79435,) (3260, 79435)\n",
      "1600 (79435,) (3260,) (79435,) (3260, 79435)\n",
      "1700 (79435,) (3260,) (79435,) (3260, 79435)\n",
      "1800 (79435,) (3260,) (79435,) (3260, 79435)\n",
      "1900 (79435,) (3260,) (79435,) (3260, 79435)\n",
      "2000 (79435,) (3260,) (79435,) (3260, 79435)\n",
      "2100 (79435,) (3260,) (79435,) (3260, 79435)\n",
      "2200 (79435,) (3260,) (79435,) (3260, 79435)\n",
      "2300 (79435,) (3260,) (79435,) (3260, 79435)\n",
      "2400 (79435,) (3260,) (79435,) (3260, 79435)\n",
      "2500 (79435,) (3260,) (79435,) (3260, 79435)\n",
      "2600 (79435,) (3260,) (79435,) (3260, 79435)\n",
      "2700 (79435,) (3260,) (79435,) (3260, 79435)\n",
      "2800 (79435,) (3260,) (79435,) (3260, 79435)\n",
      "2900 (79435,) (3260,) (79435,) (3260, 79435)\n",
      "3000 (79435,) (3260,) (79435,) (3260, 79435)\n",
      "3100 (79435,) (3260,) (79435,) (3260, 79435)\n",
      "3200 (79435,) (3260,) (79435,) (3260, 79435)\n",
      "3300 (79435,) (3260,) (79435,) (3260, 79435)\n",
      "3400 (79435,) (3260,) (79435,) (3260, 79435)\n",
      "3500 (79435,) (3260,) (79435,) (3260, 79435)\n",
      "3600 (79435,) (3260,) (79435,) (3260, 79435)\n",
      "3700 (79435,) (3260,) (79435,) (3260, 79435)\n",
      "3800 (79435,) (3260,) (79435,) (3260, 79435)\n",
      "3900 (79435,) (3260,) (79435,) (3260, 79435)\n",
      "4000 (79435,) (3260,) (79435,) (3260, 79435)\n",
      "4100 (79435,) (3260,) (79435,) (3260, 79435)\n",
      "4200 (79435,) (3260,) (79435,) (3260, 79435)\n",
      "4300 (79435,) (3260,) (79435,) (3260, 79435)\n",
      "4400 (79435,) (3260,) (79435,) (3260, 79435)\n",
      "4500 (79435,) (3260,) (79435,) (3260, 79435)\n",
      "4600 (79435,) (3260,) (79435,) (3260, 79435)\n",
      "4700 (79435,) (3260,) (79435,) (3260, 79435)\n",
      "4800 (79435,) (3260,) (79435,) (3260, 79435)\n",
      "4900 (79435,) (3260,) (79435,) (3260, 79435)\n",
      "5000 (79435,) (3260,) (79435,) (3260, 79435)\n",
      "5100 (79435,) (3260,) (79435,) (3260, 79435)\n",
      "5200 (79435,) (3260,) (79435,) (3260, 79435)\n",
      "5300 (79435,) (3260,) (79435,) (3260, 79435)\n",
      "5400 (79435,) (3260,) (79435,) (3260, 79435)\n",
      "5500 (79435,) (3260,) (79435,) (3260, 79435)\n",
      "5600 (79435,) (3260,) (79435,) (3260, 79435)\n",
      "5700 (79435,) (3260,) (79435,) (3260, 79435)\n",
      "5800 (79435,) (3260,) (79435,) (3260, 79435)\n",
      "5900 (79435,) (3260,) (79435,) (3260, 79435)\n",
      "6000 (79435,) (3260,) (79435,) (3260, 79435)\n",
      "6100 (79435,) (3260,) (79435,) (3260, 79435)\n",
      "6200 (79435,) (3260,) (79435,) (3260, 79435)\n",
      "6300 (79435,) (3260,) (79435,) (3260, 79435)\n",
      "6400 (79435,) (3260,) (79435,) (3260, 79435)\n",
      "6600 (79435,) (3260,) (79435,) (3260, 79435)\n",
      "6700 (79435,) (3260,) (79435,) (3260, 79435)\n",
      "6800 (79435,) (3260,) (79435,) (3260, 79435)\n",
      "6900 (79435,) (3260,) (79435,) (3260, 79435)\n",
      "7000 (79435,) (3260,) (79435,) (3260, 79435)\n",
      "7100 (79435,) (3260,) (79435,) (3260, 79435)\n",
      "7200 (79435,) (3260,) (79435,) (3260, 79435)\n",
      "7300 (79435,) (3260,) (79435,) (3260, 79435)\n",
      "7400 (79435,) (3260,) (79435,) (3260, 79435)\n",
      "7500 (79435,) (3260,) (79435,) (3260, 79435)\n",
      "7600 (79435,) (3260,) (79435,) (3260, 79435)\n",
      "7700 (79435,) (3260,) (79435,) (3260, 79435)\n",
      "7800 (79435,) (3260,) (79435,) (3260, 79435)\n",
      "7900 (79435,) (3260,) (79435,) (3260, 79435)\n",
      "8000 (79435,) (3260,) (79435,) (3260, 79435)\n",
      "8100 (79435,) (3260,) (79435,) (3260, 79435)\n",
      "8200 (79435,) (3260,) (79435,) (3260, 79435)\n",
      "8300 (79435,) (3260,) (79435,) (3260, 79435)\n",
      "8400 (79435,) (3260,) (79435,) (3260, 79435)\n",
      "8500 (79435,) (3260,) (79435,) (3260, 79435)\n",
      "8600 (79435,) (3260,) (79435,) (3260, 79435)\n",
      "8700 (79435,) (3260,) (79435,) (3260, 79435)\n",
      "8800 (79435,) (3260,) (79435,) (3260, 79435)\n",
      "9000 (79435,) (3260,) (79435,) (3260, 79435)\n",
      "9100 (79435,) (3260,) (79435,) (3260, 79435)\n",
      "9200 (79435,) (3260,) (79435,) (3260, 79435)\n",
      "9300 (79435,) (3260,) (79435,) (3260, 79435)\n",
      "9400 (79435,) (3260,) (79435,) (3260, 79435)\n",
      "9500 (79435,) (3260,) (79435,) (3260, 79435)\n",
      "9600 (79435,) (3260,) (79435,) (3260, 79435)\n",
      "9700 (79435,) (3260,) (79435,) (3260, 79435)\n",
      "9800 (79435,) (3260,) (79435,) (3260, 79435)\n",
      "9900 (79435,) (3260,) (79435,) (3260, 79435)\n",
      "10000 (79435,) (3260,) (79435,) (3260, 79435)\n",
      "10100 (79435,) (3260,) (79435,) (3260, 79435)\n",
      "10200 (79435,) (3260,) (79435,) (3260, 79435)\n",
      "10300 (79435,) (3260,) (79435,) (3260, 79435)\n",
      "10400 (79435,) (3260,) (79435,) (3260, 79435)\n",
      "10500 (79435,) (3260,) (79435,) (3260, 79435)\n",
      "10600 (79435,) (3260,) (79435,) (3260, 79435)\n",
      "10700 (79435,) (3260,) (79435,) (3260, 79435)\n",
      "10800 (79435,) (3260,) (79435,) (3260, 79435)\n",
      "10900 (79435,) (3260,) (79435,) (3260, 79435)\n",
      "11000 (79435,) (3260,) (79435,) (3260, 79435)\n",
      "11100 (79435,) (3260,) (79435,) (3260, 79435)\n",
      "11200 (79435,) (3260,) (79435,) (3260, 79435)\n",
      "11300 (79435,) (3260,) (79435,) (3260, 79435)\n",
      "11400 (79435,) (3260,) (79435,) (3260, 79435)\n",
      "11500 (79435,) (3260,) (79435,) (3260, 79435)\n"
     ]
    }
   ],
   "source": [
    "L = []\n",
    "#pkX = adata1.uns[\"atac.X\"].todense()\n",
    "pkX = adata1.uns[\"atac.X\"]\n",
    "nonzeroPkCnts = np.ravel(np.sum(pkX>0.00001,axis=0))\n",
    "validPks_t3 = nonzeroPkCnts > 2.1 \n",
    "pkX = pkX[:,validPks_t3]\n",
    "nPeaks = pkX.shape[1]\n",
    "pkX_mu = 1e-9 + np.ravel(np.mean(pkX, axis=0))\n",
    "\n",
    "for i in range(nGenes):\n",
    "    goodcells = np.ravel(gene2hiexpcells[:,i])\n",
    "    if np.sum(goodcells) < 10:\n",
    "        L.append(np.zeros(nPeaks))\n",
    "        continue\n",
    "    foldchange = np.ravel(np.mean(pkX[goodcells, :], axis=0)) / pkX_mu\n",
    "    if i%100==0: print (i, foldchange.shape, goodcells.shape, pkX_mu.shape, pkX.shape)\n",
    "    L.append(foldchange)\n"
   ]
  },
  {
   "cell_type": "code",
   "execution_count": 343,
   "metadata": {},
   "outputs": [],
   "source": [
    "gene2pkfoldchange = np.vstack(L)"
   ]
  },
  {
   "cell_type": "code",
   "execution_count": 346,
   "metadata": {},
   "outputs": [],
   "source": [
    "gene2pkdist = gene2pkdist0[:, validPks_t3]"
   ]
  },
  {
   "cell_type": "code",
   "execution_count": 422,
   "metadata": {},
   "outputs": [
    {
     "name": "stdout",
     "output_type": "stream",
     "text": [
      "Flag 565.10  0 1283 (1282, 15425) (1282, 15425)\n",
      "Flag 565.40  0 -100000000.0 -88571428.57142857 (21264,) 1.042656153491188 1.225001873146132 1.4200621871908237 1.0508855980917693 0.4193505462914799 16.57365549493375\n",
      "Flag 565.40  0 -88571428.57142857 -77142857.14285715 (23287,) 1.0434215362054788 1.2243690661105497 1.4204307344358964 1.0525298157471454 0.425419082454313 18.150428682774745\n",
      "Flag 565.40  0 -77142857.14285715 -65714285.71428572 (33761,) 1.0420223138821667 1.2227464396221206 1.4139741757303592 1.0488678567295013 0.37174315291239257 26.3141075604053\n",
      "Flag 565.40  0 -65714285.71428572 -54285714.28571428 (39812,) 1.040283190751389 1.2216217778240024 1.4158213632293284 1.043375766354769 0.4007295542975662 31.030397505845674\n",
      "Flag 565.40  0 -54285714.28571428 -42857142.85714286 (46036,) 1.040761884142054 1.2214090782423535 1.4173256384215258 1.0504464628850592 0.44805749588963534 35.88152766952455\n",
      "Flag 565.40  0 -42857142.85714286 -31428571.42857143 (58142,) 1.0390626707682977 1.219403355663815 1.4167647021744627 1.0438445357638482 0.44435287076874 45.31722525331255\n",
      "Flag 565.40  0 -31428571.42857143 -20000000.000000004 (64812,) 1.0361530389007763 1.2164660107485366 1.4095591225297581 1.0393687433537175 0.44982476624439505 50.51597817614965\n",
      "Flag 565.40  0 -20000000.000000004 -10358949.358462406 (62267,) 1.0390647618934465 1.2181650743939012 1.4105377443801843 1.0440413439051637 0.41299921821328295 48.532346063912705\n",
      "Flag 565.40  0 -10358949.358462406 -5365391.590559456 (36428,) 1.0374020303936407 1.216729054931979 1.4052675833132424 1.042108660034573 0.43113572154971036 28.392829306313327\n",
      "Flag 565.40  0 -5365391.590559456 -2778990.9887462724 (20483,) 1.033875567938923 1.216347194897339 1.4131196517213818 1.0391412445175334 0.40843759972378724 15.964925954793452\n",
      "Flag 565.40  0 -2778990.9887462724 -1439371.346002303 (11593,) 1.0310881963422625 1.2149485074366968 1.4128788883314098 1.0384781148498303 0.41255021429540095 9.03585346843336\n",
      "Flag 565.40  0 -1439371.346002303 -745518.7440629877 (6680,) 1.0405071009347981 1.2134986918069017 1.4055712461984753 1.0423532862964788 0.3832058700972775 5.2065471551052225\n",
      "Flag 565.40  0 -745518.7440629877 -386139.54577664996 (3929,) 1.0459235300967444 1.2319447861458872 1.4219674911370093 1.053638600193929 0.3942448677555633 3.0623538581449727\n",
      "Flag 565.40  0 -386139.54577664996 -200000.00000000003 (2311,) 1.0349899677255547 1.2260180431585708 1.4280170213401708 1.0324478504136954 0.39565226361602485 1.8012470771628994\n",
      "Flag 565.40  0 -200000.00000000003 -103589.49358462427 (1447,) 1.0453313499404018 1.231415157485897 1.462790855276174 1.049783158969391 0.3841855897395344 1.127825409197194\n",
      "Flag 565.40  0 -103589.49358462427 -53653.91590559456 (847,) 1.063306563466072 1.245470927792025 1.452287090833019 1.0820257743788901 0.4879460846105589 0.6601714731098987\n",
      "Flag 565.40  0 -53653.91590559456 -27789.909887462723 (462,) 1.0632673193545537 1.245651631970558 1.4650336137478588 1.067458626106349 0.4331274856137863 0.36009353078721745\n",
      "Flag 565.40  0 -27789.909887462723 -14393.71346002303 (255,) 1.0720167933767792 1.2316723467693858 1.4548139636621333 1.0735625105528641 0.4359343802406495 0.19875292283710055\n",
      "Flag 565.40  0 -14393.71346002303 -7455.187440629877 (127,) 1.0484449311838453 1.2633864805354886 1.5044743315429794 1.0586169231189455 0.3751935951681005 0.0989867498051442\n",
      "Flag 565.40  0 -7455.187440629877 -3861.3954577665 (45,) 1.1253929397113467 1.2535965278506793 1.3513679859642056 1.0573925957377108 0.31425163136838596 0.03507404520654715\n",
      "Flag 565.40  0 -3861.3954577665 -2000.0000000000002 (50,) 1.0680789796382113 1.4090720749600085 1.6165681667527803 1.1235521866593385 0.38321875060840166 0.03897116134060795\n",
      "Flag 565.40  0 -2000.0000000000002 -500.0 (760,) 1.065009010983291 1.2239225894415644 1.4175448227285226 1.0775572516127765 0.2882564691963398 0.5923616523772408\n",
      "Flag 565.40  0 -500.0 0.0 (330,) 1.0725469559710494 1.2160062639710456 1.3822662094833886 1.0560898795895637 0.29614929581262117 0.2572096648480125\n",
      "Flag 565.40  0 0.0 500.0 (30,) 0.9758603769707086 1.1185675305355922 1.6263045959503653 1.1979666787716325 0.8540232111125851 0.02338269680436477\n",
      "Flag 565.40  0 500.0 2000.0000000000002 (83,) 1.0507063051699068 1.341940557475192 1.556673501275769 1.2123069852224198 1.2928261427743932 0.0646921278254092\n",
      "Flag 565.40  0 2000.0000000000002 3861.3954577665 (54,) 1.23473931958122 1.495366464410197 1.8580603760466725 1.2445775628150655 0.5629070204434807 0.042088854247856584\n",
      "Flag 565.40  0 3861.3954577665 7455.187440629877 (92,) 1.1627747510669497 1.458134866230768 1.8696792703032374 1.188897152976631 0.5246049429167726 0.07170693686671863\n",
      "Flag 565.40  0 7455.187440629877 14393.71346002303 (147,) 1.176717265433892 1.473906613093618 1.8635602626959928 1.267560456677497 0.5627562830460724 0.11457521434138737\n",
      "Flag 565.40  0 14393.71346002303 27789.909887462723 (218,) 1.1195750314868302 1.3392873381784534 1.6455352355408608 1.187608482629212 1.082395958642175 0.16991426344505067\n",
      "Flag 565.40  0 27789.909887462723 53653.91590559456 (405,) 1.0957089656416528 1.3538482166888037 1.653315496369577 1.1645473281618006 0.8439642045279246 0.3156664068589244\n",
      "Flag 565.40  0 53653.91590559456 103589.49358462427 (672,) 1.0584757582894242 1.2649623546580224 1.5752034808642934 1.113763453208414 0.8406744240887323 0.5237724084177708\n",
      "Flag 565.40  0 103589.49358462427 200000.00000000003 (1358,) 1.0487264324527892 1.2311508403853024 1.4408535212133984 1.0541760065244499 0.35141444541418826 1.0584567420109119\n",
      "Flag 565.40  0 200000.00000000003 386139.54577664996 (2403,) 1.031500865266201 1.2070758511356932 1.4097793002500438 1.0479693003152155 0.41595232133495913 1.8729540140296181\n",
      "Flag 565.40  0 386139.54577664996 745518.7440629877 (4045,) 1.0472238120941075 1.2281204398483003 1.4212322339864094 1.0491133939766413 0.3541239440771571 3.1527669524551833\n",
      "Flag 565.40  0 745518.7440629877 1439371.346002303 (6895,) 1.0406588208423937 1.2169408870757548 1.4057247222328906 1.038768403126473 0.4380011480261647 5.374123148869836\n",
      "Flag 565.40  0 1439371.346002303 2778990.9887462724 (11446,) 1.0396580547936223 1.2201152688316834 1.425288978109418 1.0510386846947362 0.43804717600269377 8.921278254091972\n",
      "Flag 565.40  0 2778990.9887462724 5365391.590559456 (20452,) 1.0338847941456737 1.2192171853130254 1.4196895801826395 1.0433688380080266 0.44607730209510343 15.940763834762276\n",
      "Flag 565.40  0 5365391.590559456 10358949.358462406 (35544,) 1.0366565994022074 1.2156718368166421 1.4148765479184324 1.0441096542917951 0.43094233049442426 27.70381917381138\n",
      "Flag 565.40  0 10358949.358462406 20000000.000000004 (60789,) 1.037439170639191 1.2192042653885131 1.414043122740059 1.0451047204328228 0.45852958603928456 47.38035853468433\n",
      "Flag 565.40  0 20000000.000000004 31428571.42857143 (61391,) 1.040630762792452 1.2187410138336987 1.4095210280185753 1.043536228443179 0.3739051000499661 47.849571317225255\n",
      "Flag 565.40  0 31428571.42857143 42857142.85714286 (54579,) 1.0408718937210186 1.220075854837978 1.4124853349009951 1.045409107421506 0.35050902574788406 42.54014029618082\n",
      "Flag 565.40  0 42857142.85714286 54285714.28571428 (45669,) 1.041558719828972 1.2168512289005802 1.4053608518204501 1.0452311994477859 0.3389372489964878 35.59547934528449\n",
      "Flag 565.40  0 54285714.28571428 65714285.71428572 (39452,) 1.0479091796090887 1.225833840608738 1.4144396912722101 1.0516116484251383 0.3553684590463359 30.749805144193296\n",
      "Flag 565.40  0 65714285.71428572 77142857.14285715 (32495,) 1.0456535455524236 1.2253226969941833 1.418641723720898 1.0516489114270762 0.37957180141013325 25.327357755261108\n",
      "Flag 565.40  0 77142857.14285715 88571428.57142857 (24747,) 1.0460539332819057 1.228094059274965 1.4258270297196571 1.0486475234895467 0.36890448763388695 19.2883865939205\n",
      "Flag 565.40  0 88571428.57142857 100000000.0 (22022,) 1.0499650164257144 1.2297156356812295 1.4327262498553095 1.0554797938816698 0.35895313749340707 17.164458300857365\n",
      "Flag 565.10  1283 2567 (1284, 15425) (1284, 15425)\n",
      "Flag 565.40  1 -100000000.0 -88571428.57142857 (19921,) 1.0642743102440912 1.3105268140077806 1.5673159951834899 1.081858279219688 0.38789767082319776 15.514797507788161\n",
      "Flag 565.40  1 -88571428.57142857 -77142857.14285715 (22238,) 1.0615533330761289 1.3121825721145193 1.5710208920424638 1.0826716160163372 0.38981284333831845 17.319314641744548\n"
     ]
    },
    {
     "name": "stdout",
     "output_type": "stream",
     "text": [
      "Flag 565.40  1 -77142857.14285715 -65714285.71428572 (33432,) 1.0599845933198786 1.302940496661021 1.568955038707486 1.0782557268019421 0.38684541542705936 26.037383177570092\n",
      "Flag 565.40  1 -65714285.71428572 -54285714.28571428 (37807,) 1.0580716747010617 1.3030632769553658 1.5618818211466567 1.0735626999834902 0.3878299601430036 29.444704049844237\n",
      "Flag 565.40  1 -54285714.28571428 -42857142.85714286 (47635,) 1.0589027099833337 1.305747239733457 1.5646998328751565 1.0782158466088547 0.388462688973344 37.098909657320874\n",
      "Flag 565.40  1 -42857142.85714286 -31428571.42857143 (59671,) 1.0555529437645441 1.3018859419246542 1.5584180624926005 1.0738519212477224 0.38616207534506436 46.47274143302181\n",
      "Flag 565.40  1 -31428571.42857143 -20000000.000000004 (63017,) 1.055407432304559 1.3014799126862326 1.56355042875709 1.0749518895939008 0.38900618580526897 49.07866043613707\n",
      "Flag 565.40  1 -20000000.000000004 -10358949.358462406 (60222,) 1.0547266602877332 1.3011688072749923 1.5644528252203733 1.0731958155644035 0.3893251504524909 46.901869158878505\n",
      "Flag 565.40  1 -10358949.358462406 -5365391.590559456 (36622,) 1.0532402805016732 1.3016444633498256 1.557841272432747 1.0724626497936711 0.38842011172863844 28.521806853582554\n",
      "Flag 565.40  1 -5365391.590559456 -2778990.9887462724 (21332,) 1.0602365556186775 1.3004275354105594 1.5585742449251956 1.072487424624814 0.388240566958863 16.613707165109034\n",
      "Flag 565.40  1 -2778990.9887462724 -1439371.346002303 (11937,) 1.047447667837084 1.2936470915167801 1.5569620927925878 1.0687622524372746 0.3853479267066537 9.296728971962617\n",
      "Flag 565.40  1 -1439371.346002303 -745518.7440629877 (7073,) 1.0555193489271582 1.3063328570502866 1.554251576523154 1.0736598442089424 0.38723868468708667 5.508566978193146\n",
      "Flag 565.40  1 -745518.7440629877 -386139.54577664996 (4347,) 1.0610288357677744 1.3109623852501313 1.578373697354592 1.0843238828231707 0.3958900529139523 3.385514018691589\n",
      "Flag 565.40  1 -386139.54577664996 -200000.00000000003 (2594,) 1.0511771032455004 1.3032836877214529 1.5446102183189043 1.0712311906268543 0.3870087559091443 2.020249221183801\n",
      "Flag 565.40  1 -200000.00000000003 -103589.49358462427 (1270,) 1.0530019343187855 1.3003872844531688 1.584678893455429 1.0716915749640537 0.3857667971893099 0.9890965732087228\n",
      "Flag 565.40  1 -103589.49358462427 -53653.91590559456 (818,) 1.0795517797850467 1.3081643632914273 1.594549776820559 1.0957311762705286 0.40122843699951793 0.6370716510903427\n",
      "Flag 565.40  1 -53653.91590559456 -27789.909887462723 (464,) 1.0866731510620884 1.3205620788587837 1.6103834419568162 1.1094166727001615 0.37987704030591507 0.3613707165109034\n",
      "Flag 565.40  1 -27789.909887462723 -14393.71346002303 (235,) 1.0504397153180767 1.302708133646511 1.5507665166353086 1.041996565791278 0.3721029577049629 0.18302180685358255\n",
      "Flag 565.40  1 -14393.71346002303 -7455.187440629877 (116,) 1.0437590597025346 1.378587346658422 1.7185185257321738 1.1206028492830058 0.440166993431061 0.09034267912772585\n",
      "Flag 565.40  1 -7455.187440629877 -3861.3954577665 (59,) 1.0093364059114505 1.2856667155548458 1.497092790116689 1.0419223880348512 0.3647174472320197 0.045950155763239874\n",
      "Flag 565.40  1 -3861.3954577665 -2000.0000000000002 (40,) 1.1257506174064447 1.3308610244552685 1.6115806277198312 1.1557647388430432 0.33525300725539003 0.03115264797507788\n",
      "Flag 565.40  1 -2000.0000000000002 -500.0 (685,) 1.1014140983120995 1.3306565193794784 1.5774987067379775 1.115459866939785 0.3666170696662045 0.5334890965732088\n",
      "Flag 565.40  1 -500.0 0.0 (357,) 1.0791183730180947 1.3004082303899633 1.5461550290314507 1.1034990287240452 0.38353707774581375 0.2780373831775701\n",
      "Flag 565.40  1 0.0 500.0 (21,) 1.142717471291422 1.5327518950932966 1.6141864583431975 1.082579195861967 0.5097950024759201 0.016355140186915886\n",
      "Flag 565.40  1 500.0 2000.0000000000002 (55,) 1.1420925166609832 1.4524313511993192 1.6237520698145138 1.114226876774728 0.4161602435425337 0.042834890965732085\n",
      "Flag 565.40  1 2000.0000000000002 3861.3954577665 (30,) 1.1766533384754503 1.2621532315343282 1.668656977330704 1.1549602435838104 0.42881546051712127 0.02336448598130841\n",
      "Flag 565.40  1 3861.3954577665 7455.187440629877 (55,) 1.223972585162522 1.5149693889958817 1.657607011838527 1.260211558040559 0.5230801106869774 0.042834890965732085\n",
      "Flag 565.40  1 7455.187440629877 14393.71346002303 (99,) 1.0867501968557831 1.4519854618294077 1.5936438199578906 1.123014610948632 0.38685439570830693 0.07710280373831775\n",
      "Flag 565.40  1 14393.71346002303 27789.909887462723 (204,) 1.1163653311950479 1.3931645817450773 1.6154369447939165 1.1104504990291653 0.41812261062051614 0.1588785046728972\n",
      "Flag 565.40  1 27789.909887462723 53653.91590559456 (416,) 1.0809450903213396 1.3166815486101198 1.6281907812738277 1.1014216392656766 0.41664057609152766 0.32398753894080995\n",
      "Flag 565.40  1 53653.91590559456 103589.49358462427 (844,) 1.0732038259986663 1.3171391791927625 1.57675900153593 1.0859515309978447 0.3945299134438477 0.6573208722741433\n",
      "Flag 565.40  1 103589.49358462427 200000.00000000003 (1488,) 1.0545566836946763 1.3080652261581553 1.5809464512668356 1.067495473035289 0.3975981600943459 1.158878504672897\n",
      "Flag 565.40  1 200000.00000000003 386139.54577664996 (2474,) 1.064357509168088 1.3063244536845384 1.5921150475975328 1.0801251017573452 0.39739793837444776 1.926791277258567\n",
      "Flag 565.40  1 386139.54577664996 745518.7440629877 (4383,) 1.0535096297800244 1.2999750951309044 1.560663608383582 1.0687186278561052 0.38223573222790586 3.413551401869159\n",
      "Flag 565.40  1 745518.7440629877 1439371.346002303 (7468,) 1.0501112311418614 1.3000302369139205 1.5668459814338236 1.070429327365335 0.3929395596754565 5.816199376947041\n",
      "Flag 565.40  1 1439371.346002303 2778990.9887462724 (11657,) 1.0524834421535607 1.298119488738567 1.565972717478235 1.0687437263202182 0.3876117615683191 9.078660436137072\n",
      "Flag 565.40  1 2778990.9887462724 5365391.590559456 (21205,) 1.0615891975540308 1.3087064131847952 1.5667542745756378 1.0808983070084517 0.3872296337887982 16.514797507788163\n",
      "Flag 565.40  1 5365391.590559456 10358949.358462406 (35963,) 1.0530781996953278 1.2981705705999171 1.5667505466763925 1.0732943762168579 0.38791173670687595 28.008566978193148\n",
      "Flag 565.40  1 10358949.358462406 20000000.000000004 (57980,) 1.055186924788082 1.3013585142216666 1.5641040104816697 1.074721641575793 0.38667356201257463 45.15576323987539\n",
      "Flag 565.40  1 20000000.000000004 31428571.42857143 (58860,) 1.0602685365905735 1.305959265015567 1.5680165817376293 1.0794208766218745 0.38728629013662336 45.8411214953271\n",
      "Flag 565.40  1 31428571.42857143 42857142.85714286 (54131,) 1.055908312556047 1.3003727919868853 1.5587003092445044 1.0739502168514254 0.3852945683668421 42.15809968847352\n",
      "Flag 565.40  1 42857142.85714286 54285714.28571428 (44727,) 1.0584931977537924 1.297632373230364 1.5604214877313747 1.0758324740824285 0.3834728395669146 34.83411214953271\n",
      "Flag 565.40  1 54285714.28571428 65714285.71428572 (36971,) 1.0561079510844316 1.3013470810476382 1.561019948379678 1.0761035595840687 0.38659590835926144 28.793613707165107\n",
      "Flag 565.40  1 65714285.71428572 77142857.14285715 (29732,) 1.0584345087679763 1.3026732903975704 1.5638093460890383 1.0772134452995255 0.3864920450052478 23.15576323987539\n",
      "Flag 565.40  1 77142857.14285715 88571428.57142857 (23228,) 1.0596072316289757 1.3049898024997904 1.5709821382241125 1.0799605270917014 0.3875337267086268 18.090342679127726\n",
      "Flag 565.40  1 88571428.57142857 100000000.0 (19481,) 1.0579686501398335 1.3014958253790851 1.5676587454531696 1.0766543647865596 0.3884959219683225 15.172118380062305\n",
      "Flag 565.10  2567 3851 (1284, 15425) (1284, 15425)\n",
      "Flag 565.40  2 -100000000.0 -88571428.57142857 (19895,) 1.0430913003746554 1.3781718450901796 1.718516064183707 1.0786891846148698 0.5085649596506995 15.494548286604362\n",
      "Flag 565.40  2 -88571428.57142857 -77142857.14285715 (23379,) 1.0442295081456436 1.3800168679355864 1.7357122451989708 1.082741425216286 0.51579462313744 18.207943925233646\n",
      "Flag 565.40  2 -77142857.14285715 -65714285.71428572 (30605,) 1.0442695078760755 1.372511951066979 1.7153384084556638 1.0773518500119297 0.5052051286994967 23.835669781931465\n",
      "Flag 565.40  2 -65714285.71428572 -54285714.28571428 (38429,) 1.0367432138276593 1.3602605939294556 1.711100363169286 1.071757702406111 0.5010928606845796 29.9291277258567\n"
     ]
    },
    {
     "name": "stdout",
     "output_type": "stream",
     "text": [
      "Flag 565.40  2 -54285714.28571428 -42857142.85714286 (46193,) 1.0414842226330145 1.365619181391833 1.713692129984498 1.0749012228190953 0.5036856941807537 35.97585669781932\n",
      "Flag 565.40  2 -42857142.85714286 -31428571.42857143 (56473,) 1.0386296984866958 1.3612422218886688 1.7047617441927776 1.074394167112163 0.5019112188775897 43.98208722741433\n",
      "Flag 565.40  2 -31428571.42857143 -20000000.000000004 (62693,) 1.0401355253788902 1.3653088458836546 1.7188399557593839 1.0739587810434021 0.5046728589636712 48.82632398753894\n",
      "Flag 565.40  2 -20000000.000000004 -10358949.358462406 (60776,) 1.0401095161957226 1.3666092416063909 1.717370838696679 1.0720677333809336 0.5060015822018823 47.333333333333336\n",
      "Flag 565.40  2 -10358949.358462406 -5365391.590559456 (37078,) 1.0431723991851172 1.3650760306058645 1.7144958955599479 1.0717189257147905 0.5039453459679133 28.876947040498443\n",
      "Flag 565.40  2 -5365391.590559456 -2778990.9887462724 (21590,) 1.0370684936499592 1.367488859108948 1.7112458281318828 1.0725818770466469 0.5050179115617798 16.814641744548286\n",
      "Flag 565.40  2 -2778990.9887462724 -1439371.346002303 (12746,) 1.0457583781210587 1.3758778151948627 1.7131392147930957 1.0787246437182982 0.5041373296125476 9.926791277258568\n",
      "Flag 565.40  2 -1439371.346002303 -745518.7440629877 (7802,) 1.0470002991072 1.3627730892610166 1.7151932128124514 1.0761766699612003 0.5156146705825488 6.076323987538941\n",
      "Flag 565.40  2 -745518.7440629877 -386139.54577664996 (4479,) 1.0436815003944266 1.3515038677008224 1.720835268643376 1.072695778926033 0.4995332897909257 3.4883177570093458\n",
      "Flag 565.40  2 -386139.54577664996 -200000.00000000003 (2616,) 1.0228196028214385 1.3491352374787136 1.7294715217454875 1.0653830355864784 0.501692328775332 2.0373831775700935\n",
      "Flag 565.40  2 -200000.00000000003 -103589.49358462427 (1587,) 1.0399243385357773 1.363638891104289 1.6919115344625417 1.072032273156795 0.5083237589026196 1.235981308411215\n",
      "Flag 565.40  2 -103589.49358462427 -53653.91590559456 (905,) 1.0522769865298036 1.3609244277882586 1.7017489282811498 1.0927765830399938 0.49852547971448996 0.7048286604361371\n",
      "Flag 565.40  2 -53653.91590559456 -27789.909887462723 (481,) 1.0207025140750103 1.3475994477842288 1.6964355184187343 1.05029389226852 0.5225807955507861 0.37461059190031154\n",
      "Flag 565.40  2 -27789.909887462723 -14393.71346002303 (285,) 1.0089750135261806 1.3387817904723984 1.6514465533411375 1.0629251603794825 0.49670055953588865 0.2219626168224299\n",
      "Flag 565.40  2 -14393.71346002303 -7455.187440629877 (160,) 1.0497954348804055 1.3121082987250625 1.784120658786457 1.1165675246673252 0.5199978313598305 0.12461059190031153\n",
      "Flag 565.40  2 -7455.187440629877 -3861.3954577665 (56,) 1.1870403275388155 1.5022772134114646 1.854206817106654 1.1930723432874417 0.5012041150132274 0.04361370716510903\n",
      "Flag 565.40  2 -3861.3954577665 -2000.0000000000002 (36,) 1.0310678107341849 1.3783863980234292 1.6349779158437185 1.0540858355355556 0.4494723561391487 0.028037383177570093\n",
      "Flag 565.40  2 -2000.0000000000002 -500.0 (612,) 1.0984026517073096 1.4037375782351689 1.7647258536942796 1.1322722905382308 0.4588057389249351 0.4766355140186916\n",
      "Flag 565.40  2 -500.0 0.0 (345,) 1.075304205680753 1.3702604543211077 1.6629703495847505 1.0888708123872846 0.4730044763803325 0.26869158878504673\n",
      "Flag 565.40  2 0.0 500.0 (22,) 1.2902870814917142 1.5639316381759307 1.7378731617580945 1.312416890293104 0.5085047706041768 0.017133956386292833\n",
      "Flag 565.40  2 500.0 2000.0000000000002 (32,) 1.2308668274991703 1.762452123315138 1.9361422665461665 1.258615239261571 0.6442572975186337 0.024922118380062305\n",
      "Flag 565.40  2 2000.0000000000002 3861.3954577665 (25,) 1.1919885776975634 1.5388849894534096 2.1744842849105224 1.3299772530596803 0.6405775776516786 0.019470404984423675\n",
      "Flag 565.40  2 3861.3954577665 7455.187440629877 (56,) 1.1874175715143065 1.670352713559454 2.170533829342839 1.2799614130310464 0.6428827448051982 0.04361370716510903\n",
      "Flag 565.40  2 7455.187440629877 14393.71346002303 (109,) 1.2119936439996484 1.5058398246833338 1.9470809001226628 1.2203046946468772 0.6032982012904169 0.08489096573208722\n",
      "Flag 565.40  2 14393.71346002303 27789.909887462723 (235,) 1.0874015542293234 1.3458026404807288 1.657670682094508 1.0869928389909604 0.46070733589247354 0.18302180685358255\n",
      "Flag 565.40  2 27789.909887462723 53653.91590559456 (463,) 1.004527982788254 1.3583123834381277 1.7996993783699502 1.07557322736395 0.5498054302417161 0.3605919003115265\n",
      "Flag 565.40  2 53653.91590559456 103589.49358462427 (907,) 1.0925572293064816 1.39455579708051 1.7301288923526652 1.1136767467001838 0.5158851392358021 0.706386292834891\n",
      "Flag 565.40  2 103589.49358462427 200000.00000000003 (1534,) 1.0459389821244987 1.3840104534576407 1.7587826819342736 1.0919035180193837 0.5041631420743261 1.1947040498442367\n",
      "Flag 565.40  2 200000.00000000003 386139.54577664996 (2785,) 1.055009054438523 1.3832614866033446 1.7181107747520277 1.084131028898909 0.5041226470984107 2.1690031152647977\n",
      "Flag 565.40  2 386139.54577664996 745518.7440629877 (4555,) 1.045248312451795 1.3801569325944367 1.7344139230425346 1.085646427264491 0.5075954187384465 3.547507788161994\n",
      "Flag 565.40  2 745518.7440629877 1439371.346002303 (7409,) 1.0504806431431328 1.3783060899995079 1.702906596773572 1.0779185544044712 0.5071144254992425 5.770249221183801\n",
      "Flag 565.40  2 1439371.346002303 2778990.9887462724 (12534,) 1.0460254999852603 1.3651427793566944 1.7194862472108552 1.0767908003139022 0.5031023413489052 9.761682242990654\n",
      "Flag 565.40  2 2778990.9887462724 5365391.590559456 (21422,) 1.0410055657604196 1.3542238075587896 1.6948845601969644 1.07055206906299 0.5053139555553007 16.68380062305296\n",
      "Flag 565.40  2 5365391.590559456 10358949.358462406 (35980,) 1.0458093186555564 1.3715691411749031 1.7110497600772898 1.0786670142506756 0.5044177797832373 28.021806853582554\n",
      "Flag 565.40  2 10358949.358462406 20000000.000000004 (56979,) 1.0438347143086764 1.3660457242595507 1.7055975280801274 1.075826237804331 0.5007610107655368 44.376168224299064\n",
      "Flag 565.40  2 20000000.000000004 31428571.42857143 (59825,) 1.0462550048229773 1.3698771999829202 1.7228635185182153 1.0787069349271465 0.5064384857086206 46.59267912772586\n",
      "Flag 565.40  2 31428571.42857143 42857142.85714286 (51113,) 1.0469071268135524 1.3677715736490768 1.7131289154722578 1.0785829533175872 0.5039491369959045 39.807632398753896\n",
      "Flag 565.40  2 42857142.85714286 54285714.28571428 (42824,) 1.0462382729310415 1.374553844441118 1.7185447144497101 1.0789707497061152 0.5070229384836485 33.35202492211838\n",
      "Flag 565.40  2 54285714.28571428 65714285.71428572 (36625,) 1.0477287836607116 1.367287196712203 1.7177263657346287 1.0796999494180177 0.5034714470176405 28.524143302180686\n",
      "Flag 565.40  2 65714285.71428572 77142857.14285715 (31273,) 1.0404854932806462 1.3656426199050478 1.7229049658086577 1.0752729787967084 0.5096261977806468 24.355919003115265\n",
      "Flag 565.40  2 77142857.14285715 88571428.57142857 (22335,) 1.0400688616560974 1.3739276091182921 1.725318455800775 1.0772314507608918 0.5100351702193934 17.39485981308411\n",
      "Flag 565.40  2 88571428.57142857 100000000.0 (19440,) 1.0495259137768373 1.3674328504712054 1.709527926978726 1.0797455361642943 0.4970290678524613 15.14018691588785\n",
      "Flag 565.10  3851 5135 (1284, 15425) (1284, 15425)\n",
      "Flag 565.40  3 -100000000.0 -88571428.57142857 (18893,) 1.033730862551838 1.4433509678762375 1.881536916184458 1.0859576736378547 0.638002840939327 14.71417445482866\n",
      "Flag 565.40  3 -88571428.57142857 -77142857.14285715 (22045,) 1.025925657267274 1.4360416431579133 1.9033137634891353 1.0776488735088974 0.6439491020725716 17.169003115264797\n",
      "Flag 565.40  3 -77142857.14285715 -65714285.71428572 (29610,) 1.0216653481816782 1.4282266787383076 1.8896525044501096 1.0756289927238032 0.6369948089924004 23.060747663551403\n",
      "Flag 565.40  3 -65714285.71428572 -54285714.28571428 (38393,) 1.016439809788626 1.426207507476868 1.8747431115122066 1.0683940794489992 0.6327669899487818 29.90109034267913\n",
      "Flag 565.40  3 -54285714.28571428 -42857142.85714286 (45620,) 1.0239951311780353 1.4259587609009061 1.8746255008324184 1.071859664022374 0.6269677840876932 35.52959501557633\n",
      "Flag 565.40  3 -42857142.85714286 -31428571.42857143 (54010,) 1.0240711055324603 1.4323668873437634 1.8916718098571974 1.0772407723352206 0.6311159368995224 42.06386292834891\n"
     ]
    },
    {
     "name": "stdout",
     "output_type": "stream",
     "text": [
      "Flag 565.40  3 -31428571.42857143 -20000000.000000004 (60192,) 1.021825401421634 1.4293636262432097 1.873965106344236 1.072773172065701 0.6306479371756788 46.87850467289719\n",
      "Flag 565.40  3 -20000000.000000004 -10358949.358462406 (56628,) 1.031206349796081 1.4315146074663143 1.8815098230217464 1.0774856985976056 0.6304158073785516 44.10280373831776\n",
      "Flag 565.40  3 -10358949.358462406 -5365391.590559456 (35243,) 1.0233253309495665 1.4255849096850346 1.886384806132655 1.0734490768598468 0.6314241063550592 27.447819314641745\n",
      "Flag 565.40  3 -5365391.590559456 -2778990.9887462724 (20263,) 1.0191977107311367 1.4268349203630666 1.8737669270770045 1.0670144675320103 0.6335459963063127 15.781152647975079\n",
      "Flag 565.40  3 -2778990.9887462724 -1439371.346002303 (12486,) 1.0253844715419687 1.4352987527126384 1.879641328975895 1.0752795880926138 0.63542385042165 9.72429906542056\n",
      "Flag 565.40  3 -1439371.346002303 -745518.7440629877 (8035,) 1.0180021181506094 1.4354081538202577 1.8751923644124973 1.068897987429679 0.624685203067209 6.257788161993769\n",
      "Flag 565.40  3 -745518.7440629877 -386139.54577664996 (4801,) 1.0290945648706404 1.4498225109282978 1.9199699145836107 1.0816016594470705 0.6384165358967349 3.7390965732087227\n",
      "Flag 565.40  3 -386139.54577664996 -200000.00000000003 (2867,) 1.0245506409617484 1.429740645206408 1.8947805962237143 1.0754225173180532 0.6448582674678346 2.2328660436137073\n",
      "Flag 565.40  3 -200000.00000000003 -103589.49358462427 (1501,) 1.023436968058295 1.447189043842426 1.8509644651280237 1.0755371009118442 0.6336889429067121 1.1690031152647975\n",
      "Flag 565.40  3 -103589.49358462427 -53653.91590559456 (933,) 1.003253562883473 1.3564971766722267 1.8334060558506722 1.0349277078692671 0.6084690107805009 0.7266355140186916\n",
      "Flag 565.40  3 -53653.91590559456 -27789.909887462723 (539,) 1.0297928317934502 1.4622829429736335 1.9402576129588127 1.0902109738980856 0.6393531503337964 0.4197819314641745\n",
      "Flag 565.40  3 -27789.909887462723 -14393.71346002303 (300,) 0.9845192839643784 1.4099658110492324 1.7866042461558607 1.0589750898310868 0.6267785458265095 0.2336448598130841\n",
      "Flag 565.40  3 -14393.71346002303 -7455.187440629877 (145,) 1.1521115710641645 1.4626003471091384 2.0093886529469875 1.23161601767647 0.6998364676075 0.11292834890965732\n",
      "Flag 565.40  3 -7455.187440629877 -3861.3954577665 (76,) 1.202590689255095 1.506100555685059 1.8869602259964227 1.2147308425294843 0.6579846399648708 0.059190031152647975\n",
      "Flag 565.40  3 -3861.3954577665 -2000.0000000000002 (36,) 1.122084658101064 1.587790579588483 2.0216790083662532 1.1780841431220626 0.7306103911399865 0.028037383177570093\n",
      "Flag 565.40  3 -2000.0000000000002 -500.0 (595,) 1.0544259514921719 1.4518992873706216 1.8366867180632762 1.0989501674041198 0.5874911211670072 0.4633956386292835\n",
      "Flag 565.40  3 -500.0 0.0 (311,) 1.0806540914202887 1.5825013326622277 2.1030421543242572 1.187283873390073 0.744574270243445 0.24221183800623053\n",
      "Flag 565.40  3 0.0 500.0 (16,) 0.9140028233363137 1.1839919736869535 1.9270357956717252 1.000709815412062 0.6061706988562828 0.012461059190031152\n",
      "Flag 565.40  3 500.0 2000.0000000000002 (42,) 1.1005556387435784 1.7666567015034076 2.33581121580129 1.2422381790834514 0.7978624892830362 0.03271028037383177\n",
      "Flag 565.40  3 2000.0000000000002 3861.3954577665 (32,) 1.2597266515993213 1.7242304907816925 2.47233243597763 1.5121249654332263 1.3889209490124317 0.024922118380062305\n",
      "Flag 565.40  3 3861.3954577665 7455.187440629877 (54,) 1.0320387433672884 1.5404079797921044 2.084430473404813 1.1806870150772524 0.7544013036052934 0.04205607476635514\n",
      "Flag 565.40  3 7455.187440629877 14393.71346002303 (139,) 1.1333647285026371 1.576485884877055 2.147452787816672 1.2162686385959574 0.6751196856998506 0.10825545171339564\n",
      "Flag 565.40  3 14393.71346002303 27789.909887462723 (243,) 1.0769866925998948 1.5254548766990657 2.186748812875813 1.1883741619842068 0.7141527742575502 0.18925233644859812\n",
      "Flag 565.40  3 27789.909887462723 53653.91590559456 (549,) 1.041980615144721 1.4773188789344458 1.9931313159129658 1.1047618685561247 0.6877918775013996 0.42757009345794394\n",
      "Flag 565.40  3 53653.91590559456 103589.49358462427 (936,) 0.9511125902237727 1.3904857984515564 1.8019455576381298 1.0217465266082417 0.6055446687672892 0.7289719626168224\n",
      "Flag 565.40  3 103589.49358462427 200000.00000000003 (1477,) 1.0367232522341603 1.4463532783889226 1.8865509928402928 1.094860200940187 0.6260442863935359 1.1503115264797508\n",
      "Flag 565.40  3 200000.00000000003 386139.54577664996 (2777,) 1.0520687248796539 1.452060949850158 1.8992150102510987 1.089850635134783 0.6278437249949175 2.162772585669782\n",
      "Flag 565.40  3 386139.54577664996 745518.7440629877 (4886,) 1.0130256456299849 1.4098385270416882 1.8633480163909457 1.061023006943584 0.6289620451729054 3.805295950155763\n",
      "Flag 565.40  3 745518.7440629877 1439371.346002303 (7971,) 1.018276235494945 1.425253133792618 1.8902335228398475 1.0695932417488778 0.6301403195626541 6.207943925233645\n",
      "Flag 565.40  3 1439371.346002303 2778990.9887462724 (12869,) 1.0141752590181867 1.4400051085546266 1.9047125460509582 1.0736537927054386 0.6470725633039877 10.02258566978193\n",
      "Flag 565.40  3 2778990.9887462724 5365391.590559456 (21274,) 1.028622908085063 1.4375144815546657 1.8777295705553583 1.0785417134030109 0.627098686989703 16.568535825545172\n",
      "Flag 565.40  3 5365391.590559456 10358949.358462406 (37336,) 1.0228537878603259 1.436829007130964 1.884213887781038 1.0715041315380252 0.6335025887147198 29.077881619937695\n",
      "Flag 565.40  3 10358949.358462406 20000000.000000004 (59653,) 1.02218581730739 1.4335293887294398 1.8923661174785527 1.074237008218995 0.6360158663679871 46.45872274143302\n",
      "Flag 565.40  3 20000000.000000004 31428571.42857143 (59601,) 1.0244595636264127 1.4334587889329584 1.8898913817623177 1.0752363188349978 0.6379972411052106 46.41822429906542\n",
      "Flag 565.40  3 31428571.42857143 42857142.85714286 (54799,) 1.0253827587781148 1.426172920431603 1.873530221687055 1.0740148787605037 0.62930883227733 42.67834890965732\n",
      "Flag 565.40  3 42857142.85714286 54285714.28571428 (45956,) 1.0272089526202133 1.4275844477571955 1.8713834855217337 1.0747222795463607 0.6275684113054363 35.79127725856698\n",
      "Flag 565.40  3 54285714.28571428 65714285.71428572 (38688,) 1.0315869625275724 1.4322715368621775 1.882928259010343 1.080299106374791 0.6323630309953889 30.130841121495326\n",
      "Flag 565.40  3 65714285.71428572 77142857.14285715 (31496,) 1.0223086425443113 1.431828612097724 1.8743059866618959 1.0727179987261823 0.631609445027282 24.529595015576323\n",
      "Flag 565.40  3 77142857.14285715 88571428.57142857 (23293,) 1.0230546875268152 1.423959857395667 1.8819371327342913 1.072491395189115 0.6320037880187287 18.140965732087228\n",
      "Flag 565.40  3 88571428.57142857 100000000.0 (19392,) 1.026051123195867 1.4432716276561635 1.8727778271058144 1.0773938526990987 0.632361253606893 15.102803738317757\n",
      "Flag 565.10  5135 6418 (1283, 15425) (1283, 15425)\n",
      "Flag 565.40  4 -100000000.0 -88571428.57142857 (18634,) 0.9802295433171095 1.4973799463314288 2.0954016635479076 1.068241458418685 0.7976917706922034 14.523772408417772\n",
      "Flag 565.40  4 -88571428.57142857 -77142857.14285715 (22612,) 0.9758153660725215 1.4904208830949022 2.0884830913581425 1.0618021506778088 0.7979958014034745 17.62431800467654\n",
      "Flag 565.40  4 -77142857.14285715 -65714285.71428572 (30866,) 0.9841491603442847 1.5008804094429091 2.0880722970719616 1.0698945160545286 0.7897443741164845 24.0576773187841\n",
      "Flag 565.40  4 -65714285.71428572 -54285714.28571428 (37163,) 0.9772350115135322 1.4877254235582438 2.0785150309153786 1.0643369264117841 0.7861879984757164 28.965705378020264\n",
      "Flag 565.40  4 -54285714.28571428 -42857142.85714286 (46671,) 0.9821850723604943 1.4875577400986408 2.0668828482320722 1.0630050679843621 0.7808264308293754 36.37646141855027\n",
      "Flag 565.40  4 -42857142.85714286 -31428571.42857143 (54712,) 0.9839067019593303 1.4897785316637269 2.052455036898235 1.0643604875404344 0.774008040762436 42.643803585346845\n",
      "Flag 565.40  4 -31428571.42857143 -20000000.000000004 (62640,) 0.9839298079838699 1.4968653546575825 2.0849084114736436 1.0681729379002067 0.7824461723280198 48.82307092751364\n",
      "Flag 565.40  4 -20000000.000000004 -10358949.358462406 (60031,) 0.9847166027566429 1.5024472218933491 2.0859032908570567 1.0693082534992346 0.7876590327554296 46.78955572876072\n"
     ]
    },
    {
     "name": "stdout",
     "output_type": "stream",
     "text": [
      "Flag 565.40  4 -10358949.358462406 -5365391.590559456 (38329,) 0.9894863036178331 1.5099873400840638 2.1040665121244713 1.077359743059436 0.7958499369924816 29.874512860483243\n",
      "Flag 565.40  4 -5365391.590559456 -2778990.9887462724 (22239,) 0.9813126098311223 1.4890381312801892 2.088173012554629 1.064653183244963 0.7867610885664391 17.333593141075603\n",
      "Flag 565.40  4 -2778990.9887462724 -1439371.346002303 (12869,) 0.9686264970199604 1.4978964337127763 2.1007846657488813 1.069044142083331 0.8009491974414744 10.030397505845674\n",
      "Flag 565.40  4 -1439371.346002303 -745518.7440629877 (8213,) 0.9761349002610261 1.5021894743591206 2.065788839192594 1.0516049600476984 0.7863887996257041 6.4014029618082615\n",
      "Flag 565.40  4 -745518.7440629877 -386139.54577664996 (4677,) 0.9794622361402903 1.5153040488098415 2.113554985033356 1.0610285524043395 0.7978202847142636 3.645362431800468\n",
      "Flag 565.40  4 -386139.54577664996 -200000.00000000003 (2809,) 0.9868669833001052 1.5122300338344286 2.1112071490764195 1.0701713672594195 0.7885319935706299 2.189399844115355\n",
      "Flag 565.40  4 -200000.00000000003 -103589.49358462427 (1712,) 0.9657240944825753 1.5142410210945565 2.1041244125746488 1.0682350241214504 0.800686464751241 1.3343725643024162\n",
      "Flag 565.40  4 -103589.49358462427 -53653.91590559456 (896,) 1.0170521331492945 1.5455843995836087 2.145180471521414 1.1015203893142975 0.7892380156567145 0.6983632112236945\n",
      "Flag 565.40  4 -53653.91590559456 -27789.909887462723 (512,) 0.9962284778500841 1.4750351761954743 2.1710419972441595 1.0813857589944091 0.8208174947843566 0.3990646921278254\n",
      "Flag 565.40  4 -27789.909887462723 -14393.71346002303 (252,) 1.0787008678317611 1.5890493855878913 2.2520781074240324 1.1576769241447726 0.811155968326733 0.19641465315666407\n",
      "Flag 565.40  4 -14393.71346002303 -7455.187440629877 (129,) 1.0568467843911316 1.5758481521104646 2.280717970809951 1.1264781950099836 0.7577242865364731 0.10054559625876851\n",
      "Flag 565.40  4 -7455.187440629877 -3861.3954577665 (67,) 1.2322653228128446 1.7589955706847282 2.4128580238534933 1.3194086684449478 0.8855138512866965 0.05222135619641465\n",
      "Flag 565.40  4 -3861.3954577665 -2000.0000000000002 (36,) 0.9917519797800306 1.417292046204734 2.2091976470411714 1.1091728951535214 0.7540180325399694 0.028059236165237724\n",
      "Flag 565.40  4 -2000.0000000000002 -500.0 (542,) 0.9977892988272246 1.4552832509204723 1.9626284556907252 1.0393471204294218 0.7342582700390713 0.4224473889321902\n",
      "Flag 565.40  4 -500.0 0.0 (266,) 1.051052205318608 1.6781295345422569 2.188580145590494 1.127331684426064 0.7707020215388998 0.2073265783320343\n",
      "Flag 565.40  4 0.0 500.0 (24,) 0.9715651007265733 1.3074688035363138 1.6443177715925628 0.9958844107684536 0.5611322126091972 0.018706157443491817\n",
      "Flag 565.40  4 500.0 2000.0000000000002 (32,) 1.1875427483968388 1.7644059138734627 2.5628839494309212 1.4209605796184612 0.8334399841404021 0.02494154325798909\n",
      "Flag 565.40  4 2000.0000000000002 3861.3954577665 (26,) 1.2010337171635872 2.0116711029004337 2.4493384331239314 1.3689743660536098 0.9218850751942222 0.020265003897116135\n",
      "Flag 565.40  4 3861.3954577665 7455.187440629877 (61,) 0.9969295312081443 1.738198958069164 2.316242947621779 1.1694475052555717 0.8359204258135365 0.0475448168355417\n",
      "Flag 565.40  4 7455.187440629877 14393.71346002303 (141,) 1.0312444193930628 1.6351739769340268 2.512689695042555 1.2739844919251062 1.032323456165782 0.10989867498051442\n",
      "Flag 565.40  4 14393.71346002303 27789.909887462723 (265,) 1.0057349846660202 1.4879473717251697 2.073783783013635 1.0856144069265674 0.7928227245909276 0.20654715510522215\n",
      "Flag 565.40  4 27789.909887462723 53653.91590559456 (501,) 0.9981742027888418 1.5127114128965051 2.0974515906686393 1.090610020421524 0.8281827935558721 0.39049103663289164\n",
      "Flag 565.40  4 53653.91590559456 103589.49358462427 (957,) 0.981724103756473 1.4814703318400402 2.250302481492393 1.084477405293505 0.8103298976095799 0.7459080280592362\n",
      "Flag 565.40  4 103589.49358462427 200000.00000000003 (1644,) 0.982509552971508 1.5143341278203297 2.0346224963946113 1.0537480299595376 0.768229252213462 1.2813717848791895\n",
      "Flag 565.40  4 200000.00000000003 386139.54577664996 (2928,) 0.9596291526309846 1.4920440424468606 2.07537741490579 1.053535647659748 0.7698417331921673 2.2821512081060016\n",
      "Flag 565.40  4 386139.54577664996 745518.7440629877 (5030,) 0.975560960127213 1.500767953116343 2.1126033842389176 1.0625353280386207 0.791778570625847 3.9204988308651596\n",
      "Flag 565.40  4 745518.7440629877 1439371.346002303 (8599,) 0.9901866708392498 1.4992670794983072 2.100127940383823 1.0744787180487114 0.802811041717516 6.702260327357755\n",
      "Flag 565.40  4 1439371.346002303 2778990.9887462724 (12820,) 0.9792687710173213 1.4873915326906515 2.0971601974595937 1.0654112774870994 0.7971230388541028 9.992205767731878\n",
      "Flag 565.40  4 2778990.9887462724 5365391.590559456 (21508,) 0.9878914280825237 1.5011532467456035 2.0809275795241744 1.0705718442510301 0.7824505795363649 16.763834762275916\n",
      "Flag 565.40  4 5365391.590559456 10358949.358462406 (36700,) 0.9717731929263375 1.5008171765638885 2.0868833140939698 1.0616131027085556 0.7931722950784702 28.604832424006236\n",
      "Flag 565.40  4 10358949.358462406 20000000.000000004 (56850,) 0.9886726858732329 1.5061849749705234 2.0853731505476616 1.0735772502979004 0.7855965402743768 44.31021044427124\n",
      "Flag 565.40  4 20000000.000000004 31428571.42857143 (60462,) 0.990079238095994 1.50072841445747 2.0855614257682684 1.0742531595041223 0.7880222528358611 47.12548713951676\n",
      "Flag 565.40  4 31428571.42857143 42857142.85714286 (55076,) 0.9868766088887828 1.5044181189371904 2.0882973924282844 1.0721467468133286 0.7917174197794576 42.92751363990647\n",
      "Flag 565.40  4 42857142.85714286 54285714.28571428 (45472,) 0.9924441941849872 1.5018334462116647 2.0857650776787082 1.0734408578056733 0.7866773506732353 35.4419329696025\n",
      "Flag 565.40  4 54285714.28571428 65714285.71428572 (37316,) 0.9871690827014387 1.5007058455907332 2.087730717877591 1.0713600161921755 0.7904964155523712 29.084957131722526\n",
      "Flag 565.40  4 65714285.71428572 77142857.14285715 (29157,) 0.9766387321015069 1.496959693356337 2.1108275545820505 1.0654573138351788 0.7954668725221171 22.72564302416212\n",
      "Flag 565.40  4 77142857.14285715 88571428.57142857 (21790,) 0.9912368290450225 1.5195070016085528 2.1174985281163954 1.083366455685783 0.7987842399464082 16.983632112236943\n",
      "Flag 565.40  4 88571428.57142857 100000000.0 (17461,) 0.9917626724533531 1.524519023569604 2.095141024382652 1.0786631068809163 0.790824414135389 13.609508963367109\n",
      "Flag 565.10  6418 7702 (1284, 15425) (1284, 15425)\n",
      "Flag 565.40  5 -100000000.0 -88571428.57142857 (18784,) 0.9807421241477534 1.6023295150664696 2.3869092798302223 1.0758302592187001 1.0276959270817103 14.629283489096574\n",
      "Flag 565.40  5 -88571428.57142857 -77142857.14285715 (23968,) 0.9829797717570287 1.6217187854279258 2.370710911827548 1.0689407915747984 1.0268286859052327 18.666666666666668\n",
      "Flag 565.40  5 -77142857.14285715 -65714285.71428572 (30836,) 0.9884539358478999 1.623399059392094 2.4126043419004928 1.0816977090925677 1.0289917352031168 24.01557632398754\n",
      "Flag 565.40  5 -65714285.71428572 -54285714.28571428 (36881,) 0.9803861468899869 1.6019986203597651 2.3880207427808653 1.0706619895777254 1.012898074939701 28.723520249221185\n",
      "Flag 565.40  5 -54285714.28571428 -42857142.85714286 (44804,) 0.9785908407814072 1.6083174342903857 2.3731364233618524 1.0712560131016826 1.0101177833963786 34.89408099688473\n",
      "Flag 565.40  5 -42857142.85714286 -31428571.42857143 (55681,) 0.9678080850090773 1.597477092679834 2.3552013902996145 1.0626017970484525 1.016716746435848 43.36526479750779\n",
      "Flag 565.40  5 -31428571.42857143 -20000000.000000004 (58751,) 0.9765020658489639 1.6038631399247283 2.363761688845735 1.06873733442927 1.016120717773674 45.756230529595015\n",
      "Flag 565.40  5 -20000000.000000004 -10358949.358462406 (58547,) 0.9756243274679495 1.6066174117558467 2.374835328050289 1.0687370151870386 1.0195271772925976 45.59735202492212\n",
      "Flag 565.40  5 -10358949.358462406 -5365391.590559456 (38407,) 0.9872765862954316 1.6214373376790234 2.396682851277228 1.080274805253041 1.0300785854796377 29.911993769470406\n",
      "Flag 565.40  5 -5365391.590559456 -2778990.9887462724 (22798,) 0.9729799157643684 1.5916925810817513 2.354031210215544 1.0642458692044463 1.0133557571072307 17.75545171339564\n"
     ]
    },
    {
     "name": "stdout",
     "output_type": "stream",
     "text": [
      "Flag 565.40  5 -2778990.9887462724 -1439371.346002303 (13291,) 0.9930385527834364 1.632402948703842 2.4068283143411837 1.0844304477874545 1.0248294039322816 10.351246105919003\n",
      "Flag 565.40  5 -1439371.346002303 -745518.7440629877 (8081,) 0.9740264174582108 1.6095048640601082 2.3481692155242486 1.0653737788096163 1.0216816675982867 6.293613707165109\n",
      "Flag 565.40  5 -745518.7440629877 -386139.54577664996 (4738,) 0.9650300320394253 1.6136208335761428 2.378638446242129 1.0606055719404843 1.0191881965629215 3.690031152647975\n",
      "Flag 565.40  5 -386139.54577664996 -200000.00000000003 (2768,) 0.9826636217359408 1.5950839788069946 2.3838628164974236 1.0685025473117893 1.0127092051214472 2.155763239875389\n",
      "Flag 565.40  5 -200000.00000000003 -103589.49358462427 (1534,) 0.9693591522228946 1.5950169439742268 2.3279084158880803 1.0543565083374546 1.0059563387749053 1.1947040498442367\n",
      "Flag 565.40  5 -103589.49358462427 -53653.91590559456 (902,) 0.9883419590609934 1.590813280065464 2.3415124852376232 1.069119392760927 0.9845833758451965 0.7024922118380063\n",
      "Flag 565.40  5 -53653.91590559456 -27789.909887462723 (513,) 0.970188163548814 1.6158064188657677 2.2407037006217783 1.069206914680581 0.9670047514469974 0.39953271028037385\n",
      "Flag 565.40  5 -27789.909887462723 -14393.71346002303 (309,) 0.9727992552447406 1.5209397381407064 2.2904647213601814 1.0261578892076673 0.9468223487574753 0.24065420560747663\n",
      "Flag 565.40  5 -14393.71346002303 -7455.187440629877 (129,) 0.9373024634318391 1.3954663194128936 2.5980778110863056 1.0973664728043473 1.1718473221745158 0.10046728971962617\n",
      "Flag 565.40  5 -7455.187440629877 -3861.3954577665 (65,) 0.7316213937922252 1.3495999080364516 2.3000749819997752 0.9633613000058436 1.0788499505399998 0.050623052959501556\n",
      "Flag 565.40  5 -3861.3954577665 -2000.0000000000002 (36,) 1.0856341657563453 1.586484042567534 2.5271683140728616 1.2557848570572654 1.0525152567713747 0.028037383177570093\n",
      "Flag 565.40  5 -2000.0000000000002 -500.0 (476,) 1.0674539974826172 1.7058586790045265 2.4249573474403974 1.1723952463924985 0.9942443034782571 0.3707165109034268\n",
      "Flag 565.40  5 -500.0 0.0 (217,) 0.8559417134834709 1.492617871662393 2.404254544451799 1.010774929178686 1.0296713014104684 0.1690031152647975\n",
      "Flag 565.40  5 0.0 500.0 (13,) 0.8280182401460959 1.36739973679005 2.1194810301867926 0.9348338455663414 0.771242913874045 0.010124610591900311\n",
      "Flag 565.40  5 500.0 2000.0000000000002 (22,) 1.1712021512662565 1.6572806104243232 2.068663674784688 1.2095090692510821 1.0617275382594111 0.017133956386292833\n",
      "Flag 565.40  5 2000.0000000000002 3861.3954577665 (24,) 1.3459346758993345 1.8418042362777016 2.5159712601194117 1.4483095778486417 1.4149225978404307 0.018691588785046728\n",
      "Flag 565.40  5 3861.3954577665 7455.187440629877 (38,) 1.1833289806526754 1.6074474440854112 2.3160674949825224 1.2030551714035533 0.9603033154613393 0.029595015576323987\n",
      "Flag 565.40  5 7455.187440629877 14393.71346002303 (110,) 0.9788640769857623 1.5974043462801508 2.5777826823795547 1.1155540862447502 1.1881632757609826 0.08566978193146417\n",
      "Flag 565.40  5 14393.71346002303 27789.909887462723 (255,) 1.094715591552525 1.6161124608225685 2.6600402835956576 1.1503726836842205 1.1991547609542261 0.1985981308411215\n",
      "Flag 565.40  5 27789.909887462723 53653.91590559456 (483,) 0.957607560518315 1.5218027546899136 2.445007522193589 1.0201300828844417 0.9945789120311017 0.37616822429906543\n",
      "Flag 565.40  5 53653.91590559456 103589.49358462427 (968,) 1.021416406500681 1.5924602738599227 2.370333104586476 1.091525840233073 1.037474960157431 0.7538940809968847\n",
      "Flag 565.40  5 103589.49358462427 200000.00000000003 (1683,) 1.003215473889387 1.6209626882617707 2.2963927373192603 1.0783588131172328 1.0036806726490388 1.310747663551402\n",
      "Flag 565.40  5 200000.00000000003 386139.54577664996 (2870,) 0.9502137603542213 1.5550826042760222 2.3294738866189544 1.0446916729422069 1.0076729804404734 2.235202492211838\n",
      "Flag 565.40  5 386139.54577664996 745518.7440629877 (4781,) 0.9929295622953955 1.6090790791229623 2.38563193898444 1.0698143763109988 1.006605148546047 3.723520249221184\n",
      "Flag 565.40  5 745518.7440629877 1439371.346002303 (8357,) 0.95430541125461 1.5964369277683115 2.3722741658777036 1.0536501720092482 1.0184154692167569 6.508566978193146\n",
      "Flag 565.40  5 1439371.346002303 2778990.9887462724 (13060,) 0.9866136018185838 1.6244779459359915 2.3947954206601003 1.0736401947044834 1.0140243476698465 10.171339563862928\n",
      "Flag 565.40  5 2778990.9887462724 5365391.590559456 (22607,) 0.9694663027419504 1.603017228032516 2.380288551007448 1.0705706457549053 1.0223639326512846 17.606697819314643\n",
      "Flag 565.40  5 5365391.590559456 10358949.358462406 (37768,) 0.9860373372272673 1.621855060532511 2.389841750635747 1.079073301788262 1.0266913974310596 29.414330218068535\n",
      "Flag 565.40  5 10358949.358462406 20000000.000000004 (58217,) 0.9848752034840333 1.6075596735140643 2.369968323527629 1.0746125534729003 1.0187560305801682 45.34034267912772\n",
      "Flag 565.40  5 20000000.000000004 31428571.42857143 (62559,) 0.9778414951824177 1.597319296392001 2.3706630613460926 1.0718240537848065 1.0175172442165505 48.72196261682243\n",
      "Flag 565.40  5 31428571.42857143 42857142.85714286 (58186,) 0.988051343902866 1.607139644211216 2.376535631962682 1.0826891921250288 1.0134579381044353 45.31619937694704\n",
      "Flag 565.40  5 42857142.85714286 54285714.28571428 (46873,) 0.9839094086743704 1.6084722040363377 2.3503302728769713 1.0729734871186205 1.0057652501801742 36.50545171339564\n",
      "Flag 565.40  5 54285714.28571428 65714285.71428572 (36552,) 0.9910467865089481 1.6172334175747647 2.385003492461903 1.0815242001575378 1.016729167393843 28.46728971962617\n",
      "Flag 565.40  5 65714285.71428572 77142857.14285715 (28962,) 0.9750504031016385 1.616154800679148 2.370051588713609 1.0698390987879562 1.013389434227707 22.55607476635514\n",
      "Flag 565.40  5 77142857.14285715 88571428.57142857 (21098,) 0.9922512931777816 1.636994418481395 2.415889943650044 1.089817431643854 1.0327117882250092 16.431464174454828\n",
      "Flag 565.40  5 88571428.57142857 100000000.0 (18586,) 0.9743944923402235 1.612488904906541 2.3909149508668524 1.0787913575059285 1.033880833496176 14.475077881619939\n",
      "Flag 565.10  7702 8986 (1284, 15425) (1284, 15425)\n",
      "Flag 565.40  6 -100000000.0 -88571428.57142857 (18683,) 0.5625532138305018 1.867698570241419 2.9429757023200405 1.0895224489422592 1.4086795894712354 14.550623052959502\n",
      "Flag 565.40  6 -88571428.57142857 -77142857.14285715 (20880,) 0.5623913966474339 1.8938794703308561 2.98585929661445 1.1108629647105202 1.4459996060091247 16.261682242990656\n",
      "Flag 565.40  6 -77142857.14285715 -65714285.71428572 (28412,) 0.6182108435880254 1.9203318013793842 3.017364388704631 1.114670125619681 1.4275828084396756 22.12772585669782\n",
      "Flag 565.40  6 -65714285.71428572 -54285714.28571428 (37617,) 0.595456225096474 1.882407795270022 2.9982790730401874 1.1012205509050856 1.4201212612112146 29.296728971962615\n",
      "Flag 565.40  6 -54285714.28571428 -42857142.85714286 (46088,) 0.5989609774419449 1.8669862238511574 2.946378317287379 1.0892931666245569 1.3971957083594853 35.89408099688473\n",
      "Flag 565.40  6 -42857142.85714286 -31428571.42857143 (55524,) 0.5803365347540314 1.8496867056464168 2.9133369890192164 1.0818921084715725 1.3966401539157087 43.242990654205606\n",
      "Flag 565.40  6 -31428571.42857143 -20000000.000000004 (60882,) 0.5056454883182773 1.8450002954365983 2.974100645302775 1.0797591163828455 1.4129345025745956 47.41588785046729\n",
      "Flag 565.40  6 -20000000.000000004 -10358949.358462406 (57279,) 0.560959752851693 1.8814992098931203 2.9855999071360575 1.0965070379206758 1.417115538791169 44.60981308411215\n",
      "Flag 565.40  6 -10358949.358462406 -5365391.590559456 (38039,) 0.5185233739004148 1.8855707683423435 2.9752593299844587 1.0961771669945835 1.4297581832903217 29.62538940809969\n",
      "Flag 565.40  6 -5365391.590559456 -2778990.9887462724 (22323,) 0.6001649892146306 1.88402861744248 2.992769820461268 1.1068369408598275 1.4213461694516412 17.385514018691588\n",
      "Flag 565.40  6 -2778990.9887462724 -1439371.346002303 (13363,) 0.6133840477976377 1.9229957309327999 3.0059068372063877 1.1217302628696262 1.4415740079854922 10.407320872274143\n",
      "Flag 565.40  6 -1439371.346002303 -745518.7440629877 (7704,) 0.5617283558456445 1.8934569517694588 2.9877720295313726 1.1007526665193779 1.4262289510236976 6.0\n"
     ]
    },
    {
     "name": "stdout",
     "output_type": "stream",
     "text": [
      "Flag 565.40  6 -745518.7440629877 -386139.54577664996 (4476,) 0.0 1.9148345067869326 3.044183961765558 1.095673332989033 1.4604966226778808 3.485981308411215\n",
      "Flag 565.40  6 -386139.54577664996 -200000.00000000003 (2517,) 0.6944945601057338 1.8894418405252777 2.9988370215235003 1.133693064043841 1.4440398793514029 1.9602803738317758\n",
      "Flag 565.40  6 -200000.00000000003 -103589.49358462427 (1460,) 0.5320130293295635 1.9509349301361916 3.000633690096305 1.1075943892775728 1.4233719576371837 1.1370716510903427\n",
      "Flag 565.40  6 -103589.49358462427 -53653.91590559456 (828,) 0.4979162679026159 1.8230108903198392 2.8724385811498108 1.0588645408409245 1.3501984486119043 0.6448598130841121\n",
      "Flag 565.40  6 -53653.91590559456 -27789.909887462723 (482,) 0.782697077161455 1.9839830870980948 3.036085633008458 1.1976849230427813 1.5239071263891806 0.37538940809968846\n",
      "Flag 565.40  6 -27789.909887462723 -14393.71346002303 (248,) 0.6427942033507794 1.8876109577604465 3.0163683043438394 1.1099217192617543 1.4226378588564939 0.19314641744548286\n",
      "Flag 565.40  6 -14393.71346002303 -7455.187440629877 (137,) 0.0 1.7975657412847912 2.6779012827219035 0.9983472901725957 1.22715941545117 0.10669781931464174\n",
      "Flag 565.40  6 -7455.187440629877 -3861.3954577665 (58,) 0.6415035155844548 1.7619158230928387 2.69411839281658 1.0543509999043066 1.3196988724005119 0.045171339563862926\n",
      "Flag 565.40  6 -3861.3954577665 -2000.0000000000002 (42,) 0.9800708435728114 2.3088325124138973 3.248660947769908 1.396463424004655 1.5513963718531325 0.03271028037383177\n",
      "Flag 565.40  6 -2000.0000000000002 -500.0 (323,) 0.7658149762966399 1.9942737916116282 3.536863859254976 1.2377383863761406 1.5268690633156576 0.2515576323987539\n",
      "Flag 565.40  6 -500.0 0.0 (153,) 0.6677295280201556 1.966764098129726 2.9391320275788453 1.1052744520968252 1.3502785640659385 0.1191588785046729\n",
      "Flag 565.40  6 0.0 500.0 (10,) 0.0 1.3906607710089807 4.285777730056853 1.420077931932665 2.456259948674897 0.00778816199376947\n",
      "Flag 565.40  6 500.0 2000.0000000000002 (24,) 0.0 1.8667748372870538 2.910699177337324 0.8892794751470808 1.3405281736551118 0.018691588785046728\n",
      "Flag 565.40  6 2000.0000000000002 3861.3954577665 (26,) 0.846543680149269 2.32493466239372 3.0137007271238616 1.1234204467579736 1.2192829431997199 0.020249221183800622\n",
      "Flag 565.40  6 3861.3954577665 7455.187440629877 (51,) 0.5729486348632745 1.6466346230013622 2.50366593575288 1.1565658985713427 1.6746936968818278 0.0397196261682243\n",
      "Flag 565.40  6 7455.187440629877 14393.71346002303 (112,) 1.007793431516475 2.118358895921458 2.703744923630813 1.1914826179105906 1.3757743896503953 0.08722741433021806\n",
      "Flag 565.40  6 14393.71346002303 27789.909887462723 (244,) 0.5029968736569751 2.1459242379944534 3.1836040372657655 1.200927222075588 1.509074443330046 0.19003115264797507\n",
      "Flag 565.40  6 27789.909887462723 53653.91590559456 (430,) 0.0 1.7450314851613127 2.8972774600193825 1.0027749477735226 1.389591319558034 0.3348909657320872\n",
      "Flag 565.40  6 53653.91590559456 103589.49358462427 (860,) 0.6745249119886861 1.9075595870610131 2.9726682329498564 1.1291742315425628 1.4589149395715868 0.6697819314641744\n",
      "Flag 565.40  6 103589.49358462427 200000.00000000003 (1567,) 0.7619973461685126 2.004831279266977 3.1082789135950497 1.1744312396142353 1.4591357117880503 1.220404984423676\n",
      "Flag 565.40  6 200000.00000000003 386139.54577664996 (2649,) 0.6747966646571276 1.910023368063993 3.048675545039625 1.1435457577605037 1.4580197301537638 2.0630841121495327\n",
      "Flag 565.40  6 386139.54577664996 745518.7440629877 (4398,) 0.540412876746659 1.8890173302440139 2.9172275751363155 1.0940780999355417 1.4196117104250232 3.425233644859813\n",
      "Flag 565.40  6 745518.7440629877 1439371.346002303 (7944,) 0.31200472371095866 1.846453143051182 2.9839074011592452 1.0845859617974982 1.4367225707722762 6.186915887850467\n",
      "Flag 565.40  6 1439371.346002303 2778990.9887462724 (12973,) 0.41984053867365373 1.8558305706962626 2.9395505288029264 1.0775431486818483 1.4258587190761707 10.103582554517134\n",
      "Flag 565.40  6 2778990.9887462724 5365391.590559456 (22196,) 0.47097766822449505 1.861650205523711 2.9539882210390767 1.0781220611214264 1.4068405071446415 17.286604361370717\n",
      "Flag 565.40  6 5365391.590559456 10358949.358462406 (38903,) 0.5170374226035958 1.8679691983827427 2.954168563685484 1.0855573100460425 1.413108931299414 30.29828660436137\n",
      "Flag 565.40  6 10358949.358462406 20000000.000000004 (59375,) 0.4358764776395708 1.8520421531202553 2.9502944783709415 1.0735345907872345 1.4084787055215573 46.24221183800623\n",
      "Flag 565.40  6 20000000.000000004 31428571.42857143 (58117,) 0.5293558358680074 1.8808447650301765 2.9637969471734325 1.086779650706533 1.4076323979196617 45.26246105919003\n",
      "Flag 565.40  6 31428571.42857143 42857142.85714286 (56997,) 0.6108615887712374 1.8830762205596514 2.9818311856580806 1.103059714631642 1.4190906270900352 44.39018691588785\n",
      "Flag 565.40  6 42857142.85714286 54285714.28571428 (45913,) 0.5765699870865428 1.8700300815943323 2.967873417296837 1.0934313260369433 1.4144514167749458 35.75778816199377\n",
      "Flag 565.40  6 54285714.28571428 65714285.71428572 (34368,) 0.512257667987502 1.8681509270798915 2.940054654639052 1.0812555325039674 1.4041911631884871 26.766355140186917\n",
      "Flag 565.40  6 65714285.71428572 77142857.14285715 (27854,) 0.5367749368660257 1.8608540089231491 2.9429792281125087 1.0853926991479599 1.411349560356243 21.693146417445483\n",
      "Flag 565.40  6 77142857.14285715 88571428.57142857 (20276,) 0.49668911686910466 1.8665286076041752 2.9409074997237328 1.0786174030490334 1.3985768327788377 15.791277258566979\n",
      "Flag 565.40  6 88571428.57142857 100000000.0 (17936,) 0.5939127643780178 1.8677230172057804 2.9297684913393685 1.0837456084848736 1.3849057014730413 13.968847352024921\n",
      "Flag 565.10  8986 10270 (1284, 15425) (1284, 15425)\n",
      "Flag 565.40  7 -100000000.0 -88571428.57142857 (16967,) 0.0 1.5260818088003374 4.041576910069383 1.0805326243932107 2.101603652088671 13.21417445482866\n",
      "Flag 565.40  7 -88571428.57142857 -77142857.14285715 (18575,) 0.0 1.5509080681311096 4.001576114621258 1.0767142614230374 2.1013298786320806 14.46651090342679\n",
      "Flag 565.40  7 -77142857.14285715 -65714285.71428572 (26737,) 0.0 1.662004055177443 4.043265069743711 1.1012273733499445 2.0890116712435414 20.823208722741434\n",
      "Flag 565.40  7 -65714285.71428572 -54285714.28571428 (33730,) 0.0 1.6570847544931222 3.9817900020551726 1.0926228773961288 2.080795335807081 26.269470404984425\n",
      "Flag 565.40  7 -54285714.28571428 -42857142.85714286 (47069,) 0.0 1.667354733644006 3.9690062282078564 1.09152962619371 2.0591801074244276 36.65809968847352\n",
      "Flag 565.40  7 -42857142.85714286 -31428571.42857143 (56494,) 0.0 1.6679654090201423 4.013649473957869 1.0967192134198243 2.066840185941248 43.99844236760124\n",
      "Flag 565.40  7 -31428571.42857143 -20000000.000000004 (61318,) 0.0 1.6611374261792107 3.9754056078275153 1.0926182346157585 2.0589571294290216 47.75545171339564\n",
      "Flag 565.40  7 -20000000.000000004 -10358949.358462406 (61736,) 0.0 1.715726177991309 4.068530842795523 1.1210035438353574 2.07589023846067 48.0809968847352\n",
      "Flag 565.40  7 -10358949.358462406 -5365391.590559456 (38816,) 0.0 1.5975152326978967 3.9687235449290936 1.0718778610627975 2.0305978462692367 30.230529595015575\n",
      "Flag 565.40  7 -5365391.590559456 -2778990.9887462724 (22946,) 0.0 1.6066734261250586 4.003856959902182 1.0885251255767396 2.0665380034449594 17.870716510903428\n",
      "Flag 565.40  7 -2778990.9887462724 -1439371.346002303 (13548,) 0.0 1.603411008078735 3.9771389663909487 1.0824078037796248 2.0829374631428235 10.551401869158878\n",
      "Flag 565.40  7 -1439371.346002303 -745518.7440629877 (7922,) 0.0 1.591859063664895 3.956301633818941 1.071240367361813 2.05925211519019 6.169781931464175\n",
      "Flag 565.40  7 -745518.7440629877 -386139.54577664996 (4666,) 0.0 1.6199390041312796 4.0253884716333035 1.0953355714916706 2.118918643545469 3.633956386292835\n",
      "Flag 565.40  7 -386139.54577664996 -200000.00000000003 (2755,) 0.0 1.5129002120122013 4.016146012218719 1.0596719645325747 2.075363915907741 2.1456386292834893\n",
      "Flag 565.40  7 -200000.00000000003 -103589.49358462427 (1401,) 0.0 1.5871005677088446 3.821279516730497 1.0736551002111538 2.0407209914831723 1.091121495327103\n",
      "Flag 565.40  7 -103589.49358462427 -53653.91590559456 (879,) 0.0 1.9025539396863462 4.191961491374551 1.2236190816113364 2.3025035978544746 0.6845794392523364\n"
     ]
    },
    {
     "name": "stdout",
     "output_type": "stream",
     "text": [
      "Flag 565.40  7 -53653.91590559456 -27789.909887462723 (481,) 0.0 1.5736191877310135 4.32875221270755 1.1494138507847342 2.189425695038691 0.37461059190031154\n",
      "Flag 565.40  7 -27789.909887462723 -14393.71346002303 (249,) 0.0 1.0885341690140649 3.359249529356975 0.9086421250234353 1.841099012509202 0.1939252336448598\n",
      "Flag 565.40  7 -14393.71346002303 -7455.187440629877 (102,) 0.0 1.8874955068485493 4.3285239361920365 1.2058981357022593 2.0974723795370065 0.0794392523364486\n",
      "Flag 565.40  7 -7455.187440629877 -3861.3954577665 (58,) 0.0 3.8503736228627123 5.177147698270723 1.8987839683655146 2.466128312093449 0.045171339563862926\n",
      "Flag 565.40  7 -3861.3954577665 -2000.0000000000002 (42,) 0.0 0.0 4.606314293081933 0.8984990020887996 2.044875557131584 0.03271028037383177\n",
      "Flag 565.40  7 -2000.0000000000002 -500.0 (200,) 0.0 1.7735005163455893 3.818875173284934 1.1755600399362294 2.2285686174615265 0.1557632398753894\n",
      "Flag 565.40  7 -500.0 0.0 (75,) 0.0 2.027282037941635 4.32238095081731 1.2042400052567557 1.9373245353130164 0.05841121495327103\n",
      "Flag 565.40  7 0.0 500.0 (8,) 1.226720031027031 4.393825168731368 5.424588274953358 2.3224937907084873 2.605673946605379 0.006230529595015576\n",
      "Flag 565.40  7 500.0 2000.0000000000002 (20,) 0.42854651028676427 3.0879842333371514 6.194146762461348 2.241203890155124 3.148643814464822 0.01557632398753894\n",
      "Flag 565.40  7 2000.0000000000002 3861.3954577665 (18,) 0.0 0.0 0.9381722092228979 0.17984370940124483 0.4077048490967807 0.014018691588785047\n",
      "Flag 565.40  7 3861.3954577665 7455.187440629877 (38,) 0.0 0.0 2.2976497835607503 0.6791784549222932 1.780525350665419 0.029595015576323987\n",
      "Flag 565.40  7 7455.187440629877 14393.71346002303 (98,) 0.0 2.5279187085673778 4.318701421295219 1.2565831907015308 1.9035517366514252 0.0763239875389408\n",
      "Flag 565.40  7 14393.71346002303 27789.909887462723 (166,) 0.0 0.0 3.4067294284162775 0.9786582595210206 2.2362927495384546 0.1292834890965732\n",
      "Flag 565.40  7 27789.909887462723 53653.91590559456 (389,) 0.0 1.5643043251050042 3.7812976920088293 1.0169059346950793 1.9516372558838995 0.3029595015576324\n",
      "Flag 565.40  7 53653.91590559456 103589.49358462427 (756,) 0.0 1.55596825211946 3.927367983907257 1.061230310352252 1.979301450727362 0.5887850467289719\n",
      "Flag 565.40  7 103589.49358462427 200000.00000000003 (1450,) 0.0 1.6990332396108774 4.166041171815819 1.0613085024717133 1.928121015306676 1.1292834890965733\n",
      "Flag 565.40  7 200000.00000000003 386139.54577664996 (2561,) 0.0 1.6537730716364127 3.8989130474434037 1.0797097415870496 2.032875188155537 1.9945482866043613\n",
      "Flag 565.40  7 386139.54577664996 745518.7440629877 (4549,) 0.0 1.4064132410909058 3.8638237113046245 1.0033871728917085 1.9675446745014962 3.542834890965732\n",
      "Flag 565.40  7 745518.7440629877 1439371.346002303 (8119,) 0.0 1.6372918976719069 4.082287128075231 1.1048337202729601 2.1115194813829206 6.323208722741433\n",
      "Flag 565.40  7 1439371.346002303 2778990.9887462724 (13322,) 0.0 1.6649499870671238 4.090841218325356 1.1104845497613167 2.103594341476849 10.37538940809969\n",
      "Flag 565.40  7 2778990.9887462724 5365391.590559456 (23538,) 0.0 1.6242178694819995 3.9987873988376608 1.0883738537128793 2.0520640699450823 18.33177570093458\n",
      "Flag 565.40  7 5365391.590559456 10358949.358462406 (40090,) 0.0 1.626710487349269 4.001597081207904 1.0905494754139953 2.071602149806195 31.222741433021806\n",
      "Flag 565.40  7 10358949.358462406 20000000.000000004 (62768,) 0.0 1.513065874742742 3.9466502770945677 1.0557411774903058 2.034244608222375 48.88473520249221\n",
      "Flag 565.40  7 20000000.000000004 31428571.42857143 (62520,) 0.0 1.5831742118171035 3.979138749771227 1.0761453290846656 2.0530425809805033 48.691588785046726\n",
      "Flag 565.40  7 31428571.42857143 42857142.85714286 (58799,) 0.0 1.6341000772569747 3.9977252316537535 1.0937851127400862 2.0796319196415167 45.79361370716511\n",
      "Flag 565.40  7 42857142.85714286 54285714.28571428 (48321,) 0.0 1.6186260656782778 4.027697190283634 1.088864150261358 2.089327124315943 37.63317757009346\n",
      "Flag 565.40  7 54285714.28571428 65714285.71428572 (36164,) 0.0 1.6553085780924301 4.000317641840303 1.092477936897113 2.0830051966178056 28.165109034267914\n",
      "Flag 565.40  7 65714285.71428572 77142857.14285715 (28301,) 0.0 1.5914669196445914 4.028087289931777 1.072932299763551 2.050604220593881 22.04127725856698\n",
      "Flag 565.40  7 77142857.14285715 88571428.57142857 (21085,) 0.0 1.6214211436841484 4.0822087560068905 1.0870320507317401 2.0905676580333945 16.42133956386293\n",
      "Flag 565.40  7 88571428.57142857 100000000.0 (18645,) 0.0 1.685433836519314 4.108514734634798 1.1146131958093077 2.104201685620466 14.521028037383177\n",
      "Flag 565.10  10270 11554 (1284, 15425) (1284, 15425)\n",
      "Flag 565.40  8 -100000000.0 -88571428.57142857 (20129,) 0.0 0.0 0.0 0.48361680489870157 1.9198301537734777 15.676791277258568\n",
      "Flag 565.40  8 -88571428.57142857 -77142857.14285715 (22970,) 0.0 0.0 0.0 0.5541278265751545 2.0951448998165474 17.889408099688474\n",
      "Flag 565.40  8 -77142857.14285715 -65714285.71428572 (30049,) 0.0 0.0 0.0 0.5534798655357035 2.093064095105536 23.402647975077883\n",
      "Flag 565.40  8 -65714285.71428572 -54285714.28571428 (37605,) 0.0 0.0 0.0 0.5277958431092199 2.0076693363018854 29.287383177570092\n",
      "Flag 565.40  8 -54285714.28571428 -42857142.85714286 (48179,) 0.0 0.0 0.0 0.5210277861567106 2.0117469588657944 37.52258566978193\n",
      "Flag 565.40  8 -42857142.85714286 -31428571.42857143 (59785,) 0.0 0.0 0.0 0.5196876355272988 1.9926100724785218 46.56152647975078\n",
      "Flag 565.40  8 -31428571.42857143 -20000000.000000004 (61068,) 0.0 0.0 0.0 0.544659628580194 2.061381795778911 47.5607476635514\n",
      "Flag 565.40  8 -20000000.000000004 -10358949.358462406 (59696,) 0.0 0.0 0.0 0.48114101882971927 1.9221688657400402 46.49221183800623\n",
      "Flag 565.40  8 -10358949.358462406 -5365391.590559456 (38953,) 0.0 0.0 0.0 0.46339380311372463 1.9182838066946495 30.33722741433022\n",
      "Flag 565.40  8 -5365391.590559456 -2778990.9887462724 (22420,) 0.0 0.0 0.0 0.45804118334561184 1.8753357148320804 17.461059190031154\n",
      "Flag 565.40  8 -2778990.9887462724 -1439371.346002303 (13644,) 0.0 0.0 0.0 0.4661135039306153 1.9358630680735502 10.626168224299066\n",
      "Flag 565.40  8 -1439371.346002303 -745518.7440629877 (7823,) 0.0 0.0 0.0 0.4582217286708222 1.8998895091675754 6.092679127725857\n",
      "Flag 565.40  8 -745518.7440629877 -386139.54577664996 (4474,) 0.0 0.0 0.0 0.466037786166213 1.8934010531586656 3.484423676012461\n",
      "Flag 565.40  8 -386139.54577664996 -200000.00000000003 (2392,) 0.0 0.0 0.0 0.44207621999708785 1.855540716565522 1.8629283489096573\n",
      "Flag 565.40  8 -200000.00000000003 -103589.49358462427 (1318,) 0.0 0.0 0.0 0.5015613069029903 2.032728622985723 1.0264797507788161\n",
      "Flag 565.40  8 -103589.49358462427 -53653.91590559456 (745,) 0.0 0.0 0.0 0.5442547513787047 1.999793381223692 0.5802180685358256\n",
      "Flag 565.40  8 -53653.91590559456 -27789.909887462723 (363,) 0.0 0.0 0.0 0.5299659557855265 2.100147600318383 0.2827102803738318\n",
      "Flag 565.40  8 -27789.909887462723 -14393.71346002303 (204,) 0.0 0.0 2.5358274947608206 0.6754895193862696 2.168140725581787 0.1588785046728972\n",
      "Flag 565.40  8 -14393.71346002303 -7455.187440629877 (96,) 0.0 0.0 0.0 0.42025338940535456 1.9587017659070944 0.07476635514018691\n",
      "Flag 565.40  8 -7455.187440629877 -3861.3954577665 (51,) 0.0 0.0 0.0 0.6668043913069385 2.1286513483122484 0.0397196261682243\n",
      "Flag 565.40  8 -3861.3954577665 -2000.0000000000002 (30,) 0.0 0.0 0.1276930766889771 0.3444629823634159 1.1420161264248332 0.02336448598130841\n",
      "Flag 565.40  8 -2000.0000000000002 -500.0 (100,) 0.0 0.0 3.057279030275403 0.9553481581944829 3.2355965269289997 0.0778816199376947\n",
      "Flag 565.40  8 -500.0 0.0 (48,) 0.0 0.0 0.8403588792873274 1.101023439074374 3.6021382423333947 0.037383177570093455\n",
      "Flag 565.40  8 0.0 500.0 (9,) 0.0 0.0 0.0 0.0 0.0 0.007009345794392523\n",
      "Flag 565.40  8 500.0 2000.0000000000002 (12,) 0.0 0.0 0.0 0.0 0.0 0.009345794392523364\n",
      "Flag 565.40  8 2000.0000000000002 3861.3954577665 (19,) 0.0 0.0 0.0 0.0 0.0 0.014797507788161994\n",
      "Flag 565.40  8 3861.3954577665 7455.187440629877 (38,) 0.0 0.0 0.0 0.2587727615853613 1.0979226004477647 0.029595015576323987\n",
      "Flag 565.40  8 7455.187440629877 14393.71346002303 (90,) 0.0 0.0 0.0 0.34823633788678227 1.7414480043029845 0.07009345794392523\n",
      "Flag 565.40  8 14393.71346002303 27789.909887462723 (188,) 0.0 0.0 0.0 0.40578838588352545 1.6625956963151451 0.14641744548286603\n"
     ]
    },
    {
     "name": "stdout",
     "output_type": "stream",
     "text": [
      "Flag 565.40  8 27789.909887462723 53653.91590559456 (378,) 0.0 0.0 0.0 0.5355617161462186 1.9107293774257297 0.29439252336448596\n",
      "Flag 565.40  8 53653.91590559456 103589.49358462427 (794,) 0.0 0.0 0.0 0.47608372688403316 2.122226792703873 0.618380062305296\n",
      "Flag 565.40  8 103589.49358462427 200000.00000000003 (1447,) 0.0 0.0 0.0 0.40922180976852796 1.8405133715768387 1.1269470404984423\n",
      "Flag 565.40  8 200000.00000000003 386139.54577664996 (2844,) 0.0 0.0 0.0 0.48750433426639433 1.9387093709743641 2.2149532710280373\n",
      "Flag 565.40  8 386139.54577664996 745518.7440629877 (4621,) 0.0 0.0 0.0 0.526548912347858 2.0069117892418618 3.5989096573208723\n",
      "Flag 565.40  8 745518.7440629877 1439371.346002303 (8022,) 0.0 0.0 0.0 0.4819308977199344 1.990383057308297 6.247663551401869\n",
      "Flag 565.40  8 1439371.346002303 2778990.9887462724 (13436,) 0.0 0.0 0.0 0.4593392059733385 1.9234942530493067 10.46417445482866\n",
      "Flag 565.40  8 2778990.9887462724 5365391.590559456 (22922,) 0.0 0.0 0.0 0.4228813258246263 1.8116665115225086 17.85202492211838\n",
      "Flag 565.40  8 5365391.590559456 10358949.358462406 (40265,) 0.0 0.0 0.0 0.44392621727852993 1.8536780692208965 31.359034267912772\n",
      "Flag 565.40  8 10358949.358462406 20000000.000000004 (61224,) 0.0 0.0 0.0 0.43904691222654296 1.8649563821357342 47.6822429906542\n",
      "Flag 565.40  8 20000000.000000004 31428571.42857143 (59731,) 0.0 0.0 0.0 0.45710487247583825 1.9072417869370484 46.519470404984425\n",
      "Flag 565.40  8 31428571.42857143 42857142.85714286 (55340,) 0.0 0.0 0.0 0.4252844672377309 1.8566750964151106 43.099688473520246\n",
      "Flag 565.40  8 42857142.85714286 54285714.28571428 (46052,) 0.0 0.0 0.0 0.39746820198791644 1.78508141371055 35.86604361370716\n",
      "Flag 565.40  8 54285714.28571428 65714285.71428572 (33998,) 0.0 0.0 0.0 0.4252574163340729 1.830327982164775 26.478193146417446\n",
      "Flag 565.40  8 65714285.71428572 77142857.14285715 (27747,) 0.0 0.0 0.0 0.4434190670098222 1.8868359166701605 21.60981308411215\n",
      "Flag 565.40  8 77142857.14285715 88571428.57142857 (19880,) 0.0 0.0 0.0 0.4900360549667812 1.9284327422362 15.482866043613708\n",
      "Flag 565.40  8 88571428.57142857 100000000.0 (17455,) 0.0 0.0 0.0 0.46117991179480977 1.9180580545504813 13.59423676012461\n"
     ]
    }
   ],
   "source": [
    "import numpy.ma as ma\n",
    "\n",
    "validPks = np.ravel(np.sum(pkX>0.00001,axis=0)) > 20.1 # 10.1 #or 50.1\n",
    "#validPks = nonzeroPkCnts > 50.1  #or 10.1\n",
    "v1= np.array([500] + list(np.geomspace(2e3,20e6,15)) +  list(np.linspace(20e6,100e6,8))[1:])\n",
    "pkbreaks = np.hstack([list(reversed(-v1)),[0],v1])\n",
    "genebreaks = np.linspace(0,nGenes,10)\n",
    "gvar_ranking = adata1.var[\"gene_expression_ranking\"]\n",
    "#gvar_ranking = adata1.var[\"gene_variability_ranking\"]\n",
    "gexp_mu = np.ravel(np.mean(adata1.X, axis=0))\n",
    "L_median, L_q75, L_q90, L_mean, L_sd, L_n= [],[],[],[],[],[]\n",
    "\n",
    "for i in range(len(genebreaks)-1):\n",
    "    g0, g1 = int(genebreaks[i]), int(genebreaks[i+1])\n",
    "    gidx = (gvar_ranking >= g0) & (gvar_ranking < g1) & (gexp_mu > 1e-6)\n",
    "    #gidx = (gvar_ranking < g1)\n",
    "\n",
    "    g2p_dist = gene2pkdist[gidx,:][:,validPks]\n",
    "    g2p_fc = gene2pkfoldchange[gidx,:][:, validPks]\n",
    "    print (\"Flag 565.10 \", g0, g1, g2p_dist.shape, g2p_fc.shape)\n",
    "    lx = []\n",
    "    for j in range(len(pkbreaks)-1):\n",
    "        pkdist0, pkdist1 = pkbreaks[j], pkbreaks[j+1]\n",
    "        w = (ma.masked_where((g2p_dist < pkdist0) | (g2p_dist >= pkdist1), g2p_fc)).compressed()\n",
    "        try:\n",
    "            med, q75, q90, mu, sd = np.median(w), np.quantile(w,0.75), np.quantile(w,0.90), np.mean(w), np.std(w)\n",
    "            n = len(w)/(g1-g0)\n",
    "        except:\n",
    "            med = q75 = q90 = mu = sd = n = 0\n",
    "            print(\"Flag 565.35 \", j, pkdist0, pkdist1)\n",
    "            \n",
    "        print (\"Flag 565.40 \", i, pkdist0, pkdist1, w.shape, med, q75, q90, mu, sd, n)\n",
    "        lx.append((med,q75,q90,mu,sd,n))\n",
    "        \n",
    "#         M = ma.masked_where((g2p_dist < pkdist0) | (g2p_dist >= pkdist1), g2p_fc)\n",
    "#         M_cnt = ma.masked_where((g2p_dist < pkdist0) | (g2p_dist >= pkdist1), g2p_fc>0)\n",
    "#         med = np.apply_along_axis(lambda v: np.quantile(v.compressed(), 0.5), 1, M)\n",
    "#         q75 = np.apply_along_axis(lambda v: np.quantile(v.compressed(),0.75), 1, M)\n",
    "#         q90 = np.apply_along_axis(lambda v: np.quantile(v.compressed(),0.90), 1, M)\n",
    "#         mu  = np.apply_along_axis(lambda v: np.mean(v.compressed()), 1, M)\n",
    "#         sd  = np.apply_along_axis(lambda v: np.std(v.compressed()), 1, M)\n",
    "#         n   = np.apply_along_axis(lambda v: len(v.compressed()), 1, M)\n",
    "#         print (\"Flag 565.40 \", pkdist0, pkdist1, w.shape, q75, q90, mu, sd, n)\n",
    "#         lx.append((med,q75,q90,mu,sd,n))\n",
    "\n",
    "    if len(lx)>0:\n",
    "        L_median.append([a[0] for a in lx])\n",
    "        L_q75.append([a[1] for a in lx])\n",
    "        L_q90.append([a[2] for a in lx])\n",
    "        L_mean.append([a[3] for a in lx])\n",
    "        L_sd.append([a[4] for a in lx])\n",
    "        L_n.append([a[5] for a in lx])"
   ]
  },
  {
   "cell_type": "code",
   "execution_count": 423,
   "metadata": {},
   "outputs": [],
   "source": [
    "# d_median_t50_gexpPos = np.vstack(L_median)\n",
    "# d_mu_t50_gexpPos     = np.vstack(L_mean)\n",
    "# d_q75_t50_gexpPos    = np.vstack(L_q75)\n",
    "# d_q90_t50_gexpPos    = np.vstack(L_q90)\n",
    "\n",
    "#fv = lambda v: np.vstack([a[:31] for a in v])\n",
    "fv = lambda v: np.vstack([a for a in v])\n",
    "h_median_t20_gexpPos = fv(L_median)\n",
    "h_mu_t20_gexpPos     = fv(L_mean)\n",
    "h_q75_t20_gexpPos    = fv(L_q75)\n",
    "h_q90_t20_gexpPos    = fv(L_q90)"
   ]
  },
  {
   "cell_type": "code",
   "execution_count": 430,
   "metadata": {},
   "outputs": [
    {
     "data": {
      "image/png": "[encoded data removed]",
      "text/plain": [
       "<Figure size 1152x576 with 4 Axes>"
      ]
     },
     "metadata": {
      "needs_background": "light"
     },
     "output_type": "display_data"
    }
   ],
   "source": [
    "import seaborn as sns\n",
    "plt.rcParams[\"figure.figsize\"]= (16,8) #(15,5)\n",
    "for i, dx in enumerate([hvar_median_t20_gexpPos, hvar_mu_t20_gexpPos]): #, h_q75_t10_gexpPos]):\n",
    "    plt.subplot(1,2,i+1) #3,i+1)\n",
    "    #sns.heatmap(np.insert(dx, 16, 0.99*np.min(dx), axis=1), cmap=\"afmhot_r\")\n",
    "    sns.heatmap(np.insert(dx, 23, 0.99*np.min(dx), axis=1), cmap=\"gist_heat_r\", vmin=1, vmax=1.2)\n"
   ]
  },
  {
   "cell_type": "code",
   "execution_count": 433,
   "metadata": {},
   "outputs": [
    {
     "data": {
      "image/png": "[encoded data removed]",
      "text/plain": [
       "<Figure size 1152x576 with 4 Axes>"
      ]
     },
     "metadata": {
      "needs_background": "light"
     },
     "output_type": "display_data"
    }
   ],
   "source": [
    "import seaborn as sns\n",
    "plt.rcParams[\"figure.figsize\"]= (16,8) #(15,5)\n",
    "#for i, dx in enumerate([g_median_t50_gexpPos, g_mu_t50_gexpPos, g_q75_t50_gexpPos]):\n",
    "for i, dx in enumerate([h_median_t20_gexpPos, h_mu_t20_gexpPos]): #, h_q75_t10_gexpPos]):\n",
    "    plt.subplot(1,2,i+1) #3,i+1)\n",
    "    #sns.heatmap(np.insert(dx, 16, 0.99*np.min(dx), axis=1), cmap=\"afmhot_r\")\n",
    "    sns.heatmap(np.insert(dx, 23, 0.99*np.min(dx), axis=1), cmap=\"gist_heat_r\", vmin=1, vmax=1.2)\n"
   ]
  },
  {
   "cell_type": "markdown",
   "metadata": {},
   "source": [
    "### Gene Expression Correlation in the context of TADs"
   ]
  },
  {
   "cell_type": "markdown",
   "metadata": {},
   "source": [
    "Orig,tad115|hg19|chr9:139680001-140320000,14,EDF1,C8G,PTGDS,LCNL1,CLIC3,NPDC1,ENTPD2,SAPCD2,ANAPC2,TMEM203,RNF208,CYSRT1,NRARP,EXD3\n",
    "Orig,tad56|hg19|chr19:55600001-56200000,12,TNNI3,DNAAF3,PTPRH,TMEM86B,PPP6R1,IL11,UBE2S,ISOC2,SBK3,ZNF579,FIZ1,ZNF784\n",
    "Orig,tad9|hg19|chr17:7520001-8200000,11,TP53,EFNB3,NAA38,KCNAB3,ALOX12B,ALOXE3,HES7,VAMP2,TMEM107,BORCS6,AURKB\n",
    "Orig,tad3|hg19|chr19:3320001-4480000,11,TBXA2R,CACTIN,PIP5K1C,TJP3,APBA3,EEF2,MAP2K2,EBI3,SHD,SH3GL1,UBXN6\n",
    "Orig,tad5|hg19|chr19:5760001-6960000,10,NDUFA11,RANBP3,PSPN,GTF2F1,KHSRP,SLC25A41,DENND1C,TUBB4A,TNFSF14,C3\n",
    "Orig,tad10|hg19|chr19:10040001-10960000,10,OLFM2,ANGPTL6,EIF3G,FDX2,RAVER1,ICAM3,S1PR5,KRI1,CDKN2D,TMED1\n",
    "Orig,tad49|hg19|chr19:49200001-50520000,10,MAMSTR,RASIP1,TEAD2,PIH1D1,RCN3,FUZ,PNKP,AKT1S1,IL4I1,NUP62\n",
    "Orig,tad49|hg19|chrX:48400001-49280000,10,PCSK1N,TIMM17B,SLC35A2,OTUD5,KCND1,GRIPAP1,TFE3,PRAF2,GPKOW,PRICKLE3\n",
    "Orig,tad57|hg19|chr3:48240001-48960000,9,SPINK8,FBXW12,PLXNB1,CCDC51,SHISA5,UCN2,COL7A1,SLC26A6,NCKIPSD\n",
    "Orig,tad62|hg19|chr11:61200001-62640000,9,DAGLA,TMEM258,FADS3,AHNAK,GANAB,HNRNPUL2,TMEM223,STX5,WDR74\n",
    "Orig,tad68|hg19|chr11:66120001-67600000,9,CTSF,RBM4B,POLD4,PPP1CA,PTPRCAP,CORO1B,AIP,CDK2AP2,NUDT8\n",
    "Orig,tad42|hg19|chr16:56440001-58840000,9,BBS2,PLLP,DOK4,DRC7,KIFC3,CFAP20,CSNK2A2,CNOT1,GOT2\n",
    "Orig,tad85|hg19|chr17:73840001-74640000,9,UNC13D,TRIM47,ACOX1,CDK3,EVPL,FOXJ1,UBE2O,CYGB,ST6GALNAC2\n",
    "Orig,tad12|hg19|chr19:11720001-12840000,9,ZNF823,ZNF700,ZNF563,ZNF799,ZNF443,ZNF564,ZNF490,WDR83OS,TNPO2\n"
   ]
  },
  {
   "cell_type": "code",
   "execution_count": 672,
   "metadata": {},
   "outputs": [
    {
     "name": "stderr",
     "output_type": "stream",
     "text": [
      "Variable names are not unique. To make them unique, call `.var_names_make_unique`.\n"
     ]
    },
    {
     "name": "stdout",
     "output_type": "stream",
     "text": [
      "Flag 343.100  atac.var odict_keys(['atac.X', 'atac.type', 'atac.var', 'atac.var.columns', 'atac.var.index', 'names', 'rna.type']) <class 'numpy.ndarray'>\n",
      "Flag 343.102  atac.var odict_keys(['atac.X', 'atac.type', 'atac.var', 'atac.var.columns', 'atac.var.index', 'names', 'rna.type']) <class 'pandas.core.frame.DataFrame'>\n"
     ]
    }
   ],
   "source": [
    "adata1 = utils.SciCar.loadAnnData(\"/afs/csail.mit.edu/u/r/rsingh/work/schema/data/sci-car/adata1.h5ad\")\n",
    "adata1.X = adata1.X.todense()\n",
    "gexp_cnt = np.ravel(np.sum(adata1.X > 0.1, axis=0))\n",
    "#mu_gexp = np.ravel(np.mean(adata1.X, axis=0))\n",
    "#valid_genes = mu_gexp > 1e-5\n",
    "valid_genes = gexp_cnt > 5\n",
    "adata1 = adata1[:, valid_genes]"
   ]
  },
  {
   "cell_type": "code",
   "execution_count": 673,
   "metadata": {},
   "outputs": [
    {
     "name": "stderr",
     "output_type": "stream",
     "text": [
      "Trying to set attribute `.var` of view, making a copy.\n",
      "Variable names are not unique. To make them unique, call `.var_names_make_unique`.\n",
      "Variable names are not unique. To make them unique, call `.var_names_make_unique`.\n"
     ]
    }
   ],
   "source": [
    "nGenes = adata1.shape[1]\n",
    "mu_gexp = np.ravel(np.mean(adata1.X, axis=0))\n",
    "adata1.var[\"gene_expression_ranking\"] = scipy.stats.rankdata(-mu_gexp) #highest=1"
   ]
  },
  {
   "cell_type": "code",
   "execution_count": 674,
   "metadata": {},
   "outputs": [],
   "source": [
    "nGenes = adata1.shape[1]\n",
    "v = np.full(nGenes, nGenes)\n",
    "for i in range(500,nGenes-500,500):\n",
    "    v0 = sc.pp.highly_variable_genes(adata1, n_top_genes=i,inplace=False).highly_variable\n",
    "    v = np.where((v==nGenes) & v0, i, v).copy()\n",
    "adata1.var[\"gene_variability_ranking\"] = v"
   ]
  },
  {
   "cell_type": "code",
   "execution_count": 679,
   "metadata": {
    "collapsed": true
   },
   "outputs": [
    {
     "name": "stderr",
     "output_type": "stream",
     "text": [
      "100%|██████████| 11554/11554 [00:40<00:00, 281.97it/s]\n"
     ]
    },
    {
     "ename": "ValueError",
     "evalue": "cannot reindex from a duplicate axis",
     "output_type": "error",
     "traceback": [
      "\u001b[0;31m---------------------------------------------------------------------------\u001b[0m",
      "\u001b[0;31mValueError\u001b[0m                                Traceback (most recent call last)",
      "\u001b[0;32m<ipython-input-679-c56cefae3ac2>\u001b[0m in \u001b[0;36m<module>\u001b[0;34m\u001b[0m\n\u001b[1;32m     18\u001b[0m \u001b[0mtad\u001b[0m\u001b[0;34m.\u001b[0m\u001b[0mcolumns\u001b[0m \u001b[0;34m=\u001b[0m \u001b[0;34m[\u001b[0m\u001b[0;34m\"chr\"\u001b[0m\u001b[0;34m,\u001b[0m\u001b[0;34m\"start\"\u001b[0m\u001b[0;34m,\u001b[0m\u001b[0;34m\"end\"\u001b[0m\u001b[0;34m,\u001b[0m \u001b[0;34m\"x1\"\u001b[0m\u001b[0;34m,\u001b[0m\u001b[0;34m\"x2\"\u001b[0m\u001b[0;34m]\u001b[0m\u001b[0;34m\u001b[0m\u001b[0m\n\u001b[1;32m     19\u001b[0m \u001b[0mg2tad\u001b[0m\u001b[0;34m,\u001b[0m \u001b[0mgene_sharedtad\u001b[0m \u001b[0;34m=\u001b[0m \u001b[0mgetGene2TADmap\u001b[0m\u001b[0;34m(\u001b[0m\u001b[0madata1\u001b[0m\u001b[0;34m,\u001b[0m \u001b[0mtad\u001b[0m\u001b[0;34m)\u001b[0m\u001b[0;34m\u001b[0m\u001b[0m\n\u001b[0;32m---> 20\u001b[0;31m \u001b[0madata1\u001b[0m\u001b[0;34m.\u001b[0m\u001b[0mvar\u001b[0m\u001b[0;34m[\u001b[0m\u001b[0;34m\"tad_id\"\u001b[0m\u001b[0;34m]\u001b[0m \u001b[0;34m=\u001b[0m \u001b[0mtad\u001b[0m\u001b[0;34m.\u001b[0m\u001b[0mx1\u001b[0m\u001b[0;34m[\u001b[0m\u001b[0mg2tad\u001b[0m\u001b[0;34m]\u001b[0m\u001b[0;34m\u001b[0m\u001b[0m\n\u001b[0m",
      "\u001b[0;32m/scratch1/rsingh/python/venv/base36/lib/python3.6/site-packages/pandas/core/frame.py\u001b[0m in \u001b[0;36m__setitem__\u001b[0;34m(self, key, value)\u001b[0m\n\u001b[1;32m   3470\u001b[0m         \u001b[0;32melse\u001b[0m\u001b[0;34m:\u001b[0m\u001b[0;34m\u001b[0m\u001b[0m\n\u001b[1;32m   3471\u001b[0m             \u001b[0;31m# set column\u001b[0m\u001b[0;34m\u001b[0m\u001b[0;34m\u001b[0m\u001b[0m\n\u001b[0;32m-> 3472\u001b[0;31m             \u001b[0mself\u001b[0m\u001b[0;34m.\u001b[0m\u001b[0m_set_item\u001b[0m\u001b[0;34m(\u001b[0m\u001b[0mkey\u001b[0m\u001b[0;34m,\u001b[0m \u001b[0mvalue\u001b[0m\u001b[0;34m)\u001b[0m\u001b[0;34m\u001b[0m\u001b[0m\n\u001b[0m\u001b[1;32m   3473\u001b[0m \u001b[0;34m\u001b[0m\u001b[0m\n\u001b[1;32m   3474\u001b[0m     \u001b[0;32mdef\u001b[0m \u001b[0m_setitem_slice\u001b[0m\u001b[0;34m(\u001b[0m\u001b[0mself\u001b[0m\u001b[0;34m,\u001b[0m \u001b[0mkey\u001b[0m\u001b[0;34m,\u001b[0m \u001b[0mvalue\u001b[0m\u001b[0;34m)\u001b[0m\u001b[0;34m:\u001b[0m\u001b[0;34m\u001b[0m\u001b[0m\n",
      "\u001b[0;32m/scratch1/rsingh/python/venv/base36/lib/python3.6/site-packages/pandas/core/frame.py\u001b[0m in \u001b[0;36m_set_item\u001b[0;34m(self, key, value)\u001b[0m\n\u001b[1;32m   3547\u001b[0m \u001b[0;34m\u001b[0m\u001b[0m\n\u001b[1;32m   3548\u001b[0m         \u001b[0mself\u001b[0m\u001b[0;34m.\u001b[0m\u001b[0m_ensure_valid_index\u001b[0m\u001b[0;34m(\u001b[0m\u001b[0mvalue\u001b[0m\u001b[0;34m)\u001b[0m\u001b[0;34m\u001b[0m\u001b[0m\n\u001b[0;32m-> 3549\u001b[0;31m         \u001b[0mvalue\u001b[0m \u001b[0;34m=\u001b[0m \u001b[0mself\u001b[0m\u001b[0;34m.\u001b[0m\u001b[0m_sanitize_column\u001b[0m\u001b[0;34m(\u001b[0m\u001b[0mkey\u001b[0m\u001b[0;34m,\u001b[0m \u001b[0mvalue\u001b[0m\u001b[0;34m)\u001b[0m\u001b[0;34m\u001b[0m\u001b[0m\n\u001b[0m\u001b[1;32m   3550\u001b[0m         \u001b[0mNDFrame\u001b[0m\u001b[0;34m.\u001b[0m\u001b[0m_set_item\u001b[0m\u001b[0;34m(\u001b[0m\u001b[0mself\u001b[0m\u001b[0;34m,\u001b[0m \u001b[0mkey\u001b[0m\u001b[0;34m,\u001b[0m \u001b[0mvalue\u001b[0m\u001b[0;34m)\u001b[0m\u001b[0;34m\u001b[0m\u001b[0m\n\u001b[1;32m   3551\u001b[0m \u001b[0;34m\u001b[0m\u001b[0m\n",
      "\u001b[0;32m/scratch1/rsingh/python/venv/base36/lib/python3.6/site-packages/pandas/core/frame.py\u001b[0m in \u001b[0;36m_sanitize_column\u001b[0;34m(self, key, value, broadcast)\u001b[0m\n\u001b[1;32m   3709\u001b[0m \u001b[0;34m\u001b[0m\u001b[0m\n\u001b[1;32m   3710\u001b[0m         \u001b[0;32mif\u001b[0m \u001b[0misinstance\u001b[0m\u001b[0;34m(\u001b[0m\u001b[0mvalue\u001b[0m\u001b[0;34m,\u001b[0m \u001b[0mSeries\u001b[0m\u001b[0;34m)\u001b[0m\u001b[0;34m:\u001b[0m\u001b[0;34m\u001b[0m\u001b[0m\n\u001b[0;32m-> 3711\u001b[0;31m             \u001b[0mvalue\u001b[0m \u001b[0;34m=\u001b[0m \u001b[0mreindexer\u001b[0m\u001b[0;34m(\u001b[0m\u001b[0mvalue\u001b[0m\u001b[0;34m)\u001b[0m\u001b[0;34m\u001b[0m\u001b[0m\n\u001b[0m\u001b[1;32m   3712\u001b[0m \u001b[0;34m\u001b[0m\u001b[0m\n\u001b[1;32m   3713\u001b[0m         \u001b[0;32melif\u001b[0m \u001b[0misinstance\u001b[0m\u001b[0;34m(\u001b[0m\u001b[0mvalue\u001b[0m\u001b[0;34m,\u001b[0m \u001b[0mDataFrame\u001b[0m\u001b[0;34m)\u001b[0m\u001b[0;34m:\u001b[0m\u001b[0;34m\u001b[0m\u001b[0m\n",
      "\u001b[0;32m/scratch1/rsingh/python/venv/base36/lib/python3.6/site-packages/pandas/core/frame.py\u001b[0m in \u001b[0;36mreindexer\u001b[0;34m(value)\u001b[0m\n\u001b[1;32m   3700\u001b[0m                     \u001b[0;31m# duplicate axis\u001b[0m\u001b[0;34m\u001b[0m\u001b[0;34m\u001b[0m\u001b[0m\n\u001b[1;32m   3701\u001b[0m                     \u001b[0;32mif\u001b[0m \u001b[0;32mnot\u001b[0m \u001b[0mvalue\u001b[0m\u001b[0;34m.\u001b[0m\u001b[0mindex\u001b[0m\u001b[0;34m.\u001b[0m\u001b[0mis_unique\u001b[0m\u001b[0;34m:\u001b[0m\u001b[0;34m\u001b[0m\u001b[0m\n\u001b[0;32m-> 3702\u001b[0;31m                         \u001b[0;32mraise\u001b[0m \u001b[0me\u001b[0m\u001b[0;34m\u001b[0m\u001b[0m\n\u001b[0m\u001b[1;32m   3703\u001b[0m \u001b[0;34m\u001b[0m\u001b[0m\n\u001b[1;32m   3704\u001b[0m                     \u001b[0;31m# other\u001b[0m\u001b[0;34m\u001b[0m\u001b[0;34m\u001b[0m\u001b[0m\n",
      "\u001b[0;32m/scratch1/rsingh/python/venv/base36/lib/python3.6/site-packages/pandas/core/frame.py\u001b[0m in \u001b[0;36mreindexer\u001b[0;34m(value)\u001b[0m\n\u001b[1;32m   3695\u001b[0m                 \u001b[0;31m# GH 4107\u001b[0m\u001b[0;34m\u001b[0m\u001b[0;34m\u001b[0m\u001b[0m\n\u001b[1;32m   3696\u001b[0m                 \u001b[0;32mtry\u001b[0m\u001b[0;34m:\u001b[0m\u001b[0;34m\u001b[0m\u001b[0m\n\u001b[0;32m-> 3697\u001b[0;31m                     \u001b[0mvalue\u001b[0m \u001b[0;34m=\u001b[0m \u001b[0mvalue\u001b[0m\u001b[0;34m.\u001b[0m\u001b[0mreindex\u001b[0m\u001b[0;34m(\u001b[0m\u001b[0mself\u001b[0m\u001b[0;34m.\u001b[0m\u001b[0mindex\u001b[0m\u001b[0;34m)\u001b[0m\u001b[0;34m.\u001b[0m\u001b[0m_values\u001b[0m\u001b[0;34m\u001b[0m\u001b[0m\n\u001b[0m\u001b[1;32m   3698\u001b[0m                 \u001b[0;32mexcept\u001b[0m \u001b[0mException\u001b[0m \u001b[0;32mas\u001b[0m \u001b[0me\u001b[0m\u001b[0;34m:\u001b[0m\u001b[0;34m\u001b[0m\u001b[0m\n\u001b[1;32m   3699\u001b[0m \u001b[0;34m\u001b[0m\u001b[0m\n",
      "\u001b[0;32m/scratch1/rsingh/python/venv/base36/lib/python3.6/site-packages/pandas/core/series.py\u001b[0m in \u001b[0;36mreindex\u001b[0;34m(self, index, **kwargs)\u001b[0m\n\u001b[1;32m   4216\u001b[0m     \u001b[0;34m@\u001b[0m\u001b[0mAppender\u001b[0m\u001b[0;34m(\u001b[0m\u001b[0mgeneric\u001b[0m\u001b[0;34m.\u001b[0m\u001b[0mNDFrame\u001b[0m\u001b[0;34m.\u001b[0m\u001b[0mreindex\u001b[0m\u001b[0;34m.\u001b[0m\u001b[0m__doc__\u001b[0m\u001b[0;34m)\u001b[0m\u001b[0;34m\u001b[0m\u001b[0m\n\u001b[1;32m   4217\u001b[0m     \u001b[0;32mdef\u001b[0m \u001b[0mreindex\u001b[0m\u001b[0;34m(\u001b[0m\u001b[0mself\u001b[0m\u001b[0;34m,\u001b[0m \u001b[0mindex\u001b[0m\u001b[0;34m=\u001b[0m\u001b[0;32mNone\u001b[0m\u001b[0;34m,\u001b[0m \u001b[0;34m**\u001b[0m\u001b[0mkwargs\u001b[0m\u001b[0;34m)\u001b[0m\u001b[0;34m:\u001b[0m\u001b[0;34m\u001b[0m\u001b[0m\n\u001b[0;32m-> 4218\u001b[0;31m         \u001b[0;32mreturn\u001b[0m \u001b[0msuper\u001b[0m\u001b[0;34m(\u001b[0m\u001b[0;34m)\u001b[0m\u001b[0;34m.\u001b[0m\u001b[0mreindex\u001b[0m\u001b[0;34m(\u001b[0m\u001b[0mindex\u001b[0m\u001b[0;34m=\u001b[0m\u001b[0mindex\u001b[0m\u001b[0;34m,\u001b[0m \u001b[0;34m**\u001b[0m\u001b[0mkwargs\u001b[0m\u001b[0;34m)\u001b[0m\u001b[0;34m\u001b[0m\u001b[0m\n\u001b[0m\u001b[1;32m   4219\u001b[0m \u001b[0;34m\u001b[0m\u001b[0m\n\u001b[1;32m   4220\u001b[0m     def drop(\n",
      "\u001b[0;32m/scratch1/rsingh/python/venv/base36/lib/python3.6/site-packages/pandas/core/generic.py\u001b[0m in \u001b[0;36mreindex\u001b[0;34m(self, *args, **kwargs)\u001b[0m\n\u001b[1;32m   4512\u001b[0m         \u001b[0;31m# perform the reindex on the axes\u001b[0m\u001b[0;34m\u001b[0m\u001b[0;34m\u001b[0m\u001b[0m\n\u001b[1;32m   4513\u001b[0m         return self._reindex_axes(\n\u001b[0;32m-> 4514\u001b[0;31m             \u001b[0maxes\u001b[0m\u001b[0;34m,\u001b[0m \u001b[0mlevel\u001b[0m\u001b[0;34m,\u001b[0m \u001b[0mlimit\u001b[0m\u001b[0;34m,\u001b[0m \u001b[0mtolerance\u001b[0m\u001b[0;34m,\u001b[0m \u001b[0mmethod\u001b[0m\u001b[0;34m,\u001b[0m \u001b[0mfill_value\u001b[0m\u001b[0;34m,\u001b[0m \u001b[0mcopy\u001b[0m\u001b[0;34m\u001b[0m\u001b[0m\n\u001b[0m\u001b[1;32m   4515\u001b[0m         ).__finalize__(self)\n\u001b[1;32m   4516\u001b[0m \u001b[0;34m\u001b[0m\u001b[0m\n",
      "\u001b[0;32m/scratch1/rsingh/python/venv/base36/lib/python3.6/site-packages/pandas/core/generic.py\u001b[0m in \u001b[0;36m_reindex_axes\u001b[0;34m(self, axes, level, limit, tolerance, method, fill_value, copy)\u001b[0m\n\u001b[1;32m   4533\u001b[0m                 \u001b[0mfill_value\u001b[0m\u001b[0;34m=\u001b[0m\u001b[0mfill_value\u001b[0m\u001b[0;34m,\u001b[0m\u001b[0;34m\u001b[0m\u001b[0m\n\u001b[1;32m   4534\u001b[0m                 \u001b[0mcopy\u001b[0m\u001b[0;34m=\u001b[0m\u001b[0mcopy\u001b[0m\u001b[0;34m,\u001b[0m\u001b[0;34m\u001b[0m\u001b[0m\n\u001b[0;32m-> 4535\u001b[0;31m                 \u001b[0mallow_dups\u001b[0m\u001b[0;34m=\u001b[0m\u001b[0;32mFalse\u001b[0m\u001b[0;34m,\u001b[0m\u001b[0;34m\u001b[0m\u001b[0m\n\u001b[0m\u001b[1;32m   4536\u001b[0m             )\n\u001b[1;32m   4537\u001b[0m \u001b[0;34m\u001b[0m\u001b[0m\n",
      "\u001b[0;32m/scratch1/rsingh/python/venv/base36/lib/python3.6/site-packages/pandas/core/generic.py\u001b[0m in \u001b[0;36m_reindex_with_indexers\u001b[0;34m(self, reindexers, fill_value, copy, allow_dups)\u001b[0m\n\u001b[1;32m   4575\u001b[0m                 \u001b[0mfill_value\u001b[0m\u001b[0;34m=\u001b[0m\u001b[0mfill_value\u001b[0m\u001b[0;34m,\u001b[0m\u001b[0;34m\u001b[0m\u001b[0m\n\u001b[1;32m   4576\u001b[0m                 \u001b[0mallow_dups\u001b[0m\u001b[0;34m=\u001b[0m\u001b[0mallow_dups\u001b[0m\u001b[0;34m,\u001b[0m\u001b[0;34m\u001b[0m\u001b[0m\n\u001b[0;32m-> 4577\u001b[0;31m                 \u001b[0mcopy\u001b[0m\u001b[0;34m=\u001b[0m\u001b[0mcopy\u001b[0m\u001b[0;34m,\u001b[0m\u001b[0;34m\u001b[0m\u001b[0m\n\u001b[0m\u001b[1;32m   4578\u001b[0m             )\n\u001b[1;32m   4579\u001b[0m \u001b[0;34m\u001b[0m\u001b[0m\n",
      "\u001b[0;32m/scratch1/rsingh/python/venv/base36/lib/python3.6/site-packages/pandas/core/internals/managers.py\u001b[0m in \u001b[0;36mreindex_indexer\u001b[0;34m(self, new_axis, indexer, axis, fill_value, allow_dups, copy)\u001b[0m\n\u001b[1;32m   1249\u001b[0m         \u001b[0;31m# some axes don't allow reindexing with dups\u001b[0m\u001b[0;34m\u001b[0m\u001b[0;34m\u001b[0m\u001b[0m\n\u001b[1;32m   1250\u001b[0m         \u001b[0;32mif\u001b[0m \u001b[0;32mnot\u001b[0m \u001b[0mallow_dups\u001b[0m\u001b[0;34m:\u001b[0m\u001b[0;34m\u001b[0m\u001b[0m\n\u001b[0;32m-> 1251\u001b[0;31m             \u001b[0mself\u001b[0m\u001b[0;34m.\u001b[0m\u001b[0maxes\u001b[0m\u001b[0;34m[\u001b[0m\u001b[0maxis\u001b[0m\u001b[0;34m]\u001b[0m\u001b[0;34m.\u001b[0m\u001b[0m_can_reindex\u001b[0m\u001b[0;34m(\u001b[0m\u001b[0mindexer\u001b[0m\u001b[0;34m)\u001b[0m\u001b[0;34m\u001b[0m\u001b[0m\n\u001b[0m\u001b[1;32m   1252\u001b[0m \u001b[0;34m\u001b[0m\u001b[0m\n\u001b[1;32m   1253\u001b[0m         \u001b[0;32mif\u001b[0m \u001b[0maxis\u001b[0m \u001b[0;34m>=\u001b[0m \u001b[0mself\u001b[0m\u001b[0;34m.\u001b[0m\u001b[0mndim\u001b[0m\u001b[0;34m:\u001b[0m\u001b[0;34m\u001b[0m\u001b[0m\n",
      "\u001b[0;32m/scratch1/rsingh/python/venv/base36/lib/python3.6/site-packages/pandas/core/indexes/base.py\u001b[0m in \u001b[0;36m_can_reindex\u001b[0;34m(self, indexer)\u001b[0m\n\u001b[1;32m   3360\u001b[0m         \u001b[0;31m# trying to reindex on an axis with duplicates\u001b[0m\u001b[0;34m\u001b[0m\u001b[0;34m\u001b[0m\u001b[0m\n\u001b[1;32m   3361\u001b[0m         \u001b[0;32mif\u001b[0m \u001b[0;32mnot\u001b[0m \u001b[0mself\u001b[0m\u001b[0;34m.\u001b[0m\u001b[0mis_unique\u001b[0m \u001b[0;32mand\u001b[0m \u001b[0mlen\u001b[0m\u001b[0;34m(\u001b[0m\u001b[0mindexer\u001b[0m\u001b[0;34m)\u001b[0m\u001b[0;34m:\u001b[0m\u001b[0;34m\u001b[0m\u001b[0m\n\u001b[0;32m-> 3362\u001b[0;31m             \u001b[0;32mraise\u001b[0m \u001b[0mValueError\u001b[0m\u001b[0;34m(\u001b[0m\u001b[0;34m\"cannot reindex from a duplicate axis\"\u001b[0m\u001b[0;34m)\u001b[0m\u001b[0;34m\u001b[0m\u001b[0m\n\u001b[0m\u001b[1;32m   3363\u001b[0m \u001b[0;34m\u001b[0m\u001b[0m\n\u001b[1;32m   3364\u001b[0m     \u001b[0;32mdef\u001b[0m \u001b[0mreindex\u001b[0m\u001b[0;34m(\u001b[0m\u001b[0mself\u001b[0m\u001b[0;34m,\u001b[0m \u001b[0mtarget\u001b[0m\u001b[0;34m,\u001b[0m \u001b[0mmethod\u001b[0m\u001b[0;34m=\u001b[0m\u001b[0;32mNone\u001b[0m\u001b[0;34m,\u001b[0m \u001b[0mlevel\u001b[0m\u001b[0;34m=\u001b[0m\u001b[0;32mNone\u001b[0m\u001b[0;34m,\u001b[0m \u001b[0mlimit\u001b[0m\u001b[0;34m=\u001b[0m\u001b[0;32mNone\u001b[0m\u001b[0;34m,\u001b[0m \u001b[0mtolerance\u001b[0m\u001b[0;34m=\u001b[0m\u001b[0;32mNone\u001b[0m\u001b[0;34m)\u001b[0m\u001b[0;34m:\u001b[0m\u001b[0;34m\u001b[0m\u001b[0m\n",
      "\u001b[0;31mValueError\u001b[0m: cannot reindex from a duplicate axis"
     ]
    }
   ],
   "source": [
    "def  getGene2TADmap(adata1, tad):\n",
    "    l = []\n",
    "    nGenes = adata1.var.shape[0]\n",
    "    for i in tqdm(range(nGenes)):\n",
    "        gchr = adata1.var[\"chr\"][i]\n",
    "        gtss = adata1.var[\"tss_adj\"][i]\n",
    "        idx1 = (tad.chr==gchr) & (tad[\"start\"] <= gtss) & (tad[\"end\"] > gtss)\n",
    "        #if i%100==0: print (\"Flag 3231.10 \", i)\n",
    "        if idx1.sum() > 0:\n",
    "            l.append( np.argmax(idx1.values))\n",
    "        else:\n",
    "            l.append(np.NaN)\n",
    "    g2tad = np.array(l)\n",
    "    gene_sharedtad = np.subtract.outer( g2tad, g2tad)==0\n",
    "    return g2tad, gene_sharedtad\n",
    "\n",
    "tad = pd.read_csv(\"/afs/csail.mit.edu/u/r/rsingh/work/refdata/hg19_A549_TAD.bed\", delimiter=\"\\t\", header=None)\n",
    "tad.columns = [\"chr\",\"start\",\"end\", \"x1\",\"x2\"]\n",
    "g2tad, gene_sharedtad = getGene2TADmap(adata1, tad)\n",
    "adata1.var[\"tad_id\"] = tad.x1[g2tad].values"
   ]
  },
  {
   "cell_type": "code",
   "execution_count": 688,
   "metadata": {},
   "outputs": [],
   "source": [
    "wx = adata1.var[[\"chr\",\"tss_adj\"]].copy(deep=True)\n",
    "wx[\"chrint\"] = wx[\"chr\"].apply(lambda s: s.replace(\"chr\",\"\").replace(\"X\",\"23\").replace(\"Y\",\"24\")).astype(int)\n",
    "wx[\"oldidx\"] =  np.arange(wx.shape[0])\n",
    "wx.index = adata1.var.index\n",
    "wx = wx.sort_values([\"chrint\",\"tss_adj\"])\n",
    "wx[\"rowidx\"] = np.arange(wx.shape[0])\n",
    "wx[\"gpos\"] = 10000*wx[\"chrint\"] + (wx.groupby(\"chrint\")[\"tss_adj\"].transform(lambda v: v.rank())).values\n",
    "wx = wx.sort_values(\"oldidx\")\n",
    "adata1.var[\"rowidx\"] = wx.rowidx.values\n",
    "adata1.var[\"gpos\"] = wx.gpos.values"
   ]
  },
  {
   "cell_type": "code",
   "execution_count": null,
   "metadata": {},
   "outputs": [],
   "source": [
    "a1 = \"EDF1,C8G,PTGDS,LCNL1,CLIC3,NPDC1,ENTPD2,SAPCD2,ANAPC2,TMEM203,RNF208,CYSRT1,NRARP,EXD3\".split(\",\")\n",
    "a2 = \"TNNI3,DNAAF3,PTPRH,TMEM86B,PPP6R1,IL11,UBE2S,ISOC2,SBK3,ZNF579,FIZ1,ZNF784\".split(\",\")\n",
    "a3 = \"TP53,EFNB3,NAA38,KCNAB3,ALOX12B,ALOXE3,HES7,VAMP2,TMEM107,BORCS6,AURKB\".split(\",\")"
   ]
  },
  {
   "cell_type": "code",
   "execution_count": 571,
   "metadata": {},
   "outputs": [
    {
     "data": {
      "text/html": [
       "<div>\n",
       "<style scoped>\n",
       "    .dataframe tbody tr th:only-of-type {\n",
       "        vertical-align: middle;\n",
       "    }\n",
       "\n",
       "    .dataframe tbody tr th {\n",
       "        vertical-align: top;\n",
       "    }\n",
       "\n",
       "    .dataframe thead th {\n",
       "        text-align: right;\n",
       "    }\n",
       "</style>\n",
       "<table border=\"1\" class=\"dataframe\">\n",
       "  <thead>\n",
       "    <tr style=\"text-align: right;\">\n",
       "      <th></th>\n",
       "      <th>gene_id</th>\n",
       "      <th>gene_type</th>\n",
       "      <th>ensembl_id</th>\n",
       "      <th>chr</th>\n",
       "      <th>strand</th>\n",
       "      <th>txstart</th>\n",
       "      <th>txend</th>\n",
       "      <th>tss_adj</th>\n",
       "      <th>map_location</th>\n",
       "      <th>Symbol</th>\n",
       "      <th>gene_expression_ranking</th>\n",
       "      <th>gene_variability_ranking</th>\n",
       "      <th>rowidx</th>\n",
       "      <th>gpos</th>\n",
       "    </tr>\n",
       "    <tr>\n",
       "      <th>index</th>\n",
       "      <th></th>\n",
       "      <th></th>\n",
       "      <th></th>\n",
       "      <th></th>\n",
       "      <th></th>\n",
       "      <th></th>\n",
       "      <th></th>\n",
       "      <th></th>\n",
       "      <th></th>\n",
       "      <th></th>\n",
       "      <th></th>\n",
       "      <th></th>\n",
       "      <th></th>\n",
       "      <th></th>\n",
       "    </tr>\n",
       "  </thead>\n",
       "  <tbody>\n",
       "    <tr>\n",
       "      <td>EDF1</td>\n",
       "      <td>ENSG00000107223</td>\n",
       "      <td>protein_coding</td>\n",
       "      <td>ENSG00000107223</td>\n",
       "      <td>chr9</td>\n",
       "      <td>-</td>\n",
       "      <td>139757120.0</td>\n",
       "      <td>139760788.0</td>\n",
       "      <td>139760788.0</td>\n",
       "      <td>9q34.3</td>\n",
       "      <td>EDF1</td>\n",
       "      <td>2740.0</td>\n",
       "      <td>1000</td>\n",
       "      <td>5536</td>\n",
       "      <td>90446.0</td>\n",
       "    </tr>\n",
       "    <tr>\n",
       "      <td>C8G</td>\n",
       "      <td>ENSG00000176919</td>\n",
       "      <td>protein_coding</td>\n",
       "      <td>ENSG00000176919</td>\n",
       "      <td>chr9</td>\n",
       "      <td>+</td>\n",
       "      <td>139839697.0</td>\n",
       "      <td>139841426.0</td>\n",
       "      <td>139839697.0</td>\n",
       "      <td>9q34.3</td>\n",
       "      <td>C8G</td>\n",
       "      <td>10569.0</td>\n",
       "      <td>1000</td>\n",
       "      <td>5538</td>\n",
       "      <td>90448.0</td>\n",
       "    </tr>\n",
       "    <tr>\n",
       "      <td>PTGDS</td>\n",
       "      <td>ENSG00000107317</td>\n",
       "      <td>protein_coding</td>\n",
       "      <td>ENSG00000107317</td>\n",
       "      <td>chr9</td>\n",
       "      <td>+</td>\n",
       "      <td>139871955.0</td>\n",
       "      <td>139876194.0</td>\n",
       "      <td>139871955.0</td>\n",
       "      <td>9q34.3</td>\n",
       "      <td>PTGDS</td>\n",
       "      <td>11496.0</td>\n",
       "      <td>2000</td>\n",
       "      <td>5540</td>\n",
       "      <td>90450.0</td>\n",
       "    </tr>\n",
       "    <tr>\n",
       "      <td>LCNL1</td>\n",
       "      <td>ENSG00000214402</td>\n",
       "      <td>protein_coding</td>\n",
       "      <td>ENSG00000214402</td>\n",
       "      <td>chr9</td>\n",
       "      <td>+</td>\n",
       "      <td>139877444.0</td>\n",
       "      <td>139880210.0</td>\n",
       "      <td>139877444.0</td>\n",
       "      <td>9q34.3</td>\n",
       "      <td>LCNL1</td>\n",
       "      <td>10656.0</td>\n",
       "      <td>500</td>\n",
       "      <td>5541</td>\n",
       "      <td>90451.0</td>\n",
       "    </tr>\n",
       "    <tr>\n",
       "      <td>CLIC3</td>\n",
       "      <td>ENSG00000169583</td>\n",
       "      <td>protein_coding</td>\n",
       "      <td>ENSG00000169583</td>\n",
       "      <td>chr9</td>\n",
       "      <td>-</td>\n",
       "      <td>139889059.0</td>\n",
       "      <td>139891024.0</td>\n",
       "      <td>139891024.0</td>\n",
       "      <td>9q34.3</td>\n",
       "      <td>CLIC3</td>\n",
       "      <td>11290.0</td>\n",
       "      <td>500</td>\n",
       "      <td>5543</td>\n",
       "      <td>90453.0</td>\n",
       "    </tr>\n",
       "    <tr>\n",
       "      <td>NPDC1</td>\n",
       "      <td>ENSG00000107281</td>\n",
       "      <td>protein_coding</td>\n",
       "      <td>ENSG00000107281</td>\n",
       "      <td>chr9</td>\n",
       "      <td>-</td>\n",
       "      <td>139933908.0</td>\n",
       "      <td>139940676.0</td>\n",
       "      <td>139940676.0</td>\n",
       "      <td>9q34.3</td>\n",
       "      <td>NPDC1</td>\n",
       "      <td>2298.0</td>\n",
       "      <td>500</td>\n",
       "      <td>5544</td>\n",
       "      <td>90454.0</td>\n",
       "    </tr>\n",
       "    <tr>\n",
       "      <td>ENTPD2</td>\n",
       "      <td>ENSG00000054179</td>\n",
       "      <td>protein_coding</td>\n",
       "      <td>ENSG00000054179</td>\n",
       "      <td>chr9</td>\n",
       "      <td>-</td>\n",
       "      <td>139942549.0</td>\n",
       "      <td>139948503.0</td>\n",
       "      <td>139948503.0</td>\n",
       "      <td>9q34.3</td>\n",
       "      <td>ENTPD2</td>\n",
       "      <td>4587.0</td>\n",
       "      <td>2000</td>\n",
       "      <td>5545</td>\n",
       "      <td>90455.0</td>\n",
       "    </tr>\n",
       "    <tr>\n",
       "      <td>SAPCD2</td>\n",
       "      <td>ENSG00000186193</td>\n",
       "      <td>protein_coding</td>\n",
       "      <td>ENSG00000186193</td>\n",
       "      <td>chr9</td>\n",
       "      <td>-</td>\n",
       "      <td>139956578.0</td>\n",
       "      <td>139965028.0</td>\n",
       "      <td>139965028.0</td>\n",
       "      <td>9q34.3</td>\n",
       "      <td>SAPCD2</td>\n",
       "      <td>4714.0</td>\n",
       "      <td>2500</td>\n",
       "      <td>5546</td>\n",
       "      <td>90456.0</td>\n",
       "    </tr>\n",
       "    <tr>\n",
       "      <td>ANAPC2</td>\n",
       "      <td>ENSG00000176248</td>\n",
       "      <td>protein_coding</td>\n",
       "      <td>ENSG00000176248</td>\n",
       "      <td>chr9</td>\n",
       "      <td>-</td>\n",
       "      <td>140069235.0</td>\n",
       "      <td>140083057.0</td>\n",
       "      <td>140083057.0</td>\n",
       "      <td>9q34.3</td>\n",
       "      <td>ANAPC2</td>\n",
       "      <td>6189.0</td>\n",
       "      <td>1000</td>\n",
       "      <td>5550</td>\n",
       "      <td>90460.0</td>\n",
       "    </tr>\n",
       "    <tr>\n",
       "      <td>TMEM203</td>\n",
       "      <td>ENSG00000187713</td>\n",
       "      <td>protein_coding</td>\n",
       "      <td>ENSG00000187713</td>\n",
       "      <td>chr9</td>\n",
       "      <td>-</td>\n",
       "      <td>140098533.0</td>\n",
       "      <td>140100090.0</td>\n",
       "      <td>140100090.0</td>\n",
       "      <td>9q34.3</td>\n",
       "      <td>TMEM203</td>\n",
       "      <td>7894.0</td>\n",
       "      <td>1000</td>\n",
       "      <td>5552</td>\n",
       "      <td>90462.0</td>\n",
       "    </tr>\n",
       "  </tbody>\n",
       "</table>\n",
       "</div>"
      ],
      "text/plain": [
       "                 gene_id       gene_type       ensembl_id   chr strand  \\\n",
       "index                                                                    \n",
       "EDF1     ENSG00000107223  protein_coding  ENSG00000107223  chr9      -   \n",
       "C8G      ENSG00000176919  protein_coding  ENSG00000176919  chr9      +   \n",
       "PTGDS    ENSG00000107317  protein_coding  ENSG00000107317  chr9      +   \n",
       "LCNL1    ENSG00000214402  protein_coding  ENSG00000214402  chr9      +   \n",
       "CLIC3    ENSG00000169583  protein_coding  ENSG00000169583  chr9      -   \n",
       "NPDC1    ENSG00000107281  protein_coding  ENSG00000107281  chr9      -   \n",
       "ENTPD2   ENSG00000054179  protein_coding  ENSG00000054179  chr9      -   \n",
       "SAPCD2   ENSG00000186193  protein_coding  ENSG00000186193  chr9      -   \n",
       "ANAPC2   ENSG00000176248  protein_coding  ENSG00000176248  chr9      -   \n",
       "TMEM203  ENSG00000187713  protein_coding  ENSG00000187713  chr9      -   \n",
       "\n",
       "             txstart        txend      tss_adj map_location   Symbol  \\\n",
       "index                                                                  \n",
       "EDF1     139757120.0  139760788.0  139760788.0       9q34.3     EDF1   \n",
       "C8G      139839697.0  139841426.0  139839697.0       9q34.3      C8G   \n",
       "PTGDS    139871955.0  139876194.0  139871955.0       9q34.3    PTGDS   \n",
       "LCNL1    139877444.0  139880210.0  139877444.0       9q34.3    LCNL1   \n",
       "CLIC3    139889059.0  139891024.0  139891024.0       9q34.3    CLIC3   \n",
       "NPDC1    139933908.0  139940676.0  139940676.0       9q34.3    NPDC1   \n",
       "ENTPD2   139942549.0  139948503.0  139948503.0       9q34.3   ENTPD2   \n",
       "SAPCD2   139956578.0  139965028.0  139965028.0       9q34.3   SAPCD2   \n",
       "ANAPC2   140069235.0  140083057.0  140083057.0       9q34.3   ANAPC2   \n",
       "TMEM203  140098533.0  140100090.0  140100090.0       9q34.3  TMEM203   \n",
       "\n",
       "         gene_expression_ranking  gene_variability_ranking  rowidx     gpos  \n",
       "index                                                                        \n",
       "EDF1                      2740.0                      1000    5536  90446.0  \n",
       "C8G                      10569.0                      1000    5538  90448.0  \n",
       "PTGDS                    11496.0                      2000    5540  90450.0  \n",
       "LCNL1                    10656.0                       500    5541  90451.0  \n",
       "CLIC3                    11290.0                       500    5543  90453.0  \n",
       "NPDC1                     2298.0                       500    5544  90454.0  \n",
       "ENTPD2                    4587.0                      2000    5545  90455.0  \n",
       "SAPCD2                    4714.0                      2500    5546  90456.0  \n",
       "ANAPC2                    6189.0                      1000    5550  90460.0  \n",
       "TMEM203                   7894.0                      1000    5552  90462.0  "
      ]
     },
     "execution_count": 571,
     "metadata": {},
     "output_type": "execute_result"
    }
   ],
   "source": [
    "gv = adata1.var\n",
    "gv[ gv.Symbol.isin(a1+a2)].sort_values([\"chr\",\"tss_adj\"]).head(10)"
   ]
  },
  {
   "cell_type": "code",
   "execution_count": 456,
   "metadata": {},
   "outputs": [
    {
     "data": {
      "text/plain": [
       "<matplotlib.axes._subplots.AxesSubplot at 0x7f7af5add828>"
      ]
     },
     "execution_count": 456,
     "metadata": {},
     "output_type": "execute_result"
    },
    {
     "data": {
      "image/png": "[encoded data removed]",
      "text/plain": [
       "<Figure size 1152x576 with 2 Axes>"
      ]
     },
     "metadata": {
      "needs_background": "light"
     },
     "output_type": "display_data"
    }
   ],
   "source": [
    "sns.heatmap(np.corrcoef(adata1.X[:,gv.Symbol.isin(a1+a2)].T), vmax=0.15)"
   ]
  },
  {
   "cell_type": "code",
   "execution_count": 458,
   "metadata": {},
   "outputs": [
    {
     "data": {
      "text/plain": [
       "<matplotlib.axes._subplots.AxesSubplot at 0x7f7af4a9c518>"
      ]
     },
     "execution_count": 458,
     "metadata": {},
     "output_type": "execute_result"
    },
    {
     "data": {
      "image/png": "[encoded data removed]",
      "text/plain": [
       "<Figure size 1152x576 with 2 Axes>"
      ]
     },
     "metadata": {
      "needs_background": "light"
     },
     "output_type": "display_data"
    }
   ],
   "source": [
    "sns.heatmap(np.corrcoef(adata1.X[:,gv.Symbol.isin(a1+a3)].T), vmax=0.15)"
   ]
  },
  {
   "cell_type": "code",
   "execution_count": 690,
   "metadata": {},
   "outputs": [],
   "source": [
    "g1 = pd.read_csv(\"/afs/csail.mit.edu/u/r/rsingh/work/schema/data/sci-car/adata1_genelist_tad_membership_mode81x_genewindow0-3000_20191216-1255\")\n",
    "gv = adata1.var\n",
    "gv1 = gv.merge(g1, on=\"Symbol\", how=\"inner\").sort_values([\"chr\",\"tss_adj\", \"rowidx\"])\n",
    "gv1_corr = np.corrcoef(adata1.X[:, gv1.rowidx].T)\n",
    "gv1_corr[np.arange(gv1_corr.shape[0]), np.arange(gv1_corr.shape[0])] = np.NaN"
   ]
  },
  {
   "cell_type": "code",
   "execution_count": 691,
   "metadata": {},
   "outputs": [],
   "source": [
    "g4 = pd.read_csv(\"/afs/csail.mit.edu/u/r/rsingh/work/schema/data/sci-car/adata1_genelist_tad_membership_mode81x_genewindow9000-12000_20191216-1255\")\n",
    "gv = adata1.var\n",
    "gv4 = gv.merge(g4, on=\"Symbol\", how=\"inner\").sort_values([\"chr\",\"tss_adj\", \"rowidx\"])\n",
    "gv4_corr = np.corrcoef(adata1.X[:, gv4.rowidx].T)\n",
    "gv4_corr[np.arange(gv4_corr.shape[0]), np.arange(gv4_corr.shape[0])] = np.NaN"
   ]
  },
  {
   "cell_type": "code",
   "execution_count": 488,
   "metadata": {},
   "outputs": [],
   "source": []
  },
  {
   "cell_type": "code",
   "execution_count": null,
   "metadata": {},
   "outputs": [],
   "source": [
    "f_del_na = lambda v: v[~np.isnan(v)]"
   ]
  },
  {
   "cell_type": "code",
   "execution_count": 692,
   "metadata": {},
   "outputs": [],
   "source": [
    "def get_corr_values(gvx, gvx_corr, min_tadcnt, max_tadcnt, require_same_strand=False):\n",
    "    if max_tadcnt==1 and require_same_strand: return []\n",
    "    tlist = gvx.tadid[ (gvx.tadcnt>=min_tadcnt) & (gvx.tadcnt <= max_tadcnt)].unique()\n",
    "    f_del_na = lambda v: v[~np.isnan(v)]\n",
    "    L = []\n",
    "    for t in tlist:\n",
    "        if not require_same_strand:\n",
    "            L.append(f_del_na(np.ravel(gvx_corr[((gvx.tadid==t) | (max_tadcnt==1)),:][:,gvx.tadid==t])))\n",
    "        else:\n",
    "            L.append(f_del_na(np.ravel(gvx_corr[((gvx.tadid==t) | (max_tadcnt==1)) & (gvx.strand==\"+\"),:][:,((gvx.tadid==t) | (max_tadcnt==1)) & (gvx.strand==\"+\")])))\n",
    "            L.append(f_del_na(np.ravel(gvx_corr[((gvx.tadid==t) | (max_tadcnt==1)) & (gvx.strand==\"-\"),:][:,((gvx.tadid==t) | (max_tadcnt==1)) & (gvx.strand==\"-\")])))\n",
    "\n",
    "    return np.hstack(L)"
   ]
  },
  {
   "cell_type": "code",
   "execution_count": 693,
   "metadata": {},
   "outputs": [
    {
     "name": "stdout",
     "output_type": "stream",
     "text": [
      "2 2 False [-0.025183717451454788, 0.009390661062891482, 0.012703358891497415, 11.183949155404754, 0.1210289450830915]\n",
      "2 2 True [-0.025183717451454788, 0.0115011932206666, 0.013655747959687072, 10.50831205261571, 0.1210289450830915]\n",
      "2 15 False [-0.03645579357402051, 0.008423448532332638, 0.012748525563052367, 39.43760996960623, 0.1315662025822448]\n",
      "2 15 True [-0.03645579357402051, 0.011130501739071746, 0.014455394475294578, 39.57676974385421, 0.1315662025822448]\n",
      "5 15 False [-0.03645579357402051, 0.008444098672621421, 0.012504243824055487, 32.156306509761414, 0.1315662025822448]\n",
      "5 15 True [-0.03645579357402051, 0.010649587039539454, 0.013970276535792905, 31.921486035891146, 0.1315662025822448]\n",
      "\n",
      "\n",
      "\n",
      "1 1 False [-0.09724443347241274, 0.022105670609525875, 0.02520246934790221, 1304.8096012652018, 0.2633716234011923]\n",
      "1 1 True [nan, nan, nan, nan, nan]\n",
      "2 2 False [-0.02307249395933902, 0.023574196788116134, 0.026866527967603835, 21.22163072058286, 0.1482945131960782]\n",
      "2 2 True [-0.02307249395933902, 0.02478380342226705, 0.02905123609442134, 21.79740256054792, 0.1482945131960782]\n",
      "2 15 False [-0.043274592817890464, 0.022477401446003846, 0.025443336585909214, 63.71671569195438, 0.2272767641037407]\n",
      "2 15 True [-0.043274592817890464, 0.024136118962914996, 0.026925727667599205, 64.30465278314846, 0.2272767641037407]\n",
      "5 15 False [-0.043274592817890464, 0.020782062878369457, 0.02451090588637918, 43.34671437553633, 0.1988696324682496]\n",
      "5 15 True [-0.043274592817890464, 0.022289819172010256, 0.025673378074680914, 43.80459281557656, 0.1988696324682496]\n"
     ]
    }
   ],
   "source": [
    "summarize = lambda v: [np.NaN]*5 if len(v)==0 else [v.min(), np.median(v), np.mean(v), np.mean(v)*np.sqrt(len(v))/np.std(v), v.max()]\n",
    "\n",
    "for mint, maxt in [ (2,2), (2,15), (5,15)]:\n",
    "    for s in [False, True]:\n",
    "        print(mint, maxt, s, summarize(get_corr_values(gv1, gv1_corr, mint, maxt, s))) \n",
    "\n",
    "print(\"\\n\\n\")\n",
    "\n",
    "for mint, maxt in [(1,1), (2,2), (2,15), (5,15)]:\n",
    "    for s in [False, True]:\n",
    "        print(mint, maxt, s, summarize(get_corr_values(gv4, gv4_corr, mint, maxt, s))) \n"
   ]
  },
  {
   "cell_type": "code",
   "execution_count": 706,
   "metadata": {
    "code_folding": []
   },
   "outputs": [],
   "source": [
    "def corr_w_next_gene(adata1, min_gvar, max_gvar, offset=1, go_downstream=True, require_same_tad=False, use_spearman_corr=False):\n",
    "    gv = copy.deepcopy(adata1.var)\n",
    "    gv[\"origidx\"] = np.arange(gv.shape[0])\n",
    "    gv = gv.sort_values(\"gpos\").reset_index(drop=True)\n",
    "    #print(gv.head(20))\n",
    "    idx1 = np.flatnonzero(((gv.gene_variability_ranking >= min_gvar) & (gv.gene_variability_ranking < max_gvar)).values)\n",
    "    idx2 = np.where(gv.strand.values[idx1]==\"+\", idx1+offset, idx1-offset) \n",
    "    if not go_downstream:\n",
    "        idx2 = np.where(gv.strand.values[idx1]==\"+\", idx1-offset, idx1+offset) \n",
    "    idx2 = np.minimum(gv.shape[0]-1, np.maximum(0, idx2))\n",
    "    print(idx1[:10], idx2[:10])\n",
    "    same_chr = gv.chr.values[idx1] == gv.chr.values[idx2]\n",
    "    if require_same_tad:\n",
    "        same_tad = ((~(gv.tad_id[idx1].isnull().values)) & \n",
    "                    (~(gv.tad_id[idx2].isnull().values)) & \n",
    "                    (gv.tad_id.values[idx1] == gv.tad_id.values[idx2]))\n",
    "        \n",
    "        print (sum(same_chr), sum(same_tad))\n",
    "        same_chr = same_chr & same_tad\n",
    "\n",
    "    orig_idx1 = idx1.copy()\n",
    "    idx1 = idx1[same_chr]\n",
    "    idx2 = idx2[same_chr]\n",
    "    assert len(idx1) == len(idx2)\n",
    "    nidx = len(idx1)\n",
    "    if not use_spearman_corr: \n",
    "        z = np.corrcoef(adata1.X[:,gv.origidx[idx1]].T, adata1.X[:,gv.origidx[idx2]].T)\n",
    "    else:\n",
    "        z = scipy.stats.spearmanr(adata1.X[:,gv.origidx[idx1]], adata1.X[:,gv.origidx[idx2]])[0]\n",
    "    f_skip_1 = lambda v: v[v<0.99]\n",
    "    print(len(orig_idx1), len(idx1), len(idx2), z.shape)\n",
    "    return summarize(f_skip_1(np.ravel(np.diag(z[:nidx,:][:,-nidx:]))))"
   ]
  },
  {
   "cell_type": "code",
   "execution_count": 695,
   "metadata": {},
   "outputs": [
    {
     "name": "stdout",
     "output_type": "stream",
     "text": [
      "[ 3  6  8 13 15 17 20 21 22 25] [ 4  5  7 12 14 16 19 20 21 24]\n",
      "2500 2494 2494 (4988, 4988)\n",
      "[ 0  4  7 12 30 32 35 38 46 48] [ 1  5  8 13 31 33 36 39 45 49]\n",
      "3054 3046 3046 (6092, 6092)\n",
      "[0 1 2 3 4 5 6 7 8 9] [ 1  0  3  4  5  4  5  8  7 10]\n",
      "11554 11526 11526 (23052, 23052)\n"
     ]
    },
    {
     "data": {
      "text/plain": [
       "([-0.03798245596314837,\n",
       "  0.011820216091561073,\n",
       "  0.01622880117936293,\n",
       "  31.04804633534388,\n",
       "  0.27698469753827637],\n",
       " [-0.04130357655709868,\n",
       "  0.020795146686769666,\n",
       "  0.023739836288545427,\n",
       "  44.910167273628396,\n",
       "  0.27698469753827637],\n",
       " [-0.04130357655709868,\n",
       "  0.016071918436164942,\n",
       "  0.01976823319785436,\n",
       "  76.90795305098654,\n",
       "  0.27698469753827637])"
      ]
     },
     "execution_count": 695,
     "metadata": {},
     "output_type": "execute_result"
    }
   ],
   "source": [
    "corr_w_next_gene(adata1, 0, 3000, 1), corr_w_next_gene(adata1, 9000, 12000, 1),  corr_w_next_gene(adata1, 0, 12000, 1) "
   ]
  },
  {
   "cell_type": "code",
   "execution_count": 698,
   "metadata": {},
   "outputs": [
    {
     "name": "stdout",
     "output_type": "stream",
     "text": [
      "[ 3  6  8 13 15 17 20 21 22 25] [ 4  5  7 12 14 16 19 20 21 24]\n",
      "2494 1691\n",
      "2500 1691 1691 (3382, 3382)\n",
      "[ 0  4  7 12 30 32 35 38 46 48] [ 1  5  8 13 31 33 36 39 45 49]\n",
      "3046 1962\n",
      "3054 1962 1962 (3924, 3924)\n",
      "[0 1 2 3 4 5 6 7 8 9] [ 1  0  3  4  5  4  5  8  7 10]\n",
      "11526 7525\n",
      "11554 7525 7525 (15050, 15050)\n"
     ]
    },
    {
     "data": {
      "text/plain": [
       "([-0.03798245596314837,\n",
       "  0.011728810212760007,\n",
       "  0.016439739298647883,\n",
       "  25.104460607218375,\n",
       "  0.27698469753827637],\n",
       " [-0.04130357655709868,\n",
       "  0.021244589874295706,\n",
       "  0.024241093760946388,\n",
       "  36.36389820165712,\n",
       "  0.27698469753827637],\n",
       " [-0.04130357655709868,\n",
       "  0.016417529790112465,\n",
       "  0.020067399936753338,\n",
       "  62.140870274621086,\n",
       "  0.27698469753827637])"
      ]
     },
     "execution_count": 698,
     "metadata": {},
     "output_type": "execute_result"
    }
   ],
   "source": [
    "corr_w_next_gene(adata1, 0, 3000, 1, require_same_tad=True), corr_w_next_gene(adata1, 9000, 12000, 1, require_same_tad=True),  corr_w_next_gene(adata1, 0, 12000, 1, require_same_tad=True) "
   ]
  },
  {
   "cell_type": "code",
   "execution_count": 708,
   "metadata": {},
   "outputs": [
    {
     "name": "stdout",
     "output_type": "stream",
     "text": [
      "[ 3  6  8 13 15 17 20 21 22 25] [ 4  5  7 12 14 16 19 20 21 24]\n",
      "2500 2494 2494 (4988, 4988)\n",
      "[ 0  4  7 12 30 32 35 38 46 48] [ 1  5  8 13 31 33 36 39 45 49]\n",
      "3054 3046 3046 (6092, 6092)\n",
      "[0 1 2 3 4 5 6 7 8 9] [ 1  0  3  4  5  4  5  8  7 10]\n",
      "11554 11526 11526 (23052, 23052)\n"
     ]
    },
    {
     "data": {
      "text/plain": [
       "([-0.03839493582448323,\n",
       "  0.015245675346996538,\n",
       "  0.01861720260979664,\n",
       "  35.123178360777715,\n",
       "  0.2662272968915621],\n",
       " [-0.03847235827436746,\n",
       "  0.02324817121483998,\n",
       "  0.02492671753648704,\n",
       "  49.98916696509854,\n",
       "  0.2662272968915621],\n",
       " [-0.03847235827436746,\n",
       "  0.0195414841723724,\n",
       "  0.021732134582845824,\n",
       "  86.50730523927832,\n",
       "  0.2662272968915621])"
      ]
     },
     "execution_count": 708,
     "metadata": {},
     "output_type": "execute_result"
    }
   ],
   "source": [
    "corr_w_next_gene(adata1, 0, 3000, 1, use_spearman_corr=True) , corr_w_next_gene(adata1, 9000, 12000, 1, use_spearman_corr=True) , corr_w_next_gene(adata1, 0, 12000, 1, use_spearman_corr=True) "
   ]
  },
  {
   "cell_type": "code",
   "execution_count": 643,
   "metadata": {},
   "outputs": [
    {
     "data": {
      "text/plain": [
       "([-0.04357537048655782,\n",
       "  0.021751475516603808,\n",
       "  0.02276149254672082,\n",
       "  46.43555867019979,\n",
       "  0.12228114526588382],\n",
       " [-0.03633515270778,\n",
       "  0.03285841230089943,\n",
       "  0.0330758897755125,\n",
       "  74.45241084211963,\n",
       "  0.10732709456249788],\n",
       " [-0.04357537048655782,\n",
       "  0.026064355869636888,\n",
       "  0.02694708394616785,\n",
       "  118.567063938857,\n",
       "  0.12228114526588382])"
      ]
     },
     "execution_count": 643,
     "metadata": {},
     "output_type": "execute_result"
    }
   ],
   "source": [
    "corr_w_next_gene2(adata1, 0, 3000, 200), corr_w_next_gene2(adata1, 9000, 12000, 200),  corr_w_next_gene2(adata1, 0, 12000, 200) "
   ]
  },
  {
   "cell_type": "code",
   "execution_count": 609,
   "metadata": {},
   "outputs": [
    {
     "data": {
      "text/plain": [
       "([-0.12611949748453322,\n",
       "  0.008931139736493019,\n",
       "  0.012698531302791761,\n",
       "  1384.7117551593394,\n",
       "  0.4660362017217593],\n",
       " [-0.09971622545874002,\n",
       "  0.01666148709181591,\n",
       "  0.019593297567945818,\n",
       "  2104.3567993643724,\n",
       "  0.3296045644443894])"
      ]
     },
     "execution_count": 609,
     "metadata": {},
     "output_type": "execute_result"
    }
   ],
   "source": [
    "corr_w_next_gene(adata1, 0, 3000, False), corr_w_next_gene(adata1, 9000, 12000, False) "
   ]
  },
  {
   "cell_type": "code",
   "execution_count": 599,
   "metadata": {},
   "outputs": [
    {
     "data": {
      "text/html": [
       "<div>\n",
       "<style scoped>\n",
       "    .dataframe tbody tr th:only-of-type {\n",
       "        vertical-align: middle;\n",
       "    }\n",
       "\n",
       "    .dataframe tbody tr th {\n",
       "        vertical-align: top;\n",
       "    }\n",
       "\n",
       "    .dataframe thead th {\n",
       "        text-align: right;\n",
       "    }\n",
       "</style>\n",
       "<table border=\"1\" class=\"dataframe\">\n",
       "  <thead>\n",
       "    <tr style=\"text-align: right;\">\n",
       "      <th></th>\n",
       "      <th>gene_id</th>\n",
       "      <th>gene_type</th>\n",
       "      <th>ensembl_id</th>\n",
       "      <th>chr</th>\n",
       "      <th>strand</th>\n",
       "      <th>txstart</th>\n",
       "      <th>txend</th>\n",
       "      <th>tss_adj</th>\n",
       "      <th>map_location</th>\n",
       "      <th>Symbol</th>\n",
       "      <th>gene_expression_ranking</th>\n",
       "      <th>gene_variability_ranking</th>\n",
       "      <th>rowidx</th>\n",
       "      <th>gpos</th>\n",
       "    </tr>\n",
       "    <tr>\n",
       "      <th>index</th>\n",
       "      <th></th>\n",
       "      <th></th>\n",
       "      <th></th>\n",
       "      <th></th>\n",
       "      <th></th>\n",
       "      <th></th>\n",
       "      <th></th>\n",
       "      <th></th>\n",
       "      <th></th>\n",
       "      <th></th>\n",
       "      <th></th>\n",
       "      <th></th>\n",
       "      <th></th>\n",
       "      <th></th>\n",
       "    </tr>\n",
       "  </thead>\n",
       "  <tbody>\n",
       "    <tr>\n",
       "      <td>KLHL17</td>\n",
       "      <td>ENSG00000187961</td>\n",
       "      <td>protein_coding</td>\n",
       "      <td>ENSG00000187961</td>\n",
       "      <td>chr1</td>\n",
       "      <td>+</td>\n",
       "      <td>895966.0</td>\n",
       "      <td>901099.0</td>\n",
       "      <td>895966.0</td>\n",
       "      <td>1p36.33</td>\n",
       "      <td>KLHL17</td>\n",
       "      <td>7828.0</td>\n",
       "      <td>6500</td>\n",
       "      <td>2</td>\n",
       "      <td>10003.0</td>\n",
       "    </tr>\n",
       "    <tr>\n",
       "      <td>B3GALT6</td>\n",
       "      <td>ENSG00000176022</td>\n",
       "      <td>protein_coding</td>\n",
       "      <td>ENSG00000176022</td>\n",
       "      <td>chr1</td>\n",
       "      <td>+</td>\n",
       "      <td>1167628.0</td>\n",
       "      <td>1170421.0</td>\n",
       "      <td>1167628.0</td>\n",
       "      <td>1p36.33</td>\n",
       "      <td>B3GALT6</td>\n",
       "      <td>7410.0</td>\n",
       "      <td>9500</td>\n",
       "      <td>7</td>\n",
       "      <td>10008.0</td>\n",
       "    </tr>\n",
       "  </tbody>\n",
       "</table>\n",
       "</div>"
      ],
      "text/plain": [
       "                 gene_id       gene_type       ensembl_id   chr strand  \\\n",
       "index                                                                    \n",
       "KLHL17   ENSG00000187961  protein_coding  ENSG00000187961  chr1      +   \n",
       "B3GALT6  ENSG00000176022  protein_coding  ENSG00000176022  chr1      +   \n",
       "\n",
       "           txstart      txend    tss_adj map_location   Symbol  \\\n",
       "index                                                            \n",
       "KLHL17    895966.0   901099.0   895966.0      1p36.33   KLHL17   \n",
       "B3GALT6  1167628.0  1170421.0  1167628.0      1p36.33  B3GALT6   \n",
       "\n",
       "         gene_expression_ranking  gene_variability_ranking  rowidx     gpos  \n",
       "index                                                                        \n",
       "KLHL17                    7828.0                      6500       2  10003.0  \n",
       "B3GALT6                   7410.0                      9500       7  10008.0  "
      ]
     },
     "execution_count": 599,
     "metadata": {},
     "output_type": "execute_result"
    }
   ],
   "source": [
    "gv.iloc[idx2r,:].head(2)"
   ]
  },
  {
   "cell_type": "code",
   "execution_count": null,
   "metadata": {},
   "outputs": [],
   "source": [
    "z.shape, np.sum(idx1), adata1.X[:,idx1].T.shape,  adata1.X[:,idx2].T.shape"
   ]
  },
  {
   "cell_type": "code",
   "execution_count": 589,
   "metadata": {},
   "outputs": [
    {
     "data": {
      "text/plain": [
       "[-0.12611949748453322,\n",
       " 0.008535384293300013,\n",
       " 0.012574435921159186,\n",
       " 1253.7503024630378,\n",
       " 1.0]"
      ]
     },
     "execution_count": 589,
     "metadata": {},
     "output_type": "execute_result"
    }
   ],
   "source": [
    "summarize(np.ravel(z))"
   ]
  },
  {
   "cell_type": "code",
   "execution_count": 591,
   "metadata": {},
   "outputs": [
    {
     "data": {
      "text/plain": [
       "[-0.12611949748453322,\n",
       " 0.00893398707223559,\n",
       " 0.012786239319250835,\n",
       " 1292.9595275679503,\n",
       " 1.0]"
      ]
     },
     "execution_count": 591,
     "metadata": {},
     "output_type": "execute_result"
    }
   ],
   "source": [
    "summarize(np.ravel(z))"
   ]
  },
  {
   "cell_type": "code",
   "execution_count": 542,
   "metadata": {},
   "outputs": [
    {
     "data": {
      "text/plain": [
       "(3000, 2)"
      ]
     },
     "execution_count": 542,
     "metadata": {},
     "output_type": "execute_result"
    }
   ],
   "source": [
    "gvar = adata1.var[[\"gene_variability_ranking\",\"rowidx\"]].rename(columns={\"gene_variability_ranking\": \"r\", \"rowidx\": \"idx\"})\n",
    "gvar[(gvar.r<=3000)].shape"
   ]
  },
  {
   "cell_type": "markdown",
   "metadata": {
    "heading_collapsed": true
   },
   "source": [
    "### Junk"
   ]
  },
  {
   "cell_type": "code",
   "execution_count": 434,
   "metadata": {
    "hidden": true
   },
   "outputs": [],
   "source": [
    "ginfo = adata1.var.copy()"
   ]
  },
  {
   "cell_type": "code",
   "execution_count": 437,
   "metadata": {
    "hidden": true
   },
   "outputs": [
    {
     "data": {
      "text/plain": [
       "chr\n",
       "chr1     249.200441\n",
       "chr2     242.752026\n",
       "chr3     197.687070\n",
       "chr4     190.861973\n",
       "chr5     180.688119\n",
       "chr6     170.893780\n",
       "chr7     158.649268\n",
       "chr8     146.277823\n",
       "chr9     140.772240\n",
       "chr10    135.340866\n",
       "chr11    134.201767\n",
       "chr12    133.757994\n",
       "chr13    115.079809\n",
       "chr14    105.992939\n",
       "chr15    102.264645\n",
       "chr16     90.089007\n",
       "chr17     80.964873\n",
       "chr18     78.005397\n",
       "chr19     59.084942\n",
       "chr20     62.887047\n",
       "chr21     48.055506\n",
       "chr22     51.066601\n",
       "chrX     154.842622\n",
       "chrY      59.213948\n",
       "Name: tss_adj, dtype: float64"
      ]
     },
     "execution_count": 437,
     "metadata": {},
     "output_type": "execute_result"
    }
   ],
   "source": [
    "ginfo.groupby(\"chr\")[\"tss_adj\"].max()/1e6"
   ]
  },
  {
   "cell_type": "code",
   "execution_count": null,
   "metadata": {
    "hidden": true
   },
   "outputs": [],
   "source": [
    "gene2chr1, chr2genes1, peak2chr1, chr2peaks1 = utils.scicar_getChrMapping(adata1)\n",
    "gene2chr2, chr2genes2, peak2chr2, chr2peaks2 = utils.scicar_getChrMapping(adata2)"
   ]
  },
  {
   "cell_type": "code",
   "execution_count": null,
   "metadata": {
    "hidden": true
   },
   "outputs": [],
   "source": [
    "adata = adata1\n",
    "gene2chr, chr2genes, peak2chr, chr2peaks = gene2chr1, chr2genes1, peak2chr1, chr2peaks1\n",
    "\n",
    "nCells, nGenes, nPeaks = adata.shape[0], adata.shape[1], adata.uns[\"atac.X\"].shape[1]\n",
    "gXt = adata.X.T.tocsr()\n",
    "pXt = adata.uns[\"atac.X\"].T.tocsr()\n",
    "gVar = adata.var[[\"chr\",\"strand\",\"txstart\",\"txend\",\"tss_adj\"]]\n",
    "pVar = adata.uns[\"atac.var\"][[\"chr\",\"start\",\"end\"]]\n",
    "\n",
    "def getPeakPosReGenes(gVar, peak):\n",
    "    pchr, pstart, pend = peak\n",
    "    print (\"Flag 321.10012 \", peak)\n",
    "    pchr = (str(pchr)).replace(\"chr\",\"\")\n",
    "    \n",
    "    #5 dims: 0: same chr, 1: pStart-gStart, 2: pEnd-gStart, 3: pStart-gEnd, 4: pEnd-gEnd\n",
    "    pos = np.zeros((nGenes,5))\n",
    "    pos[:,0] = np.where(gene2chr==pchr,1,0)\n",
    "    pos[:,1] = np.where(gVar[\"strand\"]==\"+\", gVar[\"txstart\"]-pstart, pend-gVar[\"txend\"])\n",
    "    pos[:,2] = np.where(gVar[\"strand\"]==\"+\", gVar[\"txstart\"]-pend, pstart-gVar[\"txend\"])\n",
    "    pos[:,3] = np.where(gVar[\"strand\"]==\"+\", gVar[\"txend\"]-pstart, pend-gVar[\"txstart\"])\n",
    "    pos[:,4] = np.where(gVar[\"strand\"]==\"+\", gVar[\"txend\"]-pend, pstart-gVar[\"txstart\"])\n",
    "\n",
    "#     pos[:,1] = np.where(gVar[\"strand\"]==\"+\", pstart-gVar[\"txstart\"], gVar[\"txend\"]-pend)\n",
    "#     pos[:,2] = np.where(gVar[\"strand\"]==\"+\", pend-gVar[\"txstart\"], gVar[\"txend\"]-pstart)\n",
    "#     pos[:,3] = np.where(gVar[\"strand\"]==\"+\", pstart-gVar[\"txend\"], gVar[\"txstart\"]-pend)\n",
    "#     pos[:,4] = np.where(gVar[\"strand\"]==\"+\", pend-gVar[\"txend\"], gVar[\"txstart\"]-pstart)\n",
    "    return pos\n",
    "\n",
    "def fpeak1(pos):\n",
    "    return np.where(((pos[:,0]> 0) & \n",
    "                     (pos[:,2]>0) & \n",
    "                     (pos[:,2] < 1e3)), 1, 0)\n",
    "\n",
    "def fpeak2(pos):\n",
    "    return np.where(((pos[:,0]> 0) & \n",
    "                     (pos[:,2]>0) & \n",
    "                     (pos[:,2] > 1e3) &\n",
    "                     (pos[:,2] < 20e3)), 1, 0)\n",
    "\n",
    "def fpeak3(pos):\n",
    "    return np.where(((pos[:,0]> 0) & \n",
    "                     (pos[:,2]>0) & \n",
    "                     (pos[:,2] > 20e3) &\n",
    "                     (pos[:,2] < 100e3)), 1, 0)\n",
    "\n",
    "funclist = [fpeak1, fpeak2, fpeak3]\n",
    "k=len(funclist)"
   ]
  },
  {
   "cell_type": "code",
   "execution_count": null,
   "metadata": {
    "hidden": true
   },
   "outputs": [],
   "source": [
    "pVar.head(3)"
   ]
  },
  {
   "cell_type": "code",
   "execution_count": null,
   "metadata": {
    "hidden": true
   },
   "outputs": [],
   "source": [
    "a = getPeakPosReGenes(gVar, pVar.iloc[15,:])"
   ]
  },
  {
   "cell_type": "code",
   "execution_count": null,
   "metadata": {
    "hidden": true
   },
   "outputs": [],
   "source": [
    "ff = lambda v: (np.min(v), np.median(v), np.mean(v), np.max(v), np.std(v)) \n",
    "ff(np.abs(a[a[:,0]>0,2]))"
   ]
  },
  {
   "cell_type": "code",
   "execution_count": null,
   "metadata": {
    "hidden": true
   },
   "outputs": [],
   "source": [
    "g2p = np.zeros((nGenes,k))\n",
    "for i in range(300): #range(nPeaks):\n",
    "    v = getPeakPosReGenes(gVar, pVar.values[i,:])\n",
    "    print (\"Flag 2.0008 \",i)\n",
    "        \n",
    "    for j,f in enumerate(funclist):\n",
    "        distwt = f(v)\n",
    "        #print(\"Flag 2.0010 \", i,j,np.std(distwt), np.mean(distwt)) \n",
    "        if np.sum(distwt)>1e-12:\n",
    "            distwt = distwt/np.mean(distwt)\n",
    "            G = gXt.copy()\n",
    "            G.data *= distwt.repeat(np.diff(G.indptr))\n",
    "            print (\"Flag 2.0201 \", len(distwt), np.sum(G.data), G.shape, \n",
    "                   np.sum(gXt.data),\n",
    "                   G.data.shape, len(np.diff(G.indptr)),\n",
    "                  pXt.shape)\n",
    "            gw = G.dot( np.ravel(pXt[i,:].todense())).ravel()\n",
    "            g2p[:,j] += gw/nCells\n",
    "            print (\"Flag 2.0320 \", G.shape, distwt.shape, gXt.shape, pXt.shape, gw.shape, g2p.shape)\n",
    "        \n",
    "        "
   ]
  },
  {
   "cell_type": "code",
   "execution_count": null,
   "metadata": {
    "hidden": true
   },
   "outputs": [],
   "source": [
    "g2px = utils.SciCar.computeGeneByFpeakMatrix(adata1, \n",
    "                                             [a[0] for a in utils.SciCar.fpeak_list_all])"
   ]
  },
  {
   "cell_type": "code",
   "execution_count": null,
   "metadata": {
    "hidden": true
   },
   "outputs": [],
   "source": [
    "import multiprocessing"
   ]
  },
  {
   "cell_type": "code",
   "execution_count": 5,
   "metadata": {
    "hidden": true
   },
   "outputs": [
    {
     "name": "stderr",
     "output_type": "stream",
     "text": [
      "Variable names are not unique. To make them unique, call `.var_names_make_unique`.\n"
     ]
    },
    {
     "name": "stdout",
     "output_type": "stream",
     "text": [
      "Flag 343.100  atac.var odict_keys(['atac.X', 'atac.type', 'atac.var', 'atac.var.columns', 'atac.var.index', 'names', 'rna.type']) <class 'numpy.ndarray'>\n",
      "Flag 343.102  atac.var odict_keys(['atac.X', 'atac.type', 'atac.var', 'atac.var.columns', 'atac.var.index', 'names', 'rna.type']) <class 'pandas.core.frame.DataFrame'>\n"
     ]
    },
    {
     "name": "stderr",
     "output_type": "stream",
     "text": [
      "Variable names are not unique. To make them unique, call `.var_names_make_unique`.\n"
     ]
    },
    {
     "name": "stdout",
     "output_type": "stream",
     "text": [
      "Flag 343.100  atac.var odict_keys(['atac.X', 'atac.type', 'atac.var', 'atac.var.columns', 'atac.var.index', 'names', 'rna.type']) <class 'numpy.ndarray'>\n",
      "Flag 343.102  atac.var odict_keys(['atac.X', 'atac.type', 'atac.var', 'atac.var.columns', 'atac.var.index', 'names', 'rna.type']) <class 'pandas.core.frame.DataFrame'>\n"
     ]
    }
   ],
   "source": [
    "adata1 = utils.SciCar.loadAnnData(\"/afs/csail.mit.edu/u/r/rsingh/work/schema/data/sci-car/adata1.h5ad\")\n",
    "adata2 = utils.SciCar.loadAnnData(\"/afs/csail.mit.edu/u/r/rsingh/work/schema/data/sci-car/adata2.h5ad\")"
   ]
  },
  {
   "cell_type": "code",
   "execution_count": null,
   "metadata": {
    "hidden": true
   },
   "outputs": [],
   "source": [
    "adata1x = utils.SciCar.loadAnnData(\"/afs/csail.mit.edu/u/r/rsingh/work/schema/data/sci-car/adata1.h5ad\")"
   ]
  },
  {
   "cell_type": "code",
   "execution_count": null,
   "metadata": {
    "hidden": true
   },
   "outputs": [],
   "source": [
    "np.sum(adata1x.var.index.values != adata1.var.index.values)\n"
   ]
  },
  {
   "cell_type": "code",
   "execution_count": null,
   "metadata": {
    "hidden": true
   },
   "outputs": [],
   "source": [
    "def mprun_geneXfpeak_mtx2(adata, n_jobs=8):\n",
    "    peak_func_list = [a[0] for a in utils.SciCar.fpeak_list_all]\n",
    "    chr_mapping = utils.SciCar.getChrMapping(adata)\n",
    "\n",
    "    nPeaks = adata.uns[\"atac.X\"].shape[1]\n",
    "    l = [list(a) for a in np.array_split(range(nPeaks), 5*n_jobs)]\n",
    "    #print(\"Flag 3343.100 \", l)\n",
    "    pool =  multiprocessing.Pool(processes = n_jobs)\n",
    "    lx = pool.map(functools.partial(utils.SciCar.computeGeneByFpeakMatrix, \n",
    "                                    adata, peak_func_list, chr_mapping), \n",
    "                  l)\n",
    "\n",
    "    g2p = None\n",
    "    for m in lx:\n",
    "        if g2p is None:\n",
    "            g2p = m\n",
    "        else:\n",
    "            g2p += m\n",
    "\n",
    "    g2p =  g2p * (1e5/nPeaks)\n",
    "    dx = pd.DataFrame(g2p, index=None)\n",
    "    dx.columns = [a[1] for a in SciCar.fpeak_list_all]\n",
    "    dx[\"gene\"] = list(adata.var.index)\n",
    "    dx[\"ensembl_id\"] = list(adata.var.ensembl_id)               \n",
    "    return dx"
   ]
  },
  {
   "cell_type": "code",
   "execution_count": null,
   "metadata": {
    "hidden": true
   },
   "outputs": [],
   "source": [
    "dz = mprun_geneXfpeak_mtx2(adata1, 24)"
   ]
  },
  {
   "cell_type": "code",
   "execution_count": null,
   "metadata": {
    "hidden": true
   },
   "outputs": [],
   "source": [
    "dx.to_csv(\"/afs/csail.mit.edu/u/r/rsingh/work/schema/data/sci-car/adata1_gene2fpeak_mtx.csv\", index=False)"
   ]
  },
  {
   "cell_type": "code",
   "execution_count": 6,
   "metadata": {
    "hidden": true
   },
   "outputs": [],
   "source": [
    "dz = pd.read_csv(\"/afs/csail.mit.edu/u/r/rsingh/work/schema/data/sci-car/adata1_gene2fpeak_mtx_20191126_1900.csv\")"
   ]
  },
  {
   "cell_type": "code",
   "execution_count": 16,
   "metadata": {
    "hidden": true
   },
   "outputs": [],
   "source": [
    "ax = np.copy(adata1.X.todense().T)"
   ]
  },
  {
   "cell_type": "code",
   "execution_count": 8,
   "metadata": {
    "hidden": true
   },
   "outputs": [
    {
     "data": {
      "text/plain": [
       "((15011, 3260), (15011, 23))"
      ]
     },
     "execution_count": 8,
     "metadata": {},
     "output_type": "execute_result"
    }
   ],
   "source": [
    "ax.shape, dz.values[:,:23].shape"
   ]
  },
  {
   "cell_type": "code",
   "execution_count": 9,
   "metadata": {
    "hidden": true
   },
   "outputs": [],
   "source": [
    "import logging\n",
    "logging.basicConfig(level=logging.WARNING)"
   ]
  },
  {
   "cell_type": "code",
   "execution_count": 29,
   "metadata": {
    "collapsed": true,
    "hidden": true
   },
   "outputs": [
    {
     "name": "stdout",
     "output_type": "stream",
     "text": [
      "Running quadratic program...INFO:  Flag 102.30  (15011, 22) [array([[0.      , 0.      , 0.      , ..., 0.      , 0.      , 0.      ],\n",
      "       [0.      , 0.      , 0.      , ..., 0.      , 0.      , 0.      ],\n",
      "       [0.      , 0.      , 0.      , ..., 0.      , 8.991891, 0.      ],\n",
      "       ...,\n",
      "       [0.      , 0.      , 0.      , ..., 0.      , 0.      , 0.      ],\n",
      "       [0.      , 0.      , 0.      , ..., 0.      , 0.      , 0.      ],\n",
      "       [0.      , 0.      , 0.      , ..., 0.      , 0.      , 0.      ]],\n",
      "      dtype=float32)] ['feature_vector'] [1]\n",
      "INFO:  Flag 102.35  (15011, 22) [array([[0.      , 0.      , 0.      , ..., 0.      , 0.      , 0.      ],\n",
      "       [0.      , 0.      , 0.      , ..., 0.      , 0.      , 0.      ],\n",
      "       [0.      , 0.      , 0.      , ..., 0.      , 8.991891, 0.      ],\n",
      "       ...,\n",
      "       [0.      , 0.      , 0.      , ..., 0.      , 0.      , 0.      ],\n",
      "       [0.      , 0.      , 0.      , ..., 0.      , 0.      , 0.      ],\n",
      "       [0.      , 0.      , 0.      , ..., 0.      , 0.      , 0.      ]],\n",
      "      dtype=float32)] ['feature_vector'] [1]\n",
      "INFO:  Flag 232.12  1 (15011, 3260) feature_vector 1\n",
      "INFO:  Flag 2090.20 Initial corr to d0 [[1. 1.]\n",
      " [1. 1.]]\n",
      "INFO:  Flag 201.80  (15011, 3260) feature_vector 1 None\n",
      "(200000, 3260) (200000, 3260)\n",
      "INFO:  Flag 201.99  (200000, 22) (200000,) 1 (200000,)\n",
      "INFO:  Flag 201.991  [ 1.21413459e-16  4.56986608e-19  4.31738629e-17  3.37030794e-17\n",
      " -1.89971996e-17 -4.65559937e-18 -8.34372146e-16 -1.02839574e-17\n",
      "  2.59196229e-18  4.94071879e-18  5.13363223e-18  1.94469538e-17\n",
      " -1.27369265e-16  7.81104361e-17  3.39917249e-17 -6.05241703e-17\n",
      " -5.18190092e-18  5.01106166e-17 -1.91570501e-18  1.58429307e-16\n",
      " -5.57620790e-17 -7.35020551e-18]\n",
      "INFO:  Flag 201.992  [0.02783393 0.00284804 0.01851828 0.02212715 0.00701163 0.00571186\n",
      " 0.12831206 0.01366526 0.00360763 0.00360626 0.01888687 0.00474229\n",
      " 0.02784099 0.02807484 0.02874108 0.03879622 0.05023095 0.02558668\n",
      " 0.00546455 0.14387812 0.14324217 0.04521142]\n",
      "INFO:  Flag 201.993  [-0.05440541 -0.08652784 -0.05371177 -0.08252609 -0.0927647  -0.08257187\n",
      " -0.09284591 -0.05210997 -0.09283884 -0.09282856] -1.879385536085465e-17 1.0\n",
      "INFO:  Flag 201.994  [ 0.95636714  0.86036322  0.51233806  0.77766506 -0.7254461  -0.11374164\n",
      " -0.83127745  1.7319433  -0.83406477 -0.81762249] 1.929834070324432e-16 1.0\n",
      "INFO:  Flag 102.36  (200000, 22) (200000,) 1\n",
      "INFO:  Flag 102.37 \n",
      "INFO:  Progress bar (each dot is 10%): INFO:  Flag 110.60 beta:  [('w_max_to_avg', 8.208794286279478), ('w_num_zero_dims', 3), ('d0_orig_transformed_corr', 1.0), ('distcorr', 0.5805544840533635), ('objval', 0.6741487463097336), ('lambda', 0), ('alpha', 1.0), ('beta', 0.001862645149230957)]\n",
      "INFO:  .INFO:  Flag 110.60 beta:  [('w_max_to_avg', 8.208794862773507), ('w_num_zero_dims', 9), ('d0_orig_transformed_corr', 1.0), ('distcorr', 0.5805547988292288), ('objval', 0.6741487462843323), ('lambda', 0), ('alpha', 0.9), ('beta', 0.11920928955078125)]\n",
      "INFO:  .INFO:  Flag 110.60 beta:  [('w_max_to_avg', 8.208792022420665), ('w_num_zero_dims', 2), ('d0_orig_transformed_corr', 1.0), ('distcorr', 0.5805541637911021), ('objval', 0.6741487463806543), ('lambda', 0), ('alpha', 0.8), ('beta', 0.0009313225746154785)]\n",
      "INFO:  .INFO:  Flag 110.60 beta:  [('w_max_to_avg', 8.20878250663097), ('w_num_zero_dims', 9), ('d0_orig_transformed_corr', 1.0), ('distcorr', 0.5805527153734631), ('objval', 0.674148747170479), ('lambda', 0), ('alpha', 0.7000000000000001), ('beta', 0.476837158203125)]\n",
      "INFO:  .INFO:  Flag 110.60 beta:  [('w_max_to_avg', 8.208792507658464), ('w_num_zero_dims', 2), ('d0_orig_transformed_corr', 1.0), ('distcorr', 0.5805542382828915), ('objval', 0.674148746333192), ('lambda', 0), ('alpha', 0.6000000000000001), ('beta', 0.0009313225746154785)]\n",
      "INFO:  .INFO:  Flag 110.60 beta:  [('w_max_to_avg', 8.208795529430537), ('w_num_zero_dims', 7), ('d0_orig_transformed_corr', 1.0), ('distcorr', 0.5805547412884264), ('objval', 0.6741487461757726), ('lambda', 0), ('alpha', 0.5000000000000001), ('beta', 0.029802322387695312)]\n",
      "INFO:  .INFO:  Flag 110.60 beta:  [('w_max_to_avg', 8.208791913179185), ('w_num_zero_dims', 9), ('d0_orig_transformed_corr', 1.0), ('distcorr', 0.5805541912324843), ('objval', 0.6741487464017146), ('lambda', 0), ('alpha', 0.40000000000000013), ('beta', 0.029802322387695312)]\n",
      "INFO:  .INFO:  Flag 110.60 beta:  [('w_max_to_avg', 8.208793707826986), ('w_num_zero_dims', 2), ('d0_orig_transformed_corr', 1.0), ('distcorr', 0.5805543864564715), ('objval', 0.6741487464808097), ('lambda', 0), ('alpha', 0.30000000000000016), ('beta', 0.0009313225746154785)]\n",
      "INFO:  .INFO:  Flag 110.60 beta:  [('w_max_to_avg', 8.208794323165757), ('w_num_zero_dims', 4), ('d0_orig_transformed_corr', 1.0), ('distcorr', 0.5805545011125457), ('objval', 0.6741487462980794), ('lambda', 0), ('alpha', 0.20000000000000015), ('beta', 0.007450580596923828)]\n",
      "INFO:  .INFO:  Flag 110.60 beta:  [('w_max_to_avg', 8.208797238401662), ('w_num_zero_dims', 2), ('d0_orig_transformed_corr', 1.0), ('distcorr', 0.5805549140870687), ('objval', 0.6741487462372857), ('lambda', 0), ('alpha', 0.10000000000000014), ('beta', 0.00046566128730773926)]\n",
      "INFO:  .INFO:   Done\n",
      "INFO:  Final solution:  [('w_max_to_avg', 8.20878250663097), ('w_num_zero_dims', 9), ('d0_orig_transformed_corr', 1.0), ('distcorr', 0.5805527153734631), ('objval', 0.674148747170479), ('lambda', 0), ('alpha', 0.7000000000000001), ('beta', 0.476837158203125)]\n",
      " done.\n"
     ]
    }
   ],
   "source": [
    "dz.shape, adata1.X.shape\n",
    "sqp = schema_qp.SchemaQP(0.01, params= {\"dist_npairs\": 200000}, mode=\"scale\")\n",
    "#dz1 = sqp.fit_transform(dz.values[:,:23], [adata1.X.T.todense()], ['feature_vector'], [1])\n",
    "dz1 = sqp.fit_transform(dz.values[:,1:23], [ax], ['feature_vector'], [1])"
   ]
  },
  {
   "cell_type": "code",
   "execution_count": 38,
   "metadata": {
    "collapsed": true,
    "hidden": true
   },
   "outputs": [
    {
     "data": {
      "text/plain": [
       "chr1     1612\n",
       "chr19    1099\n",
       "chr11     993\n",
       "chr2      944\n",
       "chr17     858\n",
       "chr12     803\n",
       "chr3      776\n",
       "chr7      695\n",
       "chr5      695\n",
       "chr6      655\n",
       "chrX      638\n",
       "chr16     626\n",
       "chr9      603\n",
       "chr4      580\n",
       "chr10     576\n",
       "chr8      530\n",
       "chr14     439\n",
       "chr15     434\n",
       "chr20     431\n",
       "chr22     337\n",
       "chr13     259\n",
       "chr18     197\n",
       "chr21     179\n",
       "chrY       52\n",
       "Name: chr, dtype: int64"
      ]
     },
     "execution_count": 38,
     "metadata": {},
     "output_type": "execute_result"
    }
   ],
   "source": [
    "adata1.var[\"chr\"].value_counts()"
   ]
  },
  {
   "cell_type": "code",
   "execution_count": 33,
   "metadata": {
    "collapsed": true,
    "hidden": true
   },
   "outputs": [
    {
     "data": {
      "text/html": [
       "<div>\n",
       "<style scoped>\n",
       "    .dataframe tbody tr th:only-of-type {\n",
       "        vertical-align: middle;\n",
       "    }\n",
       "\n",
       "    .dataframe tbody tr th {\n",
       "        vertical-align: top;\n",
       "    }\n",
       "\n",
       "    .dataframe thead th {\n",
       "        text-align: right;\n",
       "    }\n",
       "</style>\n",
       "<table border=\"1\" class=\"dataframe\">\n",
       "  <thead>\n",
       "    <tr style=\"text-align: right;\">\n",
       "      <th></th>\n",
       "      <th>fdist</th>\n",
       "      <th>wt</th>\n",
       "    </tr>\n",
       "  </thead>\n",
       "  <tbody>\n",
       "    <tr>\n",
       "      <td>0</td>\n",
       "      <td>fpeak_behind_1e6_10e6</td>\n",
       "      <td>7.683098e+01</td>\n",
       "    </tr>\n",
       "    <tr>\n",
       "      <td>1</td>\n",
       "      <td>fpeak_rbf_10e6</td>\n",
       "      <td>3.189661e+01</td>\n",
       "    </tr>\n",
       "    <tr>\n",
       "      <td>2</td>\n",
       "      <td>fpeak_2e3_20e3</td>\n",
       "      <td>2.991866e+01</td>\n",
       "    </tr>\n",
       "    <tr>\n",
       "      <td>3</td>\n",
       "      <td>fpeak_crossing_in</td>\n",
       "      <td>2.507561e+01</td>\n",
       "    </tr>\n",
       "    <tr>\n",
       "      <td>4</td>\n",
       "      <td>fpeak_behind_1e3_20e3</td>\n",
       "      <td>2.325474e+01</td>\n",
       "    </tr>\n",
       "    <tr>\n",
       "      <td>5</td>\n",
       "      <td>fpeak_1e6_10e6</td>\n",
       "      <td>9.519584e+00</td>\n",
       "    </tr>\n",
       "    <tr>\n",
       "      <td>6</td>\n",
       "      <td>fpeak_behind_20e3_1e6</td>\n",
       "      <td>5.206874e+00</td>\n",
       "    </tr>\n",
       "    <tr>\n",
       "      <td>7</td>\n",
       "      <td>fpeak_20e3_100e3</td>\n",
       "      <td>1.598587e+00</td>\n",
       "    </tr>\n",
       "    <tr>\n",
       "      <td>8</td>\n",
       "      <td>fpeak_behind_1e3</td>\n",
       "      <td>1.049392e+00</td>\n",
       "    </tr>\n",
       "    <tr>\n",
       "      <td>9</td>\n",
       "      <td>fpeak_rbf_100e3</td>\n",
       "      <td>7.893748e-01</td>\n",
       "    </tr>\n",
       "    <tr>\n",
       "      <td>10</td>\n",
       "      <td>fpeak_inside</td>\n",
       "      <td>4.963694e-01</td>\n",
       "    </tr>\n",
       "    <tr>\n",
       "      <td>11</td>\n",
       "      <td>fpeak_100e3_1e6</td>\n",
       "      <td>2.381166e-01</td>\n",
       "    </tr>\n",
       "    <tr>\n",
       "      <td>12</td>\n",
       "      <td>fpeak_rbf_20e3</td>\n",
       "      <td>3.647538e-02</td>\n",
       "    </tr>\n",
       "    <tr>\n",
       "      <td>13</td>\n",
       "      <td>fpeak_crossing_out</td>\n",
       "      <td>6.029876e-08</td>\n",
       "    </tr>\n",
       "    <tr>\n",
       "      <td>14</td>\n",
       "      <td>fpeak_rbf_1e3</td>\n",
       "      <td>2.427584e-08</td>\n",
       "    </tr>\n",
       "    <tr>\n",
       "      <td>15</td>\n",
       "      <td>fpeak_rbf_500</td>\n",
       "      <td>2.387784e-08</td>\n",
       "    </tr>\n",
       "    <tr>\n",
       "      <td>16</td>\n",
       "      <td>fpeak_500_2e3</td>\n",
       "      <td>2.301799e-08</td>\n",
       "    </tr>\n",
       "    <tr>\n",
       "      <td>17</td>\n",
       "      <td>fpeak_rbf_1e6</td>\n",
       "      <td>1.681069e-08</td>\n",
       "    </tr>\n",
       "    <tr>\n",
       "      <td>18</td>\n",
       "      <td>fpeak_rbf_5e3</td>\n",
       "      <td>1.412125e-08</td>\n",
       "    </tr>\n",
       "    <tr>\n",
       "      <td>19</td>\n",
       "      <td>fpeak_behind_rbf_1e6</td>\n",
       "      <td>4.772446e-09</td>\n",
       "    </tr>\n",
       "    <tr>\n",
       "      <td>20</td>\n",
       "      <td>fpeak_behind_rbf_100e3</td>\n",
       "      <td>0.000000e+00</td>\n",
       "    </tr>\n",
       "    <tr>\n",
       "      <td>21</td>\n",
       "      <td>fpeak_behind_rbf_20e3</td>\n",
       "      <td>0.000000e+00</td>\n",
       "    </tr>\n",
       "  </tbody>\n",
       "</table>\n",
       "</div>"
      ],
      "text/plain": [
       "                     fdist            wt\n",
       "0    fpeak_behind_1e6_10e6  7.683098e+01\n",
       "1           fpeak_rbf_10e6  3.189661e+01\n",
       "2           fpeak_2e3_20e3  2.991866e+01\n",
       "3        fpeak_crossing_in  2.507561e+01\n",
       "4    fpeak_behind_1e3_20e3  2.325474e+01\n",
       "5           fpeak_1e6_10e6  9.519584e+00\n",
       "6    fpeak_behind_20e3_1e6  5.206874e+00\n",
       "7         fpeak_20e3_100e3  1.598587e+00\n",
       "8         fpeak_behind_1e3  1.049392e+00\n",
       "9          fpeak_rbf_100e3  7.893748e-01\n",
       "10            fpeak_inside  4.963694e-01\n",
       "11         fpeak_100e3_1e6  2.381166e-01\n",
       "12          fpeak_rbf_20e3  3.647538e-02\n",
       "13      fpeak_crossing_out  6.029876e-08\n",
       "14           fpeak_rbf_1e3  2.427584e-08\n",
       "15           fpeak_rbf_500  2.387784e-08\n",
       "16           fpeak_500_2e3  2.301799e-08\n",
       "17           fpeak_rbf_1e6  1.681069e-08\n",
       "18           fpeak_rbf_5e3  1.412125e-08\n",
       "19    fpeak_behind_rbf_1e6  4.772446e-09\n",
       "20  fpeak_behind_rbf_100e3  0.000000e+00\n",
       "21   fpeak_behind_rbf_20e3  0.000000e+00"
      ]
     },
     "execution_count": 33,
     "metadata": {},
     "output_type": "execute_result"
    }
   ],
   "source": [
    "pd.Series(sqp._wts, index=dz.columns[1:23]).sort_values(ascending=False).reset_index().rename(columns={\"index\": \"fdist\",0: \"wt\"})"
   ]
  }
 ],
 "metadata": {
  "kernelspec": {
   "display_name": "Python 3",
   "language": "python",
   "name": "python3"
  },
  "language_info": {
   "codemirror_mode": {
    "name": "ipython",
    "version": 3
   },
   "file_extension": ".py",
   "mimetype": "text/x-python",
   "name": "python",
   "nbconvert_exporter": "python",
   "pygments_lexer": "ipython3",
   "version": "3.6.1"
  },
  "toc": {
   "base_numbering": 1,
   "nav_menu": {},
   "number_sections": true,
   "sideBar": true,
   "skip_h1_title": false,
   "title_cell": "Table of Contents",
   "title_sidebar": "Contents",
   "toc_cell": false,
   "toc_position": {},
   "toc_section_display": true,
   "toc_window_display": false
  },
  "varInspector": {
   "cols": {
    "lenName": 16,
    "lenType": 16,
    "lenVar": 40
   },
   "kernels_config": {
    "python": {
     "delete_cmd_postfix": "",
     "delete_cmd_prefix": "del ",
     "library": "var_list.py",
     "varRefreshCmd": "print(var_dic_list())"
    },
    "r": {
     "delete_cmd_postfix": ") ",
     "delete_cmd_prefix": "rm(",
     "library": "var_list.r",
     "varRefreshCmd": "cat(var_dic_list()) "
    }
   },
   "types_to_exclude": [
    "module",
    "function",
    "builtin_function_or_method",
    "instance",
    "_Feature"
   ],
   "window_display": false
  }
 },
 "nbformat": 4,
 "nbformat_minor": 2
}
