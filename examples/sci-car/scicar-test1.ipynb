{
 "cells": [
  {
   "cell_type": "markdown",
   "metadata": {},
   "source": [
    "### Preamble"
   ]
  },
  {
   "cell_type": "code",
   "execution_count": 1,
   "metadata": {},
   "outputs": [],
   "source": [
    "\n",
    "import pandas as pd\n",
    "import numpy as np\n",
    "import scipy, sklearn, os, sys, string, fileinput, glob, re, math, itertools, functools, copy\n",
    "import scipy.stats, sklearn.decomposition, sklearn.preprocessing, sklearn.covariance\n",
    "from scipy.stats import describe\n",
    "import scipy.sparse\n",
    "import matplotlib.pyplot as plt\n",
    "\n",
    "import warnings\n",
    "with warnings.catch_warnings():\n",
    "    warnings.simplefilter(\"ignore\")\n",
    "    import scanpy as sc\n",
    "    \n",
    "from collections import defaultdict"
   ]
  },
  {
   "cell_type": "code",
   "execution_count": 2,
   "metadata": {},
   "outputs": [],
   "source": [
    "sys.path.insert(0,'/afs/csail.mit.edu/u/r/rsingh/work/schema/schema')"
   ]
  },
  {
   "cell_type": "code",
   "execution_count": 3,
   "metadata": {},
   "outputs": [],
   "source": [
    "%load_ext autoreload\n",
    "%autoreload 1\n",
    "%aimport utils\n",
    "%aimport schema_qp\n",
    "%aimport -anndata"
   ]
  },
  {
   "cell_type": "code",
   "execution_count": 4,
   "metadata": {},
   "outputs": [],
   "source": [
    "import utils"
   ]
  },
  {
   "cell_type": "markdown",
   "metadata": {
    "heading_collapsed": true
   },
   "source": [
    "### Data Preparation\n",
    " - Read raw files. \n",
    " - Filter for protein_coding genes. \n",
    " - Keep only human \"A549\" genes in GSM*104[01] and only Mouse genes in GSM*10[45]. \n",
    " - Match against TSS and Ensemble IDs, keeping only matches and throw away duplicated IDs\n",
    " - remove peaks that are not in chromosomes 1-22 and X+Y\n",
    " - convert data to log2(cpm(...))\n",
    " - save to files"
   ]
  },
  {
   "cell_type": "code",
   "execution_count": 5,
   "metadata": {
    "collapsed": true,
    "hidden": true
   },
   "outputs": [
    {
     "name": "stdout",
     "output_type": "stream",
     "text": [
      "Flag 324.112 filtered 113153:44678:(113153,) mdlty\n",
      "Flag 324.113 filtered 113153:15175:(113153,) mdlty\n",
      "Flag 324.114 filtered 113153:15175:(113153,) mdlty\n",
      "Flag 324.115 filtered 113153:15011:(113153,) mdlty\n",
      "Flag 324.12 read (6093, 4) cells, (113153, 11) mdlty, (6093, 113153) data\n",
      "Flag 324.13 filtered  6093:4277:(6093,) cells, 113153:15011:(113153,) mdlty\n",
      "Flag 324.14 filtered down to (4277, 4) cells, (15011, 11) mdlty, (4277, 15011) data\n",
      "Flag 324.15 filtered down to (4277, 4) cells, (15011, 11) mdlty, (4277, 15011) data\n",
      "Flag 324.17 \n",
      "                      sample cell_name experiment  treatment_time\n",
      "0  sci-RNA-A-001.AAGTACGTTA      A549    coassay             3.0\n",
      "1  sci-RNA-A-001.AGGTAGAGCT      A549    coassay             1.0 \n",
      " \n",
      "Flag 324.12 read (6085, 4) cells, (189603, 5) mdlty, (6085, 189603) data\n",
      "Flag 324.13 filtered  6085:4258:(6085,) cells, 189603:179288:(189603,) mdlty\n",
      "Flag 324.14 filtered down to (4258, 4) cells, (179288, 5) mdlty, (4258, 179288) data\n",
      "Flag 324.15 filtered down to (4258, 4) cells, (179288, 5) mdlty, (4258, 179288) data\n",
      "Flag 324.17 \n",
      "                      sample source    group experiment\n",
      "0  sci-RNA-A-001.AAGTACGTTA  Human  A549_3h   co_assay\n",
      "1  sci-RNA-A-001.CGTATTGAGA  Human  A549_3h   co_assay \n",
      " \n",
      "Flag 324.20 got 3260 common cells ['sci-RNA-D-049.ATATGCCATC', 'sci-RNA-D-033.ATTAACTTAA', 'sci-RNA-C-071.CTTCATTAGA', 'sci-RNA-C-017.ACGCGCTCCT', 'sci-RNA-D-073.ACGGAGAATA', 'sci-RNA-C-017.AATCGAACTC', 'sci-RNA-E-036.TTGCAGCATT', 'sci-RNA-C-001.ACTCTACTGG', 'sci-RNA-C-085.GGCGGTTGAC', 'sci-RNA-A-067.CCTGAGAGCA']\n",
      "Flag 324.205 got rna (4277, 4) 4277 3260\n"
     ]
    },
    {
     "name": "stderr",
     "output_type": "stream",
     "text": [
      "Variable names are not unique. To make them unique, call `.var_names_make_unique`.\n"
     ]
    },
    {
     "name": "stdout",
     "output_type": "stream",
     "text": [
      "Flag 324.22 got X (3260, 15011) obs (3260, 3) var (15011, 10) uns ['names']\n",
      "Flag 324.25 got X (3260, 15011) obs (3260, 4) var (15011, 10) uns ['names', 'rna.type']\n",
      "Flag 324.205 got atac (4258, 4) 4258 3260\n",
      "Flag 324.25 got X (3260, 15011) obs (3260, 8) var (15011, 10) uns ['names', 'rna.type', 'atac.X', 'atac.var', 'atac.var.index', 'atac.var.columns', 'atac.type']\n",
      "Flag 324.112 filtered 49584:21973:(49584,) mdlty\n",
      "Flag 324.113 filtered 49584:16975:(49584,) mdlty\n",
      "Flag 324.114 filtered 49584:16975:(49584,) mdlty\n",
      "Flag 324.115 filtered 49584:16975:(49584,) mdlty\n",
      "Flag 324.12 read (13893, 7) cells, (49584, 11) mdlty, (13893, 49584) data\n",
      "Flag 324.13 filtered  13893:13893:(13893,) cells, 49584:16975:(49584,) mdlty\n",
      "Flag 324.14 filtered down to (13893, 7) cells, (16975, 11) mdlty, (13893, 16975) data\n",
      "Flag 324.15 filtered down to (13893, 7) cells, (16975, 11) mdlty, (13893, 16975) data\n",
      "Flag 324.17 \n",
      "                             sample source    replicate experiment    tsne_1  \\\n",
      "0  coRNA-RNA-plate1-001.ACGCTTCTCT  Mouse  Replicate 2    coassay -3.513582   \n",
      "1  coRNA-RNA-plate1-001.ACGTTGAATG  Mouse  Replicate 1    coassay -3.651114   \n",
      "\n",
      "      tsne_2                    cell_name  \n",
      "0 -34.385932         Loop of Henle cells   \n",
      "1  26.483438  Proximal tubule S1/S2 cells   \n",
      " \n",
      "Flag 324.12 read (13395, 2) cells, (252741, 5) mdlty, (13395, 252741) data\n",
      "Flag 324.13 filtered  13395:13395:(13395,) cells, 252741:251727:(252741,) mdlty\n",
      "Flag 324.14 filtered down to (13395, 2) cells, (251727, 5) mdlty, (13395, 251727) data\n",
      "Flag 324.15 filtered down to (13395, 2) cells, (251727, 5) mdlty, (13395, 251727) data\n",
      "Flag 324.17 \n",
      "                             sample    replicate\n",
      "0  coRNA-RNA-plate1-001.ACGCTTCTCT  Replicate 2\n",
      "1  coRNA-RNA-plate1-001.ACGTTGAATG  Replicate 1 \n",
      " \n",
      "Flag 324.20 got 11296 common cells ['coRNA-RNA-plate4-030.AGCGATCCGC', 'coRNA-RNA-plate7-089.ATAACCGTTC', 'coRNA-RNA-plate5-003.GCGGAGTCGA', 'coRNA-RNA-plate1-045.CGAAGGCATG', 'coRNA-RNA-plate4-069.CGCCAGGCAT', 'coRNA-RNA-plate2-015.ACGCTTCTCT', 'coRNA-RNA-plate1-088.GATTCCGGAA', 'coRNA-RNA-plate7-026.AATTGAGAGA', 'coRNA-RNA-plate8-061.ACTCCGCCAA', 'coRNA-RNA-plate6-060.ACGCGTATCG']\n",
      "Flag 324.205 got rna (13893, 7) 13893 11296\n"
     ]
    },
    {
     "name": "stderr",
     "output_type": "stream",
     "text": [
      "Variable names are not unique. To make them unique, call `.var_names_make_unique`.\n"
     ]
    },
    {
     "name": "stdout",
     "output_type": "stream",
     "text": [
      "Flag 324.22 got X (11296, 16975) obs (11296, 6) var (16975, 10) uns ['names']\n",
      "Flag 324.25 got X (11296, 16975) obs (11296, 7) var (16975, 10) uns ['names', 'rna.type']\n",
      "Flag 324.205 got atac (13395, 2) 13395 11296\n",
      "Flag 324.25 got X (11296, 16975) obs (11296, 9) var (16975, 10) uns ['names', 'rna.type', 'atac.X', 'atac.var', 'atac.var.index', 'atac.var.columns', 'atac.type']\n"
     ]
    }
   ],
   "source": [
    "def f_atac1(w):\n",
    "    try:\n",
    "        v = w[\"chr\"]\n",
    "        assert (\"_\" not in v) and (v in ['X','Y'] or int(v)<=22) \n",
    "        return True\n",
    "    except:\n",
    "        return False\n",
    "    \n",
    "def f_atac2(w):\n",
    "    try:\n",
    "        v = w[\"chr\"]\n",
    "        assert v[:3]==\"chr\" and (\"_\" not in v) and (v[3] in ['X','Y'] or int(v[3:])<=22) \n",
    "        return True\n",
    "    except:\n",
    "        return False\n",
    "\n",
    "adata1 = utils.SciCar.loadData('/afs/csail.mit.edu/u/r/rsingh/work/schema/data/sci-car',\n",
    "                            [('rna' ,'gene','GSM3271040', lambda v: v[\"cell_name\"]==\"A549\", lambda v: v[\"gene_type\"]==\"protein_coding\"),\n",
    "                             ('atac','peak','GSM3271041', lambda v: v[\"group\"][:4]==\"A549\", f_atac1),\n",
    "                            ],\n",
    "                               \"/afs/csail.mit.edu/u/r/rsingh/work/refdata/hg19_mapped.tsv\")\n",
    "adata2 = utils.SciCar.loadData('/afs/csail.mit.edu/u/r/rsingh/work/schema/data/sci-car',\n",
    "                            [('rna' ,'gene','GSM3271044', None, lambda v: v[\"gene_type\"]==\"protein_coding\"),\n",
    "                             ('atac','peak','GSM3271045', None, f_atac2),\n",
    "                            ],\n",
    "                            \"/afs/csail.mit.edu/u/r/rsingh/work/refdata/mm10_mapped.tsv\")"
   ]
  },
  {
   "cell_type": "code",
   "execution_count": 13,
   "metadata": {
    "collapsed": true,
    "hidden": true
   },
   "outputs": [
    {
     "name": "stderr",
     "output_type": "stream",
     "text": [
      "... storing 'cell_name' as categorical\n",
      "... storing 'experiment' as categorical\n",
      "... storing 'sample' as categorical\n",
      "... storing 'source' as categorical\n",
      "... storing 'group' as categorical\n",
      "... storing 'gene_type' as categorical\n",
      "... storing 'chr' as categorical\n",
      "... storing 'strand' as categorical\n",
      "... storing 'map_location' as categorical\n",
      "... storing 'source' as categorical\n",
      "... storing 'replicate' as categorical\n",
      "... storing 'experiment' as categorical\n",
      "... storing 'cell_name' as categorical\n",
      "... storing 'sample' as categorical\n",
      "... storing 'gene_type' as categorical\n",
      "... storing 'chr' as categorical\n",
      "... storing 'strand' as categorical\n",
      "... storing 'map_location' as categorical\n"
     ]
    }
   ],
   "source": [
    "adata1.write(\"/afs/csail.mit.edu/u/r/rsingh/work/schema/data/sci-car/adata1.h5ad\")\n",
    "adata2.write(\"/afs/csail.mit.edu/u/r/rsingh/work/schema/data/sci-car/adata2.h5ad\")"
   ]
  },
  {
   "cell_type": "markdown",
   "metadata": {
    "heading_collapsed": true,
    "hidden": true
   },
   "source": [
    "#### testing"
   ]
  },
  {
   "cell_type": "code",
   "execution_count": 6,
   "metadata": {
    "hidden": true
   },
   "outputs": [
    {
     "data": {
      "text/plain": [
       "(DescribeResult(nobs=3260, minmax=(array([10.90856494]), array([19.33861545])), mean=array([14.83473107]), variance=array([1.05122507]), skewness=array([0.29725361]), kurtosis=array([0.61277117])),\n",
       " DescribeResult(nobs=11296, minmax=(array([13.96715733]), array([18.81465394])), mean=array([17.50611254]), variance=array([0.32151578]), skewness=array([-1.08283001]), kurtosis=array([1.88830047])),\n",
       " DescribeResult(nobs=3260, minmax=(array([12.28665], dtype=float32), array([15.966695], dtype=float32)), mean=array([13.787038], dtype=float32), variance=array([0.27736855], dtype=float32), skewness=array([0.19146572], dtype=float32), kurtosis=array([-0.12089729], dtype=float32)),\n",
       " DescribeResult(nobs=11296, minmax=(array([12.922126], dtype=float32), array([19.194605], dtype=float32)), mean=array([15.149159], dtype=float32), variance=array([0.9894993], dtype=float32), skewness=array([0.9016888], dtype=float32), kurtosis=array([0.74990726], dtype=float32)))"
      ]
     },
     "execution_count": 6,
     "metadata": {},
     "output_type": "execute_result"
    }
   ],
   "source": [
    "(describe(np.max(adata1.uns[\"atac.X\"], axis=1).todense()),\n",
    " describe(np.max(adata2.uns[\"atac.X\"], axis=1).todense()),\n",
    " describe(np.max(adata1.X, axis=1).todense()),\n",
    " describe(np.max(adata2.X, axis=1).todense()),\n",
    ")"
   ]
  },
  {
   "cell_type": "code",
   "execution_count": 7,
   "metadata": {
    "hidden": true
   },
   "outputs": [
    {
     "data": {
      "image/png": "[encoded data removed]",
      "text/plain": [
       "<Figure size 648x432 with 4 Axes>"
      ]
     },
     "metadata": {
      "needs_background": "light"
     },
     "output_type": "display_data"
    }
   ],
   "source": [
    "fg,axl = plt.subplots(2,2,figsize=(9,6))\n",
    "for i,x in enumerate([adata1.X, adata1.uns[\"atac.X\"], adata2.X, adata2.uns[\"atac.X\"]]):\n",
    "    axl[i//2,i%2].hist(np.sum(x,axis=1),bins=50)\n",
    "    axl[i//2,i%2].set_title(str(i))\n",
    "fg.tight_layout()"
   ]
  },
  {
   "cell_type": "code",
   "execution_count": null,
   "metadata": {
    "hidden": true
   },
   "outputs": [],
   "source": [
    "fg,axl = plt.subplots(2,2,figsize=(9,6))\n",
    "for i,x in enumerate([adata1.X, adata1.uns[\"atac.X\"], adata2.X, adata2.uns[\"atac.X\"]]):\n",
    "    axl[i//2,i%2].hist(x.data,bins=50)\n",
    "    axl[i//2,i%2].set_title(str(i))\n",
    "fg.tight_layout()"
   ]
  },
  {
   "cell_type": "code",
   "execution_count": null,
   "metadata": {
    "hidden": true
   },
   "outputs": [],
   "source": [
    "(adata1.uns[\"atac.var\"][\"chr\"].value_counts(),\n",
    "adata1.var[\"chr\"].value_counts(),\n",
    " adata2.uns[\"atac.var\"][\"chr\"].value_counts(),\n",
    "adata2.var[\"chr\"].value_counts())\n"
   ]
  },
  {
   "cell_type": "code",
   "execution_count": 9,
   "metadata": {
    "hidden": true
   },
   "outputs": [
    {
     "data": {
      "text/plain": [
       "((3260, 15011),\n",
       " (3260, 8),\n",
       " (15011, 10),\n",
       " odict_keys(['names', 'rna.type', 'atac.X', 'atac.var', 'atac.var.index', 'atac.var.columns', 'atac.type']),\n",
       " (3260, 179288),\n",
       " (11296, 16975),\n",
       " (11296, 9),\n",
       " (16975, 10),\n",
       " odict_keys(['names', 'rna.type', 'atac.X', 'atac.var', 'atac.var.index', 'atac.var.columns', 'atac.type']),\n",
       " (11296, 251727))"
      ]
     },
     "execution_count": 9,
     "metadata": {},
     "output_type": "execute_result"
    }
   ],
   "source": [
    "(adata1.X.shape, adata1.obs.shape, adata1.var.shape, adata1.uns.keys(), adata1.uns[\"atac.X\"].shape,\n",
    " adata2.X.shape, adata2.obs.shape, adata2.var.shape, adata2.uns.keys(), adata2.uns[\"atac.X\"].shape,)"
   ]
  },
  {
   "cell_type": "markdown",
   "metadata": {},
   "source": [
    "### Run on adata1 (human A549) to find peak distances that matter most"
   ]
  },
  {
   "cell_type": "markdown",
   "metadata": {},
   "source": [
    "**Run a mapping to compute gene-to-peak matrix**. This is going to compute, for each gene, a score  $s(g) = \\sum_{p}( w[g,p] * peak[p] *  gexp[g])$ with $w$ being of different types. See code. $gexp$ can be normalized or not. \n",
    "\n",
    "1. without normalization of gexp:\n",
    "  1. `/afs/csail.mit.edu/u/r/rsingh/work/schema/schema/utils.py 22 20191202-1400`\n",
    "  2. produces wt file /afs/csail.mit.edu/u/r/rsingh/work/schema/data/sci-car//adata1_gene2fpeak_mtx_20191202-1400.csv\n",
    "\n",
    "2. with normalization of gexp:\n",
    "  1. `/afs/csail.mit.edu/u/r/rsingh/work/schema/schema/utils.py 21 20191202-1245`\n",
    "  2. should produce wt file /afs/csail.mit.edu/u/r/rsingh/work/schema/data/sci-car/adata1_gene2fpeak_mtx_gexp-standardized_20191202-1245.csv\n",
    "  \n",
    "3. without normalization of gexp but with weight adjustment of peak contributions:\n",
    "  1. `/afs/csail.mit.edu/u/r/rsingh/work/schema/schema/utils.py 221 20191202-1245`\n",
    "  2. should produce wt file /afs/csail.mit.edu/u/r/rsingh/work/schema/data/sci-car/adata1_gene2fpeak_mtx_style2_20191204-1945\n"
   ]
  },
  {
   "cell_type": "markdown",
   "metadata": {},
   "source": []
  },
  {
   "cell_type": "markdown",
   "metadata": {},
   "source": [
    "**Run schema to identify which distance schemes get higher wt** Tried a few different combos (plus vs minus vs both strands), divide chromosomes into three sets etc. Normalize the wts computed above per gene or not. Normalized the gene expression or not.\n",
    "1. IGNORE without normalization of gexp and use wts from 1.B above\n",
    "  1. `/afs/csail.mit.edu/u/r/rsingh/work/schema/schema/utils.py 23 20191202-1400`\n",
    "  \n",
    "1. with normalization of gexp to L2-norm==1, normalization of wts to L2-norm==1 and use wts from 1.B above\n",
    "  1. `/afs/csail.mit.edu/u/r/rsingh/work/schema/schema/utils.py 231 20191202-1400`\n",
    "\n",
    "1. like mode=231 above, but limit to 5000 most variably expressed genes\n",
    "  1. `/afs/csail.mit.edu/u/r/rsingh/work/schema/schema/utils.py 232 20191202-1400`\n",
    "\n",
    "1. like mode=231 above and use wts from 2.B above\n",
    "  1. `/afs/csail.mit.edu/u/r/rsingh/work/schema/schema/utils.py 2311 20191202-1400`\n",
    "\n",
    "1. like mode=232 above (i.e. mode=231 + 5000 most variably expressed genes) and use wts from 2.B above\n",
    "  1. `/afs/csail.mit.edu/u/r/rsingh/work/schema/schema/utils.py 2321 20191202-1400`\n"
   ]
  },
  {
   "cell_type": "markdown",
   "metadata": {},
   "source": [
    "**Analyze schema produced wts to see what matters** For modes 231 vs 232, different things matter. Mode 231 (all genes) seems to prefer the promoter-region + extra. Mode 232 (5000 genes) prefers regions inside and behind, which is interesting.\n",
    "\n",
    "1. mode 231: `for fpk in  1 2 [12]; do echo $fpk; (for f in *fpeak${fpk}_mode231*.csv; do a=$(awk -F, 'NR==2 {print int($2*100)}' $f); test $a -gt 80 && continue; cat $f; done) | awk -F, '0+$2 > 0 { x[$1] += log($2); n[$1]++} END { for (a in x) {print a, exp(x[a]/n[a]), n[a]}}' | sort -k2g | tail -n10; done`\n",
    "\n",
    "        1\n",
    "        fpeak_1e6_10e6 0.000146212 11\n",
    "        fpeak_0_500 0.000284545 6\n",
    "        fpeak_rbf_1e3 0.173971 11\n",
    "        fpeak_rbf_500 0.1975 11\n",
    "        fpeak_500_2e3 0.216569 11\n",
    "        2\n",
    "        fpeak_0_500 0.000754711 5\n",
    "        fpeak_rbf_10e6 0.00115252 10\n",
    "        fpeak_rbf_1e3 0.509192 10\n",
    "        fpeak_rbf_500 0.55251 10\n",
    "        fpeak_500_2e3 0.61433 10\n",
    "        [12]\n",
    "        fpeak_rbf_10e6 0.000370282 21\n",
    "        fpeak_0_500 0.000443312 11\n",
    "        fpeak_rbf_1e3 0.290117 21\n",
    "        fpeak_rbf_500 0.322342 21\n",
    "        fpeak_500_2e3 0.35581 21\n",
    "\n",
    "2. mode 232: `for fpk in  1 2 [12]; do echo $fpk; (for f in *fpeak${fpk}_mode232*.csv; do a=$(awk -F, 'NR==2 {print int($2*100)}' $f); test $a -gt 80 && continue; cat $f; done) | awk -F, '0+$2 > 0 { x[$1] += log($2); n[$1]++} END { for (a in x) {print a, exp(x[a]/n[a]), n[a]}}' | sort -k2g | tail -n5; done`\n",
    "\n",
    "        1\n",
    "        fpeak_behind_1e3 0.00730955 18\n",
    "        fpeak_rbf_1e3 0.00761514 12\n",
    "        fpeak_behind_rbf_20e3 0.117385 11\n",
    "        fpeak_crossing_out 0.598205 18\n",
    "        fpeak_inside 0.635372 18\n",
    "        2\n",
    "        fpeak_behind_rbf_100e3 0.00648716 18\n",
    "        fpeak_behind_rbf_20e3 0.0068085 16\n",
    "        fpeak_behind_1e3 0.00768706 18\n",
    "        fpeak_crossing_out 0.599148 18\n",
    "        fpeak_inside 0.662703 18\n",
    "        [12]\n",
    "        fpeak_behind_rbf_100e3 0.00657985 36\n",
    "        fpeak_behind_1e3 0.00749593 36\n",
    "        fpeak_behind_rbf_20e3 0.0217188 27\n",
    "        fpeak_crossing_out 0.598676 36\n",
    "        fpeak_inside 0.648894 36\n",
    "\n",
    "3. `for fpk in 0  1 2 3 [123]; do echo $fpk; (for f in *_usefirstcol1_strandboth_chrall_norm-gene2fpeak${fpk}_mode23_*.csv; do a=$(awk -F, 'NR==2 {print int($2*100)}' $f); test $a -gt 80 && continue; cat $f; done) | awk -F, '0+$2 > 0 { x[$1] += log($2); n[$1]++} END { for (a in x) {print a, exp(x[a]/n[a]), n[a]}}' | sort -k2g | tail -n10; done`\n",
    "\n",
    "4. `for mode in 231 232 2311 2321; do for fpk in 3; do echo \"$mode $fpk\" ; (for f in adata1_sqp_wts_mincorr*_maxw*_usefirstcol1_strand*_chr*_norm-gene2fpeak${fpk}_mode${mode}_*.csv; do a=$(awk -F, 'NR==2 {print int($2*100)}' $f); test $a -gt 90 && continue; cat $f; done) | awk -F, '0+$2 > 0 { x[$1] += $2; xx[$1] += $2*$2; n[$1]++} END { for (a in x) {mu = x[a]/n[a]; sd = sqrt(xx[a]/n[a] - mu*mu); tstat  = mu/(1e-12 + sd*sqrt(n[a])); print a, mu, tstat, n[a]}}' | sort -k2gr | head -n10 ; done; echo; done`\n",
    "\n",
    "        231 3 # all genes, gene2peak file is adata1_gene2fpeak_mtx_20191202-1400.csv\n",
    "        fpeak_crossing_in 0.296735 1.81734 35\n",
    "        fpeak_crossing_out 0.268974 1.96452 35\n",
    "        fpeak_2e3_20e3 0.264863 2.38863 35\n",
    "        fpeak_behind_1e3 0.25923 2.44156 35\n",
    "        fpeak_500_2e3 0.251099 1.20908 35\n",
    "        fpeak_0_500 0.247187 0.782864 35\n",
    "        fpeak_20e3_100e3 0.246023 3.12045 35\n",
    "        fpeak_rbf_1e3 0.241235 2.52318 35\n",
    "        fpeak_inside 0.2342 3.54417 35\n",
    "        fpeak_behind_1e3_20e3 0.212679 9.78687 35\n",
    "\n",
    "        232 3 # 5000 variable genes, gene2peak file is adata1_gene2fpeak_mtx_20191202-1400.csv\n",
    "        fpeak_behind_rbf_1e6 0.378394 3.05504 35\n",
    "        fpeak_behind_rbf_10e6 0.327875 6.63084 35\n",
    "        fpeak_1e6_10e6 0.270646 11.7665 35\n",
    "        fpeak_500_2e3 0.240994 0.785286 35\n",
    "        fpeak_20e3_100e3 0.230747 8.35674 35\n",
    "        fpeak_behind_1e6_10e6 0.227774 6.93813 35\n",
    "        fpeak_2e3_20e3 0.224189 3.28297 35\n",
    "        fpeak_100e3_1e6 0.224041 7.22248 35\n",
    "        fpeak_rbf_100e3 0.221413 1.88436 35\n",
    "        fpeak_behind_100e3_1e6 0.22032 9.80238 35\n",
    "\n",
    "        2311 3 # all genes, gene2peak file is adata1_gene2fpeak_mtx_gexp-standardized_20191202-1245.csv\n",
    "        fpeak_0_500 0.263706 4.6204 35\n",
    "        fpeak_1e6_10e6 0.260336 11.846 35\n",
    "        fpeak_500_2e3 0.242794 5.61474 35\n",
    "        fpeak_rbf_1e3 0.227628 15.2963 35\n",
    "        fpeak_2e3_20e3 0.216335 21.2636 35\n",
    "        fpeak_behind_1e6_10e6 0.215051 18.4478 35\n",
    "        fpeak_behind_1e3 0.214723 8.0805 35\n",
    "        fpeak_10e6_20e6 0.21065 37.0331 35\n",
    "        fpeak_crossing_out 0.206537 14.4416 35\n",
    "        fpeak_behind_10e6_20e6 0.204828 32.1187 35\n",
    "\n",
    "        2321 3  # 5000 variable genes, gene2peak file is adata1_gene2fpeak_mtx_gexp-standardized_20191202-1245.csv\n",
    "        fpeak_behind_rbf_10e6 0.339588 2.73527 35\n",
    "        fpeak_behind_1e6_10e6 0.310615 1.38938 35\n",
    "        fpeak_1e6_10e6 0.272424 1.47192 35\n",
    "        fpeak_rbf_500 0.262364 0.931464 35\n",
    "        fpeak_10e6_20e6 0.25838 1.91732 35\n",
    "        fpeak_behind_100e3_1e6 0.253371 2.37329 35\n",
    "        fpeak_behind_10e6_20e6 0.253237 2.11064 35\n",
    "        fpeak_behind_rbf_1e6 0.244208 1.06371 35\n",
    "        fpeak_100e3_1e6 0.223341 1.29334 35\n",
    "        fpeak_2e3_20e3 0.200837 0.898675 35\n",
    "\n",
    "\n",
    "5. `for mode in 23 231 232 2311 2321; do for fpk in  2 3; do echo \"$mode $fpk\" ; (for f in adata1_sqp_wts_mincorr*_maxw*_usefirstcol1_strand*_chr*_norm-gene2fpeak${fpk}_mode${mode}_*.csv; do a=$(awk -F, 'NR==2 {print int($2*100)}' $f); test $a -gt 90 && continue; cat $f; done) | awk -F, '0+$2 > 0 { x[$1] += $2; xx[$1] += $2*$2; n[$1]++} END { for (a in x) {mu = x[a]/n[a]; sd = sqrt(xx[a]/n[a] - mu*mu); tstat  = mu/(1e-12 + sd*sqrt(n[a])); print a, mu, tstat, n[a]}}' | sort -k2gr | head -n10 | awk '{print $3}' | meansd.sh ; done; echo; done`\n",
    "\n",
    "        23 2\n",
    "        Mean: 1.24768 SD: 1.15639 N: 10 \n",
    "        23 3\n",
    "        Mean: 0.623452 SD: 0.410575 N: 10 \n",
    "\n",
    "        231 2\n",
    "        Mean: 3.97706 SD: 2.01888 N: 10 \n",
    "        231 3\n",
    "        Mean: 2.95787 SD: 2.40544 N: 10 \n",
    "\n",
    "        232 2\n",
    "        Mean: 2.70623 SD: 0.610663 N: 10 \n",
    "        232 3\n",
    "        Mean: 5.97247 SD: 3.40905 N: 10 \n",
    "\n",
    "        2311 2\n",
    "        Mean: 39.5564 SD: 16.7557 N: 10 \n",
    "        2311 3\n",
    "        Mean: 16.8763 SD: 10.2395 N: 10 \n",
    "\n",
    "        2321 2\n",
    "        Mean: 1.81229 SD: 0.925131 N: 10 \n",
    "        2321 3\n",
    "        Mean: 1.6185 SD: 0.602167 N: 10 \n"
   ]
  },
  {
   "cell_type": "code",
   "execution_count": 43,
   "metadata": {},
   "outputs": [],
   "source": [
    "x = sc.pp.highly_variable_genes(adata1, n_top_genes=5000)"
   ]
  },
  {
   "cell_type": "markdown",
   "metadata": {},
   "source": [
    "#### Get front and behind accessibility by gene expression levels"
   ]
  },
  {
   "cell_type": "code",
   "execution_count": 204,
   "metadata": {},
   "outputs": [],
   "source": [
    "nGenes = adata1.shape[1]\n",
    "v = np.full(nGenes, nGenes)\n",
    "for i in range(500,nGenes-3000,500):\n",
    "    sc.pp.highly_variable_genes(adata1, n_top_genes=i,inplace=True)\n",
    "    v = np.where((v==nGenes) & adata1.var[\"highly_variable\"], i, v).copy()\n",
    "adata1.var[\"gene_variability_ranking\"] = v"
   ]
  },
  {
   "cell_type": "code",
   "execution_count": 64,
   "metadata": {
    "collapsed": true
   },
   "outputs": [
    {
     "name": "stdout",
     "output_type": "stream",
     "text": [
      "0\n",
      "100\n",
      "200\n",
      "300\n",
      "400\n",
      "500\n",
      "600\n",
      "700\n",
      "800\n",
      "900\n",
      "1000\n",
      "1100\n",
      "1200\n",
      "1300\n",
      "1400\n",
      "1500\n",
      "1600\n",
      "1700\n",
      "1800\n",
      "1900\n",
      "2000\n",
      "2100\n",
      "2200\n",
      "2300\n",
      "2400\n",
      "2500\n",
      "2600\n",
      "2700\n",
      "2800\n",
      "2900\n",
      "3000\n",
      "3100\n",
      "3200\n",
      "3300\n",
      "3400\n",
      "3500\n",
      "3600\n",
      "3700\n",
      "3800\n",
      "3900\n",
      "4000\n",
      "4100\n",
      "4200\n",
      "4300\n",
      "4400\n",
      "4500\n",
      "4600\n",
      "4700\n",
      "4800\n",
      "4900\n",
      "5000\n",
      "5100\n",
      "5200\n",
      "5300\n",
      "5400\n",
      "5500\n",
      "5600\n",
      "5700\n",
      "5800\n",
      "5900\n",
      "6000\n",
      "6100\n",
      "6200\n",
      "6300\n",
      "6400\n",
      "6500\n",
      "6600\n",
      "6700\n",
      "6800\n",
      "6900\n",
      "7000\n",
      "7100\n",
      "7200\n",
      "7300\n",
      "7400\n",
      "7500\n",
      "7600\n",
      "7700\n",
      "7800\n",
      "7900\n",
      "8000\n",
      "8100\n",
      "8200\n",
      "8300\n",
      "8400\n",
      "8500\n",
      "8600\n",
      "8700\n",
      "8800\n",
      "8900\n",
      "9000\n",
      "9100\n",
      "9200\n",
      "9300\n",
      "9400\n",
      "9500\n",
      "9600\n",
      "9700\n",
      "9800\n",
      "9900\n",
      "10000\n",
      "10100\n",
      "10200\n",
      "10300\n",
      "10400\n",
      "10500\n",
      "10600\n",
      "10700\n",
      "10800\n",
      "10900\n",
      "11000\n",
      "11100\n",
      "11200\n",
      "11300\n",
      "11400\n",
      "11500\n",
      "11600\n",
      "11700\n",
      "11800\n",
      "11900\n",
      "12000\n",
      "12100\n",
      "12200\n",
      "12300\n",
      "12400\n",
      "12500\n",
      "12600\n",
      "12700\n",
      "12800\n",
      "12900\n",
      "13000\n",
      "13100\n",
      "13200\n",
      "13300\n",
      "13400\n",
      "13500\n",
      "13600\n",
      "13700\n",
      "13800\n",
      "13900\n",
      "14000\n",
      "14100\n",
      "14200\n",
      "14300\n",
      "14400\n",
      "14500\n",
      "14600\n",
      "14700\n",
      "14800\n",
      "14900\n",
      "15000\n"
     ]
    }
   ],
   "source": [
    "pkchr = adata1.uns[\"atac.var\"][\"chr\"].apply(lambda s: \"chr\" + str(s))\n",
    "L = []\n",
    "pkstart = adata1.uns[\"atac.var\"][\"start\"]\n",
    "pkend = adata1.uns[\"atac.var\"][\"end\"]\n",
    "for i in range(nGenes):\n",
    "    pkdist = np.where(adata1.var[\"chr\"][i] != pkchr, 1e12, \n",
    "                      np.where(adata1.var[\"strand\"][i]==\"+\", \n",
    "                               pkstart-adata1.var[\"txstart\"][i],\n",
    "                               adata1.var[\"txend\"][i]-pkend))\n",
    "    if i%100==0: print(i)\n",
    "    L.append(pkdist)\n"
   ]
  },
  {
   "cell_type": "code",
   "execution_count": 65,
   "metadata": {},
   "outputs": [],
   "source": [
    "gene2pkdist = np.vstack(L)"
   ]
  },
  {
   "cell_type": "code",
   "execution_count": 91,
   "metadata": {},
   "outputs": [],
   "source": [
    "xmu = np.ravel(np.mean(adata1.X.todense(), axis=0))\n",
    "xsd = np.ravel(np.std(adata1.X.todense(), axis=0))\n",
    "gene2hiexpcells = adata1.X > (xmu + 1.0*xsd)"
   ]
  },
  {
   "cell_type": "code",
   "execution_count": 124,
   "metadata": {
    "collapsed": true
   },
   "outputs": [
    {
     "name": "stdout",
     "output_type": "stream",
     "text": [
      "200 (179288,) (3260,) (179288,) (3260, 179288)\n",
      "300 (179288,) (3260,) (179288,) (3260, 179288)\n",
      "400 (179288,) (3260,) (179288,) (3260, 179288)\n",
      "600 (179288,) (3260,) (179288,) (3260, 179288)\n",
      "700 (179288,) (3260,) (179288,) (3260, 179288)\n",
      "800 (179288,) (3260,) (179288,) (3260, 179288)\n",
      "1100 (179288,) (3260,) (179288,) (3260, 179288)\n",
      "1200 (179288,) (3260,) (179288,) (3260, 179288)\n",
      "1300 (179288,) (3260,) (179288,) (3260, 179288)\n",
      "1400 (179288,) (3260,) (179288,) (3260, 179288)\n",
      "1500 (179288,) (3260,) (179288,) (3260, 179288)\n",
      "1600 (179288,) (3260,) (179288,) (3260, 179288)\n",
      "1700 (179288,) (3260,) (179288,) (3260, 179288)\n",
      "1800 (179288,) (3260,) (179288,) (3260, 179288)\n",
      "1900 (179288,) (3260,) (179288,) (3260, 179288)\n",
      "2000 (179288,) (3260,) (179288,) (3260, 179288)\n",
      "2200 (179288,) (3260,) (179288,) (3260, 179288)\n",
      "2300 (179288,) (3260,) (179288,) (3260, 179288)\n",
      "2400 (179288,) (3260,) (179288,) (3260, 179288)\n",
      "2500 (179288,) (3260,) (179288,) (3260, 179288)\n",
      "2700 (179288,) (3260,) (179288,) (3260, 179288)\n",
      "3000 (179288,) (3260,) (179288,) (3260, 179288)\n",
      "3100 (179288,) (3260,) (179288,) (3260, 179288)\n",
      "3200 (179288,) (3260,) (179288,) (3260, 179288)\n",
      "3300 (179288,) (3260,) (179288,) (3260, 179288)\n",
      "3400 (179288,) (3260,) (179288,) (3260, 179288)\n",
      "3500 (179288,) (3260,) (179288,) (3260, 179288)\n",
      "3600 (179288,) (3260,) (179288,) (3260, 179288)\n",
      "3700 (179288,) (3260,) (179288,) (3260, 179288)\n",
      "3800 (179288,) (3260,) (179288,) (3260, 179288)\n",
      "4000 (179288,) (3260,) (179288,) (3260, 179288)\n",
      "4100 (179288,) (3260,) (179288,) (3260, 179288)\n",
      "4300 (179288,) (3260,) (179288,) (3260, 179288)\n",
      "4400 (179288,) (3260,) (179288,) (3260, 179288)\n",
      "4500 (179288,) (3260,) (179288,) (3260, 179288)\n",
      "4600 (179288,) (3260,) (179288,) (3260, 179288)\n",
      "4700 (179288,) (3260,) (179288,) (3260, 179288)\n",
      "4800 (179288,) (3260,) (179288,) (3260, 179288)\n",
      "4900 (179288,) (3260,) (179288,) (3260, 179288)\n",
      "5200 (179288,) (3260,) (179288,) (3260, 179288)\n",
      "5300 (179288,) (3260,) (179288,) (3260, 179288)\n",
      "5400 (179288,) (3260,) (179288,) (3260, 179288)\n",
      "5500 (179288,) (3260,) (179288,) (3260, 179288)\n",
      "5600 (179288,) (3260,) (179288,) (3260, 179288)\n",
      "5700 (179288,) (3260,) (179288,) (3260, 179288)\n",
      "5800 (179288,) (3260,) (179288,) (3260, 179288)\n",
      "5900 (179288,) (3260,) (179288,) (3260, 179288)\n",
      "6000 (179288,) (3260,) (179288,) (3260, 179288)\n",
      "6100 (179288,) (3260,) (179288,) (3260, 179288)\n",
      "6200 (179288,) (3260,) (179288,) (3260, 179288)\n",
      "6300 (179288,) (3260,) (179288,) (3260, 179288)\n",
      "6400 (179288,) (3260,) (179288,) (3260, 179288)\n",
      "6500 (179288,) (3260,) (179288,) (3260, 179288)\n",
      "6600 (179288,) (3260,) (179288,) (3260, 179288)\n",
      "6800 (179288,) (3260,) (179288,) (3260, 179288)\n",
      "6900 (179288,) (3260,) (179288,) (3260, 179288)\n",
      "7000 (179288,) (3260,) (179288,) (3260, 179288)\n",
      "7100 (179288,) (3260,) (179288,) (3260, 179288)\n",
      "7300 (179288,) (3260,) (179288,) (3260, 179288)\n",
      "7500 (179288,) (3260,) (179288,) (3260, 179288)\n",
      "7800 (179288,) (3260,) (179288,) (3260, 179288)\n",
      "7900 (179288,) (3260,) (179288,) (3260, 179288)\n",
      "8000 (179288,) (3260,) (179288,) (3260, 179288)\n",
      "8200 (179288,) (3260,) (179288,) (3260, 179288)\n",
      "8300 (179288,) (3260,) (179288,) (3260, 179288)\n",
      "8500 (179288,) (3260,) (179288,) (3260, 179288)\n",
      "8700 (179288,) (3260,) (179288,) (3260, 179288)\n",
      "8800 (179288,) (3260,) (179288,) (3260, 179288)\n",
      "8900 (179288,) (3260,) (179288,) (3260, 179288)\n",
      "9200 (179288,) (3260,) (179288,) (3260, 179288)\n",
      "9300 (179288,) (3260,) (179288,) (3260, 179288)\n",
      "9400 (179288,) (3260,) (179288,) (3260, 179288)\n",
      "9500 (179288,) (3260,) (179288,) (3260, 179288)\n",
      "9600 (179288,) (3260,) (179288,) (3260, 179288)\n",
      "9700 (179288,) (3260,) (179288,) (3260, 179288)\n",
      "9800 (179288,) (3260,) (179288,) (3260, 179288)\n",
      "9900 (179288,) (3260,) (179288,) (3260, 179288)\n",
      "10000 (179288,) (3260,) (179288,) (3260, 179288)\n",
      "10100 (179288,) (3260,) (179288,) (3260, 179288)\n",
      "10300 (179288,) (3260,) (179288,) (3260, 179288)\n",
      "10400 (179288,) (3260,) (179288,) (3260, 179288)\n",
      "10500 (179288,) (3260,) (179288,) (3260, 179288)\n",
      "10700 (179288,) (3260,) (179288,) (3260, 179288)\n",
      "10800 (179288,) (3260,) (179288,) (3260, 179288)\n",
      "11100 (179288,) (3260,) (179288,) (3260, 179288)\n",
      "11200 (179288,) (3260,) (179288,) (3260, 179288)\n",
      "11300 (179288,) (3260,) (179288,) (3260, 179288)\n",
      "11500 (179288,) (3260,) (179288,) (3260, 179288)\n",
      "11700 (179288,) (3260,) (179288,) (3260, 179288)\n",
      "11800 (179288,) (3260,) (179288,) (3260, 179288)\n",
      "11900 (179288,) (3260,) (179288,) (3260, 179288)\n",
      "12000 (179288,) (3260,) (179288,) (3260, 179288)\n",
      "12100 (179288,) (3260,) (179288,) (3260, 179288)\n",
      "12200 (179288,) (3260,) (179288,) (3260, 179288)\n",
      "12300 (179288,) (3260,) (179288,) (3260, 179288)\n",
      "12400 (179288,) (3260,) (179288,) (3260, 179288)\n",
      "12600 (179288,) (3260,) (179288,) (3260, 179288)\n",
      "12700 (179288,) (3260,) (179288,) (3260, 179288)\n",
      "12800 (179288,) (3260,) (179288,) (3260, 179288)\n",
      "12900 (179288,) (3260,) (179288,) (3260, 179288)\n",
      "13000 (179288,) (3260,) (179288,) (3260, 179288)\n",
      "13100 (179288,) (3260,) (179288,) (3260, 179288)\n",
      "13300 (179288,) (3260,) (179288,) (3260, 179288)\n",
      "13400 (179288,) (3260,) (179288,) (3260, 179288)\n",
      "13500 (179288,) (3260,) (179288,) (3260, 179288)\n",
      "13700 (179288,) (3260,) (179288,) (3260, 179288)\n",
      "13800 (179288,) (3260,) (179288,) (3260, 179288)\n",
      "14000 (179288,) (3260,) (179288,) (3260, 179288)\n",
      "14100 (179288,) (3260,) (179288,) (3260, 179288)\n",
      "14200 (179288,) (3260,) (179288,) (3260, 179288)\n",
      "14400 (179288,) (3260,) (179288,) (3260, 179288)\n",
      "14500 (179288,) (3260,) (179288,) (3260, 179288)\n",
      "14600 (179288,) (3260,) (179288,) (3260, 179288)\n",
      "14800 (179288,) (3260,) (179288,) (3260, 179288)\n",
      "14900 (179288,) (3260,) (179288,) (3260, 179288)\n"
     ]
    }
   ],
   "source": [
    "L = []\n",
    "pkX = adata1.uns[\"atac.X\"].todense()\n",
    "nPeaks = pkX.shape[1]\n",
    "pkX_mu = 1e-9 + np.ravel(np.mean(pkX, axis=0))\n",
    "\n",
    "for i in range(nGenes):\n",
    "    goodcells = np.ravel(gene2hiexpcells[:,i])\n",
    "    if np.sum(goodcells) < 10:\n",
    "        L.append(np.zeros(nPeaks))\n",
    "        continue\n",
    "    foldchange = np.ravel(np.mean(pkX[goodcells, :], axis=0)) / pkX_mu\n",
    "    if i%100==0: print (i, foldchange.shape, goodcells.shape, pkX_mu.shape, pkX.shape)\n",
    "    L.append(foldchange)\n"
   ]
  },
  {
   "cell_type": "code",
   "execution_count": 125,
   "metadata": {},
   "outputs": [],
   "source": [
    "gene2pkfoldchange = np.vstack(L)"
   ]
  },
  {
   "cell_type": "code",
   "execution_count": 242,
   "metadata": {},
   "outputs": [],
   "source": [
    "nonzeroPkCnts = np.ravel(np.sum(pkX>0.00001,axis=0))"
   ]
  },
  {
   "cell_type": "code",
   "execution_count": 243,
   "metadata": {},
   "outputs": [
    {
     "data": {
      "text/plain": [
       "array([0.0e+00, 0.0e+00, 0.0e+00, 0.0e+00, 1.0e+00, 1.0e+00, 2.0e+00,\n",
       "       2.0e+00, 3.0e+00, 3.0e+00, 5.0e+00, 7.0e+00, 1.1e+01, 2.5e+01,\n",
       "       3.1e+03])"
      ]
     },
     "execution_count": 243,
     "metadata": {},
     "output_type": "execute_result"
    }
   ],
   "source": [
    "np.quantile(nonzeroPkCnts, np.linspace(0,1,15))"
   ]
  },
  {
   "cell_type": "code",
   "execution_count": 299,
   "metadata": {},
   "outputs": [
    {
     "name": "stdout",
     "output_type": "stream",
     "text": [
      "Flag 565.10  0 1667 (1500, 5470) (1500, 5470)\n",
      "Flag 565.40  0 -20000000.000000004 -10358949.358462406 (24572,) 0.5873016673219107 1.1760281915346051 1.7351381243495594 0.7293673999613812 0.905594658555474 14.740251949610078\n",
      "Flag 565.40  0 -10358949.358462406 -5365391.590559456 (16509,) 0.5270549956920548 1.1626596205197786 1.7379598705845984 0.717543688090405 0.9413326579323738 9.903419316136773\n",
      "Flag 565.40  0 -5365391.590559456 -2778990.9887462724 (9638,) 0.599960458572398 1.1714279898364233 1.7315492069340446 0.7343328237125184 0.9309311024836882 5.781643671265747\n",
      "Flag 565.40  0 -2778990.9887462724 -1439371.346002303 (5557,) 0.5827371506892579 1.151316136821235 1.7337932107437324 0.7330974466652997 0.9446172289322263 3.3335332933413317\n",
      "Flag 565.40  0 -1439371.346002303 -745518.7440629877 (3447,) 0.6091752641499071 1.2058508364688927 1.8033375777890281 0.7485215513576657 0.9003905886035695 2.0677864427114576\n",
      "Flag 565.40  0 -745518.7440629877 -386139.54577664996 (2207,) 0.6998638778046262 1.2041034068685739 1.7553934844950416 0.7614205364005213 0.8878938514644498 1.3239352129574085\n",
      "Flag 565.40  0 -386139.54577664996 -200000.00000000003 (1261,) 0.5750791415657375 1.189959784221641 1.8608736699266302 0.7186516997809801 0.8499082163375723 0.7564487102579485\n",
      "Flag 565.40  0 -200000.00000000003 -103589.49358462427 (692,) 0.7597173657682104 1.2554000128545533 1.7019482320487809 0.7877247020644051 0.8979661349831122 0.41511697660467906\n",
      "Flag 565.40  0 -103589.49358462427 -53653.91590559456 (418,) 0.6852602618935715 1.2148802970485475 1.9729915467713195 0.8035822141372777 0.9181586565148522 0.250749850029994\n",
      "Flag 565.40  0 -53653.91590559456 -27789.909887462723 (264,) 0.6419764162944352 1.206313818979303 1.861495634406745 0.8328180513605085 1.240657946393143 0.15836832633473305\n",
      "Flag 565.40  0 -27789.909887462723 -14393.71346002303 (136,) 0.7922696441266479 1.225878066022271 1.7870917355245837 0.865959144210735 0.9323104400848123 0.08158368326334733\n",
      "Flag 565.40  0 -14393.71346002303 -7455.187440629877 (47,) 0.7521839903944127 1.0532323160824206 1.7531932971038933 0.7779444560182466 0.7497140825732057 0.028194361127774445\n",
      "Flag 565.40  0 -7455.187440629877 -3861.3954577665 (21,) 0.35478858883115033 0.9839496930870522 1.3665405886068218 0.6905325438293259 1.0643059719869186 0.01259748050389922\n",
      "Flag 565.40  0 -3861.3954577665 -2000.0000000000002 (21,) 0.971094363272827 1.2769307668897523 1.7998654575903883 1.1989126108716464 1.7693991445245927 0.01259748050389922\n",
      "Flag 565.40  0 -2000.0000000000002 -500.0 (201,) 1.0283101499478058 1.4427548170918443 1.7948087316017851 1.1086416567368296 0.8079165240397627 0.1205758848230354\n",
      "Flag 565.40  0 -500.0 0.0 (63,) 0.9666315158404508 1.1702818823473113 1.5791991356095387 0.9314979669764304 0.6638420602252691 0.03779244151169766\n",
      "Flag 565.40  0 0.0 500.0 (8,) 0.7515550916507348 1.022254519800005 1.3722692266334784 0.7153790568404172 0.6984462037406919 0.004799040191961607\n",
      "Flag 565.40  0 500.0 2000.0000000000002 (10,) 0.860282683635569 1.2491678464065739 1.3777989541948625 0.8655424749350186 0.513179768615521 0.00599880023995201\n",
      "Flag 565.40  0 2000.0000000000002 3861.3954577665 (22,) 0.7322532286179114 1.2060558726830504 1.5841568680198659 0.7092133620405177 0.7074793822132635 0.013197360527894421\n",
      "Flag 565.40  0 3861.3954577665 7455.187440629877 (29,) 1.114008407670361 1.2818538487628706 1.6291759583498577 0.9177629948381162 0.6125802299325794 0.01739652069586083\n",
      "Flag 565.40  0 7455.187440629877 14393.71346002303 (72,) 0.9851333296216358 1.2526218844984485 2.181437673722572 0.9193143695917717 0.8968379311193405 0.04319136172765447\n",
      "Flag 565.40  0 14393.71346002303 27789.909887462723 (112,) 0.8559361467405509 1.4594084552693025 2.1118020369760653 0.9223516281988599 1.0002062647782435 0.06718656268746251\n",
      "Flag 565.40  0 27789.909887462723 53653.91590559456 (232,) 0.8366655134753973 1.2506466220178756 1.7364435989661513 0.8343010897224362 0.9679403879296045 0.13917216556688664\n",
      "Flag 565.40  0 53653.91590559456 103589.49358462427 (389,) 0.6102909011502821 1.1124101822614234 1.604727209262928 0.7340887931244985 1.021290113210493 0.23335332933413316\n",
      "Flag 565.40  0 103589.49358462427 200000.00000000003 (765,) 0.6411262008116951 1.2219547397655752 1.7459547766224661 0.7686401893023463 0.9706913717825226 0.4589082183563287\n",
      "Flag 565.40  0 200000.00000000003 386139.54577664996 (1351,) 0.5910841823559121 1.211609372405358 1.7887581891313826 0.768820676774302 0.9918430338857047 0.8104379124175165\n",
      "Flag 565.40  0 386139.54577664996 745518.7440629877 (2268,) 0.6298126441758509 1.2179565722987626 1.7763688925384602 0.7603470823254637 0.9118121368124613 1.3605278944211159\n",
      "Flag 565.40  0 745518.7440629877 1439371.346002303 (3737,) 0.6565830007318596 1.2229917796240175 1.8327445988236892 0.7772241014192474 0.9528601646396121 2.241751649670066\n",
      "Flag 565.40  0 1439371.346002303 2778990.9887462724 (5779,) 0.5339088388606983 1.1494770408459916 1.6921872387537213 0.7202634660155 0.9449181385038107 3.4667066586682664\n",
      "Flag 565.40  0 2778990.9887462724 5365391.590559456 (10178,) 0.6093144810271793 1.166350793842867 1.7196468650527015 0.7382480929325276 0.925877413686216 6.1055788842231555\n",
      "Flag 565.40  0 5365391.590559456 10358949.358462406 (17573,) 0.5704384957938912 1.178583326318849 1.7934613426191293 0.7426868306874265 0.9662230669768609 10.541691661667667\n",
      "Flag 565.40  0 10358949.358462406 20000000.000000004 (25694,) 0.540269305623344 1.16147381952229 1.7089435929853887 0.7105852908059331 0.8962035451585709 15.413317336532694\n",
      "Flag 565.10  1667 3335 (1500, 5470) (1500, 5470)\n",
      "Flag 565.40  1 -20000000.000000004 -10358949.358462406 (26464,) 0.8058293520978919 1.2081251459224063 1.6780791938961532 0.8014821396504984 0.8519793434482476 15.865707434052759\n",
      "Flag 565.40  1 -10358949.358462406 -5365391.590559456 (16192,) 0.7979378877919688 1.2043191138956497 1.6543784118485636 0.785695963648065 0.8460507727637059 9.707434052757794\n",
      "Flag 565.40  1 -5365391.590559456 -2778990.9887462724 (10046,) 0.8021722439374468 1.2178763007686042 1.6950871135441605 0.7974117238485593 0.8395083583182902 6.022781774580336\n",
      "Flag 565.40  1 -2778990.9887462724 -1439371.346002303 (5963,) 0.8240586374505552 1.2296474565693933 1.7178485469468614 0.8295318211206452 0.8678502773771118 3.574940047961631\n",
      "Flag 565.40  1 -1439371.346002303 -745518.7440629877 (3423,) 0.8489420326365039 1.2223955556238604 1.703557963070911 0.8356162066483346 0.8296975009458316 2.052158273381295\n",
      "Flag 565.40  1 -745518.7440629877 -386139.54577664996 (1969,) 0.8410660671461896 1.2256370499236335 1.7755103169211632 0.8456592356136241 0.880772064399325 1.1804556354916067\n",
      "Flag 565.40  1 -386139.54577664996 -200000.00000000003 (1219,) 0.8213492446372481 1.2273066581167276 1.6933398552056074 0.8388051803003881 0.8889175192358069 0.7308153477218226\n",
      "Flag 565.40  1 -200000.00000000003 -103589.49358462427 (705,) 0.8600215901848877 1.2090773443687957 1.618077852172549 0.8115638646919241 0.7943947509088044 0.4226618705035971\n",
      "Flag 565.40  1 -103589.49358462427 -53653.91590559456 (420,) 0.9010594145969857 1.2446434450109518 1.5812763877860976 0.8682475893391942 0.6773954770326259 0.2517985611510791\n",
      "Flag 565.40  1 -53653.91590559456 -27789.909887462723 (232,) 0.8376233567162759 1.167096728950746 1.4572557508405604 0.7813708831182782 0.6655369616810163 0.13908872901678657\n",
      "Flag 565.40  1 -27789.909887462723 -14393.71346002303 (130,) 0.8096792963256333 1.0997361590009387 1.8475126899389414 0.9015273797686189 1.0719068061173207 0.07793764988009592\n",
      "Flag 565.40  1 -14393.71346002303 -7455.187440629877 (69,) 0.9524430882461576 1.1319143508212344 1.474982061707634 0.833548974097012 0.5504089766320501 0.04136690647482014\n",
      "Flag 565.40  1 -7455.187440629877 -3861.3954577665 (23,) 0.8324609443394313 1.0717668289589846 1.3029347212263473 0.783451238575203 0.6800306267943499 0.013788968824940047\n",
      "Flag 565.40  1 -3861.3954577665 -2000.0000000000002 (18,) 0.7441117765110712 1.0997716875921664 1.2875586819788984 0.6863190866928233 0.49714319937229434 0.01079136690647482\n",
      "Flag 565.40  1 -2000.0000000000002 -500.0 (253,) 1.0503732351272228 1.346456697530317 1.7573141612261385 1.1043325327795235 0.7812988586232452 0.15167865707434053\n",
      "Flag 565.40  1 -500.0 0.0 (98,) 1.0526732558008134 1.3981121008958777 1.7659033350159496 1.0826917204363378 0.56314165750648 0.05875299760191847\n",
      "Flag 565.40  1 0.0 500.0 (6,) 0.9546050858149167 1.024615139918016 1.1127367828210275 0.8278705590065796 0.3850275955678415 0.0035971223021582736\n"
     ]
    },
    {
     "name": "stdout",
     "output_type": "stream",
     "text": [
      "Flag 565.40  1 500.0 2000.0000000000002 (8,) 0.4364130774311776 1.388623889482843 1.5457606057608655 0.6730746517169216 0.7045573728358883 0.004796163069544364\n",
      "Flag 565.40  1 2000.0000000000002 3861.3954577665 (15,) 0.9411787098609021 1.1128100256722708 1.2714030071080193 0.674327384586886 0.5884112012992845 0.008992805755395683\n",
      "Flag 565.40  1 3861.3954577665 7455.187440629877 (26,) 1.0170341832210301 1.435648206149167 1.5992982392559147 1.0068138934986413 0.6211452257732057 0.015587529976019185\n",
      "Flag 565.40  1 7455.187440629877 14393.71346002303 (56,) 0.8951630632115295 1.3837357932017744 1.826916978250116 0.9149983290597987 0.7072181591025941 0.03357314148681055\n",
      "Flag 565.40  1 14393.71346002303 27789.909887462723 (90,) 0.8559858883770872 1.2822917184228015 1.6458374710779062 0.8385742994583028 0.9184559193337889 0.0539568345323741\n",
      "Flag 565.40  1 27789.909887462723 53653.91590559456 (233,) 0.9141013945645127 1.3195339305293419 1.7415378659916096 0.9027961907302554 0.7484865735970958 0.1396882494004796\n",
      "Flag 565.40  1 53653.91590559456 103589.49358462427 (460,) 0.8657125322230896 1.2398198118331378 1.752384054414266 0.8489636191741012 0.8116770362102689 0.27577937649880097\n",
      "Flag 565.40  1 103589.49358462427 200000.00000000003 (760,) 0.8910953291310981 1.2567351929799484 1.7606745125034275 0.8885277387751269 0.8586569040075286 0.4556354916067146\n",
      "Flag 565.40  1 200000.00000000003 386139.54577664996 (1326,) 0.7579792165583277 1.2078158049678107 1.7365221839993885 0.8131845817962393 0.9181004044831261 0.7949640287769785\n",
      "Flag 565.40  1 386139.54577664996 745518.7440629877 (2073,) 0.8054074810048767 1.208577722101527 1.6811325274591806 0.8030227796144812 0.8231437527333493 1.2428057553956835\n",
      "Flag 565.40  1 745518.7440629877 1439371.346002303 (3536,) 0.7810683325380479 1.1900918871305615 1.6932253621978344 0.8026682628040914 0.8859347078697002 2.1199040767386093\n",
      "Flag 565.40  1 1439371.346002303 2778990.9887462724 (5661,) 0.738413096030552 1.1919399651333875 1.6808096143785156 0.7735237678748532 0.8775109301658318 3.393884892086331\n",
      "Flag 565.40  1 2778990.9887462724 5365391.590559456 (10356,) 0.7847432890510133 1.2134076349890763 1.7042128423515657 0.7981415028848743 0.8566469692522777 6.2086330935251794\n",
      "Flag 565.40  1 5365391.590559456 10358949.358462406 (16993,) 0.790849332378021 1.2021928174375476 1.7199041370769321 0.8067811711599653 0.8895698905393388 10.187649880095924\n",
      "Flag 565.40  1 10358949.358462406 20000000.000000004 (25958,) 0.8052995016761927 1.2079370495886206 1.6819501959333565 0.7997936985854845 0.8654505154634812 15.562350119904076\n",
      "Flag 565.10  3335 5003 (2001, 5470) (2001, 5470)\n",
      "Flag 565.40  2 -20000000.000000004 -10358949.358462406 (34237,) 0.8900373472548472 1.2436356673054596 1.7007822950615568 0.8621955376758229 0.8315601234459478 20.5257793764988\n",
      "Flag 565.40  2 -10358949.358462406 -5365391.590559456 (21090,) 0.8700480448025073 1.2451649116085197 1.725611337525865 0.8512343316571188 0.8327419862248133 12.643884892086332\n",
      "Flag 565.40  2 -5365391.590559456 -2778990.9887462724 (12709,) 0.8686131151312528 1.236881392884264 1.6852564031359554 0.8447482845140788 0.831240732009394 7.619304556354916\n",
      "Flag 565.40  2 -2778990.9887462724 -1439371.346002303 (7052,) 0.872244391949287 1.238030861887608 1.7233920332055859 0.8486497904379694 0.8390807656159545 4.227817745803358\n",
      "Flag 565.40  2 -1439371.346002303 -745518.7440629877 (4295,) 0.8659751074904666 1.252815887736086 1.6648075606490216 0.8480209843663655 0.8251258713447881 2.574940047961631\n",
      "Flag 565.40  2 -745518.7440629877 -386139.54577664996 (2391,) 0.8318462019786235 1.2362808741989584 1.746473784391564 0.8400830764540586 0.8684184968995632 1.433453237410072\n",
      "Flag 565.40  2 -386139.54577664996 -200000.00000000003 (1407,) 0.8677750287139835 1.2487102247991895 1.6919449141628506 0.8519475091109565 0.8062002868708186 0.8435251798561151\n",
      "Flag 565.40  2 -200000.00000000003 -103589.49358462427 (803,) 0.8221521452254 1.2478787488561345 1.7715938641563573 0.8451366291163512 0.8889390939972797 0.4814148681055156\n",
      "Flag 565.40  2 -103589.49358462427 -53653.91590559456 (435,) 0.9162051700773044 1.232076243014238 1.688511917844545 0.9027314265402089 0.8056201285995661 0.2607913669064748\n",
      "Flag 565.40  2 -53653.91590559456 -27789.909887462723 (267,) 0.9546870472013356 1.314976897732309 1.7775231605692319 0.9656634441625331 0.9287458172222356 0.16007194244604317\n",
      "Flag 565.40  2 -27789.909887462723 -14393.71346002303 (161,) 0.9814642071236772 1.3912109665239814 2.0701713351133515 1.0273596517564856 0.8076756435576014 0.09652278177458033\n",
      "Flag 565.40  2 -14393.71346002303 -7455.187440629877 (62,) 1.0838476994330724 1.439286316123878 1.778311496248905 1.075439884981093 0.8716186440695007 0.03717026378896882\n",
      "Flag 565.40  2 -7455.187440629877 -3861.3954577665 (35,) 0.9334404134348236 1.184841309964534 2.0837660014499315 1.0761597640876346 1.1210284818500298 0.020983213429256596\n",
      "Flag 565.40  2 -3861.3954577665 -2000.0000000000002 (22,) 1.0260665265284303 1.0832226130243012 1.2731274193654265 0.8872956886312106 0.9260018642333617 0.013189448441247002\n",
      "Flag 565.40  2 -2000.0000000000002 -500.0 (341,) 1.060987265881065 1.3636962452027792 1.6512270720850826 1.0811955400768456 0.5847510993247502 0.20443645083932854\n",
      "Flag 565.40  2 -500.0 0.0 (116,) 1.018002454438558 1.3057824779314613 1.5832260201697097 1.081163914687796 0.5060450750946494 0.06954436450839328\n",
      "Flag 565.40  2 0.0 500.0 (4,) 1.070682954974849 1.1595311633642373 1.1897958090953065 0.9982418474660912 0.21958806986545887 0.002398081534772182\n",
      "Flag 565.40  2 500.0 2000.0000000000002 (13,) 0.8570930205735285 1.3576256186290692 1.4226258975701023 0.9183158209494565 0.6672140751277827 0.0077937649880095924\n",
      "Flag 565.40  2 2000.0000000000002 3861.3954577665 (12,) 1.120478244310076 1.2760564016673794 1.3622606205798413 0.872637653331938 0.5718898649414386 0.007194244604316547\n",
      "Flag 565.40  2 3861.3954577665 7455.187440629877 (30,) 0.6687223681823827 1.1831924301199765 1.508152855414145 0.6505667445758065 0.6308050677623979 0.017985611510791366\n",
      "Flag 565.40  2 7455.187440629877 14393.71346002303 (63,) 1.1146995454416897 1.4824975362215245 2.360321466829905 1.227149892351896 1.0166181312537448 0.03776978417266187\n",
      "Flag 565.40  2 14393.71346002303 27789.909887462723 (110,) 0.9424223737462383 1.3321346216439802 1.9466576071078008 0.9327643199177649 0.9146069686052799 0.06594724220623502\n",
      "Flag 565.40  2 27789.909887462723 53653.91590559456 (254,) 0.936175901464471 1.3701073047825338 1.8524065861655519 0.9742090825302812 0.9503901154363843 0.15227817745803357\n",
      "Flag 565.40  2 53653.91590559456 103589.49358462427 (455,) 0.9192083195992313 1.393626745020937 1.9021369006937674 0.9965595473356492 1.0827942307702763 0.27278177458033576\n",
      "Flag 565.40  2 103589.49358462427 200000.00000000003 (835,) 0.8314103667749403 1.2258748769135273 1.7023093718935733 0.8275276854867702 0.8086961672465526 0.500599520383693\n",
      "Flag 565.40  2 200000.00000000003 386139.54577664996 (1550,) 0.8641908678232857 1.2283402755760988 1.7010508665346789 0.8554072037894299 0.8802492915443066 0.9292565947242206\n",
      "Flag 565.40  2 386139.54577664996 745518.7440629877 (2606,) 0.8863155569796961 1.2715005357954183 1.802507674807849 0.8900683163078696 0.943378826930892 1.5623501199040768\n",
      "Flag 565.40  2 745518.7440629877 1439371.346002303 (4502,) 0.8602261192599138 1.2394329692405686 1.7177675751091075 0.8455496622950066 0.8484708378237332 2.699040767386091\n",
      "Flag 565.40  2 1439371.346002303 2778990.9887462724 (7014,) 0.8449054792694581 1.2183353219318631 1.6836428658285225 0.8246786285173441 0.8409742089651328 4.205035971223022\n",
      "Flag 565.40  2 2778990.9887462724 5365391.590559456 (12535,) 0.8722725073300835 1.23509779003209 1.6784111229604144 0.8479713004438955 0.845264102516791 7.514988009592326\n",
      "Flag 565.40  2 5365391.590559456 10358949.358462406 (20834,) 0.8613188367149209 1.2308255329308864 1.6842019780431676 0.8434047282408854 0.8629683966244892 12.490407673860911\n",
      "Flag 565.40  2 10358949.358462406 20000000.000000004 (32460,) 0.8764614588019526 1.2408720026601259 1.7075130588138945 0.8579859351827714 0.8612827035092403 19.46043165467626\n",
      "Flag 565.10  5003 6671 (1499, 5470) (1499, 5470)\n",
      "Flag 565.40  3 -20000000.000000004 -10358949.358462406 (25059,) 0.8879376250895975 1.2457739174134175 1.7402312184250572 0.8766214349373593 0.8991801036193103 15.023381294964029\n"
     ]
    },
    {
     "name": "stdout",
     "output_type": "stream",
     "text": [
      "Flag 565.40  3 -10358949.358462406 -5365391.590559456 (15504,) 0.8917326441925255 1.2453039081751656 1.7628035511871945 0.8727263198307935 0.8944947693818887 9.29496402877698\n",
      "Flag 565.40  3 -5365391.590559456 -2778990.9887462724 (9109,) 0.8545335982254365 1.2350972254030863 1.7743104209351457 0.8561676141681638 0.9097010157160819 5.461031175059952\n",
      "Flag 565.40  3 -2778990.9887462724 -1439371.346002303 (5204,) 0.8572584695459884 1.237577456980945 1.813041018604748 0.867568205956952 0.9636235082626727 3.1199040767386093\n",
      "Flag 565.40  3 -1439371.346002303 -745518.7440629877 (3135,) 0.8088726727827458 1.2074180666929963 1.7583377535457823 0.8392454527791331 0.968720058378438 1.879496402877698\n",
      "Flag 565.40  3 -745518.7440629877 -386139.54577664996 (1839,) 0.8128063841152962 1.1804408350604174 1.6603883653934384 0.7837883859126256 0.8234420801050306 1.1025179856115108\n",
      "Flag 565.40  3 -386139.54577664996 -200000.00000000003 (1024,) 0.8947318860250077 1.2780048469279615 1.8078184703448346 0.9097453059094507 0.9756292072503703 0.6139088729016786\n",
      "Flag 565.40  3 -200000.00000000003 -103589.49358462427 (581,) 0.8486927531097311 1.2680321579194092 1.7637700171125075 0.8923254724210903 0.9919684438855975 0.34832134292565947\n",
      "Flag 565.40  3 -103589.49358462427 -53653.91590559456 (319,) 0.9637158632432652 1.3103498279722987 1.8766284166622036 0.9560546679171085 0.9194545156045348 0.19124700239808154\n",
      "Flag 565.40  3 -53653.91590559456 -27789.909887462723 (174,) 0.8189759458412058 1.1557482458492965 1.4833708784092097 0.738907939439679 0.6414958697474197 0.10431654676258993\n",
      "Flag 565.40  3 -27789.909887462723 -14393.71346002303 (87,) 0.8270528853612947 1.3660953016051693 1.8744966455555478 0.8564318627667196 0.8227930601899855 0.052158273381294966\n",
      "Flag 565.40  3 -14393.71346002303 -7455.187440629877 (44,) 0.983141851236554 1.2686596796533154 1.5313721095665571 0.8155859824856987 0.7304985088177375 0.026378896882494004\n",
      "Flag 565.40  3 -7455.187440629877 -3861.3954577665 (25,) 1.1844696654041036 1.424761815244051 1.6754485250975582 1.0270965950550957 0.7483069492280128 0.01498800959232614\n",
      "Flag 565.40  3 -3861.3954577665 -2000.0000000000002 (7,) 0.7291091020995621 0.9527740280565684 1.4881895955752704 0.6571931772231913 0.6847356161221456 0.004196642685851319\n",
      "Flag 565.40  3 -2000.0000000000002 -500.0 (237,) 1.077042428796964 1.3124639181037814 1.6231658054747675 1.1130162925480256 0.580248694611594 0.1420863309352518\n",
      "Flag 565.40  3 -500.0 0.0 (72,) 1.075446026923094 1.3550788723016176 1.6586429233267415 1.1481955294896664 0.8356214151612955 0.04316546762589928\n",
      "Flag 565.40  3 0.0 500.0 (5,) 0.9733897674481389 1.1801191895090886 1.2809695873674245 1.0365470366997402 0.19945093158882046 0.002997601918465228\n",
      "Flag 565.40  3 500.0 2000.0000000000002 (14,) 0.4169046162999835 1.0940433567270709 1.263107783797706 0.6516614503826352 0.7820551971719351 0.008393285371702638\n",
      "Flag 565.40  3 2000.0000000000002 3861.3954577665 (3,) 1.1366970279753523 1.2010337171635865 1.239635730676527 1.0845929819891333 0.17284780202942487 0.0017985611510791368\n",
      "Flag 565.40  3 3861.3954577665 7455.187440629877 (19,) 0.5828534311315259 1.0901864734815003 1.2838515273118385 0.6350731610704671 0.6336205023046573 0.011390887290167866\n",
      "Flag 565.40  3 7455.187440629877 14393.71346002303 (39,) 0.7878082629612468 1.2751963399517963 1.5708474990030596 0.8371065812335697 1.1606774255145937 0.023381294964028777\n",
      "Flag 565.40  3 14393.71346002303 27789.909887462723 (87,) 0.9197967517078972 1.459425205335546 1.8610366954494337 0.9878735377565167 1.3256083255513254 0.052158273381294966\n",
      "Flag 565.40  3 27789.909887462723 53653.91590559456 (155,) 0.9715714914773749 1.294370411085041 1.9599825481929762 0.9893278910784936 0.9886420697620101 0.09292565947242207\n",
      "Flag 565.40  3 53653.91590559456 103589.49358462427 (283,) 0.9419457558322988 1.2720013065110969 1.7153109511074711 0.9002668672989668 0.8363264649641844 0.1696642685851319\n",
      "Flag 565.40  3 103589.49358462427 200000.00000000003 (623,) 0.9368267815873015 1.2847275380834264 1.8900392690766041 0.9208855885700753 0.886941290335515 0.3735011990407674\n",
      "Flag 565.40  3 200000.00000000003 386139.54577664996 (1083,) 0.827332913940326 1.2061217132111777 1.6805018344923917 0.8226205928157261 0.868805103123956 0.6492805755395683\n",
      "Flag 565.40  3 386139.54577664996 745518.7440629877 (1870,) 0.8645257485466535 1.2429497142857873 1.7441574877111654 0.8476342704770846 0.8563229724699798 1.1211031175059951\n",
      "Flag 565.40  3 745518.7440629877 1439371.346002303 (3017,) 0.8196209889845179 1.2318357304533818 1.7656277750673564 0.8453781658596837 0.9744946156268083 1.8087529976019185\n",
      "Flag 565.40  3 1439371.346002303 2778990.9887462724 (5157,) 0.8196123354421153 1.242951347001882 1.7437240014277404 0.8152922245522245 0.8819712824940581 3.091726618705036\n",
      "Flag 565.40  3 2778990.9887462724 5365391.590559456 (8866,) 0.839623342038958 1.2260727540723464 1.7173729907438018 0.8317338243226982 0.9147772724829304 5.315347721822542\n",
      "Flag 565.40  3 5365391.590559456 10358949.358462406 (14787,) 0.8640939570701207 1.2334981328070476 1.7362871967790177 0.847315382995992 0.8989306436410736 8.865107913669064\n",
      "Flag 565.40  3 10358949.358462406 20000000.000000004 (24918,) 0.8756931317226337 1.2407418917280835 1.7375639757175083 0.8629047054165612 0.8876440111186737 14.93884892086331\n",
      "Flag 565.10  6671 8339 (1500, 5470) (1500, 5470)\n",
      "Flag 565.40  4 -20000000.000000004 -10358949.358462406 (24269,) 0.8756118336929772 1.272325053526456 1.80868150628958 0.874574377835527 0.8926728124990121 14.549760191846524\n",
      "Flag 565.40  4 -10358949.358462406 -5365391.590559456 (15549,) 0.8369299843978395 1.2651435563818916 1.8461349200951562 0.8674914259307005 0.9432499547265571 9.321942446043165\n",
      "Flag 565.40  4 -5365391.590559456 -2778990.9887462724 (8908,) 0.8381450987715107 1.2674535062325152 1.8388804555348979 0.8577423299511198 0.9173369050916955 5.3405275779376495\n",
      "Flag 565.40  4 -2778990.9887462724 -1439371.346002303 (5254,) 0.7820199653366646 1.2706204326748263 1.913254380720228 0.8554561648636655 0.9759634665567483 3.1498800959232613\n",
      "Flag 565.40  4 -1439371.346002303 -745518.7440629877 (2956,) 0.8336469674108061 1.2699079165288776 1.7976815102395136 0.8474863835683264 0.9031375515936121 1.7721822541966428\n",
      "Flag 565.40  4 -745518.7440629877 -386139.54577664996 (1746,) 0.8573706010025837 1.2652262145522721 1.801445850382108 0.8613357074365429 0.9166018236398273 1.0467625899280575\n",
      "Flag 565.40  4 -386139.54577664996 -200000.00000000003 (1094,) 0.8371090201358371 1.2740545695039787 1.8090753721732369 0.8729757575779488 0.9043741749806962 0.6558752997601919\n",
      "Flag 565.40  4 -200000.00000000003 -103589.49358462427 (605,) 0.8752617731675706 1.2772166905973314 1.8665330581921327 0.9076214116302078 0.9031616409685292 0.3627098321342926\n",
      "Flag 565.40  4 -103589.49358462427 -53653.91590559456 (347,) 0.9106040340034764 1.2549314323799239 1.8769708529944706 0.9001819999461829 0.8874577384783862 0.20803357314148682\n",
      "Flag 565.40  4 -53653.91590559456 -27789.909887462723 (166,) 0.9409712976631056 1.3316925473287675 1.919295267600012 0.9689396429338488 0.8531468093382533 0.09952038369304557\n",
      "Flag 565.40  4 -27789.909887462723 -14393.71346002303 (99,) 0.9380724667312238 1.2802143937179222 2.5030150776379347 1.0905607718562336 0.9885203597679701 0.05935251798561151\n",
      "Flag 565.40  4 -14393.71346002303 -7455.187440629877 (36,) 0.7340261384852973 1.5753658735750757 2.1986796155271504 0.9207907375131472 0.8735751537989689 0.02158273381294964\n",
      "Flag 565.40  4 -7455.187440629877 -3861.3954577665 (32,) 0.9569511270230227 1.322450523710848 1.5391601780162067 0.8609435201531331 0.61330275942071 0.019184652278177457\n",
      "Flag 565.40  4 -3861.3954577665 -2000.0000000000002 (15,) 1.0117656528689765 1.6448969758774874 1.961165577904981 1.1155281784859434 0.8535730903389449 0.008992805755395683\n",
      "Flag 565.40  4 -2000.0000000000002 -500.0 (188,) 1.0559875785413926 1.311113572058013 1.7258680010782927 1.0564213962896882 0.5953749238789213 0.11270983213429256\n",
      "Flag 565.40  4 -500.0 0.0 (69,) 1.1130652433462846 1.354576124981381 1.6471647146441715 1.0804048890983073 0.5489605067192016 0.04136690647482014\n",
      "Flag 565.40  4 0.0 500.0 (1,) 0.9810686607509406 0.9810686607509406 0.9810686607509406 0.9810686607509406 0.0 0.0005995203836930455\n"
     ]
    },
    {
     "name": "stdout",
     "output_type": "stream",
     "text": [
      "Flag 565.40  4 500.0 2000.0000000000002 (7,) 0.9030433761258468 1.4014391360299663 2.1280983977622157 1.2218384710575638 0.7242291755727864 0.004196642685851319\n",
      "Flag 565.40  4 2000.0000000000002 3861.3954577665 (4,) 1.155338827330353 1.1626923523074586 1.172456962507741 0.8724110893254922 0.5037809798876871 0.002398081534772182\n",
      "Flag 565.40  4 3861.3954577665 7455.187440629877 (17,) 1.0867702943810846 1.7381989580691628 2.1209095138100347 0.9649627689086566 0.8407690593830872 0.010191846522781775\n",
      "Flag 565.40  4 7455.187440629877 14393.71346002303 (36,) 0.9548909955055667 1.3704716825275116 1.8688057644282012 0.9341636147938672 0.9061406553392951 0.02158273381294964\n",
      "Flag 565.40  4 14393.71346002303 27789.909887462723 (68,) 1.076494606509812 1.487512964114735 2.0931656032414483 1.071985594565327 0.9676543297252229 0.0407673860911271\n",
      "Flag 565.40  4 27789.909887462723 53653.91590559456 (132,) 0.8386929207201279 1.2738385325475612 1.9112717347945247 0.8738105422849308 0.9066285060412231 0.07913669064748201\n",
      "Flag 565.40  4 53653.91590559456 103589.49358462427 (320,) 0.8637011538076447 1.2830342586144547 1.7915483392470426 0.8911663485018447 0.8932836068318548 0.19184652278177458\n",
      "Flag 565.40  4 103589.49358462427 200000.00000000003 (573,) 0.849817689111147 1.263437227981833 1.8169834258002844 0.8766927100900842 0.9185462151382959 0.3435251798561151\n",
      "Flag 565.40  4 200000.00000000003 386139.54577664996 (1031,) 0.78126401208464 1.2409011184413912 1.749351167684246 0.8222635977182433 0.8584129887442612 0.61810551558753\n",
      "Flag 565.40  4 386139.54577664996 745518.7440629877 (1738,) 0.865747206190785 1.3072728275604721 1.9043495961284456 0.8992904394222588 0.9480371378351565 1.0419664268585132\n",
      "Flag 565.40  4 745518.7440629877 1439371.346002303 (3269,) 0.8190141690529396 1.2683918116012174 1.8133995096035431 0.8527708909284086 0.9063793743716425 1.959832134292566\n",
      "Flag 565.40  4 1439371.346002303 2778990.9887462724 (5089,) 0.7962067206186378 1.2917351146425418 1.8955374634518845 0.8512917712109077 0.9617766947225529 3.050959232613909\n",
      "Flag 565.40  4 2778990.9887462724 5365391.590559456 (8997,) 0.8340550017472557 1.2771828348839407 1.8490243873450392 0.8534668246308271 0.9276469142901924 5.393884892086331\n",
      "Flag 565.40  4 5365391.590559456 10358949.358462406 (15246,) 0.8217446855438502 1.2606424349143341 1.8221360898924188 0.8504576036738839 0.9165758403008963 9.140287769784173\n",
      "Flag 565.40  4 10358949.358462406 20000000.000000004 (23585,) 0.8597255266952706 1.2670765325567634 1.8015478147205042 0.8669923930860667 0.9049079908751648 14.13968824940048\n",
      "Flag 565.10  8339 10007 (2000, 5470) (2000, 5470)\n",
      "Flag 565.40  5 -20000000.000000004 -10358949.358462406 (32911,) 0.9315231775202716 1.300159439347952 1.8384824216974733 0.943802598507946 0.9034766605661374 19.730815347721823\n",
      "Flag 565.40  5 -10358949.358462406 -5365391.590559456 (20603,) 0.9285440380817377 1.2975007223694355 1.8243020557775715 0.9337849829910272 0.8813450785768934 12.351918465227818\n",
      "Flag 565.40  5 -5365391.590559456 -2778990.9887462724 (11738,) 0.9186153538067883 1.300619694349381 1.8188001799922806 0.9351432904088904 0.9095774539643646 7.037170263788969\n",
      "Flag 565.40  5 -2778990.9887462724 -1439371.346002303 (6900,) 0.894629960143206 1.290383859986379 1.8030056305100803 0.9014706236127541 0.8619431481495299 4.136690647482014\n",
      "Flag 565.40  5 -1439371.346002303 -745518.7440629877 (4267,) 0.8723837092057397 1.2949628708466545 1.820219559798339 0.8922467594080487 0.8774069760630627 2.5581534772182253\n",
      "Flag 565.40  5 -745518.7440629877 -386139.54577664996 (2393,) 0.9095051846059858 1.297427383350894 1.8130925329272503 0.9255750361331172 0.9154827882407996 1.434652278177458\n",
      "Flag 565.40  5 -386139.54577664996 -200000.00000000003 (1409,) 0.9102488013838739 1.2946213569754204 1.8943781092438359 0.9693008425642282 0.9927739803435086 0.8447242206235012\n",
      "Flag 565.40  5 -200000.00000000003 -103589.49358462427 (811,) 0.8816841539138258 1.2500482938315267 1.7129900682870138 0.8895294960995734 0.8031129252347982 0.4862110311750599\n",
      "Flag 565.40  5 -103589.49358462427 -53653.91590559456 (455,) 0.9821051858107152 1.3780158889542284 1.9326692253739766 1.0217343281164244 1.003935501351537 0.27278177458033576\n",
      "Flag 565.40  5 -53653.91590559456 -27789.909887462723 (259,) 1.0047774861823104 1.4098702550612672 1.9067410241947216 1.0269745242707808 0.8766826857597471 0.1552757793764988\n",
      "Flag 565.40  5 -27789.909887462723 -14393.71346002303 (122,) 0.9441081617593677 1.1408265325088112 1.5652028356226808 0.8473929694496364 0.6589055304559093 0.07314148681055156\n",
      "Flag 565.40  5 -14393.71346002303 -7455.187440629877 (55,) 0.9814989910525922 1.1845256262951633 1.447574621346997 0.933091313535814 0.6685050492616676 0.03297362110311751\n",
      "Flag 565.40  5 -7455.187440629877 -3861.3954577665 (25,) 0.8887875079955231 1.2311287671449558 2.1455205717086643 0.9470910333801175 0.7446167268502054 0.01498800959232614\n",
      "Flag 565.40  5 -3861.3954577665 -2000.0000000000002 (15,) 1.3217547547292932 1.5015432372853912 1.5817499010546023 1.3601985858725945 1.4365042783707427 0.008992805755395683\n",
      "Flag 565.40  5 -2000.0000000000002 -500.0 (335,) 1.0165315748660377 1.3080436569304408 1.6765946186896625 1.0612927581921268 0.5879734113936544 0.20083932853717026\n",
      "Flag 565.40  5 -500.0 0.0 (124,) 1.0605250483936546 1.2706854357969515 1.7016436398956527 1.1013570093554452 0.6933063448148254 0.07434052757793765\n",
      "Flag 565.40  5 0.0 500.0 (9,) 0.9768505661746837 1.0736302839576228 1.4213178487527591 0.875068505338596 0.47719118598384275 0.00539568345323741\n",
      "Flag 565.40  5 500.0 2000.0000000000002 (9,) 1.0725084671564389 2.2332111693055814 2.3526388349203806 1.4133055817517173 0.8140781552686349 0.00539568345323741\n",
      "Flag 565.40  5 2000.0000000000002 3861.3954577665 (17,) 1.0441799861559844 1.3279627162272176 1.846367667468745 0.9201449391560955 0.7764184325964059 0.010191846522781775\n",
      "Flag 565.40  5 3861.3954577665 7455.187440629877 (18,) 1.2305594155869803 1.4483739748407234 1.685129880871989 1.2194775563855265 0.44338897112640013 0.01079136690647482\n",
      "Flag 565.40  5 7455.187440629877 14393.71346002303 (57,) 1.06730280956306 1.602252012075815 2.270227534490107 1.1306842938324904 0.9182303418384072 0.0341726618705036\n",
      "Flag 565.40  5 14393.71346002303 27789.909887462723 (106,) 0.9463072148613096 1.2736518089262576 1.6111417020940026 0.9309292822547771 0.681731754126112 0.06354916067146282\n",
      "Flag 565.40  5 27789.909887462723 53653.91590559456 (208,) 0.8657991218617302 1.278594504990731 1.9585636276877842 0.8911030533992135 0.8488754404794643 0.12470023980815348\n",
      "Flag 565.40  5 53653.91590559456 103589.49358462427 (441,) 0.9825794196972326 1.3434915144995074 1.906967794932504 0.9828330408943916 0.9096309654111425 0.2643884892086331\n",
      "Flag 565.40  5 103589.49358462427 200000.00000000003 (763,) 0.935334489859689 1.3111297588714628 1.8238922226244563 0.9187415257885272 0.8432932806653126 0.45743405275779375\n",
      "Flag 565.40  5 200000.00000000003 386139.54577664996 (1417,) 0.92666603572171 1.3187961117071316 1.924792730612979 0.9418415201757359 0.9356345036352481 0.8495203836930456\n",
      "Flag 565.40  5 386139.54577664996 745518.7440629877 (2460,) 0.9334682763059784 1.318961310348985 1.8591384674274496 0.9357467138238192 0.8607867027022076 1.474820143884892\n",
      "Flag 565.40  5 745518.7440629877 1439371.346002303 (4220,) 0.8769002051337291 1.2765273300286006 1.7698157945578277 0.884850810045142 0.9199885659097545 2.529976019184652\n",
      "Flag 565.40  5 1439371.346002303 2778990.9887462724 (7165,) 0.9128532117325453 1.2876896299337801 1.7751030747013918 0.908516275437623 0.8546247284859686 4.295563549160671\n",
      "Flag 565.40  5 2778990.9887462724 5365391.590559456 (11930,) 0.8877951996970574 1.266421573784976 1.7896170439640025 0.8943183979308753 0.886896332204111 7.152278177458034\n",
      "Flag 565.40  5 5365391.590559456 10358949.358462406 (20341,) 0.8942846409624822 1.2848391310978893 1.814666475602617 0.9086737243546662 0.8917015495869947 12.19484412470024\n",
      "Flag 565.40  5 10358949.358462406 20000000.000000004 (33148,) 0.9127647002625043 1.2885686651684587 1.8020471109224427 0.9176143163075391 0.8684929635138694 19.872901678657076\n",
      "Flag 565.10  10007 11675 (1500, 5470) (1500, 5470)\n",
      "Flag 565.40  6 -20000000.000000004 -10358949.358462406 (24230,) 0.9757028379151231 1.2800249755935482 1.7163560537014022 0.9763697173883058 0.7926672867529759 14.526378896882495\n"
     ]
    },
    {
     "name": "stdout",
     "output_type": "stream",
     "text": [
      "Flag 565.40  6 -10358949.358462406 -5365391.590559456 (15920,) 0.9777397786674682 1.2772753913257984 1.7178965931214316 0.9764422206642526 0.8053362258143444 9.544364508393285\n",
      "Flag 565.40  6 -5365391.590559456 -2778990.9887462724 (9369,) 0.9677934066070127 1.2646555721001473 1.6917654941389482 0.9643268946880723 0.7890863765738605 5.616906474820144\n",
      "Flag 565.40  6 -2778990.9887462724 -1439371.346002303 (5410,) 0.9578215647288493 1.2774128834331966 1.7010695244821261 0.9536490179276743 0.7653254654030403 3.2434052757793763\n",
      "Flag 565.40  6 -1439371.346002303 -745518.7440629877 (3175,) 0.9669311575542934 1.2811166016927227 1.69534308521978 0.9603494527643116 0.7787521258608036 1.9034772182254196\n",
      "Flag 565.40  6 -745518.7440629877 -386139.54577664996 (1806,) 0.9663881321576033 1.3073537848892998 1.7651927046391926 0.9673235366826941 0.8138851861594012 1.0827338129496402\n",
      "Flag 565.40  6 -386139.54577664996 -200000.00000000003 (1078,) 0.9883015393184847 1.288252455412089 1.7703390901585505 1.0093581965966079 0.8350725182258131 0.6462829736211031\n",
      "Flag 565.40  6 -200000.00000000003 -103589.49358462427 (616,) 1.0013000587070773 1.3003677018159805 1.7177600843335412 0.983948997917454 0.711257620877307 0.36930455635491605\n",
      "Flag 565.40  6 -103589.49358462427 -53653.91590559456 (402,) 1.038111687600629 1.3202060567604326 1.6694059732887732 1.0499125883928164 0.8164834354695583 0.24100719424460432\n",
      "Flag 565.40  6 -53653.91590559456 -27789.909887462723 (248,) 0.9805831081701305 1.293102014627966 1.7110018349956486 1.0513387598468014 1.0018460683002073 0.1486810551558753\n",
      "Flag 565.40  6 -27789.909887462723 -14393.71346002303 (121,) 1.0402002144827232 1.3472825067686596 1.6458080717490458 1.049128860329578 0.6069997974295764 0.0725419664268585\n",
      "Flag 565.40  6 -14393.71346002303 -7455.187440629877 (56,) 1.154582529897948 1.446310820715837 1.7014554900981897 1.1266367497355823 0.6878424162500981 0.03357314148681055\n",
      "Flag 565.40  6 -7455.187440629877 -3861.3954577665 (27,) 0.9692920468121319 1.6472470633552942 2.0595330199343542 1.0885641063894533 0.7035163771418418 0.01618705035971223\n",
      "Flag 565.40  6 -3861.3954577665 -2000.0000000000002 (12,) 0.9844397792799252 1.3407580486347548 1.517621128978513 0.9482432352736319 0.4989439666254092 0.007194244604316547\n",
      "Flag 565.40  6 -2000.0000000000002 -500.0 (271,) 1.0607761776927795 1.2621927083515325 1.4878726564738636 1.0559590277092166 0.4513890807680212 0.16247002398081534\n",
      "Flag 565.40  6 -500.0 0.0 (94,) 1.0927873237630001 1.3308801719904397 1.6737491851909774 1.166231702138215 0.5094792380002112 0.05635491606714628\n",
      "Flag 565.40  6 0.0 500.0 (6,) 1.0231717819087036 1.165921280142842 1.3974928855025657 1.0111289400850128 0.34963379797278604 0.0035971223021582736\n",
      "Flag 565.40  6 500.0 2000.0000000000002 (15,) 1.0159062136779908 1.2431189970581014 1.4038893428876433 1.1219376745011929 0.4679149712320069 0.008992805755395683\n",
      "Flag 565.40  6 2000.0000000000002 3861.3954577665 (12,) 1.5567179091641823 1.7190599631201495 1.80420287747522 1.450765051616327 0.3393973994163756 0.007194244604316547\n",
      "Flag 565.40  6 3861.3954577665 7455.187440629877 (24,) 1.2556370250956408 1.5677530213163906 2.1131135329397113 1.2504318074535303 0.6710750534256287 0.014388489208633094\n",
      "Flag 565.40  6 7455.187440629877 14393.71346002303 (47,) 1.0929058663246556 1.481339769148678 1.825754574265416 1.1266870766203514 0.5764472325209017 0.02817745803357314\n",
      "Flag 565.40  6 14393.71346002303 27789.909887462723 (80,) 1.1327356157119008 1.3465659274774762 1.7631296549076698 1.0817016095031406 0.621898514851478 0.047961630695443645\n",
      "Flag 565.40  6 27789.909887462723 53653.91590559456 (178,) 0.9753008487593045 1.2790072754970425 1.629800773169988 0.9840144544022149 0.8478411654221998 0.10671462829736211\n",
      "Flag 565.40  6 53653.91590559456 103589.49358462427 (350,) 0.9999355820621276 1.3195998273821257 1.7329120228388477 1.0144185763976907 0.6474691294871606 0.20983213429256595\n",
      "Flag 565.40  6 103589.49358462427 200000.00000000003 (682,) 0.9846097963190337 1.2590534097333816 1.6572997007885353 0.9764098381786681 0.6718099615069021 0.4088729016786571\n",
      "Flag 565.40  6 200000.00000000003 386139.54577664996 (1067,) 0.9577046361362589 1.3066578810739273 1.7200750290400917 0.9904197331230281 0.8452131878044011 0.6396882494004796\n",
      "Flag 565.40  6 386139.54577664996 745518.7440629877 (2000,) 0.9728060618935067 1.2856868085008022 1.6608088218615877 0.9739681814808069 0.8099599701945832 1.1990407673860912\n",
      "Flag 565.40  6 745518.7440629877 1439371.346002303 (3207,) 0.9670654706449765 1.3032002261961417 1.7295460170046442 0.9759560784420861 0.8406689314508492 1.9226618705035972\n",
      "Flag 565.40  6 1439371.346002303 2778990.9887462724 (5508,) 0.9694295590495305 1.2724984579769338 1.7283554321703423 0.9750223768317842 0.7974847418480647 3.302158273381295\n",
      "Flag 565.40  6 2778990.9887462724 5365391.590559456 (9407,) 0.9662226847632311 1.2716679752320648 1.7260000222499075 0.9677339693996201 0.8027110712175158 5.639688249400479\n",
      "Flag 565.40  6 5365391.590559456 10358949.358462406 (15998,) 0.9702864893153247 1.275100938044682 1.7014837011516295 0.9732154541387024 0.8060748862826653 9.591127098321342\n",
      "Flag 565.40  6 10358949.358462406 20000000.000000004 (25470,) 0.9732088663930177 1.2879482597230358 1.7280548214664682 0.971775313179446 0.7967655649375647 15.26978417266187\n",
      "Flag 565.10  11675 13343 (500, 5470) (500, 5470)\n",
      "Flag 565.40  7 -20000000.000000004 -10358949.358462406 (8060,) 0.9941351175627596 1.2625046595810634 1.6491327781714789 0.9736703971092064 0.7329051126208344 4.832134292565947\n",
      "Flag 565.40  7 -10358949.358462406 -5365391.590559456 (5139,) 0.9823091906717424 1.2827218109745668 1.7060378020879192 0.9620739214735784 0.8137691637442205 3.0809352517985613\n",
      "Flag 565.40  7 -5365391.590559456 -2778990.9887462724 (2841,) 0.9454425250071914 1.270018052179715 1.69192953356182 0.9399075921338478 0.8578891747645594 1.7032374100719425\n",
      "Flag 565.40  7 -2778990.9887462724 -1439371.346002303 (1707,) 0.9750212037602519 1.3001813145953687 1.7631501222728472 0.9801804260110704 0.8522611267342823 1.0233812949640289\n",
      "Flag 565.40  7 -1439371.346002303 -745518.7440629877 (1014,) 0.9485021858896616 1.2953993921959037 1.7253380351700578 0.9320930482275576 0.7842936745236858 0.6079136690647482\n",
      "Flag 565.40  7 -745518.7440629877 -386139.54577664996 (678,) 1.0257278590385794 1.2891800835073486 1.738808015868691 1.0202706402640802 0.7630489964267008 0.4064748201438849\n",
      "Flag 565.40  7 -386139.54577664996 -200000.00000000003 (371,) 0.9706858715614713 1.2947430834465181 1.6193706645421353 0.9133383901321686 0.6781403000587014 0.2224220623501199\n",
      "Flag 565.40  7 -200000.00000000003 -103589.49358462427 (200,) 1.0288310562629233 1.3231653534041696 1.5973202791001295 0.9879588437068378 0.782547418944983 0.11990407673860912\n",
      "Flag 565.40  7 -103589.49358462427 -53653.91590559456 (111,) 1.1369534962546592 1.388558217263038 2.138346239227145 1.182340021856822 0.9204818549570167 0.06654676258992806\n",
      "Flag 565.40  7 -53653.91590559456 -27789.909887462723 (55,) 1.0781857263145884 1.2651042660832716 1.7533498303898465 1.1268213831130642 0.670103361813127 0.03297362110311751\n",
      "Flag 565.40  7 -27789.909887462723 -14393.71346002303 (34,) 1.0300083098341382 1.3118330943027336 1.8717307854315917 0.9459869359190307 0.680521010187298 0.02038369304556355\n",
      "Flag 565.40  7 -14393.71346002303 -7455.187440629877 (11,) 1.1106475611553692 1.889474230345014 2.2770085409571474 1.212040088871387 0.7623846539693042 0.006594724220623501\n",
      "Flag 565.40  7 -7455.187440629877 -3861.3954577665 (6,) 1.3042962155390767 2.2915967437510387 2.697211324616614 1.504131104650563 0.9523759097982037 0.0035971223021582736\n",
      "Flag 565.40  7 -3861.3954577665 -2000.0000000000002 (8,) 1.0565852981470798 1.195715976557684 1.4183574660833833 1.0004861610645879 0.45006380947101027 0.004796163069544364\n",
      "Flag 565.40  7 -2000.0000000000002 -500.0 (104,) 1.0724810481741514 1.3361710210227802 1.5921947850413452 1.0857671759070127 0.4208628632328546 0.06235011990407674\n",
      "Flag 565.40  7 -500.0 0.0 (24,) 0.9890308108773325 1.234776946419617 1.493544334517576 1.0016608382564351 0.37028379632002817 0.014388489208633094\n",
      "Flag 565.40  7 500.0 2000.0000000000002 (6,) 1.0098731437280062 1.1923636300537461 1.5058278709048527 1.1139237844677117 0.3313385762654461 0.0035971223021582736\n",
      "Flag 565.40  7 2000.0000000000002 3861.3954577665 (5,) 1.242153016531324 1.8974975638962357 2.0291224066051035 1.4745223970690584 0.44601090237213376 0.002997601918465228\n"
     ]
    },
    {
     "name": "stderr",
     "output_type": "stream",
     "text": [
      "/scratch1/rsingh/python/venv/base36/lib/python3.6/site-packages/numpy/core/fromnumeric.py:3257: RuntimeWarning: Mean of empty slice.\n",
      "  out=out, **kwargs)\n",
      "/scratch1/rsingh/python/venv/base36/lib/python3.6/site-packages/numpy/core/_methods.py:161: RuntimeWarning: invalid value encountered in double_scalars\n",
      "  ret = ret.dtype.type(ret / rcount)\n"
     ]
    },
    {
     "name": "stdout",
     "output_type": "stream",
     "text": [
      "Flag 565.40  7 3861.3954577665 7455.187440629877 (8,) 1.2444498939759776 1.532257334389069 2.6677489401674417 1.5642105314791999 1.3680485762998438 0.004796163069544364\n",
      "Flag 565.40  7 7455.187440629877 14393.71346002303 (17,) 1.1195333721744634 1.8695183935451989 2.3167244731912433 1.354937374392699 0.761549861575109 0.010191846522781775\n",
      "Flag 565.40  7 14393.71346002303 27789.909887462723 (36,) 0.9555216909522564 1.2565507381822771 1.3486667235115852 0.9228587890530177 0.45365951791372877 0.02158273381294964\n",
      "Flag 565.40  7 27789.909887462723 53653.91590559456 (54,) 1.0801439537452535 1.2952979474997584 1.780075960121486 0.9922832618900332 0.586104749878397 0.03237410071942446\n",
      "Flag 565.40  7 53653.91590559456 103589.49358462427 (154,) 0.9976988278880543 1.2910600274112762 1.6465409178148014 0.9929022147215281 0.8046415893962889 0.09232613908872901\n",
      "Flag 565.40  7 103589.49358462427 200000.00000000003 (194,) 0.8983559604318043 1.177211623070127 1.6923738986044952 0.8847588142079563 0.7508805911910358 0.11630695443645084\n",
      "Flag 565.40  7 200000.00000000003 386139.54577664996 (388,) 0.937876996061022 1.2531670375005448 1.6308626941887074 0.8952588280461421 0.7268646485439996 0.23261390887290168\n",
      "Flag 565.40  7 386139.54577664996 745518.7440629877 (636,) 0.907666280586668 1.2138077377827292 1.604165585508433 0.8772302902252883 0.7006153153162514 0.381294964028777\n",
      "Flag 565.40  7 745518.7440629877 1439371.346002303 (1034,) 0.9454532173591643 1.2205538675812913 1.6149567563333962 0.898201735014815 0.7521692101661233 0.6199040767386091\n",
      "Flag 565.40  7 1439371.346002303 2778990.9887462724 (1604,) 0.9468337801427291 1.2164493912784946 1.6159437884032148 0.9131419156369796 0.7439266360358916 0.9616306954436451\n",
      "Flag 565.40  7 2778990.9887462724 5365391.590559456 (2821,) 0.9677180307565602 1.2629787372716041 1.6705631074382297 0.9526864183997004 0.7944419899083347 1.6912470023980815\n",
      "Flag 565.40  7 5365391.590559456 10358949.358462406 (4914,) 0.9555821931524149 1.253189083676748 1.650262463819206 0.9388018293507061 0.7969928479069427 2.946043165467626\n",
      "Flag 565.40  7 10358949.358462406 20000000.000000004 (8224,) 0.9706777809706679 1.2578645015689385 1.683297927804532 0.9550857353656884 0.8076484940578926 4.930455635491607\n",
      "Flag 565.10  13343 15011 (0, 5470) (0, 5470)\n"
     ]
    }
   ],
   "source": [
    "import numpy.ma as ma\n",
    "validPks = nonzeroPkCnts > 50.1\n",
    "v1= np.array([500] + list(np.geomspace(2e3,20e6,15)))\n",
    "pkbreaks = np.hstack([list(reversed(-v1)),[0],v1])\n",
    "genebreaks = np.linspace(0,nGenes,10)\n",
    "gvar_ranking = adata1.var[\"gene_variability_ranking\"]\n",
    "gexp_mu = np.ravel(np.mean(adata1.X, axis=0))\n",
    "L_median, L_q75, L_q90, L_mean, L_sd, L_n= [],[],[],[],[],[]\n",
    "\n",
    "for i in range(len(genebreaks)-1):\n",
    "    g0, g1 = int(genebreaks[i]), int(genebreaks[i+1])\n",
    "    gidx = (gvar_ranking >= g0) & (gvar_ranking < g1) & (gexp_mu > 1e-5)\n",
    "    #gidx = (gvar_ranking < g1)\n",
    "\n",
    "    g2p_dist = gene2pkdist[gidx,:][:,validPks]\n",
    "    g2p_fc = gene2pkfoldchange[gidx,:][:, validPks]\n",
    "    print (\"Flag 565.10 \", g0, g1, g2p_dist.shape, g2p_fc.shape)\n",
    "    lx = []\n",
    "    for j in range(len(pkbreaks)-1):\n",
    "        pkdist0, pkdist1 = pkbreaks[j], pkbreaks[j+1]\n",
    "        w = (ma.masked_where((g2p_dist < pkdist0) | (g2p_dist >= pkdist1), g2p_fc)).compressed()\n",
    "        try:\n",
    "            med, q75, q90, mu, sd = np.median(w), np.quantile(w,0.75), np.quantile(w,0.90), np.mean(w), np.std(w)\n",
    "            n = len(w)/(g1-g0)\n",
    "        except:\n",
    "            continue\n",
    "        print (\"Flag 565.40 \", i, pkdist0, pkdist1, w.shape, med, q75, q90, mu, sd, n)\n",
    "        lx.append((med,q75,q90,mu,sd,n))\n",
    "        \n",
    "#         M = ma.masked_where((g2p_dist < pkdist0) | (g2p_dist >= pkdist1), g2p_fc)\n",
    "#         M_cnt = ma.masked_where((g2p_dist < pkdist0) | (g2p_dist >= pkdist1), g2p_fc>0)\n",
    "#         med = np.apply_along_axis(lambda v: np.quantile(v.compressed(), 0.5), 1, M)\n",
    "#         q75 = np.apply_along_axis(lambda v: np.quantile(v.compressed(),0.75), 1, M)\n",
    "#         q90 = np.apply_along_axis(lambda v: np.quantile(v.compressed(),0.90), 1, M)\n",
    "#         mu  = np.apply_along_axis(lambda v: np.mean(v.compressed()), 1, M)\n",
    "#         sd  = np.apply_along_axis(lambda v: np.std(v.compressed()), 1, M)\n",
    "#         n   = np.apply_along_axis(lambda v: len(v.compressed()), 1, M)\n",
    "#         print (\"Flag 565.40 \", pkdist0, pkdist1, w.shape, q75, q90, mu, sd, n)\n",
    "#         lx.append((med,q75,q90,mu,sd,n))\n",
    "\n",
    "    if len(lx)>0:\n",
    "        L_median.append([a[0] for a in lx])\n",
    "        L_q75.append([a[1] for a in lx])\n",
    "        L_q90.append([a[2] for a in lx])\n",
    "        L_mean.append([a[3] for a in lx])\n",
    "        L_sd.append([a[4] for a in lx])\n",
    "        L_n.append([a[5] for a in lx])"
   ]
  },
  {
   "cell_type": "code",
   "execution_count": 303,
   "metadata": {},
   "outputs": [],
   "source": [
    "# d_median_t50_gexpPos = np.vstack(L_median)\n",
    "# d_mu_t50_gexpPos     = np.vstack(L_mean)\n",
    "# d_q75_t50_gexpPos    = np.vstack(L_q75)\n",
    "# d_q90_t50_gexpPos    = np.vstack(L_q90)\n",
    "\n",
    "fv = lambda v: np.vstack([a[:31] for a in v])\n",
    "d_median_t50_gexpPos = fv(L_median)\n",
    "d_mu_t50_gexpPos     = fv(L_mean)\n",
    "d_q75_t50_gexpPos    = fv(L_q75)\n",
    "d_q90_t50_gexpPos    = fv(L_q90)"
   ]
  },
  {
   "cell_type": "code",
   "execution_count": 306,
   "metadata": {},
   "outputs": [
    {
     "data": {
      "image/png": "[encoded data removed]",
      "text/plain": [
       "<Figure size 1080x360 with 6 Axes>"
      ]
     },
     "metadata": {
      "needs_background": "light"
     },
     "output_type": "display_data"
    }
   ],
   "source": [
    "import seaborn as sns\n",
    "plt.rcParams[\"figure.figsize\"]= (15,5)\n",
    "for i, dx in enumerate([d_median_t50_gexpPos, d_mu_t50_gexpPos, d_q75_t50_gexpPos]):\n",
    "    plt.subplot(1,3,i+1)\n",
    "    sns.heatmap(np.insert(dx, 16, 0.99*np.min(dx), axis=1), cmap=\"afmhot_r\")\n"
   ]
  },
  {
   "cell_type": "code",
   "execution_count": 308,
   "metadata": {},
   "outputs": [
    {
     "data": {
      "image/png": "[encoded data removed]",
      "text/plain": [
       "<Figure size 1080x360 with 6 Axes>"
      ]
     },
     "metadata": {
      "needs_background": "light"
     },
     "output_type": "display_data"
    }
   ],
   "source": [
    "import seaborn as sns\n",
    "plt.rcParams[\"figure.figsize\"]= (15,5)\n",
    "for i, dx in enumerate([d_median_t10_gexpPos, d_mu_t10_gexpPos, d_q75_t10_gexpPos]):\n",
    "    plt.subplot(1,3,i+1)\n",
    "    sns.heatmap(np.insert(dx, 16, 0.99*np.min(dx), axis=1), cmap=\"hot_r\")\n"
   ]
  },
  {
   "cell_type": "code",
   "execution_count": 291,
   "metadata": {},
   "outputs": [
    {
     "name": "stdout",
     "output_type": "stream",
     "text": [
      "Flag 565.10  0 1667 (1500, 26665) (1500, 26665)\n"
     ]
    },
    {
     "name": "stderr",
     "output_type": "stream",
     "text": [
      "/scratch1/rsingh/python/venv/base36/lib/python3.6/site-packages/numpy/lib/nanfunctions.py:994: RuntimeWarning: All-NaN slice encountered\n",
      "  result = np.apply_along_axis(_nanmedian1d, axis, a, overwrite_input)\n"
     ]
    },
    {
     "name": "stdout",
     "output_type": "stream",
     "text": [
      "Flag 565.40  -20000000.000000004 -10358949.358462406 (1500, 26665) (1500,) 0.893112610618437 1.8222781235675014 0.7312481567070205 0.9925015426553286 77.626\n",
      "Flag 565.40  -10358949.358462406 -5365391.590559456 (1500, 26665) (1500,) 0.8920716296946438 1.7674282437586235 0.7378496264343166 0.9726819682024997 52.79666666666667\n",
      "Flag 565.40  -5365391.590559456 -2778990.9887462724 (1500, 26665) (1500,) 0.898972201910406 1.6926166957911823 0.7473449727576751 0.9507549986270218 30.661333333333335\n",
      "Flag 565.40  -2778990.9887462724 -1439371.346002303 (1500, 26665) (1500,) 0.903289253183033 1.6258671213036098 0.7391181177531975 0.9268265126676448 17.973333333333333\n",
      "Flag 565.40  -1439371.346002303 -745518.7440629877 (1500, 26665) (1500,) 0.8894121131263356 1.5433606808803475 0.7259171080985148 0.8769754827366614 11.328\n",
      "Flag 565.40  -745518.7440629877 -386139.54577664996 (1500, 26665) (1500,) 0.9868461481296088 1.5342177236628287 0.7786308364848399 0.8790393389379991 6.768\n",
      "Flag 565.40  -386139.54577664996 -200000.00000000003 (1500, 26665) (1500,) 0.9290558292503929 1.2832177688281718 0.7558186929985384 0.740446899246732 3.832\n",
      "Flag 565.40  -200000.00000000003 -103589.49358462427 (1500, 26665) (1500,) 0.8991560471645014 1.1134355143774421 0.7300172938593279 0.6625641216904609 2.183333333333333\n",
      "Flag 565.40  -103589.49358462427 -53653.91590559456 (1500, 26665) (1500,) 0.8998893544298221 1.0682461936478476 0.7728933433663786 0.709700682359655 1.2253333333333334\n",
      "Flag 565.40  -53653.91590559456 -27789.909887462723 (1500, 26665) (1500,) 0.9807062565510032 1.1013667127885096 0.8788075024862397 0.783356316226642 0.73\n",
      "Flag 565.40  -27789.909887462723 -14393.71346002303 (1500, 26665) (1500,) 0.8490495365921656 0.9171838410392604 0.7837721830599033 0.6230956019109 0.3973333333333333\n",
      "Flag 565.40  -14393.71346002303 -7455.187440629877 (1500, 26665) (1500,) 0.950720457412755 0.972816172917583 0.9127856469088363 0.5709171822749411 0.188\n",
      "Flag 565.40  -7455.187440629877 -3861.3954577665 (1500, 26665) (1500,) 0.8289189150329344 0.8939880923935378 0.7747684501338321 2.0450234713726294 0.088\n",
      "Flag 565.40  -3861.3954577665 -2000.0000000000002 (1500, 26665) (1500,) 1.0820696751282677 1.0908865676088721 1.0673748543272605 0.5195403718356715 0.054\n",
      "Flag 565.40  -2000.0000000000002 -500.0 (1500, 26665) (1500,) 1.1278014666492198 1.1328781543444775 1.119340320490457 0.6258148781443322 0.362\n",
      "Flag 565.40  -500.0 0.0 (1500, 26665) (1500,) 0.9303381373638753 0.9303381373638753 0.9303381373638753 nan 0.19466666666666665\n",
      "Flag 565.40  0.0 500.0 (1500, 26665) (1500,) 1.5030697037595042 1.5030697037595042 1.5030697037595042 nan 0.028666666666666667\n",
      "Flag 565.40  500.0 2000.0000000000002 (1500, 26665) (1500,) 0.8947030627380308 0.8976329382863845 0.8898199368241079 0.2946467368211313 0.04466666666666667\n",
      "Flag 565.40  2000.0000000000002 3861.3954577665 (1500, 26665) (1500,) 0.7134893957261539 0.7363819449354626 0.6753351470439722 0.7357943992976832 0.058\n",
      "Flag 565.40  3861.3954577665 7455.187440629877 (1500, 26665) (1500,) 0.8361105867255422 0.8646493351670752 0.7893213564049338 0.6320196975800617 0.10066666666666667\n",
      "Flag 565.40  7455.187440629877 14393.71346002303 (1500, 26665) (1500,) 1.0631899120108432 1.0973231575958777 1.0178815610849912 0.8006074470662232 0.226\n",
      "Flag 565.40  14393.71346002303 27789.909887462723 (1500, 26665) (1500,) 0.9256609359060738 0.9795037731547801 0.8590043163693813 0.508464522313321 0.39266666666666666\n",
      "Flag 565.40  27789.909887462723 53653.91590559456 (1500, 26665) (1500,) 0.9880790880513199 1.0961494676631134 0.8826084885153954 0.7736826109894535 0.6853333333333333\n",
      "Flag 565.40  53653.91590559456 103589.49358462427 (1500, 26665) (1500,) 0.8722509205632878 1.0293700195686069 0.7537227408705937 0.6830908110469829 1.246\n",
      "Flag 565.40  103589.49358462427 200000.00000000003 (1500, 26665) (1500,) 0.9460538297885804 1.2493915287133506 0.791367320040151 0.7935612876582191 2.272666666666667\n",
      "Flag 565.40  200000.00000000003 386139.54577664996 (1500, 26665) (1500,) 0.9831074671793802 1.4016140127003958 0.8085157382807306 0.8283252083451992 4.164666666666666\n",
      "Flag 565.40  386139.54577664996 745518.7440629877 (1500, 26665) (1500,) 0.9234022990135364 1.4530347673976158 0.7457293779148921 0.8532207311200255 7.021333333333334\n",
      "Flag 565.40  745518.7440629877 1439371.346002303 (1500, 26665) (1500,) 0.9580908964829964 1.6411331983378312 0.774855948767735 0.8974076953345264 11.664\n",
      "Flag 565.40  1439371.346002303 2778990.9887462724 (1500, 26665) (1500,) 0.9361381342837446 1.6789477980493088 0.7529708944871155 0.9173188097073139 18.493333333333332\n",
      "Flag 565.40  2778990.9887462724 5365391.590559456 (1500, 26665) (1500,) 0.9132769864651228 1.7123476776745694 0.7433166951252176 0.9357806300083736 31.949333333333332\n",
      "Flag 565.40  5365391.590559456 10358949.358462406 (1500, 26665) (1500,) 0.9112014743929782 1.7512856618536323 0.7314216082761187 0.9467500621722565 55.63\n",
      "Flag 565.40  10358949.358462406 20000000.000000004 (1500, 26665) (1500,) 0.8748604226909539 1.7589237311263974 0.7224067090288582 0.9716940179120029 82.264\n",
      "Flag 565.10  1667 3335 (1500, 26665) (1500, 26665)\n",
      "Flag 565.40  -20000000.000000004 -10358949.358462406 (1500, 26665) (1500,) 1.047427821849513 1.9081782791201656 0.8252396008410336 0.9561218806308748 83.31666666666666\n",
      "Flag 565.40  -10358949.358462406 -5365391.590559456 (1500, 26665) (1500,) 1.0514195334612941 1.8287279391834523 0.8210373274365814 0.925440329028118 51.861333333333334\n",
      "Flag 565.40  -5365391.590559456 -2778990.9887462724 (1500, 26665) (1500,) 1.0555864479552366 1.8132185577730289 0.8410619503529383 0.9276525182425089 31.244666666666667\n",
      "Flag 565.40  -2778990.9887462724 -1439371.346002303 (1500, 26665) (1500,) 1.0850312647974132 1.7137201492006544 0.8448468118177267 0.8953056545127144 18.803333333333335\n",
      "Flag 565.40  -1439371.346002303 -745518.7440629877 (1500, 26665) (1500,) 1.057141632573478 1.6015960458531173 0.8207976467711775 0.8465141736420325 11.268666666666666\n",
      "Flag 565.40  -745518.7440629877 -386139.54577664996 (1500, 26665) (1500,) 1.0366113384428077 1.504053167547471 0.8278366444231218 0.8091598343217393 6.495333333333333\n",
      "Flag 565.40  -386139.54577664996 -200000.00000000003 (1500, 26665) (1500,) 1.0268038549296181 1.3949884316009957 0.8351788068295312 0.7850142400310393 3.788666666666667\n",
      "Flag 565.40  -200000.00000000003 -103589.49358462427 (1500, 26665) (1500,) 1.0305502096443042 1.27695591525945 0.8855648817776247 0.7215016332298919 2.0953333333333335\n",
      "Flag 565.40  -103589.49358462427 -53653.91590559456 (1500, 26665) (1500,) 0.9856389209828642 1.1330175360022874 0.8682400106788535 0.6458973063692235 1.2353333333333334\n",
      "Flag 565.40  -53653.91590559456 -27789.909887462723 (1500, 26665) (1500,) 0.9754878534080168 1.0663614884577792 0.8763665718503506 0.6485124540993287 0.6813333333333333\n",
      "Flag 565.40  -27789.909887462723 -14393.71346002303 (1500, 26665) (1500,) 1.1117167607219625 1.1881014586232923 1.0445410925464764 0.6941700062146884 0.3626666666666667\n",
      "Flag 565.40  -14393.71346002303 -7455.187440629877 (1500, 26665) (1500,) 1.021287926706008 1.053603619967989 0.9723004051862794 0.8037350416387142 0.19866666666666666\n",
      "Flag 565.40  -7455.187440629877 -3861.3954577665 (1500, 26665) (1500,) 1.1180151456372989 1.135031046903769 1.088422752910697 0.7140756681023283 0.098\n",
      "Flag 565.40  -3861.3954577665 -2000.0000000000002 (1500, 26665) (1500,) 0.797090140622186 0.8277409731493157 0.7460054197436363 1.7820360590467275 0.05333333333333334\n",
      "Flag 565.40  -2000.0000000000002 -500.0 (1500, 26665) (1500,) 1.055443744382675 1.0611782133075438 1.0458862961745605 0.749187696643793 0.402\n",
      "Flag 565.40  -500.0 0.0 (1500, 26665) (1500,) 1.05475870862235 1.05475870862235 1.05475870862235 nan 0.22933333333333333\n",
      "Flag 565.40  0.0 500.0 (1500, 26665) (1500,) 1.1348904169805836 1.1348904169805836 1.1348904169805836 nan 0.030666666666666665\n",
      "Flag 565.40  500.0 2000.0000000000002 (1500, 26665) (1500,) 1.0526076204773995 1.0719614613378536 1.020351219043309 0.9905501339970139 0.05533333333333333\n",
      "Flag 565.40  2000.0000000000002 3861.3954577665 (1500, 26665) (1500,) 0.9464705762145481 0.9538433314799347 0.9341826507722372 0.695110032557825 0.042\n",
      "Flag 565.40  3861.3954577665 7455.187440629877 (1500, 26665) (1500,) 1.0473580754416698 1.0569674008629617 1.0294901093792095 0.373129282790888 0.10333333333333333\n"
     ]
    },
    {
     "name": "stdout",
     "output_type": "stream",
     "text": [
      "Flag 565.40  7455.187440629877 14393.71346002303 (1500, 26665) (1500,) 1.0193522085226727 1.0642004014123616 0.9482348767334221 0.8182088325462448 0.19866666666666666\n",
      "Flag 565.40  14393.71346002303 27789.909887462723 (1500, 26665) (1500,) 1.0613212069716509 1.1146229022097458 1.0169122917341715 0.5354871903055514 0.38266666666666665\n",
      "Flag 565.40  27789.909887462723 53653.91590559456 (1500, 26665) (1500,) 1.0237544049559997 1.1381939139156465 0.9085747214739699 0.7452712840549535 0.7393333333333333\n",
      "Flag 565.40  53653.91590559456 103589.49358462427 (1500, 26665) (1500,) 1.02876924265383 1.1871879250473596 0.8963848150675423 0.6876164049331493 1.3306666666666667\n",
      "Flag 565.40  103589.49358462427 200000.00000000003 (1500, 26665) (1500,) 0.9879051089670967 1.2165056713682274 0.8211648758536776 0.7023447414861502 2.251333333333333\n",
      "Flag 565.40  200000.00000000003 386139.54577664996 (1500, 26665) (1500,) 1.087670694199775 1.4757401383649098 0.8663320219009801 0.8151901497130272 4.014666666666667\n",
      "Flag 565.40  386139.54577664996 745518.7440629877 (1500, 26665) (1500,) 1.0655729480749567 1.5417559849489888 0.8534202322348764 0.83697723744277 6.5633333333333335\n",
      "Flag 565.40  745518.7440629877 1439371.346002303 (1500, 26665) (1500,) 1.0142503693537102 1.597853404641319 0.805927225312558 0.8247011769635085 11.422666666666666\n",
      "Flag 565.40  1439371.346002303 2778990.9887462724 (1500, 26665) (1500,) 1.0697861957170176 1.7608364716133897 0.8452287960604354 0.9132994402117944 18.562666666666665\n",
      "Flag 565.40  2778990.9887462724 5365391.590559456 (1500, 26665) (1500,) 1.0538582466267727 1.8149852008727065 0.8288203451921767 0.9302650128838308 32.638\n",
      "Flag 565.40  5365391.590559456 10358949.358462406 (1500, 26665) (1500,) 1.0649775203225162 1.8995196994427863 0.840021868329198 0.9521953655826677 54.18333333333333\n",
      "Flag 565.40  10358949.358462406 20000000.000000004 (1500, 26665) (1500,) 1.043856506300658 1.9311233780905273 0.8307499277694016 0.9851553519850239 83.296\n",
      "Flag 565.10  3335 5003 (2001, 26665) (2001, 26665)\n",
      "Flag 565.40  -20000000.000000004 -10358949.358462406 (2001, 26665) (2001,) 1.090623383468787 1.9331971479912646 0.8719909837610372 0.9665804593842264 81.44627686156922\n",
      "Flag 565.40  -10358949.358462406 -5365391.590559456 (2001, 26665) (2001,) 1.1014715181181105 1.9200901778123174 0.886238974864448 0.9689643735009634 51.16591704147926\n",
      "Flag 565.40  -5365391.590559456 -2778990.9887462724 (2001, 26665) (2001,) 1.095355017863997 1.8033674116727525 0.8735294758111309 0.9040995709907241 30.16391804097951\n",
      "Flag 565.40  -2778990.9887462724 -1439371.346002303 (2001, 26665) (2001,) 1.0646644463507744 1.6945935461055566 0.8553017939877192 0.8901387666980226 16.770114942528735\n",
      "Flag 565.40  -1439371.346002303 -745518.7440629877 (2001, 26665) (2001,) 1.0972544429352165 1.6958044676165507 0.8817098880980514 0.8808725575306814 10.368815592203898\n",
      "Flag 565.40  -745518.7440629877 -386139.54577664996 (2001, 26665) (2001,) 1.0839948158631862 1.5775079937622716 0.8776001359911911 0.8458688945010377 5.887556221889056\n",
      "Flag 565.40  -386139.54577664996 -200000.00000000003 (2001, 26665) (2001,) 1.04292353928633 1.35257623894396 0.8562343502849238 0.725183364141947 3.4302848575712144\n",
      "Flag 565.40  -200000.00000000003 -103589.49358462427 (2001, 26665) (2001,) 1.0103752961800807 1.2621232951587886 0.8552161117512801 0.778383815384314 1.817591204397801\n",
      "Flag 565.40  -103589.49358462427 -53653.91590559456 (2001, 26665) (2001,) 1.017337256239688 1.1753412478258483 0.8975576409826295 0.762023784533707 1.0529735132433784\n",
      "Flag 565.40  -53653.91590559456 -27789.909887462723 (2001, 26665) (2001,) 1.0800003399660014 1.1682583877600983 0.9657753066497365 0.7869490131350664 0.6051974012993503\n",
      "Flag 565.40  -27789.909887462723 -14393.71346002303 (2001, 26665) (2001,) 1.0397281102530496 1.1233633066659596 0.9627904126637058 0.8762321890377205 0.3313343328335832\n",
      "Flag 565.40  -14393.71346002303 -7455.187440629877 (2001, 26665) (2001,) 1.1494515323105414 1.1889957986009003 1.1061561844946672 0.7804956369110722 0.15592203898050974\n",
      "Flag 565.40  -7455.187440629877 -3861.3954577665 (2001, 26665) (2001,) 1.1274065133096776 1.1404938520106138 1.0997937483491795 0.7974259074609084 0.07796101949025487\n",
      "Flag 565.40  -3861.3954577665 -2000.0000000000002 (2001, 26665) (2001,) 1.028151980844471 1.0370696337120464 1.0132892260651787 1.040445914463488 0.05147426286856572\n",
      "Flag 565.40  -2000.0000000000002 -500.0 (2001, 26665) (2001,) 1.1069369720562414 1.1113495710685848 1.0993896425824596 0.6294337746370386 0.41879060469765117\n",
      "Flag 565.40  -500.0 0.0 (2001, 26665) (2001,) 1.1166077972960582 1.1166077972960582 1.1166077972960582 nan 0.23138430784607697\n",
      "Flag 565.40  0.0 500.0 (2001, 26665) (2001,) 0.9141208180760868 0.9141208180760868 0.9141208180760868 nan 0.022488755622188907\n",
      "Flag 565.40  500.0 2000.0000000000002 (2001, 26665) (2001,) 1.149667929644525 1.1617799480193165 1.1310767724596262 0.6163038142338995 0.05147426286856572\n",
      "Flag 565.40  2000.0000000000002 3861.3954577665 (2001, 26665) (2001,) 0.8985802917562918 0.9150958630335969 0.8710543396274502 0.5839136222676077 0.03398300849575212\n",
      "Flag 565.40  3861.3954577665 7455.187440629877 (2001, 26665) (2001,) 0.9589211936132915 0.9643220148349188 0.9488932210946033 0.2599044747026439 0.07396301849075462\n",
      "Flag 565.40  7455.187440629877 14393.71346002303 (2001, 26665) (2001,) 1.1460868693051272 1.2274084798590577 1.0298007412339603 1.3520965964527678 0.14992503748125938\n",
      "Flag 565.40  14393.71346002303 27789.909887462723 (2001, 26665) (2001,) 0.9161192391203244 0.9678752976504567 0.8572189413571185 0.5817628468399861 0.28585707146426786\n",
      "Flag 565.40  27789.909887462723 53653.91590559456 (2001, 26665) (2001,) 1.0318217407438948 1.1354220507026027 0.9255221642355924 0.7094859513007153 0.607696151924038\n",
      "Flag 565.40  53653.91590559456 103589.49358462427 (2001, 26665) (2001,) 1.044744906618777 1.2237553524987634 0.8958016385944827 0.7975404319717325 1.1209395302348826\n",
      "Flag 565.40  103589.49358462427 200000.00000000003 (2001, 26665) (2001,) 1.025945977238009 1.256349031397761 0.8627121584954441 0.7448928069439759 1.944527736131934\n",
      "Flag 565.40  200000.00000000003 386139.54577664996 (2001, 26665) (2001,) 1.0101124527688332 1.38251028357594 0.8310855818575748 0.7742950401420284 3.626686656671664\n",
      "Flag 565.40  386139.54577664996 745518.7440629877 (2001, 26665) (2001,) 1.1031516647419206 1.571829363218277 0.8903767567585038 0.8172571203297048 6.2298850574712645\n",
      "Flag 565.40  745518.7440629877 1439371.346002303 (2001, 26665) (2001,) 1.0732290741630515 1.6572061978422472 0.8631205663515863 0.8585497917003139 10.731134432783609\n",
      "Flag 565.40  1439371.346002303 2778990.9887462724 (2001, 26665) (2001,) 1.075349732868743 1.7492241271745923 0.8598001218602076 0.9000552902970546 17.060469765117443\n",
      "Flag 565.40  2778990.9887462724 5365391.590559456 (2001, 26665) (2001,) 1.1062079141332701 1.8325122011572956 0.8758968649225578 0.9213910272397791 29.475262368815592\n",
      "Flag 565.40  5365391.590559456 10358949.358462406 (2001, 26665) (2001,) 1.1079282394786876 1.9499459076442032 0.8829752509074199 0.9713395116761206 50.14492753623188\n",
      "Flag 565.40  10358949.358462406 20000000.000000004 (2001, 26665) (2001,) 1.0949773882875895 1.9708437935290493 0.8785316534407426 0.985796673658038 78.47876061969015\n",
      "Flag 565.10  5003 6671 (1499, 26665) (1499, 26665)\n",
      "Flag 565.40  -20000000.000000004 -10358949.358462406 (1499, 26665) (1499,) 1.0693441488628919 2.044229927876901 0.8951114599958435 1.0362801789502685 80.41694462975317\n",
      "Flag 565.40  -10358949.358462406 -5365391.590559456 (1499, 26665) (1499,) 1.0621831923111862 1.9519995116867446 0.8935461075272743 1.0066976994436547 49.501667778519014\n",
      "Flag 565.40  -5365391.590559456 -2778990.9887462724 (1499, 26665) (1499,) 1.0478818512889703 1.8082989813654886 0.8746598382923033 0.9575801832514415 28.344229486324217\n",
      "Flag 565.40  -2778990.9887462724 -1439371.346002303 (1499, 26665) (1499,) 1.065592167303779 1.78396823324306 0.8719294355856109 0.9440193899635251 16.521681120747164\n",
      "Flag 565.40  -1439371.346002303 -745518.7440629877 (1499, 26665) (1499,) 1.0802318637126738 1.6978006330247617 0.8982777888320549 0.899319951057457 9.819879919946631\n",
      "Flag 565.40  -745518.7440629877 -386139.54577664996 (1499, 26665) (1499,) 1.1082391009353378 1.5772311115330617 0.9244797185834169 0.8361626625513444 5.876584389593062\n"
     ]
    },
    {
     "name": "stdout",
     "output_type": "stream",
     "text": [
      "Flag 565.40  -386139.54577664996 -200000.00000000003 (1499, 26665) (1499,) 1.1118204734862365 1.4700158034074235 0.9213959093649435 0.8312841753395265 3.201467645096731\n",
      "Flag 565.40  -200000.00000000003 -103589.49358462427 (1499, 26665) (1499,) 1.029591985737846 1.2557771169532297 0.8776091770544138 0.7598277984861294 1.8072048032021348\n",
      "Flag 565.40  -103589.49358462427 -53653.91590559456 (1499, 26665) (1499,) 1.0620031727940753 1.1929071206872142 0.9465016878356554 0.7122054830337291 1.0020013342228151\n",
      "Flag 565.40  -53653.91590559456 -27789.909887462723 (1499, 26665) (1499,) 1.034162345457688 1.1215930236331084 0.9560021029705895 0.7141025046820823 0.5056704469646431\n",
      "Flag 565.40  -27789.909887462723 -14393.71346002303 (1499, 26665) (1499,) 1.0033448292618068 1.0804036880980459 0.9008407220051873 0.9200653749773039 0.2715143428952635\n",
      "Flag 565.40  -14393.71346002303 -7455.187440629877 (1499, 26665) (1499,) 0.8232077702646153 0.835653765503022 0.7973870142340735 0.3940761377659655 0.15276851234156105\n",
      "Flag 565.40  -7455.187440629877 -3861.3954577665 (1499, 26665) (1499,) 0.8162113034309475 0.8237638780173816 0.809477530997752 0.28223851621215473 0.07938625750500333\n",
      "Flag 565.40  -3861.3954577665 -2000.0000000000002 (1499, 26665) (1499,) 0.6682797755773675 0.6682797755773675 0.6682797755773675 0.0 0.037358238825883926\n",
      "Flag 565.40  -2000.0000000000002 -500.0 (1499, 26665) (1499,) 1.0714275842705854 1.0749411784304592 1.0655715940041293 0.4329029083790583 0.39826551034022684\n",
      "Flag 565.40  -500.0 0.0 (1499, 26665) (1499,) 1.1843791415006775 1.1843791415006775 1.1843791415006775 nan 0.21747831887925284\n",
      "Flag 565.40  0.0 500.0 (1499, 26665) (1499,) 1.3551884093405873 1.3551884093405873 1.3551884093405873 nan 0.024683122081387593\n",
      "Flag 565.40  500.0 2000.0000000000002 (1499, 26665) (1499,) 1.2126327173012381 1.2297004007260008 1.1839122265640232 0.5562005834490398 0.05670446964643095\n",
      "Flag 565.40  2000.0000000000002 3861.3954577665 (1499, 26665) (1499,) 1.1819487037382856 1.2030949230646606 1.1445346268642251 1.1208259421269575 0.030687124749833223\n",
      "Flag 565.40  3861.3954577665 7455.187440629877 (1499, 26665) (1499,) 1.1603062051322408 1.1767061007751611 1.1329730457273741 0.49954056577860645 0.06470980653769179\n",
      "Flag 565.40  7455.187440629877 14393.71346002303 (1499, 26665) (1499,) 0.9147773727601654 0.933293642015494 0.8950109958391825 0.3034922223702403 0.12541694462975317\n",
      "Flag 565.40  14393.71346002303 27789.909887462723 (1499, 26665) (1499,) 0.8355535660807518 0.9188904553373051 0.7847587969814147 0.6547586351084015 0.2628418945963976\n",
      "Flag 565.40  27789.909887462723 53653.91590559456 (1499, 26665) (1499,) 1.0636118392778902 1.1890876897353375 0.9601287320906531 0.7839541610417197 0.5323549032688459\n",
      "Flag 565.40  53653.91590559456 103589.49358462427 (1499, 26665) (1499,) 1.0225931397220207 1.1939024884015719 0.9165373447515213 0.7090971768927968 1.0146764509673116\n",
      "Flag 565.40  103589.49358462427 200000.00000000003 (1499, 26665) (1499,) 1.025976918952742 1.2614852498760896 0.872651694329077 0.7246134858405766 1.9019346230820546\n",
      "Flag 565.40  200000.00000000003 386139.54577664996 (1499, 26665) (1499,) 1.1275447464611719 1.478919202582681 0.9293046253465733 0.83123938737303 3.367578385590394\n",
      "Flag 565.40  386139.54577664996 745518.7440629877 (1499, 26665) (1499,) 1.0701973706783288 1.5468340369284261 0.8680186364137507 0.8144964516779623 5.725817211474316\n",
      "Flag 565.40  745518.7440629877 1439371.346002303 (1499, 26665) (1499,) 1.0780591028877833 1.7421024857159393 0.9004834533878222 0.938419839638587 9.698465643762509\n",
      "Flag 565.40  1439371.346002303 2778990.9887462724 (1499, 26665) (1499,) 1.0864449057969532 1.7756809986303892 0.8838015049186314 0.9327278676524589 16.869246164109406\n",
      "Flag 565.40  2778990.9887462724 5365391.590559456 (1499, 26665) (1499,) 1.0961232518769402 1.9324900158392357 0.9136992921058792 0.9910513760254348 28.024016010673783\n",
      "Flag 565.40  5365391.590559456 10358949.358462406 (1499, 26665) (1499,) 1.0779116387265386 1.9673981824658093 0.8914168746074724 0.9934844929416287 47.569046030687126\n",
      "Flag 565.40  10358949.358462406 20000000.000000004 (1499, 26665) (1499,) 1.08916294823314 2.051018985485122 0.9056677789007898 1.0527488796320874 79.14209472981987\n",
      "Flag 565.10  6671 8339 (1500, 26665) (1500, 26665)\n",
      "Flag 565.40  -20000000.000000004 -10358949.358462406 (1500, 26665) (1500,) 1.0847688822533714 2.1377706316916143 0.899772204318728 1.150455413201167 78.27733333333333\n",
      "Flag 565.40  -10358949.358462406 -5365391.590559456 (1500, 26665) (1500,) 1.080856749881114 2.0808644534828904 0.9001664356193375 1.102651345366747 50.06666666666667\n",
      "Flag 565.40  -5365391.590559456 -2778990.9887462724 (1500, 26665) (1500,) 1.0780093196023999 1.9557001518781771 0.8826644119732009 1.0770513039610217 28.094666666666665\n",
      "Flag 565.40  -2778990.9887462724 -1439371.346002303 (1500, 26665) (1500,) 1.111397422420678 1.9300012094389145 0.9019717950567955 1.0546341761889637 16.814\n",
      "Flag 565.40  -1439371.346002303 -745518.7440629877 (1500, 26665) (1500,) 1.093111060379534 1.718600741970273 0.8761753860560355 0.9475867283146758 9.838\n",
      "Flag 565.40  -745518.7440629877 -386139.54577664996 (1500, 26665) (1500,) 1.100135374744274 1.6220357674301649 0.8967085733906355 0.9018392773338929 5.696666666666666\n",
      "Flag 565.40  -386139.54577664996 -200000.00000000003 (1500, 26665) (1500,) 1.1204294435383892 1.5717009474844066 0.9251613133573015 0.8955536530544455 3.316\n",
      "Flag 565.40  -200000.00000000003 -103589.49358462427 (1500, 26665) (1500,) 1.090348335559464 1.3886065693009793 0.9240266959775763 0.9345346184157018 1.854\n",
      "Flag 565.40  -103589.49358462427 -53653.91590559456 (1500, 26665) (1500,) 1.0282039143852852 1.2356330963463114 0.8876672955767889 0.9049730005402666 1.0366666666666666\n",
      "Flag 565.40  -53653.91590559456 -27789.909887462723 (1500, 26665) (1500,) 1.0216325911799344 1.109474295479399 0.9159127537482049 0.7255356219763319 0.5433333333333333\n",
      "Flag 565.40  -27789.909887462723 -14393.71346002303 (1500, 26665) (1500,) 1.0511244490801954 1.1323203302577154 0.9568153709295284 0.798967186194529 0.30733333333333335\n",
      "Flag 565.40  -14393.71346002303 -7455.187440629877 (1500, 26665) (1500,) 0.9988623670241766 1.027290025853493 0.9492941691350721 0.8469589860817913 0.15066666666666667\n",
      "Flag 565.40  -7455.187440629877 -3861.3954577665 (1500, 26665) (1500,) 1.1006719548127752 1.123050702549922 1.0617282967670945 0.9910580416742325 0.08933333333333333\n",
      "Flag 565.40  -3861.3954577665 -2000.0000000000002 (1500, 26665) (1500,) 1.2325644340140258 1.2339143856327117 1.2303145146495489 0.19409385524882872 0.042\n",
      "Flag 565.40  -2000.0000000000002 -500.0 (1500, 26665) (1500,) 1.1449915731721412 1.1486594509342605 1.1388784435686088 0.5196768332753515 0.37266666666666665\n",
      "Flag 565.40  -500.0 0.0 (1500, 26665) (1500,) 1.062142096458815 1.062142096458815 1.062142096458815 nan 0.21866666666666668\n",
      "Flag 565.40  0.0 500.0 (1500, 26665) (1500,) 1.1644378154951467 1.1644378154951467 1.1644378154951467 nan 0.018\n",
      "Flag 565.40  500.0 2000.0000000000002 (1500, 26665) (1500,) 1.2685601220491844 1.3007484285589885 1.2149129445328437 1.2138970564263363 0.042\n",
      "Flag 565.40  2000.0000000000002 3861.3954577665 (1500, 26665) (1500,) 1.0303363759315918 1.0304459042894922 1.0301538286684246 0.009035628537082124 0.024666666666666667\n",
      "Flag 565.40  3861.3954577665 7455.187440629877 (1500, 26665) (1500,) 1.5313607294283285 1.550973986057464 1.5146752694665846 0.5328336219660534 0.056666666666666664\n",
      "Flag 565.40  7455.187440629877 14393.71346002303 (1500, 26665) (1500,) 1.0559484069461587 1.0847224271650437 1.0130558355770949 0.7504705789539954 0.11466666666666667\n",
      "Flag 565.40  14393.71346002303 27789.909887462723 (1500, 26665) (1500,) 1.009231633130896 1.0720968706754204 0.9389608416658972 0.6987308736449293 0.25733333333333336\n",
      "Flag 565.40  27789.909887462723 53653.91590559456 (1500, 26665) (1500,) 0.8776465632339271 0.955360778577286 0.7917661141971838 0.6273415311902357 0.4706666666666667\n",
      "Flag 565.40  53653.91590559456 103589.49358462427 (1500, 26665) (1500,) 0.9453473865276556 1.1138163503000098 0.8215554485422233 0.7456854036158974 0.9813333333333333\n",
      "Flag 565.40  103589.49358462427 200000.00000000003 (1500, 26665) (1500,) 1.0880357960619913 1.3746156108797196 0.9200962902338679 0.9167816699368523 1.798\n"
     ]
    },
    {
     "name": "stdout",
     "output_type": "stream",
     "text": [
      "Flag 565.40  200000.00000000003 386139.54577664996 (1500, 26665) (1500,) 1.0480913633542706 1.430491894815036 0.8777523419261494 0.8105531673281059 3.2373333333333334\n",
      "Flag 565.40  386139.54577664996 745518.7440629877 (1500, 26665) (1500,) 1.1114756098986571 1.6695859401736985 0.9071490757083384 0.9511219773220436 5.648666666666666\n",
      "Flag 565.40  745518.7440629877 1439371.346002303 (1500, 26665) (1500,) 1.1162528028837033 1.817128962059849 0.9173030648176417 1.0229254752933155 10.364\n",
      "Flag 565.40  1439371.346002303 2778990.9887462724 (1500, 26665) (1500,) 1.0998359890833918 1.910799799702447 0.8853127337458321 1.0541940822168951 16.672\n",
      "Flag 565.40  2778990.9887462724 5365391.590559456 (1500, 26665) (1500,) 1.0599531521881398 1.907121724482199 0.8741904721429152 1.0438370653156523 28.859333333333332\n",
      "Flag 565.40  5365391.590559456 10358949.358462406 (1500, 26665) (1500,) 1.0916222472688444 2.0962171587292833 0.8951604519127218 1.1244355263796695 50.34466666666667\n",
      "Flag 565.40  10358949.358462406 20000000.000000004 (1500, 26665) (1500,) 1.0715964146748895 2.135009587334721 0.8953394694314979 1.1644166778510776 76.83266666666667\n",
      "Flag 565.10  8339 10007 (2000, 26665) (2000, 26665)\n",
      "Flag 565.40  -20000000.000000004 -10358949.358462406 (2000, 26665) (2000,) 1.152214428250077 2.2233639026898984 0.9447150109092182 1.140894886394528 78.758\n",
      "Flag 565.40  -10358949.358462406 -5365391.590559456 (2000, 26665) (2000,) 1.1655366663883029 2.1368998496120333 0.9376388794947689 1.1047386371154015 49.1105\n",
      "Flag 565.40  -5365391.590559456 -2778990.9887462724 (2000, 26665) (2000,) 1.1937150530978344 2.059354216456265 0.9485800363781602 1.0806920854224678 27.8165\n",
      "Flag 565.40  -2778990.9887462724 -1439371.346002303 (2000, 26665) (2000,) 1.1856634233262784 1.9717509176236239 0.9559469283214951 1.033096470249204 16.714\n",
      "Flag 565.40  -1439371.346002303 -745518.7440629877 (2000, 26665) (2000,) 1.1573009489788626 1.804214340376194 0.9390837138108113 0.96808818128221 10.031\n",
      "Flag 565.40  -745518.7440629877 -386139.54577664996 (2000, 26665) (2000,) 1.109733066504043 1.6708970101331118 0.9080623146515123 0.9276297525547067 5.802\n",
      "Flag 565.40  -386139.54577664996 -200000.00000000003 (2000, 26665) (2000,) 1.177124469904034 1.5858621774869162 0.9676816343879713 0.9184826098132842 3.3695\n",
      "Flag 565.40  -200000.00000000003 -103589.49358462427 (2000, 26665) (2000,) 1.105186343594407 1.353806328491001 0.9288436261196914 0.7921044894268573 1.9485\n",
      "Flag 565.40  -103589.49358462427 -53653.91590559456 (2000, 26665) (2000,) 1.168567790333468 1.354887798649349 1.0162902661823938 0.9080660746282432 1.047\n",
      "Flag 565.40  -53653.91590559456 -27789.909887462723 (2000, 26665) (2000,) 1.09431313973251 1.194914699541173 1.000222320464974 0.7831091692595616 0.5675\n",
      "Flag 565.40  -27789.909887462723 -14393.71346002303 (2000, 26665) (2000,) 0.9824681653208637 1.0262080889266418 0.9494092553592666 0.4464033235251036 0.3005\n",
      "Flag 565.40  -14393.71346002303 -7455.187440629877 (2000, 26665) (2000,) 0.9734884248072659 0.9966922191068784 0.935348358312072 0.6790158610989602 0.1465\n",
      "Flag 565.40  -7455.187440629877 -3861.3954577665 (2000, 26665) (2000,) 1.217753858677189 1.2334789374157313 1.1924228057120405 0.7334923916413079 0.083\n",
      "Flag 565.40  -3861.3954577665 -2000.0000000000002 (2000, 26665) (2000,) 1.3652763850950858 1.371551555995955 1.3573417974220765 0.7365214948654323 0.041\n",
      "Flag 565.40  -2000.0000000000002 -500.0 (2000, 26665) (2000,) 1.1126278084152963 1.1158019126044334 1.1073376347667343 0.5000092606271876 0.413\n",
      "Flag 565.40  -500.0 0.0 (2000, 26665) (2000,) 1.0437024740423606 1.0437024740423606 1.0437024740423606 nan 0.226\n",
      "Flag 565.40  0.0 500.0 (2000, 26665) (2000,) 0.9335149887262493 0.9335149887262493 0.9335149887262493 nan 0.023\n",
      "Flag 565.40  500.0 2000.0000000000002 (2000, 26665) (2000,) 1.5105192658883981 1.5676134857799184 1.4153622327358648 2.9605920704689836 0.048\n",
      "Flag 565.40  2000.0000000000002 3861.3954577665 (2000, 26665) (2000,) 1.1130883799900766 1.1239416259744421 1.0965966183342142 0.5030631863902031 0.043\n",
      "Flag 565.40  3861.3954577665 7455.187440629877 (2000, 26665) (2000,) 1.1887093501244026 1.1925232549197162 1.182352842132213 0.23822068501501703 0.0575\n",
      "Flag 565.40  7455.187440629877 14393.71346002303 (2000, 26665) (2000,) 1.136245239113863 1.1664633024615432 1.0945824161163036 0.6103772624184535 0.138\n",
      "Flag 565.40  14393.71346002303 27789.909887462723 (2000, 26665) (2000,) 1.1301273237078142 1.2090010506847488 1.0258523040226435 0.9570400868470005 0.269\n",
      "Flag 565.40  27789.909887462723 53653.91590559456 (2000, 26665) (2000,) 0.9540664192629839 1.0509437042116305 0.8646764222809245 0.6235997700114363 0.5285\n",
      "Flag 565.40  53653.91590559456 103589.49358462427 (2000, 26665) (2000,) 1.1387122805472991 1.3249855853808186 0.994528366954528 0.8389714167231895 1.0255\n",
      "Flag 565.40  103589.49358462427 200000.00000000003 (2000, 26665) (2000,) 1.1662267413605367 1.447568899411418 0.984608723227229 0.8970798564252743 1.881\n",
      "Flag 565.40  200000.00000000003 386139.54577664996 (2000, 26665) (2000,) 1.176721988690463 1.5636958550297577 0.9679617119021604 0.9151791797866228 3.282\n",
      "Flag 565.40  386139.54577664996 745518.7440629877 (2000, 26665) (2000,) 1.179757197575325 1.7236551947182899 0.9488180751603172 0.9817401292318048 5.841\n",
      "Flag 565.40  745518.7440629877 1439371.346002303 (2000, 26665) (2000,) 1.167289293179116 1.8063261208657695 0.9424347141258307 0.9428949925650638 10.085\n",
      "Flag 565.40  1439371.346002303 2778990.9887462724 (2000, 26665) (2000,) 1.143455921086463 1.936130287155511 0.9393681194630998 1.0067616975567248 16.847\n",
      "Flag 565.40  2778990.9887462724 5365391.590559456 (2000, 26665) (2000,) 1.1941795900331034 2.045945126324531 0.9623011023386105 1.0734373368343317 28.478\n",
      "Flag 565.40  5365391.590559456 10358949.358462406 (2000, 26665) (2000,) 1.1671047553545706 2.077437837253224 0.9283461441930805 1.0752301514636404 49.336\n",
      "Flag 565.40  10358949.358462406 20000000.000000004 (2000, 26665) (2000,) 1.1509301995955157 2.171180351617986 0.9334485614751705 1.1072227981855387 78.862\n",
      "Flag 565.10  10007 11675 (1500, 26665) (1500, 26665)\n",
      "Flag 565.40  -20000000.000000004 -10358949.358462406 (1500, 26665) (1500,) 1.238541024994856 2.1098507003095945 0.9690924299842582 1.002385960298087 78.67\n",
      "Flag 565.40  -10358949.358462406 -5365391.590559456 (1500, 26665) (1500,) 1.2059257841640287 2.0283491343885856 0.9543786779241249 0.9842797453375717 50.732\n",
      "Flag 565.40  -5365391.590559456 -2778990.9887462724 (1500, 26665) (1500,) 1.2349103719071586 1.992585756243253 0.9707292235106099 0.9541746592188755 29.698666666666668\n",
      "Flag 565.40  -2778990.9887462724 -1439371.346002303 (1500, 26665) (1500,) 1.2211763829254974 1.8832844977621104 0.9633262961401071 0.9395632675934806 17.454\n",
      "Flag 565.40  -1439371.346002303 -745518.7440629877 (1500, 26665) (1500,) 1.2031749573788892 1.7724073394975535 0.9597198558459871 0.8629363197985686 10.314\n",
      "Flag 565.40  -745518.7440629877 -386139.54577664996 (1500, 26665) (1500,) 1.2605802660766479 1.7692276657497175 1.0017799988702116 0.9043138044919076 5.929333333333333\n",
      "Flag 565.40  -386139.54577664996 -200000.00000000003 (1500, 26665) (1500,) 1.1729848740037137 1.573234693607521 0.9717233733238095 0.8484944867744164 3.592\n",
      "Flag 565.40  -200000.00000000003 -103589.49358462427 (1500, 26665) (1500,) 1.1616210986354272 1.4318117819773908 0.9740093507164641 0.8502848572513593 1.994\n",
      "Flag 565.40  -103589.49358462427 -53653.91590559456 (1500, 26665) (1500,) 1.0640930464297194 1.2074157400940384 0.9409603668135734 0.6597174815489729 1.126\n",
      "Flag 565.40  -53653.91590559456 -27789.909887462723 (1500, 26665) (1500,) 1.1713103135197613 1.2750082341788684 1.066746966657723 0.7287365705125951 0.63\n",
      "Flag 565.40  -27789.909887462723 -14393.71346002303 (1500, 26665) (1500,) 1.0257357248366514 1.0841932136352121 0.959988968018983 0.6671686132769945 0.332\n",
      "Flag 565.40  -14393.71346002303 -7455.187440629877 (1500, 26665) (1500,) 1.182520465107776 1.2026068472954186 1.149628668045021 0.5038386402644146 0.168\n",
      "Flag 565.40  -7455.187440629877 -3861.3954577665 (1500, 26665) (1500,) 1.2878464323527123 1.3151805693217382 1.2500554383550602 0.6506776961190092 0.08133333333333333\n",
      "Flag 565.40  -3861.3954577665 -2000.0000000000002 (1500, 26665) (1500,) 0.9111213731927603 0.9138994905016744 0.9071053943428999 0.32319287164182986 0.042\n"
     ]
    },
    {
     "name": "stdout",
     "output_type": "stream",
     "text": [
      "Flag 565.40  -2000.0000000000002 -500.0 (1500, 26665) (1500,) 1.1861663796503183 1.1885382303373624 1.180843597458156 0.4665214184018571 0.44733333333333336\n",
      "Flag 565.40  -500.0 0.0 (1500, 26665) (1500,) 1.139109677330449 1.139109677330449 1.139109677330449 nan 0.24133333333333334\n",
      "Flag 565.40  0.0 500.0 (1500, 26665) (1500,) 0.887061692703801 0.887061692703801 0.887061692703801 nan 0.029333333333333333\n",
      "Flag 565.40  500.0 2000.0000000000002 (1500, 26665) (1500,) 1.2556798075867557 1.2612217923450924 1.2464299624012312 0.5468340810146031 0.059333333333333335\n",
      "Flag 565.40  2000.0000000000002 3861.3954577665 (1500, 26665) (1500,) 1.1536738917629608 1.1783424722594125 1.1125597929428663 0.544565069270146 0.042666666666666665\n",
      "Flag 565.40  3861.3954577665 7455.187440629877 (1500, 26665) (1500,) 1.0345581695662196 1.045370894738356 1.0175996884869158 0.38182954230118393 0.07666666666666666\n",
      "Flag 565.40  7455.187440629877 14393.71346002303 (1500, 26665) (1500,) 1.107317029833539 1.1477791136197464 1.0427585060078306 0.6924819688063973 0.174\n",
      "Flag 565.40  14393.71346002303 27789.909887462723 (1500, 26665) (1500,) 1.083077604211914 1.1617523457031371 1.0334839324190936 0.6756023959480393 0.30266666666666664\n",
      "Flag 565.40  27789.909887462723 53653.91590559456 (1500, 26665) (1500,) 1.046356170014648 1.13546666735289 0.9318201523414771 0.7197529717511957 0.5633333333333334\n",
      "Flag 565.40  53653.91590559456 103589.49358462427 (1500, 26665) (1500,) 1.2161664394066776 1.378859048874235 1.0660490662527613 0.7985262206393855 1.0586666666666666\n",
      "Flag 565.40  103589.49358462427 200000.00000000003 (1500, 26665) (1500,) 1.1439270926226783 1.378120880606957 0.9631286978959394 0.7500847275271834 2.0073333333333334\n",
      "Flag 565.40  200000.00000000003 386139.54577664996 (1500, 26665) (1500,) 1.2392115797553251 1.6005553214884252 1.0319290697468482 0.8319712109278464 3.4753333333333334\n",
      "Flag 565.40  386139.54577664996 745518.7440629877 (1500, 26665) (1500,) 1.2300481569890755 1.7058360472561638 0.9918927786815399 0.8621831727435915 6.236\n",
      "Flag 565.40  745518.7440629877 1439371.346002303 (1500, 26665) (1500,) 1.219131079399923 1.795026793696719 0.9666209955721343 0.89579522394802 10.656666666666666\n",
      "Flag 565.40  1439371.346002303 2778990.9887462724 (1500, 26665) (1500,) 1.209460288648625 1.8848523664388264 0.9706005790253732 0.9193471048421503 17.344666666666665\n",
      "Flag 565.40  2778990.9887462724 5365391.590559456 (1500, 26665) (1500,) 1.2012981447161366 1.9896918457220478 0.9680568611574938 0.9926023864551836 29.691333333333333\n",
      "Flag 565.40  5365391.590559456 10358949.358462406 (1500, 26665) (1500,) 1.2429877442428203 2.09866300493419 0.9841387531368925 1.012156382118164 51.50933333333333\n",
      "Flag 565.40  10358949.358462406 20000000.000000004 (1500, 26665) (1500,) 1.2294042148407656 2.116626719887238 0.9758352655818764 1.0338206709300737 79.996\n",
      "Flag 565.10  11675 13343 (500, 26665) (500, 26665)\n",
      "Flag 565.40  -20000000.000000004 -10358949.358462406 (500, 26665) (500,) 1.2320560569539003 2.1029130951294834 0.9919975962575657 0.9965524028736169 79.918\n",
      "Flag 565.40  -10358949.358462406 -5365391.590559456 (500, 26665) (500,) 1.2231929888011517 1.9997635422666216 0.9757692643285145 0.897730142840995 49.33\n",
      "Flag 565.40  -5365391.590559456 -2778990.9887462724 (500, 26665) (500,) 1.2258665085521416 1.8970285132904934 0.9951667760901696 0.8855639815589733 27.492\n",
      "Flag 565.40  -2778990.9887462724 -1439371.346002303 (500, 26665) (500,) 1.184349268011498 1.9804319324116078 0.9842694262327687 0.956075599460915 17.322\n",
      "Flag 565.40  -1439371.346002303 -745518.7440629877 (500, 26665) (500,) 1.2445669012949576 1.7882635014657198 1.0193243622441304 0.8748811097487117 10.136\n",
      "Flag 565.40  -745518.7440629877 -386139.54577664996 (500, 26665) (500,) 1.153044357121773 1.5614792946149438 0.9212825041875375 0.7667130324228796 6.184\n",
      "Flag 565.40  -386139.54577664996 -200000.00000000003 (500, 26665) (500,) 1.1710287877485854 1.5372275525065073 0.9798164270638935 0.8024992998821554 3.562\n",
      "Flag 565.40  -200000.00000000003 -103589.49358462427 (500, 26665) (500,) 1.1638088596072953 1.3633578365747598 0.9783790723683294 0.7474619731544198 1.864\n",
      "Flag 565.40  -103589.49358462427 -53653.91590559456 (500, 26665) (500,) 1.121301174636381 1.2759052525812984 0.9752493652268236 0.7791388307255405 1.034\n",
      "Flag 565.40  -53653.91590559456 -27789.909887462723 (500, 26665) (500,) 1.2008614336111156 1.3058449022628709 1.0800191662671124 0.8175216249869884 0.58\n",
      "Flag 565.40  -27789.909887462723 -14393.71346002303 (500, 26665) (500,) 1.2497771668449962 1.2870046842320269 1.1761766679181676 0.7921191463132558 0.31\n",
      "Flag 565.40  -14393.71346002303 -7455.187440629877 (500, 26665) (500,) 1.1847597621467187 1.2057531813367541 1.1490237289172562 0.646507544233991 0.148\n",
      "Flag 565.40  -7455.187440629877 -3861.3954577665 (500, 26665) (500,) 1.0359950657364083 1.0544277847158123 0.9815054383761743 0.8514023519157998 0.08\n",
      "Flag 565.40  -3861.3954577665 -2000.0000000000002 (500, 26665) (500,) 1.086810343395015 1.086810343395015 1.086810343395015 nan 0.042\n",
      "Flag 565.40  -2000.0000000000002 -500.0 (500, 26665) (500,) 1.1269198109274268 1.1288867891504182 1.1236415138891072 0.6645237390746016 0.436\n",
      "Flag 565.40  -500.0 0.0 (500, 26665) (500,) 1.1269791005589052 1.1269791005589052 1.1269791005589052 nan 0.258\n",
      "Flag 565.40  0.0 500.0 (500, 26665) (500,) 1.3081847502787438 1.3081847502787438 1.3081847502787438 nan 0.032\n",
      "Flag 565.40  500.0 2000.0000000000002 (500, 26665) (500,) 1.4605372227688482 1.4681768833013755 1.4478044552146359 0.30611649354908876 0.076\n",
      "Flag 565.40  2000.0000000000002 3861.3954577665 (500, 26665) (500,) 1.7586060421051901 1.7629192087275676 1.7514174310678938 0.20332462447138422 0.044\n",
      "Flag 565.40  3861.3954577665 7455.187440629877 (500, 26665) (500,) 1.4013554071319871 1.431383915840441 1.3513078926178979 0.8021492362740825 0.08\n",
      "Flag 565.40  7455.187440629877 14393.71346002303 (500, 26665) (500,) 1.3006294958425282 1.4008726936857447 1.1501356146290573 1.0986078264535457 0.166\n",
      "Flag 565.40  14393.71346002303 27789.909887462723 (500, 26665) (500,) 1.1034911461690868 1.1387757800306606 1.0460200084114242 0.4642061121250518 0.288\n",
      "Flag 565.40  27789.909887462723 53653.91590559456 (500, 26665) (500,) 0.940335843813244 1.0044299622257928 0.8745023882812869 0.4683795829499464 0.578\n",
      "Flag 565.40  53653.91590559456 103589.49358462427 (500, 26665) (500,) 1.0069999641767227 1.1324231166240148 0.8945666023152329 0.543538837160111 1.134\n",
      "Flag 565.40  103589.49358462427 200000.00000000003 (500, 26665) (500,) 1.0800841498170308 1.2939969302149927 0.9271608010559927 0.7037776561326776 2.034\n",
      "Flag 565.40  200000.00000000003 386139.54577664996 (500, 26665) (500,) 1.1552138561708347 1.484879464048022 0.9951984185225723 0.7507861635949179 3.36\n",
      "Flag 565.40  386139.54577664996 745518.7440629877 (500, 26665) (500,) 1.148978974471768 1.5830810033807994 0.9426540010179066 0.7989385084391676 6.13\n",
      "Flag 565.40  745518.7440629877 1439371.346002303 (500, 26665) (500,) 1.1654562418119059 1.6496115146913453 0.9596196159430153 0.8497652433240477 10.106\n",
      "Flag 565.40  1439371.346002303 2778990.9887462724 (500, 26665) (500,) 1.1659024899527088 1.7978022284256083 0.9624029680872349 0.8294117423489371 15.32\n",
      "Flag 565.40  2778990.9887462724 5365391.590559456 (500, 26665) (500,) 1.2282110329741829 1.995527538315818 0.9951577825568407 0.9164957127830041 28.43\n",
      "Flag 565.40  5365391.590559456 10358949.358462406 (500, 26665) (500,) 1.2350129268276415 2.0158023367420097 0.9728879077506376 0.9291180043143785 46.336\n",
      "Flag 565.40  10358949.358462406 20000000.000000004 (500, 26665) (500,) 1.2045063492048045 2.0313865588441233 0.9691274109588278 0.964867180464479 78.858\n",
      "Flag 565.10  13343 15011 (0, 26665) (0, 26665)\n"
     ]
    },
    {
     "ename": "ValueError",
     "evalue": "need at least one array to concatenate",
     "output_type": "error",
     "traceback": [
      "\u001b[0;31m---------------------------------------------------------------------------\u001b[0m",
      "\u001b[0;31mValueError\u001b[0m                                Traceback (most recent call last)",
      "\u001b[0;32m<ipython-input-291-d36146a56f4e>\u001b[0m in \u001b[0;36m<module>\u001b[0;34m\u001b[0m\n\u001b[1;32m     21\u001b[0m         \u001b[0mM\u001b[0m \u001b[0;34m=\u001b[0m \u001b[0mpd\u001b[0m\u001b[0;34m.\u001b[0m\u001b[0mDataFrame\u001b[0m\u001b[0;34m(\u001b[0m\u001b[0mma\u001b[0m\u001b[0;34m.\u001b[0m\u001b[0mfilled\u001b[0m\u001b[0;34m(\u001b[0m\u001b[0mma\u001b[0m\u001b[0;34m.\u001b[0m\u001b[0mmasked_where\u001b[0m\u001b[0;34m(\u001b[0m\u001b[0;34m(\u001b[0m\u001b[0mg2p_dist\u001b[0m \u001b[0;34m<\u001b[0m \u001b[0mpkdist0\u001b[0m\u001b[0;34m)\u001b[0m \u001b[0;34m|\u001b[0m \u001b[0;34m(\u001b[0m\u001b[0mg2p_dist\u001b[0m \u001b[0;34m>=\u001b[0m \u001b[0mpkdist1\u001b[0m\u001b[0;34m)\u001b[0m\u001b[0;34m,\u001b[0m \u001b[0mg2p_fc\u001b[0m\u001b[0;34m)\u001b[0m\u001b[0;34m,\u001b[0m \u001b[0mnp\u001b[0m\u001b[0;34m.\u001b[0m\u001b[0mNaN\u001b[0m\u001b[0;34m)\u001b[0m\u001b[0;34m)\u001b[0m\u001b[0;34m\u001b[0m\u001b[0m\n\u001b[1;32m     22\u001b[0m         \u001b[0mmed\u001b[0m \u001b[0;34m=\u001b[0m \u001b[0mM\u001b[0m\u001b[0;34m.\u001b[0m\u001b[0mmedian\u001b[0m\u001b[0;34m(\u001b[0m\u001b[0maxis\u001b[0m\u001b[0;34m=\u001b[0m\u001b[0;36m1\u001b[0m\u001b[0;34m)\u001b[0m\u001b[0;34m.\u001b[0m\u001b[0mmean\u001b[0m\u001b[0;34m(\u001b[0m\u001b[0;34m)\u001b[0m\u001b[0;34m\u001b[0m\u001b[0m\n\u001b[0;32m---> 23\u001b[0;31m         \u001b[0mq75\u001b[0m \u001b[0;34m=\u001b[0m \u001b[0mM\u001b[0m\u001b[0;34m.\u001b[0m\u001b[0mquantile\u001b[0m\u001b[0;34m(\u001b[0m\u001b[0;36m0.75\u001b[0m\u001b[0;34m,\u001b[0m \u001b[0maxis\u001b[0m\u001b[0;34m=\u001b[0m\u001b[0;36m1\u001b[0m\u001b[0;34m)\u001b[0m\u001b[0;34m.\u001b[0m\u001b[0mmean\u001b[0m\u001b[0;34m(\u001b[0m\u001b[0;34m)\u001b[0m\u001b[0;34m\u001b[0m\u001b[0m\n\u001b[0m\u001b[1;32m     24\u001b[0m         \u001b[0mq90\u001b[0m \u001b[0;34m=\u001b[0m \u001b[0mM\u001b[0m\u001b[0;34m.\u001b[0m\u001b[0mquantile\u001b[0m\u001b[0;34m(\u001b[0m\u001b[0;36m0.90\u001b[0m\u001b[0;34m,\u001b[0m \u001b[0maxis\u001b[0m\u001b[0;34m=\u001b[0m\u001b[0;36m1\u001b[0m\u001b[0;34m)\u001b[0m\u001b[0;34m.\u001b[0m\u001b[0mmean\u001b[0m\u001b[0;34m(\u001b[0m\u001b[0;34m)\u001b[0m\u001b[0;34m\u001b[0m\u001b[0m\n\u001b[1;32m     25\u001b[0m         \u001b[0mmu\u001b[0m  \u001b[0;34m=\u001b[0m \u001b[0mM\u001b[0m\u001b[0;34m.\u001b[0m\u001b[0mmean\u001b[0m\u001b[0;34m(\u001b[0m\u001b[0maxis\u001b[0m\u001b[0;34m=\u001b[0m\u001b[0;36m1\u001b[0m\u001b[0;34m)\u001b[0m\u001b[0;34m.\u001b[0m\u001b[0mmean\u001b[0m\u001b[0;34m(\u001b[0m\u001b[0;34m)\u001b[0m\u001b[0;34m\u001b[0m\u001b[0m\n",
      "\u001b[0;32m/scratch1/rsingh/python/venv/base36/lib/python3.6/site-packages/pandas/core/frame.py\u001b[0m in \u001b[0;36mquantile\u001b[0;34m(self, q, axis, numeric_only, interpolation)\u001b[0m\n\u001b[1;32m   8279\u001b[0m \u001b[0;34m\u001b[0m\u001b[0m\n\u001b[1;32m   8280\u001b[0m         result = data._data.quantile(\n\u001b[0;32m-> 8281\u001b[0;31m             \u001b[0mqs\u001b[0m\u001b[0;34m=\u001b[0m\u001b[0mq\u001b[0m\u001b[0;34m,\u001b[0m \u001b[0maxis\u001b[0m\u001b[0;34m=\u001b[0m\u001b[0;36m1\u001b[0m\u001b[0;34m,\u001b[0m \u001b[0minterpolation\u001b[0m\u001b[0;34m=\u001b[0m\u001b[0minterpolation\u001b[0m\u001b[0;34m,\u001b[0m \u001b[0mtransposed\u001b[0m\u001b[0;34m=\u001b[0m\u001b[0mis_transposed\u001b[0m\u001b[0;34m\u001b[0m\u001b[0m\n\u001b[0m\u001b[1;32m   8282\u001b[0m         )\n\u001b[1;32m   8283\u001b[0m \u001b[0;34m\u001b[0m\u001b[0m\n",
      "\u001b[0;32m/scratch1/rsingh/python/venv/base36/lib/python3.6/site-packages/pandas/core/internals/managers.py\u001b[0m in \u001b[0;36mquantile\u001b[0;34m(self, axis, consolidate, transposed, interpolation, qs, numeric_only)\u001b[0m\n\u001b[1;32m    533\u001b[0m \u001b[0;34m\u001b[0m\u001b[0m\n\u001b[1;32m    534\u001b[0m         \u001b[0;31m# single block, i.e. ndim == {1}\u001b[0m\u001b[0;34m\u001b[0m\u001b[0;34m\u001b[0m\u001b[0m\n\u001b[0;32m--> 535\u001b[0;31m         \u001b[0mvalues\u001b[0m \u001b[0;34m=\u001b[0m \u001b[0m_concat\u001b[0m\u001b[0;34m.\u001b[0m\u001b[0m_concat_compat\u001b[0m\u001b[0;34m(\u001b[0m\u001b[0;34m[\u001b[0m\u001b[0mb\u001b[0m\u001b[0;34m.\u001b[0m\u001b[0mvalues\u001b[0m \u001b[0;32mfor\u001b[0m \u001b[0mb\u001b[0m \u001b[0;32min\u001b[0m \u001b[0mblocks\u001b[0m\u001b[0;34m]\u001b[0m\u001b[0;34m)\u001b[0m\u001b[0;34m\u001b[0m\u001b[0m\n\u001b[0m\u001b[1;32m    536\u001b[0m \u001b[0;34m\u001b[0m\u001b[0m\n\u001b[1;32m    537\u001b[0m         \u001b[0;31m# compute the orderings of our original data\u001b[0m\u001b[0;34m\u001b[0m\u001b[0;34m\u001b[0m\u001b[0m\n",
      "\u001b[0;32m/scratch1/rsingh/python/venv/base36/lib/python3.6/site-packages/pandas/core/dtypes/concat.py\u001b[0m in \u001b[0;36m_concat_compat\u001b[0;34m(to_concat, axis)\u001b[0m\n\u001b[1;32m    172\u001b[0m                 \u001b[0mto_concat\u001b[0m \u001b[0;34m=\u001b[0m \u001b[0;34m[\u001b[0m\u001b[0mx\u001b[0m\u001b[0;34m.\u001b[0m\u001b[0mastype\u001b[0m\u001b[0;34m(\u001b[0m\u001b[0;34m\"object\"\u001b[0m\u001b[0;34m)\u001b[0m \u001b[0;32mfor\u001b[0m \u001b[0mx\u001b[0m \u001b[0;32min\u001b[0m \u001b[0mto_concat\u001b[0m\u001b[0;34m]\u001b[0m\u001b[0;34m\u001b[0m\u001b[0m\n\u001b[1;32m    173\u001b[0m \u001b[0;34m\u001b[0m\u001b[0m\n\u001b[0;32m--> 174\u001b[0;31m     \u001b[0;32mreturn\u001b[0m \u001b[0mnp\u001b[0m\u001b[0;34m.\u001b[0m\u001b[0mconcatenate\u001b[0m\u001b[0;34m(\u001b[0m\u001b[0mto_concat\u001b[0m\u001b[0;34m,\u001b[0m \u001b[0maxis\u001b[0m\u001b[0;34m=\u001b[0m\u001b[0maxis\u001b[0m\u001b[0;34m)\u001b[0m\u001b[0;34m\u001b[0m\u001b[0m\n\u001b[0m\u001b[1;32m    175\u001b[0m \u001b[0;34m\u001b[0m\u001b[0m\n\u001b[1;32m    176\u001b[0m \u001b[0;34m\u001b[0m\u001b[0m\n",
      "\u001b[0;32m<__array_function__ internals>\u001b[0m in \u001b[0;36mconcatenate\u001b[0;34m(*args, **kwargs)\u001b[0m\n",
      "\u001b[0;31mValueError\u001b[0m: need at least one array to concatenate"
     ]
    }
   ],
   "source": [
    "import numpy.ma as ma\n",
    "validPks = nonzeroPkCnts > 10.1\n",
    "v1= np.array([500] + list(np.geomspace(2e3,20e6,15)))\n",
    "pkbreaks = np.hstack([list(reversed(-v1)),[0],v1])\n",
    "genebreaks = np.linspace(0,nGenes,10)\n",
    "gvar_ranking = adata1.var[\"gene_variability_ranking\"]\n",
    "gexp_mu = np.ravel(np.mean(adata1.X, axis=0))\n",
    "L_median, L_q75, L_q90, L_mean, L_sd, L_n= [],[],[],[],[],[]\n",
    "\n",
    "for i in range(len(genebreaks)-1):\n",
    "    g0, g1 = int(genebreaks[i]), int(genebreaks[i+1])\n",
    "    gidx = (gvar_ranking >= g0) & (gvar_ranking < g1) & (gexp_mu > 1e-5)\n",
    "    #gidx = (gvar_ranking < g1)\n",
    "\n",
    "    g2p_dist = gene2pkdist[gidx,:][:,validPks]\n",
    "    g2p_fc = gene2pkfoldchange[gidx,:][:, validPks]\n",
    "    print (\"Flag 565.10 \", g0, g1, g2p_dist.shape, g2p_fc.shape)\n",
    "    lx = []\n",
    "    for j in range(len(pkbreaks)-1):\n",
    "        pkdist0, pkdist1 = pkbreaks[j], pkbreaks[j+1]       \n",
    "        M = pd.DataFrame(ma.filled(ma.masked_where((g2p_dist < pkdist0) | (g2p_dist >= pkdist1), g2p_fc), np.NaN))\n",
    "        med = M.median(axis=1).mean()\n",
    "        q75 = M.quantile(0.75, axis=1).mean()\n",
    "        q90 = M.quantile(0.90, axis=1).mean()\n",
    "        mu  = M.mean(axis=1).mean()\n",
    "        sd  = M.std(axis=1).mean()\n",
    "        n   = M.count(axis=1).mean()\n",
    "        print (\"Flag 565.40 \", pkdist0, pkdist1, M.shape, M.median(axis=1).shape, q75, q90, mu, sd, n)\n",
    "        lx.append((med,q75,q90,mu,sd,n))\n",
    "\n",
    "    if len(lx)>0:\n",
    "        L_median.append([a[0] for a in lx])\n",
    "        L_q75.append([a[1] for a in lx])\n",
    "        L_q90.append([a[2] for a in lx])\n",
    "        L_mean.append([a[3] for a in lx])\n",
    "        L_sd.append([a[4] for a in lx])\n",
    "        L_n.append([a[5] for a in lx])"
   ]
  },
  {
   "cell_type": "code",
   "execution_count": 292,
   "metadata": {},
   "outputs": [],
   "source": [
    "d_median_t10_rowwise = np.vstack(L_median)\n",
    "d_mu_t10_rowwise     = np.vstack(L_mean)\n",
    "d_q75_t10_rowwise    = np.vstack(L_q75)\n",
    "d_q90_t10_rowwise    = np.vstack(L_q90)"
   ]
  },
  {
   "cell_type": "code",
   "execution_count": 295,
   "metadata": {},
   "outputs": [
    {
     "data": {
      "image/png": "[encoded data removed]",
      "text/plain": [
       "<Figure size 1152x288 with 8 Axes>"
      ]
     },
     "metadata": {
      "needs_background": "light"
     },
     "output_type": "display_data"
    }
   ],
   "source": [
    "import seaborn as sns\n",
    "plt.rcParams[\"figure.figsize\"]= (16,4)\n",
    "for i, dx in enumerate([d_median_t10_rowwise, d_mu_t10_rowwise, d_q75_t10_rowwise, d_q90_t10_rowwise]):\n",
    "    plt.subplot(1,4,i+1)\n",
    "    sns.heatmap(np.insert(dx, 16, 0.99*np.min(dx), axis=1), cmap=\"seismic\")\n"
   ]
  },
  {
   "cell_type": "code",
   "execution_count": null,
   "metadata": {},
   "outputs": [],
   "source": [
    "gmu = np.ravel(np.mean(adata1.X.todense(), axis=0))\n",
    "gvar = np.ravel(np.var(adata1.X.todense(), axis=0))\n",
    "gdisp = gvar/gmu\n",
    "print(gmu.shape, gsd.shape, gdisp.shape)\n",
    "x = adata1.var[\"gene_variability_ranking\"]\n",
    "y = gdisp\n",
    "ix = (gmu > np.quantile(gmu,0.75)) & (gmu < np.quantile(gmu, 1))\n",
    "plt.scatter(x[ix], y[ix])"
   ]
  },
  {
   "cell_type": "code",
   "execution_count": null,
   "metadata": {},
   "outputs": [],
   "source": [
    "xd = pd.DataFrame.from_dict({\"gmu\": np.ravel(np.mean(adata1.X, axis=0)), \n",
    "                  \"gv\": adata1.var[\"gene_variability_ranking\"].values})\n",
    "xd.head()\n",
    "xd.groupby(\"gv\")[\"gmu\"].median()\n",
    "#plt.scatter(xd.gv, xd.gmu)"
   ]
  },
  {
   "cell_type": "markdown",
   "metadata": {},
   "source": [
    "### Junk"
   ]
  },
  {
   "cell_type": "code",
   "execution_count": null,
   "metadata": {},
   "outputs": [],
   "source": [
    "gene2chr1, chr2genes1, peak2chr1, chr2peaks1 = utils.scicar_getChrMapping(adata1)\n",
    "gene2chr2, chr2genes2, peak2chr2, chr2peaks2 = utils.scicar_getChrMapping(adata2)"
   ]
  },
  {
   "cell_type": "code",
   "execution_count": null,
   "metadata": {},
   "outputs": [],
   "source": [
    "adata = adata1\n",
    "gene2chr, chr2genes, peak2chr, chr2peaks = gene2chr1, chr2genes1, peak2chr1, chr2peaks1\n",
    "\n",
    "nCells, nGenes, nPeaks = adata.shape[0], adata.shape[1], adata.uns[\"atac.X\"].shape[1]\n",
    "gXt = adata.X.T.tocsr()\n",
    "pXt = adata.uns[\"atac.X\"].T.tocsr()\n",
    "gVar = adata.var[[\"chr\",\"strand\",\"txstart\",\"txend\",\"tss_adj\"]]\n",
    "pVar = adata.uns[\"atac.var\"][[\"chr\",\"start\",\"end\"]]\n",
    "\n",
    "def getPeakPosReGenes(gVar, peak):\n",
    "    pchr, pstart, pend = peak\n",
    "    print (\"Flag 321.10012 \", peak)\n",
    "    pchr = (str(pchr)).replace(\"chr\",\"\")\n",
    "    \n",
    "    #5 dims: 0: same chr, 1: pStart-gStart, 2: pEnd-gStart, 3: pStart-gEnd, 4: pEnd-gEnd\n",
    "    pos = np.zeros((nGenes,5))\n",
    "    pos[:,0] = np.where(gene2chr==pchr,1,0)\n",
    "    pos[:,1] = np.where(gVar[\"strand\"]==\"+\", gVar[\"txstart\"]-pstart, pend-gVar[\"txend\"])\n",
    "    pos[:,2] = np.where(gVar[\"strand\"]==\"+\", gVar[\"txstart\"]-pend, pstart-gVar[\"txend\"])\n",
    "    pos[:,3] = np.where(gVar[\"strand\"]==\"+\", gVar[\"txend\"]-pstart, pend-gVar[\"txstart\"])\n",
    "    pos[:,4] = np.where(gVar[\"strand\"]==\"+\", gVar[\"txend\"]-pend, pstart-gVar[\"txstart\"])\n",
    "\n",
    "#     pos[:,1] = np.where(gVar[\"strand\"]==\"+\", pstart-gVar[\"txstart\"], gVar[\"txend\"]-pend)\n",
    "#     pos[:,2] = np.where(gVar[\"strand\"]==\"+\", pend-gVar[\"txstart\"], gVar[\"txend\"]-pstart)\n",
    "#     pos[:,3] = np.where(gVar[\"strand\"]==\"+\", pstart-gVar[\"txend\"], gVar[\"txstart\"]-pend)\n",
    "#     pos[:,4] = np.where(gVar[\"strand\"]==\"+\", pend-gVar[\"txend\"], gVar[\"txstart\"]-pstart)\n",
    "    return pos\n",
    "\n",
    "def fpeak1(pos):\n",
    "    return np.where(((pos[:,0]> 0) & \n",
    "                     (pos[:,2]>0) & \n",
    "                     (pos[:,2] < 1e3)), 1, 0)\n",
    "\n",
    "def fpeak2(pos):\n",
    "    return np.where(((pos[:,0]> 0) & \n",
    "                     (pos[:,2]>0) & \n",
    "                     (pos[:,2] > 1e3) &\n",
    "                     (pos[:,2] < 20e3)), 1, 0)\n",
    "\n",
    "def fpeak3(pos):\n",
    "    return np.where(((pos[:,0]> 0) & \n",
    "                     (pos[:,2]>0) & \n",
    "                     (pos[:,2] > 20e3) &\n",
    "                     (pos[:,2] < 100e3)), 1, 0)\n",
    "\n",
    "funclist = [fpeak1, fpeak2, fpeak3]\n",
    "k=len(funclist)"
   ]
  },
  {
   "cell_type": "code",
   "execution_count": null,
   "metadata": {},
   "outputs": [],
   "source": [
    "pVar.head(3)"
   ]
  },
  {
   "cell_type": "code",
   "execution_count": null,
   "metadata": {},
   "outputs": [],
   "source": [
    "a = getPeakPosReGenes(gVar, pVar.iloc[15,:])"
   ]
  },
  {
   "cell_type": "code",
   "execution_count": null,
   "metadata": {},
   "outputs": [],
   "source": [
    "ff = lambda v: (np.min(v), np.median(v), np.mean(v), np.max(v), np.std(v)) \n",
    "ff(np.abs(a[a[:,0]>0,2]))"
   ]
  },
  {
   "cell_type": "code",
   "execution_count": null,
   "metadata": {},
   "outputs": [],
   "source": [
    "g2p = np.zeros((nGenes,k))\n",
    "for i in range(300): #range(nPeaks):\n",
    "    v = getPeakPosReGenes(gVar, pVar.values[i,:])\n",
    "    print (\"Flag 2.0008 \",i)\n",
    "        \n",
    "    for j,f in enumerate(funclist):\n",
    "        distwt = f(v)\n",
    "        #print(\"Flag 2.0010 \", i,j,np.std(distwt), np.mean(distwt)) \n",
    "        if np.sum(distwt)>1e-12:\n",
    "            distwt = distwt/np.mean(distwt)\n",
    "            G = gXt.copy()\n",
    "            G.data *= distwt.repeat(np.diff(G.indptr))\n",
    "            print (\"Flag 2.0201 \", len(distwt), np.sum(G.data), G.shape, \n",
    "                   np.sum(gXt.data),\n",
    "                   G.data.shape, len(np.diff(G.indptr)),\n",
    "                  pXt.shape)\n",
    "            gw = G.dot( np.ravel(pXt[i,:].todense())).ravel()\n",
    "            g2p[:,j] += gw/nCells\n",
    "            print (\"Flag 2.0320 \", G.shape, distwt.shape, gXt.shape, pXt.shape, gw.shape, g2p.shape)\n",
    "        \n",
    "        "
   ]
  },
  {
   "cell_type": "code",
   "execution_count": null,
   "metadata": {},
   "outputs": [],
   "source": [
    "g2px = utils.SciCar.computeGeneByFpeakMatrix(adata1, \n",
    "                                             [a[0] for a in utils.SciCar.fpeak_list_all])"
   ]
  },
  {
   "cell_type": "code",
   "execution_count": null,
   "metadata": {},
   "outputs": [],
   "source": [
    "import multiprocessing"
   ]
  },
  {
   "cell_type": "code",
   "execution_count": 5,
   "metadata": {},
   "outputs": [
    {
     "name": "stderr",
     "output_type": "stream",
     "text": [
      "Variable names are not unique. To make them unique, call `.var_names_make_unique`.\n"
     ]
    },
    {
     "name": "stdout",
     "output_type": "stream",
     "text": [
      "Flag 343.100  atac.var odict_keys(['atac.X', 'atac.type', 'atac.var', 'atac.var.columns', 'atac.var.index', 'names', 'rna.type']) <class 'numpy.ndarray'>\n",
      "Flag 343.102  atac.var odict_keys(['atac.X', 'atac.type', 'atac.var', 'atac.var.columns', 'atac.var.index', 'names', 'rna.type']) <class 'pandas.core.frame.DataFrame'>\n"
     ]
    },
    {
     "name": "stderr",
     "output_type": "stream",
     "text": [
      "Variable names are not unique. To make them unique, call `.var_names_make_unique`.\n"
     ]
    },
    {
     "name": "stdout",
     "output_type": "stream",
     "text": [
      "Flag 343.100  atac.var odict_keys(['atac.X', 'atac.type', 'atac.var', 'atac.var.columns', 'atac.var.index', 'names', 'rna.type']) <class 'numpy.ndarray'>\n",
      "Flag 343.102  atac.var odict_keys(['atac.X', 'atac.type', 'atac.var', 'atac.var.columns', 'atac.var.index', 'names', 'rna.type']) <class 'pandas.core.frame.DataFrame'>\n"
     ]
    }
   ],
   "source": [
    "adata1 = utils.SciCar.loadAnnData(\"/afs/csail.mit.edu/u/r/rsingh/work/schema/data/sci-car/adata1.h5ad\")\n",
    "adata2 = utils.SciCar.loadAnnData(\"/afs/csail.mit.edu/u/r/rsingh/work/schema/data/sci-car/adata2.h5ad\")"
   ]
  },
  {
   "cell_type": "code",
   "execution_count": null,
   "metadata": {},
   "outputs": [],
   "source": [
    "adata1x = utils.SciCar.loadAnnData(\"/afs/csail.mit.edu/u/r/rsingh/work/schema/data/sci-car/adata1.h5ad\")"
   ]
  },
  {
   "cell_type": "code",
   "execution_count": null,
   "metadata": {},
   "outputs": [],
   "source": [
    "np.sum(adata1x.var.index.values != adata1.var.index.values)\n"
   ]
  },
  {
   "cell_type": "code",
   "execution_count": null,
   "metadata": {},
   "outputs": [],
   "source": [
    "def mprun_geneXfpeak_mtx2(adata, n_jobs=8):\n",
    "    peak_func_list = [a[0] for a in utils.SciCar.fpeak_list_all]\n",
    "    chr_mapping = utils.SciCar.getChrMapping(adata)\n",
    "\n",
    "    nPeaks = adata.uns[\"atac.X\"].shape[1]\n",
    "    l = [list(a) for a in np.array_split(range(nPeaks), 5*n_jobs)]\n",
    "    #print(\"Flag 3343.100 \", l)\n",
    "    pool =  multiprocessing.Pool(processes = n_jobs)\n",
    "    lx = pool.map(functools.partial(utils.SciCar.computeGeneByFpeakMatrix, \n",
    "                                    adata, peak_func_list, chr_mapping), \n",
    "                  l)\n",
    "\n",
    "    g2p = None\n",
    "    for m in lx:\n",
    "        if g2p is None:\n",
    "            g2p = m\n",
    "        else:\n",
    "            g2p += m\n",
    "\n",
    "    g2p =  g2p * (1e5/nPeaks)\n",
    "    dx = pd.DataFrame(g2p, index=None)\n",
    "    dx.columns = [a[1] for a in SciCar.fpeak_list_all]\n",
    "    dx[\"gene\"] = list(adata.var.index)\n",
    "    dx[\"ensembl_id\"] = list(adata.var.ensembl_id)               \n",
    "    return dx"
   ]
  },
  {
   "cell_type": "code",
   "execution_count": null,
   "metadata": {},
   "outputs": [],
   "source": [
    "dz = mprun_geneXfpeak_mtx2(adata1, 24)"
   ]
  },
  {
   "cell_type": "code",
   "execution_count": null,
   "metadata": {},
   "outputs": [],
   "source": [
    "dx.to_csv(\"/afs/csail.mit.edu/u/r/rsingh/work/schema/data/sci-car/adata1_gene2fpeak_mtx.csv\", index=False)"
   ]
  },
  {
   "cell_type": "code",
   "execution_count": 6,
   "metadata": {},
   "outputs": [],
   "source": [
    "dz = pd.read_csv(\"/afs/csail.mit.edu/u/r/rsingh/work/schema/data/sci-car/adata1_gene2fpeak_mtx_20191126_1900.csv\")"
   ]
  },
  {
   "cell_type": "code",
   "execution_count": 16,
   "metadata": {},
   "outputs": [],
   "source": [
    "ax = np.copy(adata1.X.todense().T)"
   ]
  },
  {
   "cell_type": "code",
   "execution_count": 8,
   "metadata": {},
   "outputs": [
    {
     "data": {
      "text/plain": [
       "((15011, 3260), (15011, 23))"
      ]
     },
     "execution_count": 8,
     "metadata": {},
     "output_type": "execute_result"
    }
   ],
   "source": [
    "ax.shape, dz.values[:,:23].shape"
   ]
  },
  {
   "cell_type": "code",
   "execution_count": 9,
   "metadata": {},
   "outputs": [],
   "source": [
    "import logging\n",
    "logging.basicConfig(level=logging.WARNING)"
   ]
  },
  {
   "cell_type": "code",
   "execution_count": 29,
   "metadata": {
    "collapsed": true
   },
   "outputs": [
    {
     "name": "stdout",
     "output_type": "stream",
     "text": [
      "Running quadratic program...INFO:  Flag 102.30  (15011, 22) [array([[0.      , 0.      , 0.      , ..., 0.      , 0.      , 0.      ],\n",
      "       [0.      , 0.      , 0.      , ..., 0.      , 0.      , 0.      ],\n",
      "       [0.      , 0.      , 0.      , ..., 0.      , 8.991891, 0.      ],\n",
      "       ...,\n",
      "       [0.      , 0.      , 0.      , ..., 0.      , 0.      , 0.      ],\n",
      "       [0.      , 0.      , 0.      , ..., 0.      , 0.      , 0.      ],\n",
      "       [0.      , 0.      , 0.      , ..., 0.      , 0.      , 0.      ]],\n",
      "      dtype=float32)] ['feature_vector'] [1]\n",
      "INFO:  Flag 102.35  (15011, 22) [array([[0.      , 0.      , 0.      , ..., 0.      , 0.      , 0.      ],\n",
      "       [0.      , 0.      , 0.      , ..., 0.      , 0.      , 0.      ],\n",
      "       [0.      , 0.      , 0.      , ..., 0.      , 8.991891, 0.      ],\n",
      "       ...,\n",
      "       [0.      , 0.      , 0.      , ..., 0.      , 0.      , 0.      ],\n",
      "       [0.      , 0.      , 0.      , ..., 0.      , 0.      , 0.      ],\n",
      "       [0.      , 0.      , 0.      , ..., 0.      , 0.      , 0.      ]],\n",
      "      dtype=float32)] ['feature_vector'] [1]\n",
      "INFO:  Flag 232.12  1 (15011, 3260) feature_vector 1\n",
      "INFO:  Flag 2090.20 Initial corr to d0 [[1. 1.]\n",
      " [1. 1.]]\n",
      "INFO:  Flag 201.80  (15011, 3260) feature_vector 1 None\n",
      "(200000, 3260) (200000, 3260)\n",
      "INFO:  Flag 201.99  (200000, 22) (200000,) 1 (200000,)\n",
      "INFO:  Flag 201.991  [ 1.21413459e-16  4.56986608e-19  4.31738629e-17  3.37030794e-17\n",
      " -1.89971996e-17 -4.65559937e-18 -8.34372146e-16 -1.02839574e-17\n",
      "  2.59196229e-18  4.94071879e-18  5.13363223e-18  1.94469538e-17\n",
      " -1.27369265e-16  7.81104361e-17  3.39917249e-17 -6.05241703e-17\n",
      " -5.18190092e-18  5.01106166e-17 -1.91570501e-18  1.58429307e-16\n",
      " -5.57620790e-17 -7.35020551e-18]\n",
      "INFO:  Flag 201.992  [0.02783393 0.00284804 0.01851828 0.02212715 0.00701163 0.00571186\n",
      " 0.12831206 0.01366526 0.00360763 0.00360626 0.01888687 0.00474229\n",
      " 0.02784099 0.02807484 0.02874108 0.03879622 0.05023095 0.02558668\n",
      " 0.00546455 0.14387812 0.14324217 0.04521142]\n",
      "INFO:  Flag 201.993  [-0.05440541 -0.08652784 -0.05371177 -0.08252609 -0.0927647  -0.08257187\n",
      " -0.09284591 -0.05210997 -0.09283884 -0.09282856] -1.879385536085465e-17 1.0\n",
      "INFO:  Flag 201.994  [ 0.95636714  0.86036322  0.51233806  0.77766506 -0.7254461  -0.11374164\n",
      " -0.83127745  1.7319433  -0.83406477 -0.81762249] 1.929834070324432e-16 1.0\n",
      "INFO:  Flag 102.36  (200000, 22) (200000,) 1\n",
      "INFO:  Flag 102.37 \n",
      "INFO:  Progress bar (each dot is 10%): INFO:  Flag 110.60 beta:  [('w_max_to_avg', 8.208794286279478), ('w_num_zero_dims', 3), ('d0_orig_transformed_corr', 1.0), ('distcorr', 0.5805544840533635), ('objval', 0.6741487463097336), ('lambda', 0), ('alpha', 1.0), ('beta', 0.001862645149230957)]\n",
      "INFO:  .INFO:  Flag 110.60 beta:  [('w_max_to_avg', 8.208794862773507), ('w_num_zero_dims', 9), ('d0_orig_transformed_corr', 1.0), ('distcorr', 0.5805547988292288), ('objval', 0.6741487462843323), ('lambda', 0), ('alpha', 0.9), ('beta', 0.11920928955078125)]\n",
      "INFO:  .INFO:  Flag 110.60 beta:  [('w_max_to_avg', 8.208792022420665), ('w_num_zero_dims', 2), ('d0_orig_transformed_corr', 1.0), ('distcorr', 0.5805541637911021), ('objval', 0.6741487463806543), ('lambda', 0), ('alpha', 0.8), ('beta', 0.0009313225746154785)]\n",
      "INFO:  .INFO:  Flag 110.60 beta:  [('w_max_to_avg', 8.20878250663097), ('w_num_zero_dims', 9), ('d0_orig_transformed_corr', 1.0), ('distcorr', 0.5805527153734631), ('objval', 0.674148747170479), ('lambda', 0), ('alpha', 0.7000000000000001), ('beta', 0.476837158203125)]\n",
      "INFO:  .INFO:  Flag 110.60 beta:  [('w_max_to_avg', 8.208792507658464), ('w_num_zero_dims', 2), ('d0_orig_transformed_corr', 1.0), ('distcorr', 0.5805542382828915), ('objval', 0.674148746333192), ('lambda', 0), ('alpha', 0.6000000000000001), ('beta', 0.0009313225746154785)]\n",
      "INFO:  .INFO:  Flag 110.60 beta:  [('w_max_to_avg', 8.208795529430537), ('w_num_zero_dims', 7), ('d0_orig_transformed_corr', 1.0), ('distcorr', 0.5805547412884264), ('objval', 0.6741487461757726), ('lambda', 0), ('alpha', 0.5000000000000001), ('beta', 0.029802322387695312)]\n",
      "INFO:  .INFO:  Flag 110.60 beta:  [('w_max_to_avg', 8.208791913179185), ('w_num_zero_dims', 9), ('d0_orig_transformed_corr', 1.0), ('distcorr', 0.5805541912324843), ('objval', 0.6741487464017146), ('lambda', 0), ('alpha', 0.40000000000000013), ('beta', 0.029802322387695312)]\n",
      "INFO:  .INFO:  Flag 110.60 beta:  [('w_max_to_avg', 8.208793707826986), ('w_num_zero_dims', 2), ('d0_orig_transformed_corr', 1.0), ('distcorr', 0.5805543864564715), ('objval', 0.6741487464808097), ('lambda', 0), ('alpha', 0.30000000000000016), ('beta', 0.0009313225746154785)]\n",
      "INFO:  .INFO:  Flag 110.60 beta:  [('w_max_to_avg', 8.208794323165757), ('w_num_zero_dims', 4), ('d0_orig_transformed_corr', 1.0), ('distcorr', 0.5805545011125457), ('objval', 0.6741487462980794), ('lambda', 0), ('alpha', 0.20000000000000015), ('beta', 0.007450580596923828)]\n",
      "INFO:  .INFO:  Flag 110.60 beta:  [('w_max_to_avg', 8.208797238401662), ('w_num_zero_dims', 2), ('d0_orig_transformed_corr', 1.0), ('distcorr', 0.5805549140870687), ('objval', 0.6741487462372857), ('lambda', 0), ('alpha', 0.10000000000000014), ('beta', 0.00046566128730773926)]\n",
      "INFO:  .INFO:   Done\n",
      "INFO:  Final solution:  [('w_max_to_avg', 8.20878250663097), ('w_num_zero_dims', 9), ('d0_orig_transformed_corr', 1.0), ('distcorr', 0.5805527153734631), ('objval', 0.674148747170479), ('lambda', 0), ('alpha', 0.7000000000000001), ('beta', 0.476837158203125)]\n",
      " done.\n"
     ]
    }
   ],
   "source": [
    "dz.shape, adata1.X.shape\n",
    "sqp = schema_qp.SchemaQP(0.01, params= {\"dist_npairs\": 200000}, mode=\"scale\")\n",
    "#dz1 = sqp.fit_transform(dz.values[:,:23], [adata1.X.T.todense()], ['feature_vector'], [1])\n",
    "dz1 = sqp.fit_transform(dz.values[:,1:23], [ax], ['feature_vector'], [1])"
   ]
  },
  {
   "cell_type": "code",
   "execution_count": 38,
   "metadata": {
    "collapsed": true
   },
   "outputs": [
    {
     "data": {
      "text/plain": [
       "chr1     1612\n",
       "chr19    1099\n",
       "chr11     993\n",
       "chr2      944\n",
       "chr17     858\n",
       "chr12     803\n",
       "chr3      776\n",
       "chr7      695\n",
       "chr5      695\n",
       "chr6      655\n",
       "chrX      638\n",
       "chr16     626\n",
       "chr9      603\n",
       "chr4      580\n",
       "chr10     576\n",
       "chr8      530\n",
       "chr14     439\n",
       "chr15     434\n",
       "chr20     431\n",
       "chr22     337\n",
       "chr13     259\n",
       "chr18     197\n",
       "chr21     179\n",
       "chrY       52\n",
       "Name: chr, dtype: int64"
      ]
     },
     "execution_count": 38,
     "metadata": {},
     "output_type": "execute_result"
    }
   ],
   "source": [
    "adata1.var[\"chr\"].value_counts()"
   ]
  },
  {
   "cell_type": "code",
   "execution_count": 33,
   "metadata": {
    "collapsed": true
   },
   "outputs": [
    {
     "data": {
      "text/html": [
       "<div>\n",
       "<style scoped>\n",
       "    .dataframe tbody tr th:only-of-type {\n",
       "        vertical-align: middle;\n",
       "    }\n",
       "\n",
       "    .dataframe tbody tr th {\n",
       "        vertical-align: top;\n",
       "    }\n",
       "\n",
       "    .dataframe thead th {\n",
       "        text-align: right;\n",
       "    }\n",
       "</style>\n",
       "<table border=\"1\" class=\"dataframe\">\n",
       "  <thead>\n",
       "    <tr style=\"text-align: right;\">\n",
       "      <th></th>\n",
       "      <th>fdist</th>\n",
       "      <th>wt</th>\n",
       "    </tr>\n",
       "  </thead>\n",
       "  <tbody>\n",
       "    <tr>\n",
       "      <td>0</td>\n",
       "      <td>fpeak_behind_1e6_10e6</td>\n",
       "      <td>7.683098e+01</td>\n",
       "    </tr>\n",
       "    <tr>\n",
       "      <td>1</td>\n",
       "      <td>fpeak_rbf_10e6</td>\n",
       "      <td>3.189661e+01</td>\n",
       "    </tr>\n",
       "    <tr>\n",
       "      <td>2</td>\n",
       "      <td>fpeak_2e3_20e3</td>\n",
       "      <td>2.991866e+01</td>\n",
       "    </tr>\n",
       "    <tr>\n",
       "      <td>3</td>\n",
       "      <td>fpeak_crossing_in</td>\n",
       "      <td>2.507561e+01</td>\n",
       "    </tr>\n",
       "    <tr>\n",
       "      <td>4</td>\n",
       "      <td>fpeak_behind_1e3_20e3</td>\n",
       "      <td>2.325474e+01</td>\n",
       "    </tr>\n",
       "    <tr>\n",
       "      <td>5</td>\n",
       "      <td>fpeak_1e6_10e6</td>\n",
       "      <td>9.519584e+00</td>\n",
       "    </tr>\n",
       "    <tr>\n",
       "      <td>6</td>\n",
       "      <td>fpeak_behind_20e3_1e6</td>\n",
       "      <td>5.206874e+00</td>\n",
       "    </tr>\n",
       "    <tr>\n",
       "      <td>7</td>\n",
       "      <td>fpeak_20e3_100e3</td>\n",
       "      <td>1.598587e+00</td>\n",
       "    </tr>\n",
       "    <tr>\n",
       "      <td>8</td>\n",
       "      <td>fpeak_behind_1e3</td>\n",
       "      <td>1.049392e+00</td>\n",
       "    </tr>\n",
       "    <tr>\n",
       "      <td>9</td>\n",
       "      <td>fpeak_rbf_100e3</td>\n",
       "      <td>7.893748e-01</td>\n",
       "    </tr>\n",
       "    <tr>\n",
       "      <td>10</td>\n",
       "      <td>fpeak_inside</td>\n",
       "      <td>4.963694e-01</td>\n",
       "    </tr>\n",
       "    <tr>\n",
       "      <td>11</td>\n",
       "      <td>fpeak_100e3_1e6</td>\n",
       "      <td>2.381166e-01</td>\n",
       "    </tr>\n",
       "    <tr>\n",
       "      <td>12</td>\n",
       "      <td>fpeak_rbf_20e3</td>\n",
       "      <td>3.647538e-02</td>\n",
       "    </tr>\n",
       "    <tr>\n",
       "      <td>13</td>\n",
       "      <td>fpeak_crossing_out</td>\n",
       "      <td>6.029876e-08</td>\n",
       "    </tr>\n",
       "    <tr>\n",
       "      <td>14</td>\n",
       "      <td>fpeak_rbf_1e3</td>\n",
       "      <td>2.427584e-08</td>\n",
       "    </tr>\n",
       "    <tr>\n",
       "      <td>15</td>\n",
       "      <td>fpeak_rbf_500</td>\n",
       "      <td>2.387784e-08</td>\n",
       "    </tr>\n",
       "    <tr>\n",
       "      <td>16</td>\n",
       "      <td>fpeak_500_2e3</td>\n",
       "      <td>2.301799e-08</td>\n",
       "    </tr>\n",
       "    <tr>\n",
       "      <td>17</td>\n",
       "      <td>fpeak_rbf_1e6</td>\n",
       "      <td>1.681069e-08</td>\n",
       "    </tr>\n",
       "    <tr>\n",
       "      <td>18</td>\n",
       "      <td>fpeak_rbf_5e3</td>\n",
       "      <td>1.412125e-08</td>\n",
       "    </tr>\n",
       "    <tr>\n",
       "      <td>19</td>\n",
       "      <td>fpeak_behind_rbf_1e6</td>\n",
       "      <td>4.772446e-09</td>\n",
       "    </tr>\n",
       "    <tr>\n",
       "      <td>20</td>\n",
       "      <td>fpeak_behind_rbf_100e3</td>\n",
       "      <td>0.000000e+00</td>\n",
       "    </tr>\n",
       "    <tr>\n",
       "      <td>21</td>\n",
       "      <td>fpeak_behind_rbf_20e3</td>\n",
       "      <td>0.000000e+00</td>\n",
       "    </tr>\n",
       "  </tbody>\n",
       "</table>\n",
       "</div>"
      ],
      "text/plain": [
       "                     fdist            wt\n",
       "0    fpeak_behind_1e6_10e6  7.683098e+01\n",
       "1           fpeak_rbf_10e6  3.189661e+01\n",
       "2           fpeak_2e3_20e3  2.991866e+01\n",
       "3        fpeak_crossing_in  2.507561e+01\n",
       "4    fpeak_behind_1e3_20e3  2.325474e+01\n",
       "5           fpeak_1e6_10e6  9.519584e+00\n",
       "6    fpeak_behind_20e3_1e6  5.206874e+00\n",
       "7         fpeak_20e3_100e3  1.598587e+00\n",
       "8         fpeak_behind_1e3  1.049392e+00\n",
       "9          fpeak_rbf_100e3  7.893748e-01\n",
       "10            fpeak_inside  4.963694e-01\n",
       "11         fpeak_100e3_1e6  2.381166e-01\n",
       "12          fpeak_rbf_20e3  3.647538e-02\n",
       "13      fpeak_crossing_out  6.029876e-08\n",
       "14           fpeak_rbf_1e3  2.427584e-08\n",
       "15           fpeak_rbf_500  2.387784e-08\n",
       "16           fpeak_500_2e3  2.301799e-08\n",
       "17           fpeak_rbf_1e6  1.681069e-08\n",
       "18           fpeak_rbf_5e3  1.412125e-08\n",
       "19    fpeak_behind_rbf_1e6  4.772446e-09\n",
       "20  fpeak_behind_rbf_100e3  0.000000e+00\n",
       "21   fpeak_behind_rbf_20e3  0.000000e+00"
      ]
     },
     "execution_count": 33,
     "metadata": {},
     "output_type": "execute_result"
    }
   ],
   "source": [
    "pd.Series(sqp._wts, index=dz.columns[1:23]).sort_values(ascending=False).reset_index().rename(columns={\"index\": \"fdist\",0: \"wt\"})"
   ]
  }
 ],
 "metadata": {
  "kernelspec": {
   "display_name": "Python 3",
   "language": "python",
   "name": "python3"
  },
  "language_info": {
   "codemirror_mode": {
    "name": "ipython",
    "version": 3
   },
   "file_extension": ".py",
   "mimetype": "text/x-python",
   "name": "python",
   "nbconvert_exporter": "python",
   "pygments_lexer": "ipython3",
   "version": "3.6.1"
  },
  "toc": {
   "base_numbering": 1,
   "nav_menu": {},
   "number_sections": true,
   "sideBar": true,
   "skip_h1_title": false,
   "title_cell": "Table of Contents",
   "title_sidebar": "Contents",
   "toc_cell": false,
   "toc_position": {},
   "toc_section_display": true,
   "toc_window_display": false
  },
  "varInspector": {
   "cols": {
    "lenName": 16,
    "lenType": 16,
    "lenVar": 40
   },
   "kernels_config": {
    "python": {
     "delete_cmd_postfix": "",
     "delete_cmd_prefix": "del ",
     "library": "var_list.py",
     "varRefreshCmd": "print(var_dic_list())"
    },
    "r": {
     "delete_cmd_postfix": ") ",
     "delete_cmd_prefix": "rm(",
     "library": "var_list.r",
     "varRefreshCmd": "cat(var_dic_list()) "
    }
   },
   "types_to_exclude": [
    "module",
    "function",
    "builtin_function_or_method",
    "instance",
    "_Feature"
   ],
   "window_display": false
  }
 },
 "nbformat": 4,
 "nbformat_minor": 2
}
